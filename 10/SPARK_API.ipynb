{
 "cells": [
  {
   "cell_type": "markdown",
   "id": "6bc563b6",
   "metadata": {},
   "source": [
    "# SPARK API \n",
    "\n"
   ]
  },
  {
   "cell_type": "markdown",
   "id": "91b31e0a",
   "metadata": {},
   "source": [
    "## Documentation: \n",
    "\n",
    "- RDD API\n",
    "    - https://spark.apache.org/docs/latest/rdd-programming-guide.html\n",
    "    - https://spark.apache.org/docs/latest/api/python/reference/pyspark.html#rdd-apis\n",
    "    - https://intellipaat.com/blog/tutorial/spark-tutorial/programming-with-rdds/\n",
    "    \n",
    "- Spark SQL, Dataframe API: https://spark.apache.org/docs/latest/sql-programming-guide.html\n"
   ]
  },
  {
   "cell_type": "code",
   "execution_count": 1,
   "id": "b04d5180",
   "metadata": {
    "scrolled": true
   },
   "outputs": [],
   "source": [
    "import findspark\n",
    "findspark.init()\n",
    "import pyspark\n",
    "import random\n",
    "\n",
    "from pyspark.sql import SparkSession\n",
    "\n",
    "sc = pyspark.SparkContext(appName=\"SPARK_API\")\n",
    "spark = SparkSession(sc)\n"
   ]
  },
  {
   "cell_type": "markdown",
   "id": "6eedce95",
   "metadata": {},
   "source": [
    "."
   ]
  },
  {
   "cell_type": "markdown",
   "id": "4421eb63",
   "metadata": {},
   "source": [
    "## RDD API\n",
    "\n",
    "RDD (Resilient Distributed Dataset) is the core data structure of Spark, which allows distributed processing of data on the Spark cluster. An RDD is a non-modifiable, partitioned dataset with no strict ordering between its elements.\n",
    "\n",
    "The RDD supports the following basic operations:\n",
    "\n",
    "- Transformation: RDDs can be transformed using transformation operations. RDDs cannot be modified, so each transformation operation results in a new RDD.\n",
    "- Action: RDDs can be subject to action operations, the result of which is returned to the Spark control program.\n",
    "\n",
    "RDDs can be created as follows:\n",
    "\n",
    "- RDDs can be created from data sources such as text files, databases, or Hadoop HDFS.\n",
    "- RDDs can be created by transformations of existing RDDs.\n",
    "- RDDs can be created from data in the Spark driver.\n",
    "\n",
    "The RDD API is part of PySpark and provides the following functionality for managing RDDs (Resilient Distributed Datasets):\n",
    "\n",
    "- Transformations: are used to modify the data in RDDs. For example, map(), filter(), flatMap(), reduceByKey(), etc.\n",
    "\n",
    "- Actions: are used to write out the data of RDDs or to retrieve the results. For example, collect (), take (), first (), count (), etc.\n",
    "\n",
    "- Persistence: can be used to cache RDDs or to save data. For example, cache(), persist(), saveAsTextFile(), etc.\n",
    "\n",
    "- Partitioning: RDDs are used to partition and move data in a cluster. Examples are repartition (), coalesce (), etc.\n",
    "\n",
    "\n",
    "- RDD operations: RDDs provide basic operations for processing data. For example, union (), intersection (), subtract (), etc."
   ]
  },
  {
   "cell_type": "code",
   "execution_count": 2,
   "id": "22acd78a",
   "metadata": {
    "scrolled": true
   },
   "outputs": [],
   "source": [
    "titanic_rdd = spark.read.format(\"parquet\").load(\"titanic_parquet\").rdd"
   ]
  },
  {
   "cell_type": "code",
   "execution_count": 4,
   "id": "77952e16",
   "metadata": {},
   "outputs": [],
   "source": [
    "#titanic_rdd.show()\n",
    "\n",
    "# no show function available"
   ]
  },
  {
   "cell_type": "code",
   "execution_count": 5,
   "id": "d3dfbee9",
   "metadata": {},
   "outputs": [],
   "source": [
    "#titanic_rdd.printSchema()\n",
    "\n",
    "# no function printSchema"
   ]
  },
  {
   "cell_type": "code",
   "execution_count": 3,
   "id": "c265a013",
   "metadata": {},
   "outputs": [],
   "source": [
    "titanic_rdd.foreach(print)"
   ]
  },
  {
   "cell_type": "markdown",
   "id": "138aa404",
   "metadata": {},
   "source": [
    "### RDD API"
   ]
  },
  {
   "cell_type": "markdown",
   "id": "bf523d15",
   "metadata": {},
   "source": [
    "| Function | description |\n",
    "|---|---|\n",
    "| map(func) | Returns a new RDD while executing the function passed in the parameter |\n",
    "| flatMap(func) | |\n",
    "| filter(func) | Returns with a new RDD, while only those elements will be included for which the function returned True |\n",
    "| reduceByKey(func) | Aggregate values by key |\n",
    "| groupByKey() | Convert Key/Value pair to Key/List |\n",
    "| union(otherDataset) | Combines both the current RDD and the RDD passed to the parameter |\n",
    "| intersection(otherDataset) | Returns the common elements |\n",
    "| distinct() | Removes duplicate rows |\n",
    "| coalesce(numPartitions) | Change the partitions to the specified number without reshuffling |\n",
    "| repartition(numPartitions) | Change the partitions to the specified number, with reshuffling |\n",
    "| reduce( func) | Aggregate mapped data |\n",
    "| collect() | Retrieve data in rdd into python list |\n",
    "| count() | Return the number of rows in RDD in python |\n",
    "| first() | Returns the first element |\n",
    "| take( n) | Returns N elements |\n",
    "| foreach( func) | Executes the func function on all elements of the RDD |"
   ]
  },
  {
   "cell_type": "markdown",
   "id": "062cbf54",
   "metadata": {},
   "source": [
    "### map function\n",
    "\n",
    "The map() function is a basic transformation of PySpark RDDs. Using map(), all elements in an RDD can be transformed into a list of elements in a new RDD.\n",
    "\n",
    "The new RDD returned by map() is the transformed version of the original RDD. The original RDD is not modified.\n",
    "\n",
    "The map() function has a single parameter, which can be a lambda expression, a function or a method. The lambda expression is usually the simplest solution, especially if the transformation is short and simple. A function or method may also be used if the transformation is more complex and/or requires more parameters.\n",
    "\n",
    "The use of the map() function is very useful in preparing the data and converting, extracting and transforming dates or numbers into the desired format. When using the map() function, it is important to note that transformations are only performed when action functions (e.g. collect(), count(), saveAsTextFile()) are called with RDD. This means that the map() function does not perform all computations immediately, but only when the RDD is evaluated in some way.\n",
    "\n",
    "### filter function\n",
    "The filter() function is used to select from the elements in the RDD only those that satisfy a given condition, which is a lambda expression or a function. Those elements that match the condition are kept in the RDD, while those that do not are discarded.\n",
    "\n",
    "\n",
    "\n",
    "### count function\n",
    "The count() function of PySpark RDDs is one of the basic actions to count the number of elements in the RDD.\n",
    "\n",
    "The count() function has no parameters, and returns an integer number that specifies the number of elements in the RDD. This is useful because it allows the size of the RDD to be checked, which can be particularly important when analysing and processing data.\n",
    "\n",
    "The count() function is very fast, as it does not check all the elements in the RDD, but only their number. This function can be used to check the size of the RDD and to review and examine data from the RDD.\n",
    "\n",
    "If the RDD is empty, the result will be 0.\n",
    "\n"
   ]
  },
  {
   "cell_type": "code",
   "execution_count": 7,
   "id": "90e7384a",
   "metadata": {},
   "outputs": [
    {
     "name": "stdout",
     "output_type": "stream",
     "text": [
      "['Braund, Mr. Owen Harris', 'Cumings, Mrs. John Bradley (Florence Briggs Thayer)', 'Heikkinen, Miss. Laina', 'Futrelle, Mrs. Jacques Heath (Lily May Peel)', 'Allen, Mr. William Henry', 'Moran, Mr. James', 'McCarthy, Mr. Timothy J', 'Palsson, Master. Gosta Leonard', 'Johnson, Mrs. Oscar W (Elisabeth Vilhelmina Berg)', 'Nasser, Mrs. Nicholas (Adele Achem)', 'Sandstrom, Miss. Marguerite Rut', 'Bonnell, Miss. Elizabeth', 'Saundercock, Mr. William Henry', 'Andersson, Mr. Anders Johan', 'Vestrom, Miss. Hulda Amanda Adolfina', 'Hewlett, Mrs. (Mary D Kingcome) ', 'Rice, Master. Eugene', 'Williams, Mr. Charles Eugene', 'Vander Planke, Mrs. Julius (Emelia Maria Vandemoortele)', 'Masselmani, Mrs. Fatima', 'Fynney, Mr. Joseph J', 'Beesley, Mr. Lawrence', '\"McGowan, Miss. Anna \"\"Annie\"\"\"', 'Sloper, Mr. William Thompson', 'Palsson, Miss. Torborg Danira', 'Asplund, Mrs. Carl Oscar (Selma Augusta Emilia Johansson)', 'Emir, Mr. Farred Chehab', 'Fortune, Mr. Charles Alexander', '\"O\\'Dwyer, Miss. Ellen \"\"Nellie\"\"\"', 'Todoroff, Mr. Lalio', 'Uruchurtu, Don. Manuel E', 'Spencer, Mrs. William Augustus (Marie Eugenie)', 'Glynn, Miss. Mary Agatha', 'Wheadon, Mr. Edward H', 'Meyer, Mr. Edgar Joseph', 'Holverson, Mr. Alexander Oskar', 'Mamee, Mr. Hanna', 'Cann, Mr. Ernest Charles', 'Vander Planke, Miss. Augusta Maria', 'Nicola-Yarred, Miss. Jamila', 'Ahlin, Mrs. Johan (Johanna Persdotter Larsson)', 'Turpin, Mrs. William John Robert (Dorothy Ann Wonnacott)', 'Kraeff, Mr. Theodor', 'Laroche, Miss. Simonne Marie Anne Andree', 'Devaney, Miss. Margaret Delia', 'Rogers, Mr. William John', 'Lennon, Mr. Denis', \"O'Driscoll, Miss. Bridget\", 'Samaan, Mr. Youssef', 'Arnold-Franchi, Mrs. Josef (Josefine Franchi)', 'Panula, Master. Juha Niilo', 'Nosworthy, Mr. Richard Cater', 'Harper, Mrs. Henry Sleeper (Myna Haxtun)', 'Faunthorpe, Mrs. Lizzie (Elizabeth Anne Wilkinson)', 'Ostby, Mr. Engelhart Cornelius', 'Woolner, Mr. Hugh', 'Rugg, Miss. Emily', 'Novel, Mr. Mansouer', 'West, Miss. Constance Mirium', 'Goodwin, Master. William Frederick', 'Sirayanian, Mr. Orsen', 'Icard, Miss. Amelie', 'Harris, Mr. Henry Birkhardt', 'Skoog, Master. Harald', 'Stewart, Mr. Albert A', 'Moubarek, Master. Gerios', 'Nye, Mrs. (Elizabeth Ramell)', 'Crease, Mr. Ernest James', 'Andersson, Miss. Erna Alexandra', 'Kink, Mr. Vincenz', 'Jenkin, Mr. Stephen Curnow', 'Goodwin, Miss. Lillian Amy', 'Hood, Mr. Ambrose Jr', 'Chronopoulos, Mr. Apostolos', 'Bing, Mr. Lee', 'Moen, Mr. Sigurd Hansen', 'Staneff, Mr. Ivan', 'Moutal, Mr. Rahamin Haim', 'Caldwell, Master. Alden Gates', 'Dowdell, Miss. Elizabeth', 'Waelens, Mr. Achille', 'Sheerlinck, Mr. Jan Baptist', 'McDermott, Miss. Brigdet Delia', 'Carrau, Mr. Francisco M', 'Ilett, Miss. Bertha', 'Backstrom, Mrs. Karl Alfred (Maria Mathilda Gustafsson)', 'Ford, Mr. William Neal', 'Slocovski, Mr. Selman Francis', 'Fortune, Miss. Mabel Helen', 'Celotti, Mr. Francesco', 'Christmann, Mr. Emil', 'Andreasson, Mr. Paul Edvin', 'Chaffee, Mr. Herbert Fuller', 'Dean, Mr. Bertram Frank', 'Coxon, Mr. Daniel', 'Shorney, Mr. Charles Joseph', 'Goldschmidt, Mr. George B', 'Greenfield, Mr. William Bertram', 'Doling, Mrs. John T (Ada Julia Bone)', 'Kantor, Mr. Sinai', 'Petranec, Miss. Matilda', '\"Petroff, Mr. Pastcho (\"\"Pentcho\"\")\"', 'White, Mr. Richard Frasar', 'Johansson, Mr. Gustaf Joel', 'Gustafsson, Mr. Anders Vilhelm', 'Mionoff, Mr. Stoytcho', 'Salkjelsvik, Miss. Anna Kristine', 'Moss, Mr. Albert Johan', 'Rekic, Mr. Tido', 'Moran, Miss. Bertha', 'Porter, Mr. Walter Chamberlain', 'Zabour, Miss. Hileni', 'Barton, Mr. David John', 'Jussila, Miss. Katriina', 'Attalah, Miss. Malake', 'Pekoniemi, Mr. Edvard', 'Connors, Mr. Patrick', 'Turpin, Mr. William John Robert', 'Baxter, Mr. Quigg Edmond', 'Andersson, Miss. Ellis Anna Maria', 'Hickman, Mr. Stanley George', 'Moore, Mr. Leonard Charles', 'Nasser, Mr. Nicholas', 'Webber, Miss. Susan', 'White, Mr. Percival Wayland', 'Nicola-Yarred, Master. Elias', 'McMahon, Mr. Martin', 'Madsen, Mr. Fridtjof Arne', 'Peter, Miss. Anna', 'Ekstrom, Mr. Johan', 'Drazenoic, Mr. Jozef', 'Coelho, Mr. Domingos Fernandeo', 'Robins, Mrs. Alexander A (Grace Charity Laury)', 'Weisz, Mrs. Leopold (Mathilde Francoise Pede)', 'Sobey, Mr. Samuel James Hayden', 'Richard, Mr. Emile', 'Newsom, Miss. Helen Monypeny', 'Futrelle, Mr. Jacques Heath', 'Osen, Mr. Olaf Elon', 'Giglio, Mr. Victor', 'Boulos, Mrs. Joseph (Sultana)', 'Nysten, Miss. Anna Sofia', 'Hakkarainen, Mrs. Pekka Pietari (Elin Matilda Dolck)', 'Burke, Mr. Jeremiah', 'Andrew, Mr. Edgardo Samuel', 'Nicholls, Mr. Joseph Charles', '\"Andersson, Mr. August Edvard (\"\"Wennerstrom\"\")\"', '\"Ford, Miss. Robina Maggie \"\"Ruby\"\"\"', '\"Navratil, Mr. Michel (\"\"Louis M Hoffman\"\")\"', 'Byles, Rev. Thomas Roussel Davids', 'Bateman, Rev. Robert James', 'Pears, Mrs. Thomas (Edith Wearne)', 'Meo, Mr. Alfonzo', 'van Billiard, Mr. Austin Blyler', 'Olsen, Mr. Ole Martin', 'Williams, Mr. Charles Duane', '\"Gilnagh, Miss. Katherine \"\"Katie\"\"\"', 'Corn, Mr. Harry', 'Smiljanic, Mr. Mile', 'Sage, Master. Thomas Henry', 'Cribb, Mr. John Hatfield', '\"Watt, Mrs. James (Elizabeth \"\"Bessie\"\" Inglis Milne)\"', 'Bengtsson, Mr. John Viktor', 'Calic, Mr. Jovo', 'Panula, Master. Eino Viljami', '\"Goldsmith, Master. Frank John William \"\"Frankie\"\"\"', 'Chibnall, Mrs. (Edith Martha Bowerman)', 'Skoog, Mrs. William (Anna Bernhardina Karlsson)', 'Baumann, Mr. John D', 'Ling, Mr. Lee', 'Van der hoef, Mr. Wyckoff', 'Rice, Master. Arthur', 'Johnson, Miss. Eleanor Ileen', 'Sivola, Mr. Antti Wilhelm', 'Smith, Mr. James Clinch', 'Klasen, Mr. Klas Albin', 'Lefebre, Master. Henry Forbes', 'Isham, Miss. Ann Elizabeth', 'Hale, Mr. Reginald', 'Leonard, Mr. Lionel', 'Sage, Miss. Constance Gladys', 'Pernot, Mr. Rene', 'Asplund, Master. Clarence Gustaf Hugo', 'Becker, Master. Richard F', 'Kink-Heilmann, Miss. Luise Gretchen', 'Rood, Mr. Hugh Roscoe', '\"O\\'Brien, Mrs. Thomas (Johanna \"\"Hannah\"\" Godfrey)\"', '\"Romaine, Mr. Charles Hallace (\"\"Mr C Rolmane\"\")\"', 'Bourke, Mr. John', 'Turcin, Mr. Stjepan', 'Pinsky, Mrs. (Rosa)', 'Carbines, Mr. William', 'Andersen-Jensen, Miss. Carla Christine Nielsine', 'Navratil, Master. Michel M', 'Brown, Mrs. James Joseph (Margaret Tobin)', 'Lurette, Miss. Elise', 'Mernagh, Mr. Robert', 'Olsen, Mr. Karl Siegwart Andreas', '\"Madigan, Miss. Margaret \"\"Maggie\"\"\"', '\"Yrois, Miss. Henriette (\"\"Mrs Harbeck\"\")\"', 'Vande Walle, Mr. Nestor Cyriel', 'Sage, Mr. Frederick', 'Johanson, Mr. Jakob Alfred', 'Youseff, Mr. Gerious', '\"Cohen, Mr. Gurshon \"\"Gus\"\"\"', 'Strom, Miss. Telma Matilda', 'Backstrom, Mr. Karl Alfred', 'Albimona, Mr. Nassef Cassem', '\"Carr, Miss. Helen \"\"Ellen\"\"\"', 'Blank, Mr. Henry', 'Ali, Mr. Ahmed', 'Cameron, Miss. Clear Annie', 'Perkin, Mr. John Henry', 'Givard, Mr. Hans Kristensen', 'Kiernan, Mr. Philip', 'Newell, Miss. Madeleine', 'Honkanen, Miss. Eliina', 'Jacobsohn, Mr. Sidney Samuel', 'Bazzani, Miss. Albina', 'Harris, Mr. Walter', 'Sunderland, Mr. Victor Francis', 'Bracken, Mr. James H', 'Green, Mr. George Henry', 'Nenkoff, Mr. Christo', 'Hoyt, Mr. Frederick Maxfield', 'Berglund, Mr. Karl Ivar Sven', 'Mellors, Mr. William John', '\"Lovell, Mr. John Hall (\"\"Henry\"\")\"', 'Fahlstrom, Mr. Arne Jonas', 'Lefebre, Miss. Mathilde', 'Harris, Mrs. Henry Birkhardt (Irene Wallach)', 'Larsson, Mr. Bengt Edvin', 'Sjostedt, Mr. Ernst Adolf', 'Asplund, Miss. Lillian Gertrud', 'Leyson, Mr. Robert William Norman', 'Harknett, Miss. Alice Phoebe', 'Hold, Mr. Stephen', '\"Collyer, Miss. Marjorie \"\"Lottie\"\"\"', 'Pengelly, Mr. Frederick William', 'Hunt, Mr. George Henry', 'Zabour, Miss. Thamine', '\"Murphy, Miss. Katherine \"\"Kate\"\"\"', 'Coleridge, Mr. Reginald Charles', 'Maenpaa, Mr. Matti Alexanteri', 'Attalah, Mr. Sleiman', 'Minahan, Dr. William Edward', 'Lindahl, Miss. Agda Thorilda Viktoria', 'Hamalainen, Mrs. William (Anna)', 'Beckwith, Mr. Richard Leonard', 'Carter, Rev. Ernest Courtenay', 'Reed, Mr. James George', 'Strom, Mrs. Wilhelm (Elna Matilda Persson)', 'Stead, Mr. William Thomas', 'Lobb, Mr. William Arthur', 'Rosblom, Mrs. Viktor (Helena Wilhelmina)', 'Touma, Mrs. Darwis (Hanne Youssef Razi)', 'Thorne, Mrs. Gertrude Maybelle', 'Cherry, Miss. Gladys', 'Ward, Miss. Anna', 'Parrish, Mrs. (Lutie Davis)', 'Smith, Mr. Thomas', 'Asplund, Master. Edvin Rojj Felix', 'Taussig, Mr. Emil', 'Harrison, Mr. William', 'Henry, Miss. Delia', 'Reeves, Mr. David', 'Panula, Mr. Ernesti Arvid', 'Persson, Mr. Ernst Ulrik', 'Graham, Mrs. William Thompson (Edith Junkins)', 'Bissette, Miss. Amelia', 'Cairns, Mr. Alexander', 'Tornquist, Mr. William Henry', 'Mellinger, Mrs. (Elizabeth Anne Maidment)', 'Natsch, Mr. Charles H', '\"Healy, Miss. Hanora \"\"Nora\"\"\"', 'Andrews, Miss. Kornelia Theodosia', 'Lindblom, Miss. Augusta Charlotta', '\"Parkes, Mr. Francis \"\"Frank\"\"\"', 'Rice, Master. Eric', 'Abbott, Mrs. Stanton (Rosa Hunt)', 'Duane, Mr. Frank', 'Olsson, Mr. Nils Johan Goransson', 'de Pelsmaeker, Mr. Alfons', 'Dorking, Mr. Edward Arthur', 'Smith, Mr. Richard William', 'Stankovic, Mr. Ivan', 'de Mulder, Mr. Theodore', 'Naidenoff, Mr. Penko', 'Hosono, Mr. Masabumi', 'Connolly, Miss. Kate', '\"Barber, Miss. Ellen \"\"Nellie\"\"\"', 'Bishop, Mrs. Dickinson H (Helen Walton)', 'Levy, Mr. Rene Jacques', 'Haas, Miss. Aloisia', 'Mineff, Mr. Ivan', 'Lewy, Mr. Ervin G', 'Hanna, Mr. Mansour', 'Allison, Miss. Helen Loraine', 'Saalfeld, Mr. Adolphe', 'Baxter, Mrs. James (Helene DeLaudeniere Chaput)', '\"Kelly, Miss. Anna Katherine \"\"Annie Kate\"\"\"', 'McCoy, Mr. Bernard', 'Johnson, Mr. William Cahoone Jr', 'Keane, Miss. Nora A', '\"Williams, Mr. Howard Hugh \"\"Harry\"\"\"', 'Allison, Master. Hudson Trevor', 'Fleming, Miss. Margaret', 'Penasco y Castellana, Mrs. Victor de Satode (Maria Josefa Perez de Soto y Vallejo)', 'Abelson, Mr. Samuel', 'Francatelli, Miss. Laura Mabel', 'Hays, Miss. Margaret Bechstein', 'Ryerson, Miss. Emily Borie', 'Lahtinen, Mrs. William (Anna Sylfven)', 'Hendekovic, Mr. Ignjac', 'Hart, Mr. Benjamin', 'Nilsson, Miss. Helmina Josefina', 'Kantor, Mrs. Sinai (Miriam Sternin)', 'Moraweck, Dr. Ernest', 'Wick, Miss. Mary Natalie', 'Spedden, Mrs. Frederic Oakley (Margaretta Corning Stone)', 'Dennis, Mr. Samuel', 'Danoff, Mr. Yoto', 'Slayter, Miss. Hilda Mary', 'Caldwell, Mrs. Albert Francis (Sylvia Mae Harbaugh)', 'Sage, Mr. George John Jr', 'Young, Miss. Marie Grice', 'Nysveen, Mr. Johan Hansen', 'Ball, Mrs. (Ada E Hall)', 'Goldsmith, Mrs. Frank John (Emily Alice Brown)', 'Hippach, Miss. Jean Gertrude', 'McCoy, Miss. Agnes', 'Partner, Mr. Austen', 'Graham, Mr. George Edward', 'Vander Planke, Mr. Leo Edmondus', 'Frauenthal, Mrs. Henry William (Clara Heinsheimer)', 'Denkoff, Mr. Mitto', 'Pears, Mr. Thomas Clinton', 'Burns, Miss. Elizabeth Margaret', 'Dahl, Mr. Karl Edwart', 'Blackwell, Mr. Stephen Weart', 'Navratil, Master. Edmond Roger', 'Fortune, Miss. Alice Elizabeth', 'Collander, Mr. Erik Gustaf', 'Sedgwick, Mr. Charles Frederick Waddington', 'Fox, Mr. Stanley Hubert', '\"Brown, Miss. Amelia \"\"Mildred\"\"\"', 'Smith, Miss. Marion Elsie', 'Davison, Mrs. Thomas Henry (Mary E Finck)', '\"Coutts, Master. William Loch \"\"William\"\"\"', 'Dimic, Mr. Jovan', 'Odahl, Mr. Nils Martin', 'Williams-Lambert, Mr. Fletcher Fellows', 'Elias, Mr. Tannous', 'Arnold-Franchi, Mr. Josef', 'Yousif, Mr. Wazli', 'Vanden Steen, Mr. Leo Peter', 'Bowerman, Miss. Elsie Edith', 'Funk, Miss. Annie Clemmer', 'McGovern, Miss. Mary', '\"Mockler, Miss. Helen Mary \"\"Ellie\"\"\"', 'Skoog, Mr. Wilhelm', 'del Carlo, Mr. Sebastiano', 'Barbara, Mrs. (Catherine David)', 'Asim, Mr. Adola', \"O'Brien, Mr. Thomas\", 'Adahl, Mr. Mauritz Nils Martin', 'Warren, Mrs. Frank Manley (Anna Sophia Atkinson)', 'Moussa, Mrs. (Mantoura Boulos)', 'Jermyn, Miss. Annie', 'Aubart, Mme. Leontine Pauline', 'Harder, Mr. George Achilles', 'Wiklund, Mr. Jakob Alfred', 'Beavan, Mr. William Thomas', 'Ringhini, Mr. Sante', 'Palsson, Miss. Stina Viola', 'Meyer, Mrs. Edgar Joseph (Leila Saks)', 'Landergren, Miss. Aurora Adelia', 'Widener, Mr. Harry Elkins', 'Betros, Mr. Tannous', 'Gustafsson, Mr. Karl Gideon', 'Bidois, Miss. Rosalie', '\"Nakid, Miss. Maria (\"\"Mary\"\")\"', 'Tikkanen, Mr. Juho', 'Holverson, Mrs. Alexander Oskar (Mary Aline Towner)', 'Plotcharsky, Mr. Vasil', 'Davies, Mr. Charles Henry', 'Goodwin, Master. Sidney Leonard', 'Buss, Miss. Kate', 'Sadlier, Mr. Matthew', 'Lehmann, Miss. Bertha', 'Carter, Mr. William Ernest', 'Jansson, Mr. Carl Olof', 'Gustafsson, Mr. Johan Birger', 'Newell, Miss. Marjorie', 'Sandstrom, Mrs. Hjalmar (Agnes Charlotta Bengtsson)', 'Johansson, Mr. Erik', 'Olsson, Miss. Elina', 'McKane, Mr. Peter David', 'Pain, Dr. Alfred', 'Trout, Mrs. William H (Jessie L)', 'Niskanen, Mr. Juha', 'Adams, Mr. John', 'Jussila, Miss. Mari Aina', 'Hakkarainen, Mr. Pekka Pietari', 'Oreskovic, Miss. Marija', 'Gale, Mr. Shadrach', 'Widegren, Mr. Carl/Charles Peter', 'Richards, Master. William Rowe', 'Birkeland, Mr. Hans Martin Monsen', 'Lefebre, Miss. Ida', 'Sdycoff, Mr. Todor', 'Hart, Mr. Henry', 'Minahan, Miss. Daisy E', 'Cunningham, Mr. Alfred Fleming', 'Sundman, Mr. Johan Julian', 'Meek, Mrs. Thomas (Annie Louise Rowley)', 'Drew, Mrs. James Vivian (Lulu Thorne Christian)', 'Silven, Miss. Lyyli Karoliina', 'Matthews, Mr. William John', 'Van Impe, Miss. Catharina', 'Gheorgheff, Mr. Stanio', 'Charters, Mr. David', 'Zimmerman, Mr. Leo', 'Danbom, Mrs. Ernst Gilbert (Anna Sigrid Maria Brogren)', 'Rosblom, Mr. Viktor Richard', 'Wiseman, Mr. Phillippe', 'Clarke, Mrs. Charles V (Ada Maria Winfield)', '\"Phillips, Miss. Kate Florence (\"\"Mrs Kate Louise Phillips Marshall\"\")\"', 'Flynn, Mr. James', 'Pickard, Mr. Berk (Berk Trembisky)', 'Bjornstrom-Steffansson, Mr. Mauritz Hakan', 'Thorneycroft, Mrs. Percival (Florence Kate White)', 'Louch, Mrs. Charles Alexander (Alice Adelaide Slow)', 'Kallio, Mr. Nikolai Erland', 'Silvey, Mr. William Baird', 'Carter, Miss. Lucile Polk', '\"Ford, Miss. Doolina Margaret \"\"Daisy\"\"\"', 'Richards, Mrs. Sidney (Emily Hocking)', 'Fortune, Mr. Mark', 'Kvillner, Mr. Johan Henrik Johannesson', 'Hart, Mrs. Benjamin (Esther Ada Bloomfield)', 'Hampe, Mr. Leon', 'Petterson, Mr. Johan Emil', 'Reynaldo, Ms. Encarnacion', 'Johannesen-Bratthammer, Mr. Bernt', 'Dodge, Master. Washington', 'Mellinger, Miss. Madeleine Violet', 'Seward, Mr. Frederic Kimber', 'Baclini, Miss. Marie Catherine', 'Peuchen, Major. Arthur Godfrey', 'West, Mr. Edwy Arthur', 'Hagland, Mr. Ingvald Olai Olsen', 'Foreman, Mr. Benjamin Laventall', 'Goldenberg, Mr. Samuel L', 'Peduzzi, Mr. Joseph', 'Jalsevac, Mr. Ivan', 'Millet, Mr. Francis Davis', 'Kenyon, Mrs. Frederick R (Marion)', 'Toomey, Miss. Ellen', \"O'Connor, Mr. Maurice\", 'Anderson, Mr. Harry', 'Morley, Mr. William', 'Gee, Mr. Arthur H', 'Milling, Mr. Jacob Christian', 'Maisner, Mr. Simon', 'Goncalves, Mr. Manuel Estanslas', 'Campbell, Mr. William', 'Smart, Mr. John Montgomery', 'Scanlan, Mr. James', 'Baclini, Miss. Helene Barbara', 'Keefe, Mr. Arthur', 'Cacic, Mr. Luka', 'West, Mrs. Edwy Arthur (Ada Mary Worth)', 'Jerwan, Mrs. Amin S (Marie Marthe Thuillard)', 'Strandberg, Miss. Ida Sofia', 'Clifford, Mr. George Quincy', 'Renouf, Mr. Peter Henry', 'Braund, Mr. Lewis Richard', 'Karlsson, Mr. Nils August', 'Hirvonen, Miss. Hildur E', 'Goodwin, Master. Harold Victor', '\"Frost, Mr. Anthony Wood \"\"Archie\"\"\"', 'Rouse, Mr. Richard Henry', 'Turkula, Mrs. (Hedwig)', 'Bishop, Mr. Dickinson H', 'Lefebre, Miss. Jeannie', 'Hoyt, Mrs. Frederick Maxfield (Jane Anne Forby)', 'Kent, Mr. Edward Austin', 'Somerton, Mr. Francis William', '\"Coutts, Master. Eden Leslie \"\"Neville\"\"\"', 'Hagland, Mr. Konrad Mathias Reiersen', 'Windelov, Mr. Einar', 'Molson, Mr. Harry Markland', 'Artagaveytia, Mr. Ramon', 'Stanley, Mr. Edward Roland', 'Yousseff, Mr. Gerious', 'Eustis, Miss. Elizabeth Mussey', 'Shellard, Mr. Frederick William', 'Allison, Mrs. Hudson J C (Bessie Waldo Daniels)', 'Svensson, Mr. Olof', 'Calic, Mr. Petar', 'Canavan, Miss. Mary', \"O'Sullivan, Miss. Bridget Mary\", 'Laitinen, Miss. Kristina Sofia', 'Maioni, Miss. Roberta', 'Penasco y Castellana, Mr. Victor de Satode', 'Quick, Mrs. Frederick Charles (Jane Richards)', '\"Bradley, Mr. George (\"\"George Arthur Brayton\"\")\"', 'Olsen, Mr. Henry Margido', 'Lang, Mr. Fang', 'Daly, Mr. Eugene Patrick', 'Webber, Mr. James', 'McGough, Mr. James Robert', 'Rothschild, Mrs. Martin (Elizabeth L. Barrett)', 'Coleff, Mr. Satio', 'Walker, Mr. William Anderson', 'Lemore, Mrs. (Amelia Milley)', 'Ryan, Mr. Patrick', '\"Angle, Mrs. William A (Florence \"\"Mary\"\" Agnes Hughes)\"', 'Pavlovic, Mr. Stefo', 'Perreault, Miss. Anne', 'Vovk, Mr. Janko', 'Lahoud, Mr. Sarkis', 'Hippach, Mrs. Louis Albert (Ida Sophia Fischer)', 'Kassem, Mr. Fared', 'Farrell, Mr. James', 'Ridsdale, Miss. Lucy', 'Farthing, Mr. John', 'Salonen, Mr. Johan Werner', 'Hocking, Mr. Richard George', 'Quick, Miss. Phyllis May', 'Toufik, Mr. Nakli', 'Elias, Mr. Joseph Jr', 'Peter, Mrs. Catherine (Catherine Rizk)', 'Cacic, Miss. Marija', 'Hart, Miss. Eva Miriam', 'Butt, Major. Archibald Willingham', 'LeRoy, Miss. Bertha', 'Risien, Mr. Samuel Beard', 'Frolicher, Miss. Hedwig Margaritha', 'Crosby, Miss. Harriet R', 'Andersson, Miss. Ingeborg Constanzia', 'Andersson, Miss. Sigrid Elisabeth', 'Beane, Mr. Edward', 'Douglas, Mr. Walter Donald', 'Nicholson, Mr. Arthur Ernest', 'Beane, Mrs. Edward (Ethel Clarke)', 'Padro y Manent, Mr. Julian', 'Goldsmith, Mr. Frank John', 'Davies, Master. John Morgan Jr', 'Thayer, Mr. John Borland Jr', 'Sharp, Mr. Percival James R', \"O'Brien, Mr. Timothy\", '\"Leeni, Mr. Fahim (\"\"Philip Zenni\"\")\"', 'Ohman, Miss. Velin', 'Wright, Mr. George', '\"Duff Gordon, Lady. (Lucille Christiana Sutherland) (\"\"Mrs Morgan\"\")\"', 'Robbins, Mr. Victor', 'Taussig, Mrs. Emil (Tillie Mandelbaum)', 'de Messemaeker, Mrs. Guillaume Joseph (Emma)', 'Morrow, Mr. Thomas Rowan', 'Sivic, Mr. Husein', 'Norman, Mr. Robert Douglas', 'Simmons, Mr. John', 'Meanwell, Miss. (Marion Ogden)', 'Davies, Mr. Alfred J', 'Stoytcheff, Mr. Ilia', 'Palsson, Mrs. Nils (Alma Cornelia Berglund)', 'Doharr, Mr. Tannous', 'Jonsson, Mr. Carl', 'Harris, Mr. George', 'Appleton, Mrs. Edward Dale (Charlotte Lamson)', '\"Flynn, Mr. John Irwin (\"\"Irving\"\")\"', 'Kelly, Miss. Mary', 'Rush, Mr. Alfred George John', 'Patchett, Mr. George', 'Garside, Miss. Ethel', 'Silvey, Mrs. William Baird (Alice Munger)', 'Caram, Mrs. Joseph (Maria Elias)', 'Jussila, Mr. Eiriik', 'Christy, Miss. Julie Rachel', 'Thayer, Mrs. John Borland (Marian Longstreth Morris)', 'Downton, Mr. William James', 'Ross, Mr. John Hugo', 'Paulner, Mr. Uscher', 'Taussig, Miss. Ruth', 'Jarvis, Mr. John Denzil', 'Frolicher-Stehli, Mr. Maxmillian', 'Gilinski, Mr. Eliezer', 'Murdlin, Mr. Joseph', 'Rintamaki, Mr. Matti', 'Stephenson, Mrs. Walter Bertram (Martha Eustis)', 'Elsbury, Mr. William James', 'Bourke, Miss. Mary', 'Chapman, Mr. John Henry', 'Van Impe, Mr. Jean Baptiste', 'Leitch, Miss. Jessie Wills', 'Johnson, Mr. Alfred', 'Boulos, Mr. Hanna', '\"Duff Gordon, Sir. Cosmo Edmund (\"\"Mr Morgan\"\")\"', 'Jacobsohn, Mrs. Sidney Samuel (Amy Frances Christy)', 'Slabenoff, Mr. Petco', 'Harrington, Mr. Charles H', 'Torber, Mr. Ernst William', '\"Homer, Mr. Harry (\"\"Mr E Haven\"\")\"', 'Lindell, Mr. Edvard Bengtsson', 'Karaic, Mr. Milan', 'Daniel, Mr. Robert Williams', 'Laroche, Mrs. Joseph (Juliette Marie Louise Lafargue)', 'Shutes, Miss. Elizabeth W', 'Andersson, Mrs. Anders Johan (Alfrida Konstantia Brogren)', 'Jardin, Mr. Jose Neto', 'Murphy, Miss. Margaret Jane', 'Horgan, Mr. John', 'Brocklebank, Mr. William Alfred', 'Herman, Miss. Alice', 'Danbom, Mr. Ernst Gilbert', 'Lobb, Mrs. William Arthur (Cordelia K Stanlick)', 'Becker, Miss. Marion Louise', 'Gavey, Mr. Lawrence', 'Yasbeck, Mr. Antoni', 'Kimball, Mr. Edwin Nelson Jr', 'Nakid, Mr. Sahid', 'Hansen, Mr. Henry Damsgaard', '\"Bowen, Mr. David John \"\"Dai\"\"\"', 'Sutton, Mr. Frederick', 'Kirkland, Rev. Charles Leonard', 'Longley, Miss. Gretchen Fiske', 'Bostandyeff, Mr. Guentcho', \"O'Connell, Mr. Patrick D\", 'Barkworth, Mr. Algernon Henry Wilson', 'Lundahl, Mr. Johan Svensson', 'Stahelin-Maeglin, Dr. Max', 'Parr, Mr. William Henry Marsh', 'Skoog, Miss. Mabel', 'Davis, Miss. Mary', 'Leinonen, Mr. Antti Gustaf', 'Collyer, Mr. Harvey', 'Panula, Mrs. Juha (Maria Emilia Ojala)', 'Thorneycroft, Mr. Percival', 'Jensen, Mr. Hans Peder', 'Sagesser, Mlle. Emma', 'Skoog, Miss. Margit Elizabeth', 'Foo, Mr. Choong', 'Baclini, Miss. Eugenie', 'Harper, Mr. Henry Sleeper', 'Cor, Mr. Liudevit', 'Simonius-Blumer, Col. Oberst Alfons', 'Willey, Mr. Edward', 'Stanley, Miss. Amy Zillah Elsie', 'Mitkoff, Mr. Mito', 'Doling, Miss. Elsie', 'Kalvik, Mr. Johannes Halvorsen', '\"O\\'Leary, Miss. Hanora \"\"Norah\"\"\"', '\"Hegarty, Miss. Hanora \"\"Nora\"\"\"', 'Hickman, Mr. Leonard Mark', 'Radeff, Mr. Alexander', 'Bourke, Mrs. John (Catherine)', 'Eitemiller, Mr. George Floyd', 'Newell, Mr. Arthur Webster', 'Frauenthal, Dr. Henry William', 'Badt, Mr. Mohamed', 'Colley, Mr. Edward Pomeroy', 'Coleff, Mr. Peju', 'Lindqvist, Mr. Eino William', 'Hickman, Mr. Lewis', 'Butler, Mr. Reginald Fenton', 'Rommetvedt, Mr. Knud Paust', 'Cook, Mr. Jacob', 'Taylor, Mrs. Elmer Zebley (Juliet Cummins Wright)', 'Brown, Mrs. Thomas William Solomon (Elizabeth Catherine Ford)', 'Davidson, Mr. Thornton', 'Mitchell, Mr. Henry Michael', 'Wilhelms, Mr. Charles', 'Watson, Mr. Ennis Hastings', 'Edvardsson, Mr. Gustaf Hjalmar', 'Sawyer, Mr. Frederick Charles', 'Turja, Miss. Anna Sofia', 'Goodwin, Mrs. Frederick (Augusta Tyler)', 'Cardeza, Mr. Thomas Drake Martinez', 'Peters, Miss. Katie', 'Hassab, Mr. Hammad', 'Olsvigen, Mr. Thor Anderson', 'Goodwin, Mr. Charles Edward', 'Brown, Mr. Thomas William Solomon', 'Laroche, Mr. Joseph Philippe Lemercier', 'Panula, Mr. Jaako Arnold', 'Dakic, Mr. Branko', 'Fischer, Mr. Eberhard Thelander', 'Madill, Miss. Georgette Alexandra', 'Dick, Mr. Albert Adrian', 'Karun, Miss. Manca', 'Lam, Mr. Ali', 'Saad, Mr. Khalil', 'Weir, Col. John', 'Chapman, Mr. Charles Henry', 'Kelly, Mr. James', '\"Mullens, Miss. Katherine \"\"Katie\"\"\"', 'Thayer, Mr. John Borland', 'Humblen, Mr. Adolf Mathias Nicolai Olsen', 'Astor, Mrs. John Jacob (Madeleine Talmadge Force)', 'Silverthorne, Mr. Spencer Victor', 'Barbara, Miss. Saiide', 'Gallagher, Mr. Martin', 'Hansen, Mr. Henrik Juul', '\"Morley, Mr. Henry Samuel (\"\"Mr Henry Marshall\"\")\"', '\"Kelly, Mrs. Florence \"\"Fannie\"\"\"', 'Calderhead, Mr. Edward Pennington', 'Cleaver, Miss. Alice', '\"Moubarek, Master. Halim Gonios (\"\"William George\"\")\"', '\"Mayne, Mlle. Berthe Antonine (\"\"Mrs de Villiers\"\")\"', 'Klaber, Mr. Herman', 'Taylor, Mr. Elmer Zebley', 'Larsson, Mr. August Viktor', 'Greenberg, Mr. Samuel', 'Soholt, Mr. Peter Andreas Lauritz Andersen', 'Endres, Miss. Caroline Louise', '\"Troutt, Miss. Edwina Celia \"\"Winnie\"\"\"', 'McEvoy, Mr. Michael', 'Johnson, Mr. Malkolm Joackim', '\"Harper, Miss. Annie Jessie \"\"Nina\"\"\"', 'Jensen, Mr. Svend Lauritz', 'Gillespie, Mr. William Henry', 'Hodges, Mr. Henry Price', 'Chambers, Mr. Norman Campbell', 'Oreskovic, Mr. Luka', 'Renouf, Mrs. Peter Henry (Lillian Jefferys)', 'Mannion, Miss. Margareth', 'Bryhl, Mr. Kurt Arnold Gottfrid', 'Ilmakangas, Miss. Pieta Sofia', 'Allen, Miss. Elisabeth Walton', 'Hassan, Mr. Houssein G N', 'Knight, Mr. Robert J', 'Berriman, Mr. William John', 'Troupiansky, Mr. Moses Aaron', 'Williams, Mr. Leslie', 'Ford, Mrs. Edward (Margaret Ann Watson)', 'Lesurer, Mr. Gustave J', 'Ivanoff, Mr. Kanio', 'Nankoff, Mr. Minko', 'Hawksford, Mr. Walter James', 'Cavendish, Mr. Tyrell William', '\"Ryerson, Miss. Susan Parker \"\"Suzette\"\"\"', 'McNamee, Mr. Neal', 'Stranden, Mr. Juho', 'Crosby, Capt. Edward Gifford', 'Abbott, Mr. Rossmore Edward', 'Sinkkonen, Miss. Anna', 'Marvin, Mr. Daniel Warner', 'Connaghton, Mr. Michael', 'Wells, Miss. Joan', 'Moor, Master. Meier', 'Vande Velde, Mr. Johannes Joseph', 'Jonkoff, Mr. Lalio', 'Herman, Mrs. Samuel (Jane Laver)', 'Hamalainen, Master. Viljo', 'Carlsson, Mr. August Sigfrid', 'Bailey, Mr. Percy Andrew', 'Theobald, Mr. Thomas Leonard', 'Rothes, the Countess. of (Lucy Noel Martha Dyer-Edwards)', 'Garfirth, Mr. John', 'Nirva, Mr. Iisakki Antino Aijo', 'Barah, Mr. Hanna Assi', 'Carter, Mrs. William Ernest (Lucile Polk)', 'Eklund, Mr. Hans Linus', 'Hogeboom, Mrs. John C (Anna Andrews)', 'Brewe, Dr. Arthur Jackson', 'Mangan, Miss. Mary', 'Moran, Mr. Daniel J', 'Gronnestad, Mr. Daniel Danielsen', 'Lievens, Mr. Rene Aime', 'Jensen, Mr. Niels Peder', 'Mack, Mrs. (Mary)', 'Elias, Mr. Dibo', 'Hocking, Mrs. Elizabeth (Eliza Needs)', 'Myhrman, Mr. Pehr Fabian Oliver Malkolm', 'Tobin, Mr. Roger', 'Emanuel, Miss. Virginia Ethel', 'Kilgannon, Mr. Thomas J', 'Robert, Mrs. Edward Scott (Elisabeth Walton McMillan)', 'Ayoub, Miss. Banoura', 'Dick, Mrs. Albert Adrian (Vera Gillespie)', 'Long, Mr. Milton Clyde', 'Johnston, Mr. Andrew G', 'Ali, Mr. William', 'Harmer, Mr. Abraham (David Lishin)', 'Sjoblom, Miss. Anna Sofia', 'Rice, Master. George Hugh', 'Dean, Master. Bertram Vere', 'Guggenheim, Mr. Benjamin', '\"Keane, Mr. Andrew \"\"Andy\"\"\"', 'Gaskell, Mr. Alfred', 'Sage, Miss. Stella Anna', 'Hoyt, Mr. William Fisher', 'Dantcheff, Mr. Ristiu', 'Otter, Mr. Richard', 'Leader, Dr. Alice (Farnham)', 'Osman, Mrs. Mara', 'Ibrahim Shawah, Mr. Yousseff', 'Van Impe, Mrs. Jean Baptiste (Rosalie Paula Govaert)', 'Ponesell, Mr. Martin', 'Collyer, Mrs. Harvey (Charlotte Annie Tate)', 'Carter, Master. William Thornton II', 'Thomas, Master. Assad Alexander', 'Hedman, Mr. Oskar Arvid', 'Johansson, Mr. Karl Johan', 'Andrews, Mr. Thomas Jr', 'Pettersson, Miss. Ellen Natalia', 'Meyer, Mr. August', 'Chambers, Mrs. Norman Campbell (Bertha Griggs)', 'Alexander, Mr. William', 'Lester, Mr. James', 'Slemen, Mr. Richard James', 'Andersson, Miss. Ebba Iris Alfrida', 'Tomlin, Mr. Ernest Portage', 'Fry, Mr. Richard', 'Heininen, Miss. Wendla Maria', 'Mallet, Mr. Albert', 'Holm, Mr. John Fredrik Alexander', 'Skoog, Master. Karl Thorsten', 'Hays, Mrs. Charles Melville (Clara Jennings Gregg)', 'Lulic, Mr. Nikola', 'Reuchlin, Jonkheer. John George', 'Moor, Mrs. (Beila)', 'Panula, Master. Urho Abraham', 'Flynn, Mr. John', 'Lam, Mr. Len', 'Mallet, Master. Andre', 'McCormack, Mr. Thomas Joseph', 'Stone, Mrs. George Nelson (Martha Evelyn)', 'Yasbeck, Mrs. Antoni (Selini Alexander)', 'Richards, Master. George Sibley', 'Saad, Mr. Amin', 'Augustsson, Mr. Albert', 'Allum, Mr. Owen George', 'Compton, Miss. Sara Rebecca', 'Pasic, Mr. Jakob', 'Sirota, Mr. Maurice', 'Chip, Mr. Chang', 'Marechal, Mr. Pierre', 'Alhomaki, Mr. Ilmari Rudolf', 'Mudd, Mr. Thomas Charles', 'Serepeca, Miss. Augusta', 'Lemberopolous, Mr. Peter L', 'Culumovic, Mr. Jeso', 'Abbing, Mr. Anthony', 'Sage, Mr. Douglas Bullen', 'Markoff, Mr. Marin', 'Harper, Rev. John', 'Goldenberg, Mrs. Samuel L (Edwiga Grabowska)', 'Andersson, Master. Sigvard Harald Elias', 'Svensson, Mr. Johan', 'Boulos, Miss. Nourelain', 'Lines, Miss. Mary Conover', 'Carter, Mrs. Ernest Courtenay (Lilian Hughes)', 'Aks, Mrs. Sam (Leah Rosen)', 'Wick, Mrs. George Dennick (Mary Hitchcock)', 'Daly, Mr. Peter Denis ', 'Baclini, Mrs. Solomon (Latifa Qurban)', 'Razi, Mr. Raihed', 'Hansen, Mr. Claus Peter', 'Giles, Mr. Frederick Edward', 'Swift, Mrs. Frederick Joel (Margaret Welles Barron)', '\"Sage, Miss. Dorothy Edith \"\"Dolly\"\"\"', 'Gill, Mr. John William', 'Bystrom, Mrs. (Karolina)', 'Duran y More, Miss. Asuncion', 'Roebling, Mr. Washington Augustus II', 'van Melkebeke, Mr. Philemon', 'Johnson, Master. Harold Theodor', 'Balkic, Mr. Cerin', 'Beckwith, Mrs. Richard Leonard (Sallie Monypeny)', 'Carlsson, Mr. Frans Olof', 'Vander Cruyssen, Mr. Victor', 'Abelson, Mrs. Samuel (Hannah Wizosky)', '\"Najib, Miss. Adele Kiamie \"\"Jane\"\"\"', 'Gustafsson, Mr. Alfred Ossian', 'Petroff, Mr. Nedelio', 'Laleff, Mr. Kristo', 'Potter, Mrs. Thomas Jr (Lily Alexenia Wilson)', 'Shelley, Mrs. William (Imanita Parrish Hall)', 'Markun, Mr. Johann', 'Dahlberg, Miss. Gerda Ulrika', 'Banfield, Mr. Frederick James', 'Sutehall, Mr. Henry Jr', 'Rice, Mrs. William (Margaret Norton)', 'Montvila, Rev. Juozas', 'Graham, Miss. Margaret Edith', '\"Johnston, Miss. Catherine Helen \"\"Carrie\"\"\"', 'Behr, Mr. Karl Howell', 'Dooley, Mr. Patrick']\n"
     ]
    }
   ],
   "source": [
    "# Extract only the names from the full data, which is the fourth column\n",
    "\n",
    "names = titanic_rdd.map(lambda x: x[3])\n",
    "print(names.collect())\n",
    "\n"
   ]
  },
  {
   "cell_type": "code",
   "execution_count": 4,
   "id": "55a3b999",
   "metadata": {},
   "outputs": [
    {
     "name": "stdout",
     "output_type": "stream",
     "text": [
      "891\n"
     ]
    }
   ],
   "source": [
    "# Total number of passengers in the dataset (.count())\n",
    "\n",
    "passenger_count = titanic_rdd.count()\n",
    "print(passenger_count)"
   ]
  },
  {
   "cell_type": "code",
   "execution_count": 5,
   "id": "66216ade",
   "metadata": {},
   "outputs": [
    {
     "name": "stdout",
     "output_type": "stream",
     "text": [
      "216\n"
     ]
    }
   ],
   "source": [
    "# How many people were in first class? (Pclass, third column) (.count() function)\n",
    "\n",
    "titanic_first_class_count = titanic_rdd.filter(lambda row: row[2] == 1) \\\n",
    "                    .count()\n",
    "print(titanic_first_class_count)"
   ]
  },
  {
   "cell_type": "code",
   "execution_count": 6,
   "id": "00393f36",
   "metadata": {},
   "outputs": [
    {
     "data": {
      "text/plain": [
       "549"
      ]
     },
     "execution_count": 6,
     "metadata": {},
     "output_type": "execute_result"
    }
   ],
   "source": [
    "# Hány ember volt, akik nem élték túl a Titanic tragédiáját? (.count() függvény segítségével)\n",
    "\n",
    "titanic_rdd.map(lambda row: int(row[1])) \\\n",
    "           .filter(lambda survived: survived == 0) \\\n",
    "           .count()"
   ]
  },
  {
   "cell_type": "code",
   "execution_count": 7,
   "id": "0a87a9d2",
   "metadata": {},
   "outputs": [
    {
     "name": "stdout",
     "output_type": "stream",
     "text": [
      "First class survival rate: 0.39766081871345027\n",
      "Second class survival rate: 0.2543859649122807\n",
      "Third class survival rate: 0.347953216374269\n"
     ]
    }
   ],
   "source": [
    "# What proportion of first class passengers survived compared to second and third class? (.count())\n",
    "\n",
    "first_class_survived_count = titanic_rdd \\\n",
    "                            .filter(lambda row: row[2] == 1 and row[1] == 1) \\\n",
    "                            .count()\n",
    "second_class_survived_count = titanic_rdd \\\n",
    "                            .filter(lambda row: row[2] == 2 and row[1] == 1) \\\n",
    "                            .count()\n",
    "third_class_survived_count = titanic_rdd \\\n",
    "                            .filter(lambda row: row[2] == 3 and row[1] == 1) \\\n",
    "                            .count()\n",
    "total_survived_count = titanic_rdd \\\n",
    "                      .map(lambda row: int(row[1])) \\\n",
    "                      .filter(lambda survived: survived == 1) \\\n",
    "                      .count()\n",
    "print(f\"First class survival rate: {first_class_survived_count / total_survived_count}\")\n",
    "print(f\"Second class survival rate: {second_class_survived_count / total_survived_count}\")\n",
    "print(f\"Third class survival rate: {third_class_survived_count / total_survived_count}\")"
   ]
  },
  {
   "cell_type": "code",
   "execution_count": 8,
   "id": "1967a2bc",
   "metadata": {},
   "outputs": [
    {
     "name": "stdout",
     "output_type": "stream",
     "text": [
      "male: 0.5648148148148148\n",
      "female: 0.4351851851851852\n"
     ]
    }
   ],
   "source": [
    "# What was the ratio of women to men in first class? (.count() function)\n",
    "\n",
    "first_class_male_count = titanic_rdd \\\n",
    "                         .filter(lambda row: row[2] == 1 and row[4] == \"male\") \\\n",
    "                         .count()\n",
    "first_class_female_count = titanic_rdd \\\n",
    "                           .filter(lambda row: row[2] == 1 and row[4] == \"female\") \\\n",
    "                           .count()\n",
    "total_first_class_count = titanic_rdd \\\n",
    "                           .filter(lambda row: row[2] == 1) \\\n",
    "                           .count()\n",
    "print(f\"male: {first_class_male_count/total_first_class_count}\")\n",
    "print(f\"female: {first_class_female_count/total_first_class_count}\")"
   ]
  },
  {
   "cell_type": "markdown",
   "id": "a76a704d",
   "metadata": {},
   "source": [
    "## Practice\n",
    "\n"
   ]
  },
  {
   "cell_type": "code",
   "execution_count": 13,
   "id": "59b823c4",
   "metadata": {},
   "outputs": [
    {
     "name": "stdout",
     "output_type": "stream",
     "text": [
      "['Braund, Mr. Owen Harris', 'Cumings, Mrs. John Bradley (Florence Briggs Thayer)', 'Heikkinen, Miss. Laina', 'Futrelle, Mrs. Jacques Heath (Lily May Peel)', 'Allen, Mr. William Henry', 'Moran, Mr. James', 'McCarthy, Mr. Timothy J', 'Palsson, Master. Gosta Leonard', 'Johnson, Mrs. Oscar W (Elisabeth Vilhelmina Berg)', 'Nasser, Mrs. Nicholas (Adele Achem)', 'Sandstrom, Miss. Marguerite Rut', 'Bonnell, Miss. Elizabeth', 'Saundercock, Mr. William Henry', 'Andersson, Mr. Anders Johan', 'Vestrom, Miss. Hulda Amanda Adolfina', 'Hewlett, Mrs. (Mary D Kingcome) ', 'Rice, Master. Eugene', 'Williams, Mr. Charles Eugene', 'Vander Planke, Mrs. Julius (Emelia Maria Vandemoortele)', 'Masselmani, Mrs. Fatima', 'Fynney, Mr. Joseph J', 'Beesley, Mr. Lawrence', '\"McGowan, Miss. Anna \"\"Annie\"\"\"', 'Sloper, Mr. William Thompson', 'Palsson, Miss. Torborg Danira', 'Asplund, Mrs. Carl Oscar (Selma Augusta Emilia Johansson)', 'Emir, Mr. Farred Chehab', 'Fortune, Mr. Charles Alexander', '\"O\\'Dwyer, Miss. Ellen \"\"Nellie\"\"\"', 'Todoroff, Mr. Lalio', 'Uruchurtu, Don. Manuel E', 'Spencer, Mrs. William Augustus (Marie Eugenie)', 'Glynn, Miss. Mary Agatha', 'Wheadon, Mr. Edward H', 'Meyer, Mr. Edgar Joseph', 'Holverson, Mr. Alexander Oskar', 'Mamee, Mr. Hanna', 'Cann, Mr. Ernest Charles', 'Vander Planke, Miss. Augusta Maria', 'Nicola-Yarred, Miss. Jamila', 'Ahlin, Mrs. Johan (Johanna Persdotter Larsson)', 'Turpin, Mrs. William John Robert (Dorothy Ann Wonnacott)', 'Kraeff, Mr. Theodor', 'Laroche, Miss. Simonne Marie Anne Andree', 'Devaney, Miss. Margaret Delia', 'Rogers, Mr. William John', 'Lennon, Mr. Denis', \"O'Driscoll, Miss. Bridget\", 'Samaan, Mr. Youssef', 'Arnold-Franchi, Mrs. Josef (Josefine Franchi)', 'Panula, Master. Juha Niilo', 'Nosworthy, Mr. Richard Cater', 'Harper, Mrs. Henry Sleeper (Myna Haxtun)', 'Faunthorpe, Mrs. Lizzie (Elizabeth Anne Wilkinson)', 'Ostby, Mr. Engelhart Cornelius', 'Woolner, Mr. Hugh', 'Rugg, Miss. Emily', 'Novel, Mr. Mansouer', 'West, Miss. Constance Mirium', 'Goodwin, Master. William Frederick', 'Sirayanian, Mr. Orsen', 'Icard, Miss. Amelie', 'Harris, Mr. Henry Birkhardt', 'Skoog, Master. Harald', 'Stewart, Mr. Albert A', 'Moubarek, Master. Gerios', 'Nye, Mrs. (Elizabeth Ramell)', 'Crease, Mr. Ernest James', 'Andersson, Miss. Erna Alexandra', 'Kink, Mr. Vincenz', 'Jenkin, Mr. Stephen Curnow', 'Goodwin, Miss. Lillian Amy', 'Hood, Mr. Ambrose Jr', 'Chronopoulos, Mr. Apostolos', 'Bing, Mr. Lee', 'Moen, Mr. Sigurd Hansen', 'Staneff, Mr. Ivan', 'Moutal, Mr. Rahamin Haim', 'Caldwell, Master. Alden Gates', 'Dowdell, Miss. Elizabeth', 'Waelens, Mr. Achille', 'Sheerlinck, Mr. Jan Baptist', 'McDermott, Miss. Brigdet Delia', 'Carrau, Mr. Francisco M', 'Ilett, Miss. Bertha', 'Backstrom, Mrs. Karl Alfred (Maria Mathilda Gustafsson)', 'Ford, Mr. William Neal', 'Slocovski, Mr. Selman Francis', 'Fortune, Miss. Mabel Helen', 'Celotti, Mr. Francesco', 'Christmann, Mr. Emil', 'Andreasson, Mr. Paul Edvin', 'Chaffee, Mr. Herbert Fuller', 'Dean, Mr. Bertram Frank', 'Coxon, Mr. Daniel', 'Shorney, Mr. Charles Joseph', 'Goldschmidt, Mr. George B', 'Greenfield, Mr. William Bertram', 'Doling, Mrs. John T (Ada Julia Bone)', 'Kantor, Mr. Sinai', 'Petranec, Miss. Matilda', '\"Petroff, Mr. Pastcho (\"\"Pentcho\"\")\"', 'White, Mr. Richard Frasar', 'Johansson, Mr. Gustaf Joel', 'Gustafsson, Mr. Anders Vilhelm', 'Mionoff, Mr. Stoytcho', 'Salkjelsvik, Miss. Anna Kristine', 'Moss, Mr. Albert Johan', 'Rekic, Mr. Tido', 'Moran, Miss. Bertha', 'Porter, Mr. Walter Chamberlain', 'Zabour, Miss. Hileni', 'Barton, Mr. David John', 'Jussila, Miss. Katriina', 'Attalah, Miss. Malake', 'Pekoniemi, Mr. Edvard', 'Connors, Mr. Patrick', 'Turpin, Mr. William John Robert', 'Baxter, Mr. Quigg Edmond', 'Andersson, Miss. Ellis Anna Maria', 'Hickman, Mr. Stanley George', 'Moore, Mr. Leonard Charles', 'Nasser, Mr. Nicholas', 'Webber, Miss. Susan', 'White, Mr. Percival Wayland', 'Nicola-Yarred, Master. Elias', 'McMahon, Mr. Martin', 'Madsen, Mr. Fridtjof Arne', 'Peter, Miss. Anna', 'Ekstrom, Mr. Johan', 'Drazenoic, Mr. Jozef', 'Coelho, Mr. Domingos Fernandeo', 'Robins, Mrs. Alexander A (Grace Charity Laury)', 'Weisz, Mrs. Leopold (Mathilde Francoise Pede)', 'Sobey, Mr. Samuel James Hayden', 'Richard, Mr. Emile', 'Newsom, Miss. Helen Monypeny', 'Futrelle, Mr. Jacques Heath', 'Osen, Mr. Olaf Elon', 'Giglio, Mr. Victor', 'Boulos, Mrs. Joseph (Sultana)', 'Nysten, Miss. Anna Sofia', 'Hakkarainen, Mrs. Pekka Pietari (Elin Matilda Dolck)', 'Burke, Mr. Jeremiah', 'Andrew, Mr. Edgardo Samuel', 'Nicholls, Mr. Joseph Charles', '\"Andersson, Mr. August Edvard (\"\"Wennerstrom\"\")\"', '\"Ford, Miss. Robina Maggie \"\"Ruby\"\"\"', '\"Navratil, Mr. Michel (\"\"Louis M Hoffman\"\")\"', 'Byles, Rev. Thomas Roussel Davids', 'Bateman, Rev. Robert James', 'Pears, Mrs. Thomas (Edith Wearne)', 'Meo, Mr. Alfonzo', 'van Billiard, Mr. Austin Blyler', 'Olsen, Mr. Ole Martin', 'Williams, Mr. Charles Duane', '\"Gilnagh, Miss. Katherine \"\"Katie\"\"\"', 'Corn, Mr. Harry', 'Smiljanic, Mr. Mile', 'Sage, Master. Thomas Henry', 'Cribb, Mr. John Hatfield', '\"Watt, Mrs. James (Elizabeth \"\"Bessie\"\" Inglis Milne)\"', 'Bengtsson, Mr. John Viktor', 'Calic, Mr. Jovo', 'Panula, Master. Eino Viljami', '\"Goldsmith, Master. Frank John William \"\"Frankie\"\"\"', 'Chibnall, Mrs. (Edith Martha Bowerman)', 'Skoog, Mrs. William (Anna Bernhardina Karlsson)', 'Baumann, Mr. John D', 'Ling, Mr. Lee', 'Van der hoef, Mr. Wyckoff', 'Rice, Master. Arthur', 'Johnson, Miss. Eleanor Ileen', 'Sivola, Mr. Antti Wilhelm', 'Smith, Mr. James Clinch', 'Klasen, Mr. Klas Albin', 'Lefebre, Master. Henry Forbes', 'Isham, Miss. Ann Elizabeth', 'Hale, Mr. Reginald', 'Leonard, Mr. Lionel', 'Sage, Miss. Constance Gladys', 'Pernot, Mr. Rene', 'Asplund, Master. Clarence Gustaf Hugo', 'Becker, Master. Richard F', 'Kink-Heilmann, Miss. Luise Gretchen', 'Rood, Mr. Hugh Roscoe', '\"O\\'Brien, Mrs. Thomas (Johanna \"\"Hannah\"\" Godfrey)\"', '\"Romaine, Mr. Charles Hallace (\"\"Mr C Rolmane\"\")\"', 'Bourke, Mr. John', 'Turcin, Mr. Stjepan', 'Pinsky, Mrs. (Rosa)', 'Carbines, Mr. William', 'Andersen-Jensen, Miss. Carla Christine Nielsine', 'Navratil, Master. Michel M', 'Brown, Mrs. James Joseph (Margaret Tobin)', 'Lurette, Miss. Elise', 'Mernagh, Mr. Robert', 'Olsen, Mr. Karl Siegwart Andreas', '\"Madigan, Miss. Margaret \"\"Maggie\"\"\"', '\"Yrois, Miss. Henriette (\"\"Mrs Harbeck\"\")\"', 'Vande Walle, Mr. Nestor Cyriel', 'Sage, Mr. Frederick', 'Johanson, Mr. Jakob Alfred', 'Youseff, Mr. Gerious', '\"Cohen, Mr. Gurshon \"\"Gus\"\"\"', 'Strom, Miss. Telma Matilda', 'Backstrom, Mr. Karl Alfred', 'Albimona, Mr. Nassef Cassem', '\"Carr, Miss. Helen \"\"Ellen\"\"\"', 'Blank, Mr. Henry', 'Ali, Mr. Ahmed', 'Cameron, Miss. Clear Annie', 'Perkin, Mr. John Henry', 'Givard, Mr. Hans Kristensen', 'Kiernan, Mr. Philip', 'Newell, Miss. Madeleine', 'Honkanen, Miss. Eliina', 'Jacobsohn, Mr. Sidney Samuel', 'Bazzani, Miss. Albina', 'Harris, Mr. Walter', 'Sunderland, Mr. Victor Francis', 'Bracken, Mr. James H', 'Green, Mr. George Henry', 'Nenkoff, Mr. Christo', 'Hoyt, Mr. Frederick Maxfield', 'Berglund, Mr. Karl Ivar Sven', 'Mellors, Mr. William John', '\"Lovell, Mr. John Hall (\"\"Henry\"\")\"', 'Fahlstrom, Mr. Arne Jonas', 'Lefebre, Miss. Mathilde', 'Harris, Mrs. Henry Birkhardt (Irene Wallach)', 'Larsson, Mr. Bengt Edvin', 'Sjostedt, Mr. Ernst Adolf', 'Asplund, Miss. Lillian Gertrud', 'Leyson, Mr. Robert William Norman', 'Harknett, Miss. Alice Phoebe', 'Hold, Mr. Stephen', '\"Collyer, Miss. Marjorie \"\"Lottie\"\"\"', 'Pengelly, Mr. Frederick William', 'Hunt, Mr. George Henry', 'Zabour, Miss. Thamine', '\"Murphy, Miss. Katherine \"\"Kate\"\"\"', 'Coleridge, Mr. Reginald Charles', 'Maenpaa, Mr. Matti Alexanteri', 'Attalah, Mr. Sleiman', 'Minahan, Dr. William Edward', 'Lindahl, Miss. Agda Thorilda Viktoria', 'Hamalainen, Mrs. William (Anna)', 'Beckwith, Mr. Richard Leonard', 'Carter, Rev. Ernest Courtenay', 'Reed, Mr. James George', 'Strom, Mrs. Wilhelm (Elna Matilda Persson)', 'Stead, Mr. William Thomas', 'Lobb, Mr. William Arthur', 'Rosblom, Mrs. Viktor (Helena Wilhelmina)', 'Touma, Mrs. Darwis (Hanne Youssef Razi)', 'Thorne, Mrs. Gertrude Maybelle', 'Cherry, Miss. Gladys', 'Ward, Miss. Anna', 'Parrish, Mrs. (Lutie Davis)', 'Smith, Mr. Thomas', 'Asplund, Master. Edvin Rojj Felix', 'Taussig, Mr. Emil', 'Harrison, Mr. William', 'Henry, Miss. Delia', 'Reeves, Mr. David', 'Panula, Mr. Ernesti Arvid', 'Persson, Mr. Ernst Ulrik', 'Graham, Mrs. William Thompson (Edith Junkins)', 'Bissette, Miss. Amelia', 'Cairns, Mr. Alexander', 'Tornquist, Mr. William Henry', 'Mellinger, Mrs. (Elizabeth Anne Maidment)', 'Natsch, Mr. Charles H', '\"Healy, Miss. Hanora \"\"Nora\"\"\"', 'Andrews, Miss. Kornelia Theodosia', 'Lindblom, Miss. Augusta Charlotta', '\"Parkes, Mr. Francis \"\"Frank\"\"\"', 'Rice, Master. Eric', 'Abbott, Mrs. Stanton (Rosa Hunt)', 'Duane, Mr. Frank', 'Olsson, Mr. Nils Johan Goransson', 'de Pelsmaeker, Mr. Alfons', 'Dorking, Mr. Edward Arthur', 'Smith, Mr. Richard William', 'Stankovic, Mr. Ivan', 'de Mulder, Mr. Theodore', 'Naidenoff, Mr. Penko', 'Hosono, Mr. Masabumi', 'Connolly, Miss. Kate', '\"Barber, Miss. Ellen \"\"Nellie\"\"\"', 'Bishop, Mrs. Dickinson H (Helen Walton)', 'Levy, Mr. Rene Jacques', 'Haas, Miss. Aloisia', 'Mineff, Mr. Ivan', 'Lewy, Mr. Ervin G', 'Hanna, Mr. Mansour', 'Allison, Miss. Helen Loraine', 'Saalfeld, Mr. Adolphe', 'Baxter, Mrs. James (Helene DeLaudeniere Chaput)', '\"Kelly, Miss. Anna Katherine \"\"Annie Kate\"\"\"', 'McCoy, Mr. Bernard', 'Johnson, Mr. William Cahoone Jr', 'Keane, Miss. Nora A', '\"Williams, Mr. Howard Hugh \"\"Harry\"\"\"', 'Allison, Master. Hudson Trevor', 'Fleming, Miss. Margaret', 'Penasco y Castellana, Mrs. Victor de Satode (Maria Josefa Perez de Soto y Vallejo)', 'Abelson, Mr. Samuel', 'Francatelli, Miss. Laura Mabel', 'Hays, Miss. Margaret Bechstein', 'Ryerson, Miss. Emily Borie', 'Lahtinen, Mrs. William (Anna Sylfven)', 'Hendekovic, Mr. Ignjac', 'Hart, Mr. Benjamin', 'Nilsson, Miss. Helmina Josefina', 'Kantor, Mrs. Sinai (Miriam Sternin)', 'Moraweck, Dr. Ernest', 'Wick, Miss. Mary Natalie', 'Spedden, Mrs. Frederic Oakley (Margaretta Corning Stone)', 'Dennis, Mr. Samuel', 'Danoff, Mr. Yoto', 'Slayter, Miss. Hilda Mary', 'Caldwell, Mrs. Albert Francis (Sylvia Mae Harbaugh)', 'Sage, Mr. George John Jr', 'Young, Miss. Marie Grice', 'Nysveen, Mr. Johan Hansen', 'Ball, Mrs. (Ada E Hall)', 'Goldsmith, Mrs. Frank John (Emily Alice Brown)', 'Hippach, Miss. Jean Gertrude', 'McCoy, Miss. Agnes', 'Partner, Mr. Austen', 'Graham, Mr. George Edward', 'Vander Planke, Mr. Leo Edmondus', 'Frauenthal, Mrs. Henry William (Clara Heinsheimer)', 'Denkoff, Mr. Mitto', 'Pears, Mr. Thomas Clinton', 'Burns, Miss. Elizabeth Margaret', 'Dahl, Mr. Karl Edwart', 'Blackwell, Mr. Stephen Weart', 'Navratil, Master. Edmond Roger', 'Fortune, Miss. Alice Elizabeth', 'Collander, Mr. Erik Gustaf', 'Sedgwick, Mr. Charles Frederick Waddington', 'Fox, Mr. Stanley Hubert', '\"Brown, Miss. Amelia \"\"Mildred\"\"\"', 'Smith, Miss. Marion Elsie', 'Davison, Mrs. Thomas Henry (Mary E Finck)', '\"Coutts, Master. William Loch \"\"William\"\"\"', 'Dimic, Mr. Jovan', 'Odahl, Mr. Nils Martin', 'Williams-Lambert, Mr. Fletcher Fellows', 'Elias, Mr. Tannous', 'Arnold-Franchi, Mr. Josef', 'Yousif, Mr. Wazli', 'Vanden Steen, Mr. Leo Peter', 'Bowerman, Miss. Elsie Edith', 'Funk, Miss. Annie Clemmer', 'McGovern, Miss. Mary', '\"Mockler, Miss. Helen Mary \"\"Ellie\"\"\"', 'Skoog, Mr. Wilhelm', 'del Carlo, Mr. Sebastiano', 'Barbara, Mrs. (Catherine David)', 'Asim, Mr. Adola', \"O'Brien, Mr. Thomas\", 'Adahl, Mr. Mauritz Nils Martin', 'Warren, Mrs. Frank Manley (Anna Sophia Atkinson)', 'Moussa, Mrs. (Mantoura Boulos)', 'Jermyn, Miss. Annie', 'Aubart, Mme. Leontine Pauline', 'Harder, Mr. George Achilles', 'Wiklund, Mr. Jakob Alfred', 'Beavan, Mr. William Thomas', 'Ringhini, Mr. Sante', 'Palsson, Miss. Stina Viola', 'Meyer, Mrs. Edgar Joseph (Leila Saks)', 'Landergren, Miss. Aurora Adelia', 'Widener, Mr. Harry Elkins', 'Betros, Mr. Tannous', 'Gustafsson, Mr. Karl Gideon', 'Bidois, Miss. Rosalie', '\"Nakid, Miss. Maria (\"\"Mary\"\")\"', 'Tikkanen, Mr. Juho', 'Holverson, Mrs. Alexander Oskar (Mary Aline Towner)', 'Plotcharsky, Mr. Vasil', 'Davies, Mr. Charles Henry', 'Goodwin, Master. Sidney Leonard', 'Buss, Miss. Kate', 'Sadlier, Mr. Matthew', 'Lehmann, Miss. Bertha', 'Carter, Mr. William Ernest', 'Jansson, Mr. Carl Olof', 'Gustafsson, Mr. Johan Birger', 'Newell, Miss. Marjorie', 'Sandstrom, Mrs. Hjalmar (Agnes Charlotta Bengtsson)', 'Johansson, Mr. Erik', 'Olsson, Miss. Elina', 'McKane, Mr. Peter David', 'Pain, Dr. Alfred', 'Trout, Mrs. William H (Jessie L)', 'Niskanen, Mr. Juha', 'Adams, Mr. John', 'Jussila, Miss. Mari Aina', 'Hakkarainen, Mr. Pekka Pietari', 'Oreskovic, Miss. Marija', 'Gale, Mr. Shadrach', 'Widegren, Mr. Carl/Charles Peter', 'Richards, Master. William Rowe', 'Birkeland, Mr. Hans Martin Monsen', 'Lefebre, Miss. Ida', 'Sdycoff, Mr. Todor', 'Hart, Mr. Henry', 'Minahan, Miss. Daisy E', 'Cunningham, Mr. Alfred Fleming', 'Sundman, Mr. Johan Julian', 'Meek, Mrs. Thomas (Annie Louise Rowley)', 'Drew, Mrs. James Vivian (Lulu Thorne Christian)', 'Silven, Miss. Lyyli Karoliina', 'Matthews, Mr. William John', 'Van Impe, Miss. Catharina', 'Gheorgheff, Mr. Stanio', 'Charters, Mr. David', 'Zimmerman, Mr. Leo', 'Danbom, Mrs. Ernst Gilbert (Anna Sigrid Maria Brogren)', 'Rosblom, Mr. Viktor Richard', 'Wiseman, Mr. Phillippe', 'Clarke, Mrs. Charles V (Ada Maria Winfield)', '\"Phillips, Miss. Kate Florence (\"\"Mrs Kate Louise Phillips Marshall\"\")\"', 'Flynn, Mr. James', 'Pickard, Mr. Berk (Berk Trembisky)', 'Bjornstrom-Steffansson, Mr. Mauritz Hakan', 'Thorneycroft, Mrs. Percival (Florence Kate White)', 'Louch, Mrs. Charles Alexander (Alice Adelaide Slow)', 'Kallio, Mr. Nikolai Erland', 'Silvey, Mr. William Baird', 'Carter, Miss. Lucile Polk', '\"Ford, Miss. Doolina Margaret \"\"Daisy\"\"\"', 'Richards, Mrs. Sidney (Emily Hocking)', 'Fortune, Mr. Mark', 'Kvillner, Mr. Johan Henrik Johannesson', 'Hart, Mrs. Benjamin (Esther Ada Bloomfield)', 'Hampe, Mr. Leon', 'Petterson, Mr. Johan Emil', 'Reynaldo, Ms. Encarnacion', 'Johannesen-Bratthammer, Mr. Bernt', 'Dodge, Master. Washington', 'Mellinger, Miss. Madeleine Violet', 'Seward, Mr. Frederic Kimber', 'Baclini, Miss. Marie Catherine', 'Peuchen, Major. Arthur Godfrey', 'West, Mr. Edwy Arthur', 'Hagland, Mr. Ingvald Olai Olsen', 'Foreman, Mr. Benjamin Laventall', 'Goldenberg, Mr. Samuel L', 'Peduzzi, Mr. Joseph', 'Jalsevac, Mr. Ivan', 'Millet, Mr. Francis Davis', 'Kenyon, Mrs. Frederick R (Marion)', 'Toomey, Miss. Ellen', \"O'Connor, Mr. Maurice\", 'Anderson, Mr. Harry', 'Morley, Mr. William', 'Gee, Mr. Arthur H', 'Milling, Mr. Jacob Christian', 'Maisner, Mr. Simon', 'Goncalves, Mr. Manuel Estanslas', 'Campbell, Mr. William', 'Smart, Mr. John Montgomery', 'Scanlan, Mr. James', 'Baclini, Miss. Helene Barbara', 'Keefe, Mr. Arthur', 'Cacic, Mr. Luka', 'West, Mrs. Edwy Arthur (Ada Mary Worth)', 'Jerwan, Mrs. Amin S (Marie Marthe Thuillard)', 'Strandberg, Miss. Ida Sofia', 'Clifford, Mr. George Quincy', 'Renouf, Mr. Peter Henry', 'Braund, Mr. Lewis Richard', 'Karlsson, Mr. Nils August', 'Hirvonen, Miss. Hildur E', 'Goodwin, Master. Harold Victor', '\"Frost, Mr. Anthony Wood \"\"Archie\"\"\"', 'Rouse, Mr. Richard Henry', 'Turkula, Mrs. (Hedwig)', 'Bishop, Mr. Dickinson H', 'Lefebre, Miss. Jeannie', 'Hoyt, Mrs. Frederick Maxfield (Jane Anne Forby)', 'Kent, Mr. Edward Austin', 'Somerton, Mr. Francis William', '\"Coutts, Master. Eden Leslie \"\"Neville\"\"\"', 'Hagland, Mr. Konrad Mathias Reiersen', 'Windelov, Mr. Einar', 'Molson, Mr. Harry Markland', 'Artagaveytia, Mr. Ramon', 'Stanley, Mr. Edward Roland', 'Yousseff, Mr. Gerious', 'Eustis, Miss. Elizabeth Mussey', 'Shellard, Mr. Frederick William', 'Allison, Mrs. Hudson J C (Bessie Waldo Daniels)', 'Svensson, Mr. Olof', 'Calic, Mr. Petar', 'Canavan, Miss. Mary', \"O'Sullivan, Miss. Bridget Mary\", 'Laitinen, Miss. Kristina Sofia', 'Maioni, Miss. Roberta', 'Penasco y Castellana, Mr. Victor de Satode', 'Quick, Mrs. Frederick Charles (Jane Richards)', '\"Bradley, Mr. George (\"\"George Arthur Brayton\"\")\"', 'Olsen, Mr. Henry Margido', 'Lang, Mr. Fang', 'Daly, Mr. Eugene Patrick', 'Webber, Mr. James', 'McGough, Mr. James Robert', 'Rothschild, Mrs. Martin (Elizabeth L. Barrett)', 'Coleff, Mr. Satio', 'Walker, Mr. William Anderson', 'Lemore, Mrs. (Amelia Milley)', 'Ryan, Mr. Patrick', '\"Angle, Mrs. William A (Florence \"\"Mary\"\" Agnes Hughes)\"', 'Pavlovic, Mr. Stefo', 'Perreault, Miss. Anne', 'Vovk, Mr. Janko', 'Lahoud, Mr. Sarkis', 'Hippach, Mrs. Louis Albert (Ida Sophia Fischer)', 'Kassem, Mr. Fared', 'Farrell, Mr. James', 'Ridsdale, Miss. Lucy', 'Farthing, Mr. John', 'Salonen, Mr. Johan Werner', 'Hocking, Mr. Richard George', 'Quick, Miss. Phyllis May', 'Toufik, Mr. Nakli', 'Elias, Mr. Joseph Jr', 'Peter, Mrs. Catherine (Catherine Rizk)', 'Cacic, Miss. Marija', 'Hart, Miss. Eva Miriam', 'Butt, Major. Archibald Willingham', 'LeRoy, Miss. Bertha', 'Risien, Mr. Samuel Beard', 'Frolicher, Miss. Hedwig Margaritha', 'Crosby, Miss. Harriet R', 'Andersson, Miss. Ingeborg Constanzia', 'Andersson, Miss. Sigrid Elisabeth', 'Beane, Mr. Edward', 'Douglas, Mr. Walter Donald', 'Nicholson, Mr. Arthur Ernest', 'Beane, Mrs. Edward (Ethel Clarke)', 'Padro y Manent, Mr. Julian', 'Goldsmith, Mr. Frank John', 'Davies, Master. John Morgan Jr', 'Thayer, Mr. John Borland Jr', 'Sharp, Mr. Percival James R', \"O'Brien, Mr. Timothy\", '\"Leeni, Mr. Fahim (\"\"Philip Zenni\"\")\"', 'Ohman, Miss. Velin', 'Wright, Mr. George', '\"Duff Gordon, Lady. (Lucille Christiana Sutherland) (\"\"Mrs Morgan\"\")\"', 'Robbins, Mr. Victor', 'Taussig, Mrs. Emil (Tillie Mandelbaum)', 'de Messemaeker, Mrs. Guillaume Joseph (Emma)', 'Morrow, Mr. Thomas Rowan', 'Sivic, Mr. Husein', 'Norman, Mr. Robert Douglas', 'Simmons, Mr. John', 'Meanwell, Miss. (Marion Ogden)', 'Davies, Mr. Alfred J', 'Stoytcheff, Mr. Ilia', 'Palsson, Mrs. Nils (Alma Cornelia Berglund)', 'Doharr, Mr. Tannous', 'Jonsson, Mr. Carl', 'Harris, Mr. George', 'Appleton, Mrs. Edward Dale (Charlotte Lamson)', '\"Flynn, Mr. John Irwin (\"\"Irving\"\")\"', 'Kelly, Miss. Mary', 'Rush, Mr. Alfred George John', 'Patchett, Mr. George', 'Garside, Miss. Ethel', 'Silvey, Mrs. William Baird (Alice Munger)', 'Caram, Mrs. Joseph (Maria Elias)', 'Jussila, Mr. Eiriik', 'Christy, Miss. Julie Rachel', 'Thayer, Mrs. John Borland (Marian Longstreth Morris)', 'Downton, Mr. William James', 'Ross, Mr. John Hugo', 'Paulner, Mr. Uscher', 'Taussig, Miss. Ruth', 'Jarvis, Mr. John Denzil', 'Frolicher-Stehli, Mr. Maxmillian', 'Gilinski, Mr. Eliezer', 'Murdlin, Mr. Joseph', 'Rintamaki, Mr. Matti', 'Stephenson, Mrs. Walter Bertram (Martha Eustis)', 'Elsbury, Mr. William James', 'Bourke, Miss. Mary', 'Chapman, Mr. John Henry', 'Van Impe, Mr. Jean Baptiste', 'Leitch, Miss. Jessie Wills', 'Johnson, Mr. Alfred', 'Boulos, Mr. Hanna', '\"Duff Gordon, Sir. Cosmo Edmund (\"\"Mr Morgan\"\")\"', 'Jacobsohn, Mrs. Sidney Samuel (Amy Frances Christy)', 'Slabenoff, Mr. Petco', 'Harrington, Mr. Charles H', 'Torber, Mr. Ernst William', '\"Homer, Mr. Harry (\"\"Mr E Haven\"\")\"', 'Lindell, Mr. Edvard Bengtsson', 'Karaic, Mr. Milan', 'Daniel, Mr. Robert Williams', 'Laroche, Mrs. Joseph (Juliette Marie Louise Lafargue)', 'Shutes, Miss. Elizabeth W', 'Andersson, Mrs. Anders Johan (Alfrida Konstantia Brogren)', 'Jardin, Mr. Jose Neto', 'Murphy, Miss. Margaret Jane', 'Horgan, Mr. John', 'Brocklebank, Mr. William Alfred', 'Herman, Miss. Alice', 'Danbom, Mr. Ernst Gilbert', 'Lobb, Mrs. William Arthur (Cordelia K Stanlick)', 'Becker, Miss. Marion Louise', 'Gavey, Mr. Lawrence', 'Yasbeck, Mr. Antoni', 'Kimball, Mr. Edwin Nelson Jr', 'Nakid, Mr. Sahid', 'Hansen, Mr. Henry Damsgaard', '\"Bowen, Mr. David John \"\"Dai\"\"\"', 'Sutton, Mr. Frederick', 'Kirkland, Rev. Charles Leonard', 'Longley, Miss. Gretchen Fiske', 'Bostandyeff, Mr. Guentcho', \"O'Connell, Mr. Patrick D\", 'Barkworth, Mr. Algernon Henry Wilson', 'Lundahl, Mr. Johan Svensson', 'Stahelin-Maeglin, Dr. Max', 'Parr, Mr. William Henry Marsh', 'Skoog, Miss. Mabel', 'Davis, Miss. Mary', 'Leinonen, Mr. Antti Gustaf', 'Collyer, Mr. Harvey', 'Panula, Mrs. Juha (Maria Emilia Ojala)', 'Thorneycroft, Mr. Percival', 'Jensen, Mr. Hans Peder', 'Sagesser, Mlle. Emma', 'Skoog, Miss. Margit Elizabeth', 'Foo, Mr. Choong', 'Baclini, Miss. Eugenie', 'Harper, Mr. Henry Sleeper', 'Cor, Mr. Liudevit', 'Simonius-Blumer, Col. Oberst Alfons', 'Willey, Mr. Edward', 'Stanley, Miss. Amy Zillah Elsie', 'Mitkoff, Mr. Mito', 'Doling, Miss. Elsie', 'Kalvik, Mr. Johannes Halvorsen', '\"O\\'Leary, Miss. Hanora \"\"Norah\"\"\"', '\"Hegarty, Miss. Hanora \"\"Nora\"\"\"', 'Hickman, Mr. Leonard Mark', 'Radeff, Mr. Alexander', 'Bourke, Mrs. John (Catherine)', 'Eitemiller, Mr. George Floyd', 'Newell, Mr. Arthur Webster', 'Frauenthal, Dr. Henry William', 'Badt, Mr. Mohamed', 'Colley, Mr. Edward Pomeroy', 'Coleff, Mr. Peju', 'Lindqvist, Mr. Eino William', 'Hickman, Mr. Lewis', 'Butler, Mr. Reginald Fenton', 'Rommetvedt, Mr. Knud Paust', 'Cook, Mr. Jacob', 'Taylor, Mrs. Elmer Zebley (Juliet Cummins Wright)', 'Brown, Mrs. Thomas William Solomon (Elizabeth Catherine Ford)', 'Davidson, Mr. Thornton', 'Mitchell, Mr. Henry Michael', 'Wilhelms, Mr. Charles', 'Watson, Mr. Ennis Hastings', 'Edvardsson, Mr. Gustaf Hjalmar', 'Sawyer, Mr. Frederick Charles', 'Turja, Miss. Anna Sofia', 'Goodwin, Mrs. Frederick (Augusta Tyler)', 'Cardeza, Mr. Thomas Drake Martinez', 'Peters, Miss. Katie', 'Hassab, Mr. Hammad', 'Olsvigen, Mr. Thor Anderson', 'Goodwin, Mr. Charles Edward', 'Brown, Mr. Thomas William Solomon', 'Laroche, Mr. Joseph Philippe Lemercier', 'Panula, Mr. Jaako Arnold', 'Dakic, Mr. Branko', 'Fischer, Mr. Eberhard Thelander', 'Madill, Miss. Georgette Alexandra', 'Dick, Mr. Albert Adrian', 'Karun, Miss. Manca', 'Lam, Mr. Ali', 'Saad, Mr. Khalil', 'Weir, Col. John', 'Chapman, Mr. Charles Henry', 'Kelly, Mr. James', '\"Mullens, Miss. Katherine \"\"Katie\"\"\"', 'Thayer, Mr. John Borland', 'Humblen, Mr. Adolf Mathias Nicolai Olsen', 'Astor, Mrs. John Jacob (Madeleine Talmadge Force)', 'Silverthorne, Mr. Spencer Victor', 'Barbara, Miss. Saiide', 'Gallagher, Mr. Martin', 'Hansen, Mr. Henrik Juul', '\"Morley, Mr. Henry Samuel (\"\"Mr Henry Marshall\"\")\"', '\"Kelly, Mrs. Florence \"\"Fannie\"\"\"', 'Calderhead, Mr. Edward Pennington', 'Cleaver, Miss. Alice', '\"Moubarek, Master. Halim Gonios (\"\"William George\"\")\"', '\"Mayne, Mlle. Berthe Antonine (\"\"Mrs de Villiers\"\")\"', 'Klaber, Mr. Herman', 'Taylor, Mr. Elmer Zebley', 'Larsson, Mr. August Viktor', 'Greenberg, Mr. Samuel', 'Soholt, Mr. Peter Andreas Lauritz Andersen', 'Endres, Miss. Caroline Louise', '\"Troutt, Miss. Edwina Celia \"\"Winnie\"\"\"', 'McEvoy, Mr. Michael', 'Johnson, Mr. Malkolm Joackim', '\"Harper, Miss. Annie Jessie \"\"Nina\"\"\"', 'Jensen, Mr. Svend Lauritz', 'Gillespie, Mr. William Henry', 'Hodges, Mr. Henry Price', 'Chambers, Mr. Norman Campbell', 'Oreskovic, Mr. Luka', 'Renouf, Mrs. Peter Henry (Lillian Jefferys)', 'Mannion, Miss. Margareth', 'Bryhl, Mr. Kurt Arnold Gottfrid', 'Ilmakangas, Miss. Pieta Sofia', 'Allen, Miss. Elisabeth Walton', 'Hassan, Mr. Houssein G N', 'Knight, Mr. Robert J', 'Berriman, Mr. William John', 'Troupiansky, Mr. Moses Aaron', 'Williams, Mr. Leslie', 'Ford, Mrs. Edward (Margaret Ann Watson)', 'Lesurer, Mr. Gustave J', 'Ivanoff, Mr. Kanio', 'Nankoff, Mr. Minko', 'Hawksford, Mr. Walter James', 'Cavendish, Mr. Tyrell William', '\"Ryerson, Miss. Susan Parker \"\"Suzette\"\"\"', 'McNamee, Mr. Neal', 'Stranden, Mr. Juho', 'Crosby, Capt. Edward Gifford', 'Abbott, Mr. Rossmore Edward', 'Sinkkonen, Miss. Anna', 'Marvin, Mr. Daniel Warner', 'Connaghton, Mr. Michael', 'Wells, Miss. Joan', 'Moor, Master. Meier', 'Vande Velde, Mr. Johannes Joseph', 'Jonkoff, Mr. Lalio', 'Herman, Mrs. Samuel (Jane Laver)', 'Hamalainen, Master. Viljo', 'Carlsson, Mr. August Sigfrid', 'Bailey, Mr. Percy Andrew', 'Theobald, Mr. Thomas Leonard', 'Rothes, the Countess. of (Lucy Noel Martha Dyer-Edwards)', 'Garfirth, Mr. John', 'Nirva, Mr. Iisakki Antino Aijo', 'Barah, Mr. Hanna Assi', 'Carter, Mrs. William Ernest (Lucile Polk)', 'Eklund, Mr. Hans Linus', 'Hogeboom, Mrs. John C (Anna Andrews)', 'Brewe, Dr. Arthur Jackson', 'Mangan, Miss. Mary', 'Moran, Mr. Daniel J', 'Gronnestad, Mr. Daniel Danielsen', 'Lievens, Mr. Rene Aime', 'Jensen, Mr. Niels Peder', 'Mack, Mrs. (Mary)', 'Elias, Mr. Dibo', 'Hocking, Mrs. Elizabeth (Eliza Needs)', 'Myhrman, Mr. Pehr Fabian Oliver Malkolm', 'Tobin, Mr. Roger', 'Emanuel, Miss. Virginia Ethel', 'Kilgannon, Mr. Thomas J', 'Robert, Mrs. Edward Scott (Elisabeth Walton McMillan)', 'Ayoub, Miss. Banoura', 'Dick, Mrs. Albert Adrian (Vera Gillespie)', 'Long, Mr. Milton Clyde', 'Johnston, Mr. Andrew G', 'Ali, Mr. William', 'Harmer, Mr. Abraham (David Lishin)', 'Sjoblom, Miss. Anna Sofia', 'Rice, Master. George Hugh', 'Dean, Master. Bertram Vere', 'Guggenheim, Mr. Benjamin', '\"Keane, Mr. Andrew \"\"Andy\"\"\"', 'Gaskell, Mr. Alfred', 'Sage, Miss. Stella Anna', 'Hoyt, Mr. William Fisher', 'Dantcheff, Mr. Ristiu', 'Otter, Mr. Richard', 'Leader, Dr. Alice (Farnham)', 'Osman, Mrs. Mara', 'Ibrahim Shawah, Mr. Yousseff', 'Van Impe, Mrs. Jean Baptiste (Rosalie Paula Govaert)', 'Ponesell, Mr. Martin', 'Collyer, Mrs. Harvey (Charlotte Annie Tate)', 'Carter, Master. William Thornton II', 'Thomas, Master. Assad Alexander', 'Hedman, Mr. Oskar Arvid', 'Johansson, Mr. Karl Johan', 'Andrews, Mr. Thomas Jr', 'Pettersson, Miss. Ellen Natalia', 'Meyer, Mr. August', 'Chambers, Mrs. Norman Campbell (Bertha Griggs)', 'Alexander, Mr. William', 'Lester, Mr. James', 'Slemen, Mr. Richard James', 'Andersson, Miss. Ebba Iris Alfrida', 'Tomlin, Mr. Ernest Portage', 'Fry, Mr. Richard', 'Heininen, Miss. Wendla Maria', 'Mallet, Mr. Albert', 'Holm, Mr. John Fredrik Alexander', 'Skoog, Master. Karl Thorsten', 'Hays, Mrs. Charles Melville (Clara Jennings Gregg)', 'Lulic, Mr. Nikola', 'Reuchlin, Jonkheer. John George', 'Moor, Mrs. (Beila)', 'Panula, Master. Urho Abraham', 'Flynn, Mr. John', 'Lam, Mr. Len', 'Mallet, Master. Andre', 'McCormack, Mr. Thomas Joseph', 'Stone, Mrs. George Nelson (Martha Evelyn)', 'Yasbeck, Mrs. Antoni (Selini Alexander)', 'Richards, Master. George Sibley', 'Saad, Mr. Amin', 'Augustsson, Mr. Albert', 'Allum, Mr. Owen George', 'Compton, Miss. Sara Rebecca', 'Pasic, Mr. Jakob', 'Sirota, Mr. Maurice', 'Chip, Mr. Chang', 'Marechal, Mr. Pierre', 'Alhomaki, Mr. Ilmari Rudolf', 'Mudd, Mr. Thomas Charles', 'Serepeca, Miss. Augusta', 'Lemberopolous, Mr. Peter L', 'Culumovic, Mr. Jeso', 'Abbing, Mr. Anthony', 'Sage, Mr. Douglas Bullen', 'Markoff, Mr. Marin', 'Harper, Rev. John', 'Goldenberg, Mrs. Samuel L (Edwiga Grabowska)', 'Andersson, Master. Sigvard Harald Elias', 'Svensson, Mr. Johan', 'Boulos, Miss. Nourelain', 'Lines, Miss. Mary Conover', 'Carter, Mrs. Ernest Courtenay (Lilian Hughes)', 'Aks, Mrs. Sam (Leah Rosen)', 'Wick, Mrs. George Dennick (Mary Hitchcock)', 'Daly, Mr. Peter Denis ', 'Baclini, Mrs. Solomon (Latifa Qurban)', 'Razi, Mr. Raihed', 'Hansen, Mr. Claus Peter', 'Giles, Mr. Frederick Edward', 'Swift, Mrs. Frederick Joel (Margaret Welles Barron)', '\"Sage, Miss. Dorothy Edith \"\"Dolly\"\"\"', 'Gill, Mr. John William', 'Bystrom, Mrs. (Karolina)', 'Duran y More, Miss. Asuncion', 'Roebling, Mr. Washington Augustus II', 'van Melkebeke, Mr. Philemon', 'Johnson, Master. Harold Theodor', 'Balkic, Mr. Cerin', 'Beckwith, Mrs. Richard Leonard (Sallie Monypeny)', 'Carlsson, Mr. Frans Olof', 'Vander Cruyssen, Mr. Victor', 'Abelson, Mrs. Samuel (Hannah Wizosky)', '\"Najib, Miss. Adele Kiamie \"\"Jane\"\"\"', 'Gustafsson, Mr. Alfred Ossian', 'Petroff, Mr. Nedelio', 'Laleff, Mr. Kristo', 'Potter, Mrs. Thomas Jr (Lily Alexenia Wilson)', 'Shelley, Mrs. William (Imanita Parrish Hall)', 'Markun, Mr. Johann', 'Dahlberg, Miss. Gerda Ulrika', 'Banfield, Mr. Frederick James', 'Sutehall, Mr. Henry Jr', 'Rice, Mrs. William (Margaret Norton)', 'Montvila, Rev. Juozas', 'Graham, Miss. Margaret Edith', '\"Johnston, Miss. Catherine Helen \"\"Carrie\"\"\"', 'Behr, Mr. Karl Howell', 'Dooley, Mr. Patrick']\n"
     ]
    }
   ],
   "source": [
    "# Extract only the names from the total data, which is the fourth column\n",
    "\n",
    "names = titanic_rdd.map(lambda x: x[3])\n",
    "print(names.collect())"
   ]
  },
  {
   "cell_type": "code",
   "execution_count": 14,
   "id": "39406deb",
   "metadata": {},
   "outputs": [
    {
     "name": "stdout",
     "output_type": "stream",
     "text": [
      "891\n"
     ]
    }
   ],
   "source": [
    "# Total number of passengers in the dataset? \n",
    "\n",
    "passenger_count = titanic_rdd.count()\n",
    "print(passenger_count)"
   ]
  },
  {
   "cell_type": "code",
   "execution_count": 15,
   "id": "c00df39b",
   "metadata": {},
   "outputs": [
    {
     "name": "stdout",
     "output_type": "stream",
     "text": [
      "216\n"
     ]
    }
   ],
   "source": [
    "# How many people were in first class? (Pclass, third column) \n",
    "\n",
    "titanic_first_class_count = titanic_rdd.filter(lambda row: row[2] == 1) \\\n",
    "                    .count()\n",
    "print(titanic_first_class_count)"
   ]
  },
  {
   "cell_type": "code",
   "execution_count": 16,
   "id": "7fc68013",
   "metadata": {},
   "outputs": [
    {
     "data": {
      "text/plain": [
       "549"
      ]
     },
     "execution_count": 16,
     "metadata": {},
     "output_type": "execute_result"
    }
   ],
   "source": [
    "# How many people did not survive the Titanic tragedy? (.count() function) \n",
    "\n",
    "titanic_rdd.map(lambda row: int(row[1])) \\\n",
    "           .filter(lambda survived: survived == 0) \\\n",
    "           .count()"
   ]
  },
  {
   "cell_type": "code",
   "execution_count": 18,
   "id": "6a90531d",
   "metadata": {},
   "outputs": [
    {
     "name": "stdout",
     "output_type": "stream",
     "text": [
      "First class survival rate: 0.39766081871345027\n",
      "Second class survival rate: 0.2543859649122807\n",
      "Third class survival rate: 0.347953216374269\n"
     ]
    }
   ],
   "source": [
    "# What proportion of first class passengers survived compared to second and third class? (.count())\n",
    "\n",
    "first_class_survived_count = titanic_rdd \\\n",
    "                            .filter(lambda row: row[2] == 1 and row[1] == 1) \\\n",
    "                            .count()\n",
    "second_class_survived_count = titanic_rdd \\\n",
    "                            .filter(lambda row: row[2] == 2 and row[1] == 1) \\\n",
    "                            .count()\n",
    "third_class_survived_count = titanic_rdd \\\n",
    "                            .filter(lambda row: row[2] == 3 and row[1] == 1) \\\n",
    "                            .count()\n",
    "total_survived_count = titanic_rdd \\\n",
    "                      .map(lambda row: int(row[1])) \\\n",
    "                      .filter(lambda survived: survived == 1) \\\n",
    "                      .count()\n",
    "print(f\"First class survival rate: {first_class_survived_count / total_survived_count}\")\n",
    "print(f\"Second class survival rate: {second_class_survived_count / total_survived_count}\")\n",
    "print(f\"Third class survival rate: {third_class_survived_count / total_survived_count}\")"
   ]
  },
  {
   "cell_type": "code",
   "execution_count": 19,
   "id": "98f9c76b",
   "metadata": {},
   "outputs": [
    {
     "name": "stdout",
     "output_type": "stream",
     "text": [
      "male: 0.5648148148148148\n",
      "female: 0.4351851851851852\n"
     ]
    }
   ],
   "source": [
    "# What was the ratio of women to men in first class? (.count() function)\n",
    "\n",
    "first_class_male_count = titanic_rdd \\\n",
    "                         .filter(lambda row: row[2] == 1 and row[4] == \"male\") \\\n",
    "                         .count()\n",
    "first_class_female_count = titanic_rdd \\\n",
    "                           .filter(lambda row: row[2] == 1 and row[4] == \"female\") \\\n",
    "                           .count()\n",
    "total_first_class_count = titanic_rdd \\\n",
    "                           .filter(lambda row: row[2] == 1) \\\n",
    "                           .count()\n",
    "print(f\"male: {first_class_male_count/total_first_class_count}\")\n",
    "print(f\"female: {first_class_female_count/total_first_class_count}\")"
   ]
  },
  {
   "cell_type": "markdown",
   "id": "053c7f9e",
   "metadata": {},
   "source": [
    "### map and reduce function together\n",
    "\n",
    "PySpark RDDs use the Hadoop-like __MapReduce__ pattern to transform and aggregate data. The transformation is the Map operation, while the aggregation is the Reduce operation. The transformation and aggregation operations are performed in a sequence on PySpark RDDs.\n",
    "\n",
    "The steps in the MapReduce pattern are as follows:\n",
    "\n",
    "- Convert: the RDD is converted to another RDD using the Map operation.\n",
    "- Aggregate: The RDD is aggregated using the Reduce operation.\n",
    "\n",
    "The general syntax of the Map and Reduce operations is as follows:\n",
    "\n",
    "```python\n",
    "rdd.map(lambda x: f(x)).reduce(lambda x, y: g(x, y))\n",
    "```\n",
    "\n",
    "Where rdd is an RDD, f(x) is a transformation function, g(x,y) is an aggregation function, and lambda is a lambda expression representing the functions f and g.\n",
    "\n",
    "The map operation applies the function f to each element of the RDD and creates a new RDD from the results. The reduce operation converts the new RDD to a single value using the function g.\n",
    "\n",
    "For example, if we want to add an RDD, the MapReduce pattern looks like this:\n",
    "\n",
    "\n",
    "```python\n",
    "rdd.map(lambda x: x).reduce(lambda x, y: x + y)\n",
    "```\n",
    "\n",
    "This simple example sums all the elements of the RDD. The elements of the RDD are not modified in the map operation, they are just passed to the reduce operation where all elements are summed.\n",
    "\n",
    "This is a simple example, but the MapReduce pattern is very efficient for aggregating and transforming large data sets. The PySpark RDDs provide very powerful tools for using the MapReduce pattern, allowing users to analyze large data sets.\n"
   ]
  },
  {
   "cell_type": "code",
   "execution_count": 20,
   "id": "eaf98eb7",
   "metadata": {},
   "outputs": [
    {
     "name": "stdout",
     "output_type": "stream",
     "text": [
      "Youngest passenger age: 0.42\n"
     ]
    }
   ],
   "source": [
    "# What was the age of the youngest passenger on board? (using map and reduce functions)\n",
    "\n",
    "youngest_age = titanic_rdd \\\n",
    "               .map(lambda row: row[5]) \\\n",
    "               .filter(lambda age: age != None ) \\\n",
    "               .reduce(lambda age1, age2: min(age1, age2))\n",
    "print(f\"Youngest passenger age: {youngest_age}\")"
   ]
  },
  {
   "cell_type": "code",
   "execution_count": 21,
   "id": "6b5fbcd8",
   "metadata": {},
   "outputs": [
    {
     "name": "stdout",
     "output_type": "stream",
     "text": [
      "Traveller count: 891\n"
     ]
    }
   ],
   "source": [
    "# How many passengers whose age could not be mapped on board?\n",
    "\n",
    "traveller_count = titanic_rdd \\\n",
    "                    .map(lambda row: 1) \\\n",
    "                    .reduce(lambda count1, count2: count1 + count2)\n",
    "print(f\"Traveller count: {traveller_count}\")"
   ]
  },
  {
   "cell_type": "code",
   "execution_count": 22,
   "id": "b6f4933e",
   "metadata": {},
   "outputs": [
    {
     "name": "stdout",
     "output_type": "stream",
     "text": [
      "Unknown age count: 177\n"
     ]
    }
   ],
   "source": [
    "# How many passengers whose age could not be mapped on board?\n",
    "\n",
    "unknown_age_count = titanic_rdd \\\n",
    "                    .map(lambda row: row[5]) \\\n",
    "                    .filter(lambda age: age == None) \\\n",
    "                    .map(lambda age: 1) \\\n",
    "                    .reduce(lambda count1, count2: count1 + count2)\n",
    "print(f\"Unknown age count: {unknown_age_count}\")"
   ]
  },
  {
   "cell_type": "code",
   "execution_count": 23,
   "id": "674a7a58",
   "metadata": {},
   "outputs": [
    {
     "name": "stdout",
     "output_type": "stream",
     "text": [
      "['BRAUND, MR. OWEN HARRIS', 'CUMINGS, MRS. JOHN BRADLEY (FLORENCE BRIGGS THAYER)', 'HEIKKINEN, MISS. LAINA', 'FUTRELLE, MRS. JACQUES HEATH (LILY MAY PEEL)', 'ALLEN, MR. WILLIAM HENRY', 'MORAN, MR. JAMES', 'MCCARTHY, MR. TIMOTHY J', 'PALSSON, MASTER. GOSTA LEONARD', 'JOHNSON, MRS. OSCAR W (ELISABETH VILHELMINA BERG)', 'NASSER, MRS. NICHOLAS (ADELE ACHEM)', 'SANDSTROM, MISS. MARGUERITE RUT', 'BONNELL, MISS. ELIZABETH', 'SAUNDERCOCK, MR. WILLIAM HENRY', 'ANDERSSON, MR. ANDERS JOHAN', 'VESTROM, MISS. HULDA AMANDA ADOLFINA', 'HEWLETT, MRS. (MARY D KINGCOME) ', 'RICE, MASTER. EUGENE', 'WILLIAMS, MR. CHARLES EUGENE', 'VANDER PLANKE, MRS. JULIUS (EMELIA MARIA VANDEMOORTELE)', 'MASSELMANI, MRS. FATIMA', 'FYNNEY, MR. JOSEPH J', 'BEESLEY, MR. LAWRENCE', '\"MCGOWAN, MISS. ANNA \"\"ANNIE\"\"\"', 'SLOPER, MR. WILLIAM THOMPSON', 'PALSSON, MISS. TORBORG DANIRA', 'ASPLUND, MRS. CARL OSCAR (SELMA AUGUSTA EMILIA JOHANSSON)', 'EMIR, MR. FARRED CHEHAB', 'FORTUNE, MR. CHARLES ALEXANDER', '\"O\\'DWYER, MISS. ELLEN \"\"NELLIE\"\"\"', 'TODOROFF, MR. LALIO', 'URUCHURTU, DON. MANUEL E', 'SPENCER, MRS. WILLIAM AUGUSTUS (MARIE EUGENIE)', 'GLYNN, MISS. MARY AGATHA', 'WHEADON, MR. EDWARD H', 'MEYER, MR. EDGAR JOSEPH', 'HOLVERSON, MR. ALEXANDER OSKAR', 'MAMEE, MR. HANNA', 'CANN, MR. ERNEST CHARLES', 'VANDER PLANKE, MISS. AUGUSTA MARIA', 'NICOLA-YARRED, MISS. JAMILA', 'AHLIN, MRS. JOHAN (JOHANNA PERSDOTTER LARSSON)', 'TURPIN, MRS. WILLIAM JOHN ROBERT (DOROTHY ANN WONNACOTT)', 'KRAEFF, MR. THEODOR', 'LAROCHE, MISS. SIMONNE MARIE ANNE ANDREE', 'DEVANEY, MISS. MARGARET DELIA', 'ROGERS, MR. WILLIAM JOHN', 'LENNON, MR. DENIS', \"O'DRISCOLL, MISS. BRIDGET\", 'SAMAAN, MR. YOUSSEF', 'ARNOLD-FRANCHI, MRS. JOSEF (JOSEFINE FRANCHI)', 'PANULA, MASTER. JUHA NIILO', 'NOSWORTHY, MR. RICHARD CATER', 'HARPER, MRS. HENRY SLEEPER (MYNA HAXTUN)', 'FAUNTHORPE, MRS. LIZZIE (ELIZABETH ANNE WILKINSON)', 'OSTBY, MR. ENGELHART CORNELIUS', 'WOOLNER, MR. HUGH', 'RUGG, MISS. EMILY', 'NOVEL, MR. MANSOUER', 'WEST, MISS. CONSTANCE MIRIUM', 'GOODWIN, MASTER. WILLIAM FREDERICK', 'SIRAYANIAN, MR. ORSEN', 'ICARD, MISS. AMELIE', 'HARRIS, MR. HENRY BIRKHARDT', 'SKOOG, MASTER. HARALD', 'STEWART, MR. ALBERT A', 'MOUBAREK, MASTER. GERIOS', 'NYE, MRS. (ELIZABETH RAMELL)', 'CREASE, MR. ERNEST JAMES', 'ANDERSSON, MISS. ERNA ALEXANDRA', 'KINK, MR. VINCENZ', 'JENKIN, MR. STEPHEN CURNOW', 'GOODWIN, MISS. LILLIAN AMY', 'HOOD, MR. AMBROSE JR', 'CHRONOPOULOS, MR. APOSTOLOS', 'BING, MR. LEE', 'MOEN, MR. SIGURD HANSEN', 'STANEFF, MR. IVAN', 'MOUTAL, MR. RAHAMIN HAIM', 'CALDWELL, MASTER. ALDEN GATES', 'DOWDELL, MISS. ELIZABETH', 'WAELENS, MR. ACHILLE', 'SHEERLINCK, MR. JAN BAPTIST', 'MCDERMOTT, MISS. BRIGDET DELIA', 'CARRAU, MR. FRANCISCO M', 'ILETT, MISS. BERTHA', 'BACKSTROM, MRS. KARL ALFRED (MARIA MATHILDA GUSTAFSSON)', 'FORD, MR. WILLIAM NEAL', 'SLOCOVSKI, MR. SELMAN FRANCIS', 'FORTUNE, MISS. MABEL HELEN', 'CELOTTI, MR. FRANCESCO', 'CHRISTMANN, MR. EMIL', 'ANDREASSON, MR. PAUL EDVIN', 'CHAFFEE, MR. HERBERT FULLER', 'DEAN, MR. BERTRAM FRANK', 'COXON, MR. DANIEL', 'SHORNEY, MR. CHARLES JOSEPH', 'GOLDSCHMIDT, MR. GEORGE B', 'GREENFIELD, MR. WILLIAM BERTRAM', 'DOLING, MRS. JOHN T (ADA JULIA BONE)', 'KANTOR, MR. SINAI', 'PETRANEC, MISS. MATILDA', '\"PETROFF, MR. PASTCHO (\"\"PENTCHO\"\")\"', 'WHITE, MR. RICHARD FRASAR', 'JOHANSSON, MR. GUSTAF JOEL', 'GUSTAFSSON, MR. ANDERS VILHELM', 'MIONOFF, MR. STOYTCHO', 'SALKJELSVIK, MISS. ANNA KRISTINE', 'MOSS, MR. ALBERT JOHAN', 'REKIC, MR. TIDO', 'MORAN, MISS. BERTHA', 'PORTER, MR. WALTER CHAMBERLAIN', 'ZABOUR, MISS. HILENI', 'BARTON, MR. DAVID JOHN', 'JUSSILA, MISS. KATRIINA', 'ATTALAH, MISS. MALAKE', 'PEKONIEMI, MR. EDVARD', 'CONNORS, MR. PATRICK', 'TURPIN, MR. WILLIAM JOHN ROBERT', 'BAXTER, MR. QUIGG EDMOND', 'ANDERSSON, MISS. ELLIS ANNA MARIA', 'HICKMAN, MR. STANLEY GEORGE', 'MOORE, MR. LEONARD CHARLES', 'NASSER, MR. NICHOLAS', 'WEBBER, MISS. SUSAN', 'WHITE, MR. PERCIVAL WAYLAND', 'NICOLA-YARRED, MASTER. ELIAS', 'MCMAHON, MR. MARTIN', 'MADSEN, MR. FRIDTJOF ARNE', 'PETER, MISS. ANNA', 'EKSTROM, MR. JOHAN', 'DRAZENOIC, MR. JOZEF', 'COELHO, MR. DOMINGOS FERNANDEO', 'ROBINS, MRS. ALEXANDER A (GRACE CHARITY LAURY)', 'WEISZ, MRS. LEOPOLD (MATHILDE FRANCOISE PEDE)', 'SOBEY, MR. SAMUEL JAMES HAYDEN', 'RICHARD, MR. EMILE', 'NEWSOM, MISS. HELEN MONYPENY', 'FUTRELLE, MR. JACQUES HEATH', 'OSEN, MR. OLAF ELON', 'GIGLIO, MR. VICTOR', 'BOULOS, MRS. JOSEPH (SULTANA)', 'NYSTEN, MISS. ANNA SOFIA', 'HAKKARAINEN, MRS. PEKKA PIETARI (ELIN MATILDA DOLCK)', 'BURKE, MR. JEREMIAH', 'ANDREW, MR. EDGARDO SAMUEL', 'NICHOLLS, MR. JOSEPH CHARLES', '\"ANDERSSON, MR. AUGUST EDVARD (\"\"WENNERSTROM\"\")\"', '\"FORD, MISS. ROBINA MAGGIE \"\"RUBY\"\"\"', '\"NAVRATIL, MR. MICHEL (\"\"LOUIS M HOFFMAN\"\")\"', 'BYLES, REV. THOMAS ROUSSEL DAVIDS', 'BATEMAN, REV. ROBERT JAMES', 'PEARS, MRS. THOMAS (EDITH WEARNE)', 'MEO, MR. ALFONZO', 'VAN BILLIARD, MR. AUSTIN BLYLER', 'OLSEN, MR. OLE MARTIN', 'WILLIAMS, MR. CHARLES DUANE', '\"GILNAGH, MISS. KATHERINE \"\"KATIE\"\"\"', 'CORN, MR. HARRY', 'SMILJANIC, MR. MILE', 'SAGE, MASTER. THOMAS HENRY', 'CRIBB, MR. JOHN HATFIELD', '\"WATT, MRS. JAMES (ELIZABETH \"\"BESSIE\"\" INGLIS MILNE)\"', 'BENGTSSON, MR. JOHN VIKTOR', 'CALIC, MR. JOVO', 'PANULA, MASTER. EINO VILJAMI', '\"GOLDSMITH, MASTER. FRANK JOHN WILLIAM \"\"FRANKIE\"\"\"', 'CHIBNALL, MRS. (EDITH MARTHA BOWERMAN)', 'SKOOG, MRS. WILLIAM (ANNA BERNHARDINA KARLSSON)', 'BAUMANN, MR. JOHN D', 'LING, MR. LEE', 'VAN DER HOEF, MR. WYCKOFF', 'RICE, MASTER. ARTHUR', 'JOHNSON, MISS. ELEANOR ILEEN', 'SIVOLA, MR. ANTTI WILHELM', 'SMITH, MR. JAMES CLINCH', 'KLASEN, MR. KLAS ALBIN', 'LEFEBRE, MASTER. HENRY FORBES', 'ISHAM, MISS. ANN ELIZABETH', 'HALE, MR. REGINALD', 'LEONARD, MR. LIONEL', 'SAGE, MISS. CONSTANCE GLADYS', 'PERNOT, MR. RENE', 'ASPLUND, MASTER. CLARENCE GUSTAF HUGO', 'BECKER, MASTER. RICHARD F', 'KINK-HEILMANN, MISS. LUISE GRETCHEN', 'ROOD, MR. HUGH ROSCOE', '\"O\\'BRIEN, MRS. THOMAS (JOHANNA \"\"HANNAH\"\" GODFREY)\"', '\"ROMAINE, MR. CHARLES HALLACE (\"\"MR C ROLMANE\"\")\"', 'BOURKE, MR. JOHN', 'TURCIN, MR. STJEPAN', 'PINSKY, MRS. (ROSA)', 'CARBINES, MR. WILLIAM', 'ANDERSEN-JENSEN, MISS. CARLA CHRISTINE NIELSINE', 'NAVRATIL, MASTER. MICHEL M', 'BROWN, MRS. JAMES JOSEPH (MARGARET TOBIN)', 'LURETTE, MISS. ELISE', 'MERNAGH, MR. ROBERT', 'OLSEN, MR. KARL SIEGWART ANDREAS', '\"MADIGAN, MISS. MARGARET \"\"MAGGIE\"\"\"', '\"YROIS, MISS. HENRIETTE (\"\"MRS HARBECK\"\")\"', 'VANDE WALLE, MR. NESTOR CYRIEL', 'SAGE, MR. FREDERICK', 'JOHANSON, MR. JAKOB ALFRED', 'YOUSEFF, MR. GERIOUS', '\"COHEN, MR. GURSHON \"\"GUS\"\"\"', 'STROM, MISS. TELMA MATILDA', 'BACKSTROM, MR. KARL ALFRED', 'ALBIMONA, MR. NASSEF CASSEM', '\"CARR, MISS. HELEN \"\"ELLEN\"\"\"', 'BLANK, MR. HENRY', 'ALI, MR. AHMED', 'CAMERON, MISS. CLEAR ANNIE', 'PERKIN, MR. JOHN HENRY', 'GIVARD, MR. HANS KRISTENSEN', 'KIERNAN, MR. PHILIP', 'NEWELL, MISS. MADELEINE', 'HONKANEN, MISS. ELIINA', 'JACOBSOHN, MR. SIDNEY SAMUEL', 'BAZZANI, MISS. ALBINA', 'HARRIS, MR. WALTER', 'SUNDERLAND, MR. VICTOR FRANCIS', 'BRACKEN, MR. JAMES H', 'GREEN, MR. GEORGE HENRY', 'NENKOFF, MR. CHRISTO', 'HOYT, MR. FREDERICK MAXFIELD', 'BERGLUND, MR. KARL IVAR SVEN', 'MELLORS, MR. WILLIAM JOHN', '\"LOVELL, MR. JOHN HALL (\"\"HENRY\"\")\"', 'FAHLSTROM, MR. ARNE JONAS', 'LEFEBRE, MISS. MATHILDE', 'HARRIS, MRS. HENRY BIRKHARDT (IRENE WALLACH)', 'LARSSON, MR. BENGT EDVIN', 'SJOSTEDT, MR. ERNST ADOLF', 'ASPLUND, MISS. LILLIAN GERTRUD', 'LEYSON, MR. ROBERT WILLIAM NORMAN', 'HARKNETT, MISS. ALICE PHOEBE', 'HOLD, MR. STEPHEN', '\"COLLYER, MISS. MARJORIE \"\"LOTTIE\"\"\"', 'PENGELLY, MR. FREDERICK WILLIAM', 'HUNT, MR. GEORGE HENRY', 'ZABOUR, MISS. THAMINE', '\"MURPHY, MISS. KATHERINE \"\"KATE\"\"\"', 'COLERIDGE, MR. REGINALD CHARLES', 'MAENPAA, MR. MATTI ALEXANTERI', 'ATTALAH, MR. SLEIMAN', 'MINAHAN, DR. WILLIAM EDWARD', 'LINDAHL, MISS. AGDA THORILDA VIKTORIA', 'HAMALAINEN, MRS. WILLIAM (ANNA)', 'BECKWITH, MR. RICHARD LEONARD', 'CARTER, REV. ERNEST COURTENAY', 'REED, MR. JAMES GEORGE', 'STROM, MRS. WILHELM (ELNA MATILDA PERSSON)', 'STEAD, MR. WILLIAM THOMAS', 'LOBB, MR. WILLIAM ARTHUR', 'ROSBLOM, MRS. VIKTOR (HELENA WILHELMINA)', 'TOUMA, MRS. DARWIS (HANNE YOUSSEF RAZI)', 'THORNE, MRS. GERTRUDE MAYBELLE', 'CHERRY, MISS. GLADYS', 'WARD, MISS. ANNA', 'PARRISH, MRS. (LUTIE DAVIS)', 'SMITH, MR. THOMAS', 'ASPLUND, MASTER. EDVIN ROJJ FELIX', 'TAUSSIG, MR. EMIL', 'HARRISON, MR. WILLIAM', 'HENRY, MISS. DELIA', 'REEVES, MR. DAVID', 'PANULA, MR. ERNESTI ARVID', 'PERSSON, MR. ERNST ULRIK', 'GRAHAM, MRS. WILLIAM THOMPSON (EDITH JUNKINS)', 'BISSETTE, MISS. AMELIA', 'CAIRNS, MR. ALEXANDER', 'TORNQUIST, MR. WILLIAM HENRY', 'MELLINGER, MRS. (ELIZABETH ANNE MAIDMENT)', 'NATSCH, MR. CHARLES H', '\"HEALY, MISS. HANORA \"\"NORA\"\"\"', 'ANDREWS, MISS. KORNELIA THEODOSIA', 'LINDBLOM, MISS. AUGUSTA CHARLOTTA', '\"PARKES, MR. FRANCIS \"\"FRANK\"\"\"', 'RICE, MASTER. ERIC', 'ABBOTT, MRS. STANTON (ROSA HUNT)', 'DUANE, MR. FRANK', 'OLSSON, MR. NILS JOHAN GORANSSON', 'DE PELSMAEKER, MR. ALFONS', 'DORKING, MR. EDWARD ARTHUR', 'SMITH, MR. RICHARD WILLIAM', 'STANKOVIC, MR. IVAN', 'DE MULDER, MR. THEODORE', 'NAIDENOFF, MR. PENKO', 'HOSONO, MR. MASABUMI', 'CONNOLLY, MISS. KATE', '\"BARBER, MISS. ELLEN \"\"NELLIE\"\"\"', 'BISHOP, MRS. DICKINSON H (HELEN WALTON)', 'LEVY, MR. RENE JACQUES', 'HAAS, MISS. ALOISIA', 'MINEFF, MR. IVAN', 'LEWY, MR. ERVIN G', 'HANNA, MR. MANSOUR', 'ALLISON, MISS. HELEN LORAINE', 'SAALFELD, MR. ADOLPHE', 'BAXTER, MRS. JAMES (HELENE DELAUDENIERE CHAPUT)', '\"KELLY, MISS. ANNA KATHERINE \"\"ANNIE KATE\"\"\"', 'MCCOY, MR. BERNARD', 'JOHNSON, MR. WILLIAM CAHOONE JR', 'KEANE, MISS. NORA A', '\"WILLIAMS, MR. HOWARD HUGH \"\"HARRY\"\"\"', 'ALLISON, MASTER. HUDSON TREVOR', 'FLEMING, MISS. MARGARET', 'PENASCO Y CASTELLANA, MRS. VICTOR DE SATODE (MARIA JOSEFA PEREZ DE SOTO Y VALLEJO)', 'ABELSON, MR. SAMUEL', 'FRANCATELLI, MISS. LAURA MABEL', 'HAYS, MISS. MARGARET BECHSTEIN', 'RYERSON, MISS. EMILY BORIE', 'LAHTINEN, MRS. WILLIAM (ANNA SYLFVEN)', 'HENDEKOVIC, MR. IGNJAC', 'HART, MR. BENJAMIN', 'NILSSON, MISS. HELMINA JOSEFINA', 'KANTOR, MRS. SINAI (MIRIAM STERNIN)', 'MORAWECK, DR. ERNEST', 'WICK, MISS. MARY NATALIE', 'SPEDDEN, MRS. FREDERIC OAKLEY (MARGARETTA CORNING STONE)', 'DENNIS, MR. SAMUEL', 'DANOFF, MR. YOTO', 'SLAYTER, MISS. HILDA MARY', 'CALDWELL, MRS. ALBERT FRANCIS (SYLVIA MAE HARBAUGH)', 'SAGE, MR. GEORGE JOHN JR', 'YOUNG, MISS. MARIE GRICE', 'NYSVEEN, MR. JOHAN HANSEN', 'BALL, MRS. (ADA E HALL)', 'GOLDSMITH, MRS. FRANK JOHN (EMILY ALICE BROWN)', 'HIPPACH, MISS. JEAN GERTRUDE', 'MCCOY, MISS. AGNES', 'PARTNER, MR. AUSTEN', 'GRAHAM, MR. GEORGE EDWARD', 'VANDER PLANKE, MR. LEO EDMONDUS', 'FRAUENTHAL, MRS. HENRY WILLIAM (CLARA HEINSHEIMER)', 'DENKOFF, MR. MITTO', 'PEARS, MR. THOMAS CLINTON', 'BURNS, MISS. ELIZABETH MARGARET', 'DAHL, MR. KARL EDWART', 'BLACKWELL, MR. STEPHEN WEART', 'NAVRATIL, MASTER. EDMOND ROGER', 'FORTUNE, MISS. ALICE ELIZABETH', 'COLLANDER, MR. ERIK GUSTAF', 'SEDGWICK, MR. CHARLES FREDERICK WADDINGTON', 'FOX, MR. STANLEY HUBERT', '\"BROWN, MISS. AMELIA \"\"MILDRED\"\"\"', 'SMITH, MISS. MARION ELSIE', 'DAVISON, MRS. THOMAS HENRY (MARY E FINCK)', '\"COUTTS, MASTER. WILLIAM LOCH \"\"WILLIAM\"\"\"', 'DIMIC, MR. JOVAN', 'ODAHL, MR. NILS MARTIN', 'WILLIAMS-LAMBERT, MR. FLETCHER FELLOWS', 'ELIAS, MR. TANNOUS', 'ARNOLD-FRANCHI, MR. JOSEF', 'YOUSIF, MR. WAZLI', 'VANDEN STEEN, MR. LEO PETER', 'BOWERMAN, MISS. ELSIE EDITH', 'FUNK, MISS. ANNIE CLEMMER', 'MCGOVERN, MISS. MARY', '\"MOCKLER, MISS. HELEN MARY \"\"ELLIE\"\"\"', 'SKOOG, MR. WILHELM', 'DEL CARLO, MR. SEBASTIANO', 'BARBARA, MRS. (CATHERINE DAVID)', 'ASIM, MR. ADOLA', \"O'BRIEN, MR. THOMAS\", 'ADAHL, MR. MAURITZ NILS MARTIN', 'WARREN, MRS. FRANK MANLEY (ANNA SOPHIA ATKINSON)', 'MOUSSA, MRS. (MANTOURA BOULOS)', 'JERMYN, MISS. ANNIE', 'AUBART, MME. LEONTINE PAULINE', 'HARDER, MR. GEORGE ACHILLES', 'WIKLUND, MR. JAKOB ALFRED', 'BEAVAN, MR. WILLIAM THOMAS', 'RINGHINI, MR. SANTE', 'PALSSON, MISS. STINA VIOLA', 'MEYER, MRS. EDGAR JOSEPH (LEILA SAKS)', 'LANDERGREN, MISS. AURORA ADELIA', 'WIDENER, MR. HARRY ELKINS', 'BETROS, MR. TANNOUS', 'GUSTAFSSON, MR. KARL GIDEON', 'BIDOIS, MISS. ROSALIE', '\"NAKID, MISS. MARIA (\"\"MARY\"\")\"', 'TIKKANEN, MR. JUHO', 'HOLVERSON, MRS. ALEXANDER OSKAR (MARY ALINE TOWNER)', 'PLOTCHARSKY, MR. VASIL', 'DAVIES, MR. CHARLES HENRY', 'GOODWIN, MASTER. SIDNEY LEONARD', 'BUSS, MISS. KATE', 'SADLIER, MR. MATTHEW', 'LEHMANN, MISS. BERTHA', 'CARTER, MR. WILLIAM ERNEST', 'JANSSON, MR. CARL OLOF', 'GUSTAFSSON, MR. JOHAN BIRGER', 'NEWELL, MISS. MARJORIE', 'SANDSTROM, MRS. HJALMAR (AGNES CHARLOTTA BENGTSSON)', 'JOHANSSON, MR. ERIK', 'OLSSON, MISS. ELINA', 'MCKANE, MR. PETER DAVID', 'PAIN, DR. ALFRED', 'TROUT, MRS. WILLIAM H (JESSIE L)', 'NISKANEN, MR. JUHA', 'ADAMS, MR. JOHN', 'JUSSILA, MISS. MARI AINA', 'HAKKARAINEN, MR. PEKKA PIETARI', 'ORESKOVIC, MISS. MARIJA', 'GALE, MR. SHADRACH', 'WIDEGREN, MR. CARL/CHARLES PETER', 'RICHARDS, MASTER. WILLIAM ROWE', 'BIRKELAND, MR. HANS MARTIN MONSEN', 'LEFEBRE, MISS. IDA', 'SDYCOFF, MR. TODOR', 'HART, MR. HENRY', 'MINAHAN, MISS. DAISY E', 'CUNNINGHAM, MR. ALFRED FLEMING', 'SUNDMAN, MR. JOHAN JULIAN', 'MEEK, MRS. THOMAS (ANNIE LOUISE ROWLEY)', 'DREW, MRS. JAMES VIVIAN (LULU THORNE CHRISTIAN)', 'SILVEN, MISS. LYYLI KAROLIINA', 'MATTHEWS, MR. WILLIAM JOHN', 'VAN IMPE, MISS. CATHARINA', 'GHEORGHEFF, MR. STANIO', 'CHARTERS, MR. DAVID', 'ZIMMERMAN, MR. LEO', 'DANBOM, MRS. ERNST GILBERT (ANNA SIGRID MARIA BROGREN)', 'ROSBLOM, MR. VIKTOR RICHARD', 'WISEMAN, MR. PHILLIPPE', 'CLARKE, MRS. CHARLES V (ADA MARIA WINFIELD)', '\"PHILLIPS, MISS. KATE FLORENCE (\"\"MRS KATE LOUISE PHILLIPS MARSHALL\"\")\"', 'FLYNN, MR. JAMES', 'PICKARD, MR. BERK (BERK TREMBISKY)', 'BJORNSTROM-STEFFANSSON, MR. MAURITZ HAKAN', 'THORNEYCROFT, MRS. PERCIVAL (FLORENCE KATE WHITE)', 'LOUCH, MRS. CHARLES ALEXANDER (ALICE ADELAIDE SLOW)', 'KALLIO, MR. NIKOLAI ERLAND', 'SILVEY, MR. WILLIAM BAIRD', 'CARTER, MISS. LUCILE POLK', '\"FORD, MISS. DOOLINA MARGARET \"\"DAISY\"\"\"', 'RICHARDS, MRS. SIDNEY (EMILY HOCKING)', 'FORTUNE, MR. MARK', 'KVILLNER, MR. JOHAN HENRIK JOHANNESSON', 'HART, MRS. BENJAMIN (ESTHER ADA BLOOMFIELD)', 'HAMPE, MR. LEON', 'PETTERSON, MR. JOHAN EMIL', 'REYNALDO, MS. ENCARNACION', 'JOHANNESEN-BRATTHAMMER, MR. BERNT', 'DODGE, MASTER. WASHINGTON', 'MELLINGER, MISS. MADELEINE VIOLET', 'SEWARD, MR. FREDERIC KIMBER', 'BACLINI, MISS. MARIE CATHERINE', 'PEUCHEN, MAJOR. ARTHUR GODFREY', 'WEST, MR. EDWY ARTHUR', 'HAGLAND, MR. INGVALD OLAI OLSEN', 'FOREMAN, MR. BENJAMIN LAVENTALL', 'GOLDENBERG, MR. SAMUEL L', 'PEDUZZI, MR. JOSEPH', 'JALSEVAC, MR. IVAN', 'MILLET, MR. FRANCIS DAVIS', 'KENYON, MRS. FREDERICK R (MARION)', 'TOOMEY, MISS. ELLEN', \"O'CONNOR, MR. MAURICE\", 'ANDERSON, MR. HARRY', 'MORLEY, MR. WILLIAM', 'GEE, MR. ARTHUR H', 'MILLING, MR. JACOB CHRISTIAN', 'MAISNER, MR. SIMON', 'GONCALVES, MR. MANUEL ESTANSLAS', 'CAMPBELL, MR. WILLIAM', 'SMART, MR. JOHN MONTGOMERY', 'SCANLAN, MR. JAMES', 'BACLINI, MISS. HELENE BARBARA', 'KEEFE, MR. ARTHUR', 'CACIC, MR. LUKA', 'WEST, MRS. EDWY ARTHUR (ADA MARY WORTH)', 'JERWAN, MRS. AMIN S (MARIE MARTHE THUILLARD)', 'STRANDBERG, MISS. IDA SOFIA', 'CLIFFORD, MR. GEORGE QUINCY', 'RENOUF, MR. PETER HENRY', 'BRAUND, MR. LEWIS RICHARD', 'KARLSSON, MR. NILS AUGUST', 'HIRVONEN, MISS. HILDUR E', 'GOODWIN, MASTER. HAROLD VICTOR', '\"FROST, MR. ANTHONY WOOD \"\"ARCHIE\"\"\"', 'ROUSE, MR. RICHARD HENRY', 'TURKULA, MRS. (HEDWIG)', 'BISHOP, MR. DICKINSON H', 'LEFEBRE, MISS. JEANNIE', 'HOYT, MRS. FREDERICK MAXFIELD (JANE ANNE FORBY)', 'KENT, MR. EDWARD AUSTIN', 'SOMERTON, MR. FRANCIS WILLIAM', '\"COUTTS, MASTER. EDEN LESLIE \"\"NEVILLE\"\"\"', 'HAGLAND, MR. KONRAD MATHIAS REIERSEN', 'WINDELOV, MR. EINAR', 'MOLSON, MR. HARRY MARKLAND', 'ARTAGAVEYTIA, MR. RAMON', 'STANLEY, MR. EDWARD ROLAND', 'YOUSSEFF, MR. GERIOUS', 'EUSTIS, MISS. ELIZABETH MUSSEY', 'SHELLARD, MR. FREDERICK WILLIAM', 'ALLISON, MRS. HUDSON J C (BESSIE WALDO DANIELS)', 'SVENSSON, MR. OLOF', 'CALIC, MR. PETAR', 'CANAVAN, MISS. MARY', \"O'SULLIVAN, MISS. BRIDGET MARY\", 'LAITINEN, MISS. KRISTINA SOFIA', 'MAIONI, MISS. ROBERTA', 'PENASCO Y CASTELLANA, MR. VICTOR DE SATODE', 'QUICK, MRS. FREDERICK CHARLES (JANE RICHARDS)', '\"BRADLEY, MR. GEORGE (\"\"GEORGE ARTHUR BRAYTON\"\")\"', 'OLSEN, MR. HENRY MARGIDO', 'LANG, MR. FANG', 'DALY, MR. EUGENE PATRICK', 'WEBBER, MR. JAMES', 'MCGOUGH, MR. JAMES ROBERT', 'ROTHSCHILD, MRS. MARTIN (ELIZABETH L. BARRETT)', 'COLEFF, MR. SATIO', 'WALKER, MR. WILLIAM ANDERSON', 'LEMORE, MRS. (AMELIA MILLEY)', 'RYAN, MR. PATRICK', '\"ANGLE, MRS. WILLIAM A (FLORENCE \"\"MARY\"\" AGNES HUGHES)\"', 'PAVLOVIC, MR. STEFO', 'PERREAULT, MISS. ANNE', 'VOVK, MR. JANKO', 'LAHOUD, MR. SARKIS', 'HIPPACH, MRS. LOUIS ALBERT (IDA SOPHIA FISCHER)', 'KASSEM, MR. FARED', 'FARRELL, MR. JAMES', 'RIDSDALE, MISS. LUCY', 'FARTHING, MR. JOHN', 'SALONEN, MR. JOHAN WERNER', 'HOCKING, MR. RICHARD GEORGE', 'QUICK, MISS. PHYLLIS MAY', 'TOUFIK, MR. NAKLI', 'ELIAS, MR. JOSEPH JR', 'PETER, MRS. CATHERINE (CATHERINE RIZK)', 'CACIC, MISS. MARIJA', 'HART, MISS. EVA MIRIAM', 'BUTT, MAJOR. ARCHIBALD WILLINGHAM', 'LEROY, MISS. BERTHA', 'RISIEN, MR. SAMUEL BEARD', 'FROLICHER, MISS. HEDWIG MARGARITHA', 'CROSBY, MISS. HARRIET R', 'ANDERSSON, MISS. INGEBORG CONSTANZIA', 'ANDERSSON, MISS. SIGRID ELISABETH', 'BEANE, MR. EDWARD', 'DOUGLAS, MR. WALTER DONALD', 'NICHOLSON, MR. ARTHUR ERNEST', 'BEANE, MRS. EDWARD (ETHEL CLARKE)', 'PADRO Y MANENT, MR. JULIAN', 'GOLDSMITH, MR. FRANK JOHN', 'DAVIES, MASTER. JOHN MORGAN JR', 'THAYER, MR. JOHN BORLAND JR', 'SHARP, MR. PERCIVAL JAMES R', \"O'BRIEN, MR. TIMOTHY\", '\"LEENI, MR. FAHIM (\"\"PHILIP ZENNI\"\")\"', 'OHMAN, MISS. VELIN', 'WRIGHT, MR. GEORGE', '\"DUFF GORDON, LADY. (LUCILLE CHRISTIANA SUTHERLAND) (\"\"MRS MORGAN\"\")\"', 'ROBBINS, MR. VICTOR', 'TAUSSIG, MRS. EMIL (TILLIE MANDELBAUM)', 'DE MESSEMAEKER, MRS. GUILLAUME JOSEPH (EMMA)', 'MORROW, MR. THOMAS ROWAN', 'SIVIC, MR. HUSEIN', 'NORMAN, MR. ROBERT DOUGLAS', 'SIMMONS, MR. JOHN', 'MEANWELL, MISS. (MARION OGDEN)', 'DAVIES, MR. ALFRED J', 'STOYTCHEFF, MR. ILIA', 'PALSSON, MRS. NILS (ALMA CORNELIA BERGLUND)', 'DOHARR, MR. TANNOUS', 'JONSSON, MR. CARL', 'HARRIS, MR. GEORGE', 'APPLETON, MRS. EDWARD DALE (CHARLOTTE LAMSON)', '\"FLYNN, MR. JOHN IRWIN (\"\"IRVING\"\")\"', 'KELLY, MISS. MARY', 'RUSH, MR. ALFRED GEORGE JOHN', 'PATCHETT, MR. GEORGE', 'GARSIDE, MISS. ETHEL', 'SILVEY, MRS. WILLIAM BAIRD (ALICE MUNGER)', 'CARAM, MRS. JOSEPH (MARIA ELIAS)', 'JUSSILA, MR. EIRIIK', 'CHRISTY, MISS. JULIE RACHEL', 'THAYER, MRS. JOHN BORLAND (MARIAN LONGSTRETH MORRIS)', 'DOWNTON, MR. WILLIAM JAMES', 'ROSS, MR. JOHN HUGO', 'PAULNER, MR. USCHER', 'TAUSSIG, MISS. RUTH', 'JARVIS, MR. JOHN DENZIL', 'FROLICHER-STEHLI, MR. MAXMILLIAN', 'GILINSKI, MR. ELIEZER', 'MURDLIN, MR. JOSEPH', 'RINTAMAKI, MR. MATTI', 'STEPHENSON, MRS. WALTER BERTRAM (MARTHA EUSTIS)', 'ELSBURY, MR. WILLIAM JAMES', 'BOURKE, MISS. MARY', 'CHAPMAN, MR. JOHN HENRY', 'VAN IMPE, MR. JEAN BAPTISTE', 'LEITCH, MISS. JESSIE WILLS', 'JOHNSON, MR. ALFRED', 'BOULOS, MR. HANNA', '\"DUFF GORDON, SIR. COSMO EDMUND (\"\"MR MORGAN\"\")\"', 'JACOBSOHN, MRS. SIDNEY SAMUEL (AMY FRANCES CHRISTY)', 'SLABENOFF, MR. PETCO', 'HARRINGTON, MR. CHARLES H', 'TORBER, MR. ERNST WILLIAM', '\"HOMER, MR. HARRY (\"\"MR E HAVEN\"\")\"', 'LINDELL, MR. EDVARD BENGTSSON', 'KARAIC, MR. MILAN', 'DANIEL, MR. ROBERT WILLIAMS', 'LAROCHE, MRS. JOSEPH (JULIETTE MARIE LOUISE LAFARGUE)', 'SHUTES, MISS. ELIZABETH W', 'ANDERSSON, MRS. ANDERS JOHAN (ALFRIDA KONSTANTIA BROGREN)', 'JARDIN, MR. JOSE NETO', 'MURPHY, MISS. MARGARET JANE', 'HORGAN, MR. JOHN', 'BROCKLEBANK, MR. WILLIAM ALFRED', 'HERMAN, MISS. ALICE', 'DANBOM, MR. ERNST GILBERT', 'LOBB, MRS. WILLIAM ARTHUR (CORDELIA K STANLICK)', 'BECKER, MISS. MARION LOUISE', 'GAVEY, MR. LAWRENCE', 'YASBECK, MR. ANTONI', 'KIMBALL, MR. EDWIN NELSON JR', 'NAKID, MR. SAHID', 'HANSEN, MR. HENRY DAMSGAARD', '\"BOWEN, MR. DAVID JOHN \"\"DAI\"\"\"', 'SUTTON, MR. FREDERICK', 'KIRKLAND, REV. CHARLES LEONARD', 'LONGLEY, MISS. GRETCHEN FISKE', 'BOSTANDYEFF, MR. GUENTCHO', \"O'CONNELL, MR. PATRICK D\", 'BARKWORTH, MR. ALGERNON HENRY WILSON', 'LUNDAHL, MR. JOHAN SVENSSON', 'STAHELIN-MAEGLIN, DR. MAX', 'PARR, MR. WILLIAM HENRY MARSH', 'SKOOG, MISS. MABEL', 'DAVIS, MISS. MARY', 'LEINONEN, MR. ANTTI GUSTAF', 'COLLYER, MR. HARVEY', 'PANULA, MRS. JUHA (MARIA EMILIA OJALA)', 'THORNEYCROFT, MR. PERCIVAL', 'JENSEN, MR. HANS PEDER', 'SAGESSER, MLLE. EMMA', 'SKOOG, MISS. MARGIT ELIZABETH', 'FOO, MR. CHOONG', 'BACLINI, MISS. EUGENIE', 'HARPER, MR. HENRY SLEEPER', 'COR, MR. LIUDEVIT', 'SIMONIUS-BLUMER, COL. OBERST ALFONS', 'WILLEY, MR. EDWARD', 'STANLEY, MISS. AMY ZILLAH ELSIE', 'MITKOFF, MR. MITO', 'DOLING, MISS. ELSIE', 'KALVIK, MR. JOHANNES HALVORSEN', '\"O\\'LEARY, MISS. HANORA \"\"NORAH\"\"\"', '\"HEGARTY, MISS. HANORA \"\"NORA\"\"\"', 'HICKMAN, MR. LEONARD MARK', 'RADEFF, MR. ALEXANDER', 'BOURKE, MRS. JOHN (CATHERINE)', 'EITEMILLER, MR. GEORGE FLOYD', 'NEWELL, MR. ARTHUR WEBSTER', 'FRAUENTHAL, DR. HENRY WILLIAM', 'BADT, MR. MOHAMED', 'COLLEY, MR. EDWARD POMEROY', 'COLEFF, MR. PEJU', 'LINDQVIST, MR. EINO WILLIAM', 'HICKMAN, MR. LEWIS', 'BUTLER, MR. REGINALD FENTON', 'ROMMETVEDT, MR. KNUD PAUST', 'COOK, MR. JACOB', 'TAYLOR, MRS. ELMER ZEBLEY (JULIET CUMMINS WRIGHT)', 'BROWN, MRS. THOMAS WILLIAM SOLOMON (ELIZABETH CATHERINE FORD)', 'DAVIDSON, MR. THORNTON', 'MITCHELL, MR. HENRY MICHAEL', 'WILHELMS, MR. CHARLES', 'WATSON, MR. ENNIS HASTINGS', 'EDVARDSSON, MR. GUSTAF HJALMAR', 'SAWYER, MR. FREDERICK CHARLES', 'TURJA, MISS. ANNA SOFIA', 'GOODWIN, MRS. FREDERICK (AUGUSTA TYLER)', 'CARDEZA, MR. THOMAS DRAKE MARTINEZ', 'PETERS, MISS. KATIE', 'HASSAB, MR. HAMMAD', 'OLSVIGEN, MR. THOR ANDERSON', 'GOODWIN, MR. CHARLES EDWARD', 'BROWN, MR. THOMAS WILLIAM SOLOMON', 'LAROCHE, MR. JOSEPH PHILIPPE LEMERCIER', 'PANULA, MR. JAAKO ARNOLD', 'DAKIC, MR. BRANKO', 'FISCHER, MR. EBERHARD THELANDER', 'MADILL, MISS. GEORGETTE ALEXANDRA', 'DICK, MR. ALBERT ADRIAN', 'KARUN, MISS. MANCA', 'LAM, MR. ALI', 'SAAD, MR. KHALIL', 'WEIR, COL. JOHN', 'CHAPMAN, MR. CHARLES HENRY', 'KELLY, MR. JAMES', '\"MULLENS, MISS. KATHERINE \"\"KATIE\"\"\"', 'THAYER, MR. JOHN BORLAND', 'HUMBLEN, MR. ADOLF MATHIAS NICOLAI OLSEN', 'ASTOR, MRS. JOHN JACOB (MADELEINE TALMADGE FORCE)', 'SILVERTHORNE, MR. SPENCER VICTOR', 'BARBARA, MISS. SAIIDE', 'GALLAGHER, MR. MARTIN', 'HANSEN, MR. HENRIK JUUL', '\"MORLEY, MR. HENRY SAMUEL (\"\"MR HENRY MARSHALL\"\")\"', '\"KELLY, MRS. FLORENCE \"\"FANNIE\"\"\"', 'CALDERHEAD, MR. EDWARD PENNINGTON', 'CLEAVER, MISS. ALICE', '\"MOUBAREK, MASTER. HALIM GONIOS (\"\"WILLIAM GEORGE\"\")\"', '\"MAYNE, MLLE. BERTHE ANTONINE (\"\"MRS DE VILLIERS\"\")\"', 'KLABER, MR. HERMAN', 'TAYLOR, MR. ELMER ZEBLEY', 'LARSSON, MR. AUGUST VIKTOR', 'GREENBERG, MR. SAMUEL', 'SOHOLT, MR. PETER ANDREAS LAURITZ ANDERSEN', 'ENDRES, MISS. CAROLINE LOUISE', '\"TROUTT, MISS. EDWINA CELIA \"\"WINNIE\"\"\"', 'MCEVOY, MR. MICHAEL', 'JOHNSON, MR. MALKOLM JOACKIM', '\"HARPER, MISS. ANNIE JESSIE \"\"NINA\"\"\"', 'JENSEN, MR. SVEND LAURITZ', 'GILLESPIE, MR. WILLIAM HENRY', 'HODGES, MR. HENRY PRICE', 'CHAMBERS, MR. NORMAN CAMPBELL', 'ORESKOVIC, MR. LUKA', 'RENOUF, MRS. PETER HENRY (LILLIAN JEFFERYS)', 'MANNION, MISS. MARGARETH', 'BRYHL, MR. KURT ARNOLD GOTTFRID', 'ILMAKANGAS, MISS. PIETA SOFIA', 'ALLEN, MISS. ELISABETH WALTON', 'HASSAN, MR. HOUSSEIN G N', 'KNIGHT, MR. ROBERT J', 'BERRIMAN, MR. WILLIAM JOHN', 'TROUPIANSKY, MR. MOSES AARON', 'WILLIAMS, MR. LESLIE', 'FORD, MRS. EDWARD (MARGARET ANN WATSON)', 'LESURER, MR. GUSTAVE J', 'IVANOFF, MR. KANIO', 'NANKOFF, MR. MINKO', 'HAWKSFORD, MR. WALTER JAMES', 'CAVENDISH, MR. TYRELL WILLIAM', '\"RYERSON, MISS. SUSAN PARKER \"\"SUZETTE\"\"\"', 'MCNAMEE, MR. NEAL', 'STRANDEN, MR. JUHO', 'CROSBY, CAPT. EDWARD GIFFORD', 'ABBOTT, MR. ROSSMORE EDWARD', 'SINKKONEN, MISS. ANNA', 'MARVIN, MR. DANIEL WARNER', 'CONNAGHTON, MR. MICHAEL', 'WELLS, MISS. JOAN', 'MOOR, MASTER. MEIER', 'VANDE VELDE, MR. JOHANNES JOSEPH', 'JONKOFF, MR. LALIO', 'HERMAN, MRS. SAMUEL (JANE LAVER)', 'HAMALAINEN, MASTER. VILJO', 'CARLSSON, MR. AUGUST SIGFRID', 'BAILEY, MR. PERCY ANDREW', 'THEOBALD, MR. THOMAS LEONARD', 'ROTHES, THE COUNTESS. OF (LUCY NOEL MARTHA DYER-EDWARDS)', 'GARFIRTH, MR. JOHN', 'NIRVA, MR. IISAKKI ANTINO AIJO', 'BARAH, MR. HANNA ASSI', 'CARTER, MRS. WILLIAM ERNEST (LUCILE POLK)', 'EKLUND, MR. HANS LINUS', 'HOGEBOOM, MRS. JOHN C (ANNA ANDREWS)', 'BREWE, DR. ARTHUR JACKSON', 'MANGAN, MISS. MARY', 'MORAN, MR. DANIEL J', 'GRONNESTAD, MR. DANIEL DANIELSEN', 'LIEVENS, MR. RENE AIME', 'JENSEN, MR. NIELS PEDER', 'MACK, MRS. (MARY)', 'ELIAS, MR. DIBO', 'HOCKING, MRS. ELIZABETH (ELIZA NEEDS)', 'MYHRMAN, MR. PEHR FABIAN OLIVER MALKOLM', 'TOBIN, MR. ROGER', 'EMANUEL, MISS. VIRGINIA ETHEL', 'KILGANNON, MR. THOMAS J', 'ROBERT, MRS. EDWARD SCOTT (ELISABETH WALTON MCMILLAN)', 'AYOUB, MISS. BANOURA', 'DICK, MRS. ALBERT ADRIAN (VERA GILLESPIE)', 'LONG, MR. MILTON CLYDE', 'JOHNSTON, MR. ANDREW G', 'ALI, MR. WILLIAM', 'HARMER, MR. ABRAHAM (DAVID LISHIN)', 'SJOBLOM, MISS. ANNA SOFIA', 'RICE, MASTER. GEORGE HUGH', 'DEAN, MASTER. BERTRAM VERE', 'GUGGENHEIM, MR. BENJAMIN', '\"KEANE, MR. ANDREW \"\"ANDY\"\"\"', 'GASKELL, MR. ALFRED', 'SAGE, MISS. STELLA ANNA', 'HOYT, MR. WILLIAM FISHER', 'DANTCHEFF, MR. RISTIU', 'OTTER, MR. RICHARD', 'LEADER, DR. ALICE (FARNHAM)', 'OSMAN, MRS. MARA', 'IBRAHIM SHAWAH, MR. YOUSSEFF', 'VAN IMPE, MRS. JEAN BAPTISTE (ROSALIE PAULA GOVAERT)', 'PONESELL, MR. MARTIN', 'COLLYER, MRS. HARVEY (CHARLOTTE ANNIE TATE)', 'CARTER, MASTER. WILLIAM THORNTON II', 'THOMAS, MASTER. ASSAD ALEXANDER', 'HEDMAN, MR. OSKAR ARVID', 'JOHANSSON, MR. KARL JOHAN', 'ANDREWS, MR. THOMAS JR', 'PETTERSSON, MISS. ELLEN NATALIA', 'MEYER, MR. AUGUST', 'CHAMBERS, MRS. NORMAN CAMPBELL (BERTHA GRIGGS)', 'ALEXANDER, MR. WILLIAM', 'LESTER, MR. JAMES', 'SLEMEN, MR. RICHARD JAMES', 'ANDERSSON, MISS. EBBA IRIS ALFRIDA', 'TOMLIN, MR. ERNEST PORTAGE', 'FRY, MR. RICHARD', 'HEININEN, MISS. WENDLA MARIA', 'MALLET, MR. ALBERT', 'HOLM, MR. JOHN FREDRIK ALEXANDER', 'SKOOG, MASTER. KARL THORSTEN', 'HAYS, MRS. CHARLES MELVILLE (CLARA JENNINGS GREGG)', 'LULIC, MR. NIKOLA', 'REUCHLIN, JONKHEER. JOHN GEORGE', 'MOOR, MRS. (BEILA)', 'PANULA, MASTER. URHO ABRAHAM', 'FLYNN, MR. JOHN', 'LAM, MR. LEN', 'MALLET, MASTER. ANDRE', 'MCCORMACK, MR. THOMAS JOSEPH', 'STONE, MRS. GEORGE NELSON (MARTHA EVELYN)', 'YASBECK, MRS. ANTONI (SELINI ALEXANDER)', 'RICHARDS, MASTER. GEORGE SIBLEY', 'SAAD, MR. AMIN', 'AUGUSTSSON, MR. ALBERT', 'ALLUM, MR. OWEN GEORGE', 'COMPTON, MISS. SARA REBECCA', 'PASIC, MR. JAKOB', 'SIROTA, MR. MAURICE', 'CHIP, MR. CHANG', 'MARECHAL, MR. PIERRE', 'ALHOMAKI, MR. ILMARI RUDOLF', 'MUDD, MR. THOMAS CHARLES', 'SEREPECA, MISS. AUGUSTA', 'LEMBEROPOLOUS, MR. PETER L', 'CULUMOVIC, MR. JESO', 'ABBING, MR. ANTHONY', 'SAGE, MR. DOUGLAS BULLEN', 'MARKOFF, MR. MARIN', 'HARPER, REV. JOHN', 'GOLDENBERG, MRS. SAMUEL L (EDWIGA GRABOWSKA)', 'ANDERSSON, MASTER. SIGVARD HARALD ELIAS', 'SVENSSON, MR. JOHAN', 'BOULOS, MISS. NOURELAIN', 'LINES, MISS. MARY CONOVER', 'CARTER, MRS. ERNEST COURTENAY (LILIAN HUGHES)', 'AKS, MRS. SAM (LEAH ROSEN)', 'WICK, MRS. GEORGE DENNICK (MARY HITCHCOCK)', 'DALY, MR. PETER DENIS ', 'BACLINI, MRS. SOLOMON (LATIFA QURBAN)', 'RAZI, MR. RAIHED', 'HANSEN, MR. CLAUS PETER', 'GILES, MR. FREDERICK EDWARD', 'SWIFT, MRS. FREDERICK JOEL (MARGARET WELLES BARRON)', '\"SAGE, MISS. DOROTHY EDITH \"\"DOLLY\"\"\"', 'GILL, MR. JOHN WILLIAM', 'BYSTROM, MRS. (KAROLINA)', 'DURAN Y MORE, MISS. ASUNCION', 'ROEBLING, MR. WASHINGTON AUGUSTUS II', 'VAN MELKEBEKE, MR. PHILEMON', 'JOHNSON, MASTER. HAROLD THEODOR', 'BALKIC, MR. CERIN', 'BECKWITH, MRS. RICHARD LEONARD (SALLIE MONYPENY)', 'CARLSSON, MR. FRANS OLOF', 'VANDER CRUYSSEN, MR. VICTOR', 'ABELSON, MRS. SAMUEL (HANNAH WIZOSKY)', '\"NAJIB, MISS. ADELE KIAMIE \"\"JANE\"\"\"', 'GUSTAFSSON, MR. ALFRED OSSIAN', 'PETROFF, MR. NEDELIO', 'LALEFF, MR. KRISTO', 'POTTER, MRS. THOMAS JR (LILY ALEXENIA WILSON)', 'SHELLEY, MRS. WILLIAM (IMANITA PARRISH HALL)', 'MARKUN, MR. JOHANN', 'DAHLBERG, MISS. GERDA ULRIKA', 'BANFIELD, MR. FREDERICK JAMES', 'SUTEHALL, MR. HENRY JR', 'RICE, MRS. WILLIAM (MARGARET NORTON)', 'MONTVILA, REV. JUOZAS', 'GRAHAM, MISS. MARGARET EDITH', '\"JOHNSTON, MISS. CATHERINE HELEN \"\"CARRIE\"\"\"', 'BEHR, MR. KARL HOWELL', 'DOOLEY, MR. PATRICK']\n"
     ]
    }
   ],
   "source": [
    "# Please show the names of all passengers in the Titanic database, \n",
    "# and then convert them to upper case using the map function.\n",
    "\n",
    "passenger_names = titanic_rdd \\\n",
    "                 .map(lambda row: row[3]) \\\n",
    "                 .map(lambda name: name.upper()) \\\n",
    "                 .collect()\n",
    "print(passenger_names)"
   ]
  },
  {
   "cell_type": "markdown",
   "id": "24ba0374",
   "metadata": {},
   "source": [
    "## Practice\n",
    "\n"
   ]
  },
  {
   "cell_type": "code",
   "execution_count": 24,
   "id": "4579702d",
   "metadata": {},
   "outputs": [
    {
     "name": "stdout",
     "output_type": "stream",
     "text": [
      "Youngest passenger age: 0.42\n"
     ]
    }
   ],
   "source": [
    "# What was the age of the youngest passenger on board? (using map and reduce functions)\n",
    "youngest_age = titanic_rdd \\\n",
    "               .map(lambda row: row[5]) \\\n",
    "               .filter(lambda age: age != None ) \\\n",
    "               .reduce(lambda age1, age2: min(age1, age2))\n",
    "print(f\"Youngest passenger age: {youngest_age}\")"
   ]
  },
  {
   "cell_type": "code",
   "execution_count": 10,
   "id": "10b13f2a",
   "metadata": {},
   "outputs": [
    {
     "name": "stdout",
     "output_type": "stream",
     "text": [
      "Oldest passenger age: 80.0\n"
     ]
    }
   ],
   "source": [
    "# What was the age of the oldest passenger on board? (using map and reduce functions)\n",
    "oldest_age = titanic_rdd \\\n",
    "               .map(lambda row: row[5]) \\\n",
    "               .filter(lambda age: age != None ) \\\n",
    "               .reduce(lambda age1, age2: max(age1, age2))\n",
    "print(f\"Oldest passenger age: {oldest_age}\")"
   ]
  },
  {
   "cell_type": "code",
   "execution_count": 11,
   "id": "946a4219",
   "metadata": {},
   "outputs": [
    {
     "name": "stdout",
     "output_type": "stream",
     "text": [
      "Traveller count: 891\n"
     ]
    }
   ],
   "source": [
    "# Total number of passengers (using map and reduce functions)\n",
    "\n",
    "traveller_count = titanic_rdd \\\n",
    "                    .map(lambda row: 1) \\\n",
    "                    .reduce(lambda count1, count2 : count1 + count2)\n",
    "    \n",
    "print(f\"Traveller count: {traveller_count}\")"
   ]
  },
  {
   "cell_type": "code",
   "execution_count": 13,
   "id": "ac252c43",
   "metadata": {},
   "outputs": [
    {
     "name": "stdout",
     "output_type": "stream",
     "text": [
      "Unknown age count: 177\n"
     ]
    }
   ],
   "source": [
    "# How many passengers whose age could not be mapped on board?\n",
    "\n",
    "unknown_age_count = titanic_rdd \\\n",
    "                    .map(lambda row: row[5]) \\\n",
    "                    .filter(lambda age: age == None)\\\n",
    "                    .map(lambda age: 1) \\\n",
    "                    .reduce(lambda count1, count2 : count1 + count2)\n",
    "    \n",
    "    \n",
    "print(f\"Unknown age count: {unknown_age_count}\")"
   ]
  },
  {
   "cell_type": "code",
   "execution_count": 16,
   "id": "814de139",
   "metadata": {},
   "outputs": [
    {
     "name": "stdout",
     "output_type": "stream",
     "text": [
      "['braund, mr. owen harris', 'cumings, mrs. john bradley (florence briggs thayer)', 'heikkinen, miss. laina', 'futrelle, mrs. jacques heath (lily may peel)', 'allen, mr. william henry', 'moran, mr. james', 'mccarthy, mr. timothy j', 'palsson, master. gosta leonard', 'johnson, mrs. oscar w (elisabeth vilhelmina berg)', 'nasser, mrs. nicholas (adele achem)', 'sandstrom, miss. marguerite rut', 'bonnell, miss. elizabeth', 'saundercock, mr. william henry', 'andersson, mr. anders johan', 'vestrom, miss. hulda amanda adolfina', 'hewlett, mrs. (mary d kingcome) ', 'rice, master. eugene', 'williams, mr. charles eugene', 'vander planke, mrs. julius (emelia maria vandemoortele)', 'masselmani, mrs. fatima', 'fynney, mr. joseph j', 'beesley, mr. lawrence', '\"mcgowan, miss. anna \"\"annie\"\"\"', 'sloper, mr. william thompson', 'palsson, miss. torborg danira', 'asplund, mrs. carl oscar (selma augusta emilia johansson)', 'emir, mr. farred chehab', 'fortune, mr. charles alexander', '\"o\\'dwyer, miss. ellen \"\"nellie\"\"\"', 'todoroff, mr. lalio', 'uruchurtu, don. manuel e', 'spencer, mrs. william augustus (marie eugenie)', 'glynn, miss. mary agatha', 'wheadon, mr. edward h', 'meyer, mr. edgar joseph', 'holverson, mr. alexander oskar', 'mamee, mr. hanna', 'cann, mr. ernest charles', 'vander planke, miss. augusta maria', 'nicola-yarred, miss. jamila', 'ahlin, mrs. johan (johanna persdotter larsson)', 'turpin, mrs. william john robert (dorothy ann wonnacott)', 'kraeff, mr. theodor', 'laroche, miss. simonne marie anne andree', 'devaney, miss. margaret delia', 'rogers, mr. william john', 'lennon, mr. denis', \"o'driscoll, miss. bridget\", 'samaan, mr. youssef', 'arnold-franchi, mrs. josef (josefine franchi)', 'panula, master. juha niilo', 'nosworthy, mr. richard cater', 'harper, mrs. henry sleeper (myna haxtun)', 'faunthorpe, mrs. lizzie (elizabeth anne wilkinson)', 'ostby, mr. engelhart cornelius', 'woolner, mr. hugh', 'rugg, miss. emily', 'novel, mr. mansouer', 'west, miss. constance mirium', 'goodwin, master. william frederick', 'sirayanian, mr. orsen', 'icard, miss. amelie', 'harris, mr. henry birkhardt', 'skoog, master. harald', 'stewart, mr. albert a', 'moubarek, master. gerios', 'nye, mrs. (elizabeth ramell)', 'crease, mr. ernest james', 'andersson, miss. erna alexandra', 'kink, mr. vincenz', 'jenkin, mr. stephen curnow', 'goodwin, miss. lillian amy', 'hood, mr. ambrose jr', 'chronopoulos, mr. apostolos', 'bing, mr. lee', 'moen, mr. sigurd hansen', 'staneff, mr. ivan', 'moutal, mr. rahamin haim', 'caldwell, master. alden gates', 'dowdell, miss. elizabeth', 'waelens, mr. achille', 'sheerlinck, mr. jan baptist', 'mcdermott, miss. brigdet delia', 'carrau, mr. francisco m', 'ilett, miss. bertha', 'backstrom, mrs. karl alfred (maria mathilda gustafsson)', 'ford, mr. william neal', 'slocovski, mr. selman francis', 'fortune, miss. mabel helen', 'celotti, mr. francesco', 'christmann, mr. emil', 'andreasson, mr. paul edvin', 'chaffee, mr. herbert fuller', 'dean, mr. bertram frank', 'coxon, mr. daniel', 'shorney, mr. charles joseph', 'goldschmidt, mr. george b', 'greenfield, mr. william bertram', 'doling, mrs. john t (ada julia bone)', 'kantor, mr. sinai', 'petranec, miss. matilda', '\"petroff, mr. pastcho (\"\"pentcho\"\")\"', 'white, mr. richard frasar', 'johansson, mr. gustaf joel', 'gustafsson, mr. anders vilhelm', 'mionoff, mr. stoytcho', 'salkjelsvik, miss. anna kristine', 'moss, mr. albert johan', 'rekic, mr. tido', 'moran, miss. bertha', 'porter, mr. walter chamberlain', 'zabour, miss. hileni', 'barton, mr. david john', 'jussila, miss. katriina', 'attalah, miss. malake', 'pekoniemi, mr. edvard', 'connors, mr. patrick', 'turpin, mr. william john robert', 'baxter, mr. quigg edmond', 'andersson, miss. ellis anna maria', 'hickman, mr. stanley george', 'moore, mr. leonard charles', 'nasser, mr. nicholas', 'webber, miss. susan', 'white, mr. percival wayland', 'nicola-yarred, master. elias', 'mcmahon, mr. martin', 'madsen, mr. fridtjof arne', 'peter, miss. anna', 'ekstrom, mr. johan', 'drazenoic, mr. jozef', 'coelho, mr. domingos fernandeo', 'robins, mrs. alexander a (grace charity laury)', 'weisz, mrs. leopold (mathilde francoise pede)', 'sobey, mr. samuel james hayden', 'richard, mr. emile', 'newsom, miss. helen monypeny', 'futrelle, mr. jacques heath', 'osen, mr. olaf elon', 'giglio, mr. victor', 'boulos, mrs. joseph (sultana)', 'nysten, miss. anna sofia', 'hakkarainen, mrs. pekka pietari (elin matilda dolck)', 'burke, mr. jeremiah', 'andrew, mr. edgardo samuel', 'nicholls, mr. joseph charles', '\"andersson, mr. august edvard (\"\"wennerstrom\"\")\"', '\"ford, miss. robina maggie \"\"ruby\"\"\"', '\"navratil, mr. michel (\"\"louis m hoffman\"\")\"', 'byles, rev. thomas roussel davids', 'bateman, rev. robert james', 'pears, mrs. thomas (edith wearne)', 'meo, mr. alfonzo', 'van billiard, mr. austin blyler', 'olsen, mr. ole martin', 'williams, mr. charles duane', '\"gilnagh, miss. katherine \"\"katie\"\"\"', 'corn, mr. harry', 'smiljanic, mr. mile', 'sage, master. thomas henry', 'cribb, mr. john hatfield', '\"watt, mrs. james (elizabeth \"\"bessie\"\" inglis milne)\"', 'bengtsson, mr. john viktor', 'calic, mr. jovo', 'panula, master. eino viljami', '\"goldsmith, master. frank john william \"\"frankie\"\"\"', 'chibnall, mrs. (edith martha bowerman)', 'skoog, mrs. william (anna bernhardina karlsson)', 'baumann, mr. john d', 'ling, mr. lee', 'van der hoef, mr. wyckoff', 'rice, master. arthur', 'johnson, miss. eleanor ileen', 'sivola, mr. antti wilhelm', 'smith, mr. james clinch', 'klasen, mr. klas albin', 'lefebre, master. henry forbes', 'isham, miss. ann elizabeth', 'hale, mr. reginald', 'leonard, mr. lionel', 'sage, miss. constance gladys', 'pernot, mr. rene', 'asplund, master. clarence gustaf hugo', 'becker, master. richard f', 'kink-heilmann, miss. luise gretchen', 'rood, mr. hugh roscoe', '\"o\\'brien, mrs. thomas (johanna \"\"hannah\"\" godfrey)\"', '\"romaine, mr. charles hallace (\"\"mr c rolmane\"\")\"', 'bourke, mr. john', 'turcin, mr. stjepan', 'pinsky, mrs. (rosa)', 'carbines, mr. william', 'andersen-jensen, miss. carla christine nielsine', 'navratil, master. michel m', 'brown, mrs. james joseph (margaret tobin)', 'lurette, miss. elise', 'mernagh, mr. robert', 'olsen, mr. karl siegwart andreas', '\"madigan, miss. margaret \"\"maggie\"\"\"', '\"yrois, miss. henriette (\"\"mrs harbeck\"\")\"', 'vande walle, mr. nestor cyriel', 'sage, mr. frederick', 'johanson, mr. jakob alfred', 'youseff, mr. gerious', '\"cohen, mr. gurshon \"\"gus\"\"\"', 'strom, miss. telma matilda', 'backstrom, mr. karl alfred', 'albimona, mr. nassef cassem', '\"carr, miss. helen \"\"ellen\"\"\"', 'blank, mr. henry', 'ali, mr. ahmed', 'cameron, miss. clear annie', 'perkin, mr. john henry', 'givard, mr. hans kristensen', 'kiernan, mr. philip', 'newell, miss. madeleine', 'honkanen, miss. eliina', 'jacobsohn, mr. sidney samuel', 'bazzani, miss. albina', 'harris, mr. walter', 'sunderland, mr. victor francis', 'bracken, mr. james h', 'green, mr. george henry', 'nenkoff, mr. christo', 'hoyt, mr. frederick maxfield', 'berglund, mr. karl ivar sven', 'mellors, mr. william john', '\"lovell, mr. john hall (\"\"henry\"\")\"', 'fahlstrom, mr. arne jonas', 'lefebre, miss. mathilde', 'harris, mrs. henry birkhardt (irene wallach)', 'larsson, mr. bengt edvin', 'sjostedt, mr. ernst adolf', 'asplund, miss. lillian gertrud', 'leyson, mr. robert william norman', 'harknett, miss. alice phoebe', 'hold, mr. stephen', '\"collyer, miss. marjorie \"\"lottie\"\"\"', 'pengelly, mr. frederick william', 'hunt, mr. george henry', 'zabour, miss. thamine', '\"murphy, miss. katherine \"\"kate\"\"\"', 'coleridge, mr. reginald charles', 'maenpaa, mr. matti alexanteri', 'attalah, mr. sleiman', 'minahan, dr. william edward', 'lindahl, miss. agda thorilda viktoria', 'hamalainen, mrs. william (anna)', 'beckwith, mr. richard leonard', 'carter, rev. ernest courtenay', 'reed, mr. james george', 'strom, mrs. wilhelm (elna matilda persson)', 'stead, mr. william thomas', 'lobb, mr. william arthur', 'rosblom, mrs. viktor (helena wilhelmina)', 'touma, mrs. darwis (hanne youssef razi)', 'thorne, mrs. gertrude maybelle', 'cherry, miss. gladys', 'ward, miss. anna', 'parrish, mrs. (lutie davis)', 'smith, mr. thomas', 'asplund, master. edvin rojj felix', 'taussig, mr. emil', 'harrison, mr. william', 'henry, miss. delia', 'reeves, mr. david', 'panula, mr. ernesti arvid', 'persson, mr. ernst ulrik', 'graham, mrs. william thompson (edith junkins)', 'bissette, miss. amelia', 'cairns, mr. alexander', 'tornquist, mr. william henry', 'mellinger, mrs. (elizabeth anne maidment)', 'natsch, mr. charles h', '\"healy, miss. hanora \"\"nora\"\"\"', 'andrews, miss. kornelia theodosia', 'lindblom, miss. augusta charlotta', '\"parkes, mr. francis \"\"frank\"\"\"', 'rice, master. eric', 'abbott, mrs. stanton (rosa hunt)', 'duane, mr. frank', 'olsson, mr. nils johan goransson', 'de pelsmaeker, mr. alfons', 'dorking, mr. edward arthur', 'smith, mr. richard william', 'stankovic, mr. ivan', 'de mulder, mr. theodore', 'naidenoff, mr. penko', 'hosono, mr. masabumi', 'connolly, miss. kate', '\"barber, miss. ellen \"\"nellie\"\"\"', 'bishop, mrs. dickinson h (helen walton)', 'levy, mr. rene jacques', 'haas, miss. aloisia', 'mineff, mr. ivan', 'lewy, mr. ervin g', 'hanna, mr. mansour', 'allison, miss. helen loraine', 'saalfeld, mr. adolphe', 'baxter, mrs. james (helene delaudeniere chaput)', '\"kelly, miss. anna katherine \"\"annie kate\"\"\"', 'mccoy, mr. bernard', 'johnson, mr. william cahoone jr', 'keane, miss. nora a', '\"williams, mr. howard hugh \"\"harry\"\"\"', 'allison, master. hudson trevor', 'fleming, miss. margaret', 'penasco y castellana, mrs. victor de satode (maria josefa perez de soto y vallejo)', 'abelson, mr. samuel', 'francatelli, miss. laura mabel', 'hays, miss. margaret bechstein', 'ryerson, miss. emily borie', 'lahtinen, mrs. william (anna sylfven)', 'hendekovic, mr. ignjac', 'hart, mr. benjamin', 'nilsson, miss. helmina josefina', 'kantor, mrs. sinai (miriam sternin)', 'moraweck, dr. ernest', 'wick, miss. mary natalie', 'spedden, mrs. frederic oakley (margaretta corning stone)', 'dennis, mr. samuel', 'danoff, mr. yoto', 'slayter, miss. hilda mary', 'caldwell, mrs. albert francis (sylvia mae harbaugh)', 'sage, mr. george john jr', 'young, miss. marie grice', 'nysveen, mr. johan hansen', 'ball, mrs. (ada e hall)', 'goldsmith, mrs. frank john (emily alice brown)', 'hippach, miss. jean gertrude', 'mccoy, miss. agnes', 'partner, mr. austen', 'graham, mr. george edward', 'vander planke, mr. leo edmondus', 'frauenthal, mrs. henry william (clara heinsheimer)', 'denkoff, mr. mitto', 'pears, mr. thomas clinton', 'burns, miss. elizabeth margaret', 'dahl, mr. karl edwart', 'blackwell, mr. stephen weart', 'navratil, master. edmond roger', 'fortune, miss. alice elizabeth', 'collander, mr. erik gustaf', 'sedgwick, mr. charles frederick waddington', 'fox, mr. stanley hubert', '\"brown, miss. amelia \"\"mildred\"\"\"', 'smith, miss. marion elsie', 'davison, mrs. thomas henry (mary e finck)', '\"coutts, master. william loch \"\"william\"\"\"', 'dimic, mr. jovan', 'odahl, mr. nils martin', 'williams-lambert, mr. fletcher fellows', 'elias, mr. tannous', 'arnold-franchi, mr. josef', 'yousif, mr. wazli', 'vanden steen, mr. leo peter', 'bowerman, miss. elsie edith', 'funk, miss. annie clemmer', 'mcgovern, miss. mary', '\"mockler, miss. helen mary \"\"ellie\"\"\"', 'skoog, mr. wilhelm', 'del carlo, mr. sebastiano', 'barbara, mrs. (catherine david)', 'asim, mr. adola', \"o'brien, mr. thomas\", 'adahl, mr. mauritz nils martin', 'warren, mrs. frank manley (anna sophia atkinson)', 'moussa, mrs. (mantoura boulos)', 'jermyn, miss. annie', 'aubart, mme. leontine pauline', 'harder, mr. george achilles', 'wiklund, mr. jakob alfred', 'beavan, mr. william thomas', 'ringhini, mr. sante', 'palsson, miss. stina viola', 'meyer, mrs. edgar joseph (leila saks)', 'landergren, miss. aurora adelia', 'widener, mr. harry elkins', 'betros, mr. tannous', 'gustafsson, mr. karl gideon', 'bidois, miss. rosalie', '\"nakid, miss. maria (\"\"mary\"\")\"', 'tikkanen, mr. juho', 'holverson, mrs. alexander oskar (mary aline towner)', 'plotcharsky, mr. vasil', 'davies, mr. charles henry', 'goodwin, master. sidney leonard', 'buss, miss. kate', 'sadlier, mr. matthew', 'lehmann, miss. bertha', 'carter, mr. william ernest', 'jansson, mr. carl olof', 'gustafsson, mr. johan birger', 'newell, miss. marjorie', 'sandstrom, mrs. hjalmar (agnes charlotta bengtsson)', 'johansson, mr. erik', 'olsson, miss. elina', 'mckane, mr. peter david', 'pain, dr. alfred', 'trout, mrs. william h (jessie l)', 'niskanen, mr. juha', 'adams, mr. john', 'jussila, miss. mari aina', 'hakkarainen, mr. pekka pietari', 'oreskovic, miss. marija', 'gale, mr. shadrach', 'widegren, mr. carl/charles peter', 'richards, master. william rowe', 'birkeland, mr. hans martin monsen', 'lefebre, miss. ida', 'sdycoff, mr. todor', 'hart, mr. henry', 'minahan, miss. daisy e', 'cunningham, mr. alfred fleming', 'sundman, mr. johan julian', 'meek, mrs. thomas (annie louise rowley)', 'drew, mrs. james vivian (lulu thorne christian)', 'silven, miss. lyyli karoliina', 'matthews, mr. william john', 'van impe, miss. catharina', 'gheorgheff, mr. stanio', 'charters, mr. david', 'zimmerman, mr. leo', 'danbom, mrs. ernst gilbert (anna sigrid maria brogren)', 'rosblom, mr. viktor richard', 'wiseman, mr. phillippe', 'clarke, mrs. charles v (ada maria winfield)', '\"phillips, miss. kate florence (\"\"mrs kate louise phillips marshall\"\")\"', 'flynn, mr. james', 'pickard, mr. berk (berk trembisky)', 'bjornstrom-steffansson, mr. mauritz hakan', 'thorneycroft, mrs. percival (florence kate white)', 'louch, mrs. charles alexander (alice adelaide slow)', 'kallio, mr. nikolai erland', 'silvey, mr. william baird', 'carter, miss. lucile polk', '\"ford, miss. doolina margaret \"\"daisy\"\"\"', 'richards, mrs. sidney (emily hocking)', 'fortune, mr. mark', 'kvillner, mr. johan henrik johannesson', 'hart, mrs. benjamin (esther ada bloomfield)', 'hampe, mr. leon', 'petterson, mr. johan emil', 'reynaldo, ms. encarnacion', 'johannesen-bratthammer, mr. bernt', 'dodge, master. washington', 'mellinger, miss. madeleine violet', 'seward, mr. frederic kimber', 'baclini, miss. marie catherine', 'peuchen, major. arthur godfrey', 'west, mr. edwy arthur', 'hagland, mr. ingvald olai olsen', 'foreman, mr. benjamin laventall', 'goldenberg, mr. samuel l', 'peduzzi, mr. joseph', 'jalsevac, mr. ivan', 'millet, mr. francis davis', 'kenyon, mrs. frederick r (marion)', 'toomey, miss. ellen', \"o'connor, mr. maurice\", 'anderson, mr. harry', 'morley, mr. william', 'gee, mr. arthur h', 'milling, mr. jacob christian', 'maisner, mr. simon', 'goncalves, mr. manuel estanslas', 'campbell, mr. william', 'smart, mr. john montgomery', 'scanlan, mr. james', 'baclini, miss. helene barbara', 'keefe, mr. arthur', 'cacic, mr. luka', 'west, mrs. edwy arthur (ada mary worth)', 'jerwan, mrs. amin s (marie marthe thuillard)', 'strandberg, miss. ida sofia', 'clifford, mr. george quincy', 'renouf, mr. peter henry', 'braund, mr. lewis richard', 'karlsson, mr. nils august', 'hirvonen, miss. hildur e', 'goodwin, master. harold victor', '\"frost, mr. anthony wood \"\"archie\"\"\"', 'rouse, mr. richard henry', 'turkula, mrs. (hedwig)', 'bishop, mr. dickinson h', 'lefebre, miss. jeannie', 'hoyt, mrs. frederick maxfield (jane anne forby)', 'kent, mr. edward austin', 'somerton, mr. francis william', '\"coutts, master. eden leslie \"\"neville\"\"\"', 'hagland, mr. konrad mathias reiersen', 'windelov, mr. einar', 'molson, mr. harry markland', 'artagaveytia, mr. ramon', 'stanley, mr. edward roland', 'yousseff, mr. gerious', 'eustis, miss. elizabeth mussey', 'shellard, mr. frederick william', 'allison, mrs. hudson j c (bessie waldo daniels)', 'svensson, mr. olof', 'calic, mr. petar', 'canavan, miss. mary', \"o'sullivan, miss. bridget mary\", 'laitinen, miss. kristina sofia', 'maioni, miss. roberta', 'penasco y castellana, mr. victor de satode', 'quick, mrs. frederick charles (jane richards)', '\"bradley, mr. george (\"\"george arthur brayton\"\")\"', 'olsen, mr. henry margido', 'lang, mr. fang', 'daly, mr. eugene patrick', 'webber, mr. james', 'mcgough, mr. james robert', 'rothschild, mrs. martin (elizabeth l. barrett)', 'coleff, mr. satio', 'walker, mr. william anderson', 'lemore, mrs. (amelia milley)', 'ryan, mr. patrick', '\"angle, mrs. william a (florence \"\"mary\"\" agnes hughes)\"', 'pavlovic, mr. stefo', 'perreault, miss. anne', 'vovk, mr. janko', 'lahoud, mr. sarkis', 'hippach, mrs. louis albert (ida sophia fischer)', 'kassem, mr. fared', 'farrell, mr. james', 'ridsdale, miss. lucy', 'farthing, mr. john', 'salonen, mr. johan werner', 'hocking, mr. richard george', 'quick, miss. phyllis may', 'toufik, mr. nakli', 'elias, mr. joseph jr', 'peter, mrs. catherine (catherine rizk)', 'cacic, miss. marija', 'hart, miss. eva miriam', 'butt, major. archibald willingham', 'leroy, miss. bertha', 'risien, mr. samuel beard', 'frolicher, miss. hedwig margaritha', 'crosby, miss. harriet r', 'andersson, miss. ingeborg constanzia', 'andersson, miss. sigrid elisabeth', 'beane, mr. edward', 'douglas, mr. walter donald', 'nicholson, mr. arthur ernest', 'beane, mrs. edward (ethel clarke)', 'padro y manent, mr. julian', 'goldsmith, mr. frank john', 'davies, master. john morgan jr', 'thayer, mr. john borland jr', 'sharp, mr. percival james r', \"o'brien, mr. timothy\", '\"leeni, mr. fahim (\"\"philip zenni\"\")\"', 'ohman, miss. velin', 'wright, mr. george', '\"duff gordon, lady. (lucille christiana sutherland) (\"\"mrs morgan\"\")\"', 'robbins, mr. victor', 'taussig, mrs. emil (tillie mandelbaum)', 'de messemaeker, mrs. guillaume joseph (emma)', 'morrow, mr. thomas rowan', 'sivic, mr. husein', 'norman, mr. robert douglas', 'simmons, mr. john', 'meanwell, miss. (marion ogden)', 'davies, mr. alfred j', 'stoytcheff, mr. ilia', 'palsson, mrs. nils (alma cornelia berglund)', 'doharr, mr. tannous', 'jonsson, mr. carl', 'harris, mr. george', 'appleton, mrs. edward dale (charlotte lamson)', '\"flynn, mr. john irwin (\"\"irving\"\")\"', 'kelly, miss. mary', 'rush, mr. alfred george john', 'patchett, mr. george', 'garside, miss. ethel', 'silvey, mrs. william baird (alice munger)', 'caram, mrs. joseph (maria elias)', 'jussila, mr. eiriik', 'christy, miss. julie rachel', 'thayer, mrs. john borland (marian longstreth morris)', 'downton, mr. william james', 'ross, mr. john hugo', 'paulner, mr. uscher', 'taussig, miss. ruth', 'jarvis, mr. john denzil', 'frolicher-stehli, mr. maxmillian', 'gilinski, mr. eliezer', 'murdlin, mr. joseph', 'rintamaki, mr. matti', 'stephenson, mrs. walter bertram (martha eustis)', 'elsbury, mr. william james', 'bourke, miss. mary', 'chapman, mr. john henry', 'van impe, mr. jean baptiste', 'leitch, miss. jessie wills', 'johnson, mr. alfred', 'boulos, mr. hanna', '\"duff gordon, sir. cosmo edmund (\"\"mr morgan\"\")\"', 'jacobsohn, mrs. sidney samuel (amy frances christy)', 'slabenoff, mr. petco', 'harrington, mr. charles h', 'torber, mr. ernst william', '\"homer, mr. harry (\"\"mr e haven\"\")\"', 'lindell, mr. edvard bengtsson', 'karaic, mr. milan', 'daniel, mr. robert williams', 'laroche, mrs. joseph (juliette marie louise lafargue)', 'shutes, miss. elizabeth w', 'andersson, mrs. anders johan (alfrida konstantia brogren)', 'jardin, mr. jose neto', 'murphy, miss. margaret jane', 'horgan, mr. john', 'brocklebank, mr. william alfred', 'herman, miss. alice', 'danbom, mr. ernst gilbert', 'lobb, mrs. william arthur (cordelia k stanlick)', 'becker, miss. marion louise', 'gavey, mr. lawrence', 'yasbeck, mr. antoni', 'kimball, mr. edwin nelson jr', 'nakid, mr. sahid', 'hansen, mr. henry damsgaard', '\"bowen, mr. david john \"\"dai\"\"\"', 'sutton, mr. frederick', 'kirkland, rev. charles leonard', 'longley, miss. gretchen fiske', 'bostandyeff, mr. guentcho', \"o'connell, mr. patrick d\", 'barkworth, mr. algernon henry wilson', 'lundahl, mr. johan svensson', 'stahelin-maeglin, dr. max', 'parr, mr. william henry marsh', 'skoog, miss. mabel', 'davis, miss. mary', 'leinonen, mr. antti gustaf', 'collyer, mr. harvey', 'panula, mrs. juha (maria emilia ojala)', 'thorneycroft, mr. percival', 'jensen, mr. hans peder', 'sagesser, mlle. emma', 'skoog, miss. margit elizabeth', 'foo, mr. choong', 'baclini, miss. eugenie', 'harper, mr. henry sleeper', 'cor, mr. liudevit', 'simonius-blumer, col. oberst alfons', 'willey, mr. edward', 'stanley, miss. amy zillah elsie', 'mitkoff, mr. mito', 'doling, miss. elsie', 'kalvik, mr. johannes halvorsen', '\"o\\'leary, miss. hanora \"\"norah\"\"\"', '\"hegarty, miss. hanora \"\"nora\"\"\"', 'hickman, mr. leonard mark', 'radeff, mr. alexander', 'bourke, mrs. john (catherine)', 'eitemiller, mr. george floyd', 'newell, mr. arthur webster', 'frauenthal, dr. henry william', 'badt, mr. mohamed', 'colley, mr. edward pomeroy', 'coleff, mr. peju', 'lindqvist, mr. eino william', 'hickman, mr. lewis', 'butler, mr. reginald fenton', 'rommetvedt, mr. knud paust', 'cook, mr. jacob', 'taylor, mrs. elmer zebley (juliet cummins wright)', 'brown, mrs. thomas william solomon (elizabeth catherine ford)', 'davidson, mr. thornton', 'mitchell, mr. henry michael', 'wilhelms, mr. charles', 'watson, mr. ennis hastings', 'edvardsson, mr. gustaf hjalmar', 'sawyer, mr. frederick charles', 'turja, miss. anna sofia', 'goodwin, mrs. frederick (augusta tyler)', 'cardeza, mr. thomas drake martinez', 'peters, miss. katie', 'hassab, mr. hammad', 'olsvigen, mr. thor anderson', 'goodwin, mr. charles edward', 'brown, mr. thomas william solomon', 'laroche, mr. joseph philippe lemercier', 'panula, mr. jaako arnold', 'dakic, mr. branko', 'fischer, mr. eberhard thelander', 'madill, miss. georgette alexandra', 'dick, mr. albert adrian', 'karun, miss. manca', 'lam, mr. ali', 'saad, mr. khalil', 'weir, col. john', 'chapman, mr. charles henry', 'kelly, mr. james', '\"mullens, miss. katherine \"\"katie\"\"\"', 'thayer, mr. john borland', 'humblen, mr. adolf mathias nicolai olsen', 'astor, mrs. john jacob (madeleine talmadge force)', 'silverthorne, mr. spencer victor', 'barbara, miss. saiide', 'gallagher, mr. martin', 'hansen, mr. henrik juul', '\"morley, mr. henry samuel (\"\"mr henry marshall\"\")\"', '\"kelly, mrs. florence \"\"fannie\"\"\"', 'calderhead, mr. edward pennington', 'cleaver, miss. alice', '\"moubarek, master. halim gonios (\"\"william george\"\")\"', '\"mayne, mlle. berthe antonine (\"\"mrs de villiers\"\")\"', 'klaber, mr. herman', 'taylor, mr. elmer zebley', 'larsson, mr. august viktor', 'greenberg, mr. samuel', 'soholt, mr. peter andreas lauritz andersen', 'endres, miss. caroline louise', '\"troutt, miss. edwina celia \"\"winnie\"\"\"', 'mcevoy, mr. michael', 'johnson, mr. malkolm joackim', '\"harper, miss. annie jessie \"\"nina\"\"\"', 'jensen, mr. svend lauritz', 'gillespie, mr. william henry', 'hodges, mr. henry price', 'chambers, mr. norman campbell', 'oreskovic, mr. luka', 'renouf, mrs. peter henry (lillian jefferys)', 'mannion, miss. margareth', 'bryhl, mr. kurt arnold gottfrid', 'ilmakangas, miss. pieta sofia', 'allen, miss. elisabeth walton', 'hassan, mr. houssein g n', 'knight, mr. robert j', 'berriman, mr. william john', 'troupiansky, mr. moses aaron', 'williams, mr. leslie', 'ford, mrs. edward (margaret ann watson)', 'lesurer, mr. gustave j', 'ivanoff, mr. kanio', 'nankoff, mr. minko', 'hawksford, mr. walter james', 'cavendish, mr. tyrell william', '\"ryerson, miss. susan parker \"\"suzette\"\"\"', 'mcnamee, mr. neal', 'stranden, mr. juho', 'crosby, capt. edward gifford', 'abbott, mr. rossmore edward', 'sinkkonen, miss. anna', 'marvin, mr. daniel warner', 'connaghton, mr. michael', 'wells, miss. joan', 'moor, master. meier', 'vande velde, mr. johannes joseph', 'jonkoff, mr. lalio', 'herman, mrs. samuel (jane laver)', 'hamalainen, master. viljo', 'carlsson, mr. august sigfrid', 'bailey, mr. percy andrew', 'theobald, mr. thomas leonard', 'rothes, the countess. of (lucy noel martha dyer-edwards)', 'garfirth, mr. john', 'nirva, mr. iisakki antino aijo', 'barah, mr. hanna assi', 'carter, mrs. william ernest (lucile polk)', 'eklund, mr. hans linus', 'hogeboom, mrs. john c (anna andrews)', 'brewe, dr. arthur jackson', 'mangan, miss. mary', 'moran, mr. daniel j', 'gronnestad, mr. daniel danielsen', 'lievens, mr. rene aime', 'jensen, mr. niels peder', 'mack, mrs. (mary)', 'elias, mr. dibo', 'hocking, mrs. elizabeth (eliza needs)', 'myhrman, mr. pehr fabian oliver malkolm', 'tobin, mr. roger', 'emanuel, miss. virginia ethel', 'kilgannon, mr. thomas j', 'robert, mrs. edward scott (elisabeth walton mcmillan)', 'ayoub, miss. banoura', 'dick, mrs. albert adrian (vera gillespie)', 'long, mr. milton clyde', 'johnston, mr. andrew g', 'ali, mr. william', 'harmer, mr. abraham (david lishin)', 'sjoblom, miss. anna sofia', 'rice, master. george hugh', 'dean, master. bertram vere', 'guggenheim, mr. benjamin', '\"keane, mr. andrew \"\"andy\"\"\"', 'gaskell, mr. alfred', 'sage, miss. stella anna', 'hoyt, mr. william fisher', 'dantcheff, mr. ristiu', 'otter, mr. richard', 'leader, dr. alice (farnham)', 'osman, mrs. mara', 'ibrahim shawah, mr. yousseff', 'van impe, mrs. jean baptiste (rosalie paula govaert)', 'ponesell, mr. martin', 'collyer, mrs. harvey (charlotte annie tate)', 'carter, master. william thornton ii', 'thomas, master. assad alexander', 'hedman, mr. oskar arvid', 'johansson, mr. karl johan', 'andrews, mr. thomas jr', 'pettersson, miss. ellen natalia', 'meyer, mr. august', 'chambers, mrs. norman campbell (bertha griggs)', 'alexander, mr. william', 'lester, mr. james', 'slemen, mr. richard james', 'andersson, miss. ebba iris alfrida', 'tomlin, mr. ernest portage', 'fry, mr. richard', 'heininen, miss. wendla maria', 'mallet, mr. albert', 'holm, mr. john fredrik alexander', 'skoog, master. karl thorsten', 'hays, mrs. charles melville (clara jennings gregg)', 'lulic, mr. nikola', 'reuchlin, jonkheer. john george', 'moor, mrs. (beila)', 'panula, master. urho abraham', 'flynn, mr. john', 'lam, mr. len', 'mallet, master. andre', 'mccormack, mr. thomas joseph', 'stone, mrs. george nelson (martha evelyn)', 'yasbeck, mrs. antoni (selini alexander)', 'richards, master. george sibley', 'saad, mr. amin', 'augustsson, mr. albert', 'allum, mr. owen george', 'compton, miss. sara rebecca', 'pasic, mr. jakob', 'sirota, mr. maurice', 'chip, mr. chang', 'marechal, mr. pierre', 'alhomaki, mr. ilmari rudolf', 'mudd, mr. thomas charles', 'serepeca, miss. augusta', 'lemberopolous, mr. peter l', 'culumovic, mr. jeso', 'abbing, mr. anthony', 'sage, mr. douglas bullen', 'markoff, mr. marin', 'harper, rev. john', 'goldenberg, mrs. samuel l (edwiga grabowska)', 'andersson, master. sigvard harald elias', 'svensson, mr. johan', 'boulos, miss. nourelain', 'lines, miss. mary conover', 'carter, mrs. ernest courtenay (lilian hughes)', 'aks, mrs. sam (leah rosen)', 'wick, mrs. george dennick (mary hitchcock)', 'daly, mr. peter denis ', 'baclini, mrs. solomon (latifa qurban)', 'razi, mr. raihed', 'hansen, mr. claus peter', 'giles, mr. frederick edward', 'swift, mrs. frederick joel (margaret welles barron)', '\"sage, miss. dorothy edith \"\"dolly\"\"\"', 'gill, mr. john william', 'bystrom, mrs. (karolina)', 'duran y more, miss. asuncion', 'roebling, mr. washington augustus ii', 'van melkebeke, mr. philemon', 'johnson, master. harold theodor', 'balkic, mr. cerin', 'beckwith, mrs. richard leonard (sallie monypeny)', 'carlsson, mr. frans olof', 'vander cruyssen, mr. victor', 'abelson, mrs. samuel (hannah wizosky)', '\"najib, miss. adele kiamie \"\"jane\"\"\"', 'gustafsson, mr. alfred ossian', 'petroff, mr. nedelio', 'laleff, mr. kristo', 'potter, mrs. thomas jr (lily alexenia wilson)', 'shelley, mrs. william (imanita parrish hall)', 'markun, mr. johann', 'dahlberg, miss. gerda ulrika', 'banfield, mr. frederick james', 'sutehall, mr. henry jr', 'rice, mrs. william (margaret norton)', 'montvila, rev. juozas', 'graham, miss. margaret edith', '\"johnston, miss. catherine helen \"\"carrie\"\"\"', 'behr, mr. karl howell', 'dooley, mr. patrick']\n"
     ]
    }
   ],
   "source": [
    "# Please show the names of all passengers in the Titanic database, \n",
    "# and then convert them to lowercase using the map function.\n",
    "\n",
    "passenger_names = titanic_rdd \\\n",
    "                 .map(lambda row: row[3])\\\n",
    "                 .map(lambda name: name.lower())\\\n",
    "                 .collect()\n",
    "\n",
    "print(passenger_names)"
   ]
  },
  {
   "cell_type": "markdown",
   "id": "d4a57607",
   "metadata": {},
   "source": [
    "### sortBy function\n",
    "\n",
    "The sortBy function is one of the functions of the PySpark RDD class, which can be used to sort RDD elements by key or value. The first parameter of the sortBy function is the key function, which is used to specify the sorting criteria. The second parameter can be set to False if descending ordering is required, and the default is ascending ordering.\n",
    "\n",
    "```python\n",
    "# Create an RDD containing strings\n",
    "rdd = sc.parallelize([\"apple\", \"banana\", \"cherry\", \"date\", \"elderberry\", \"fig\"])\n",
    "\n",
    "# Arrange the RDD in ascending order by the length of the strings\n",
    "sorted_rdd = rdd.sortBy(lambda x: len(x))\n",
    "\n",
    "# Print the result\n",
    "print(sorted_rdd.collect())\n",
    "```\n",
    "Result:\n",
    "```\n",
    "['fig', 'date', 'apple', 'banana', 'cherry', 'elderberry']\n",
    "```\n",
    "In the above example, we have sorted the elements of the RDD in ascending order by the length of the strings using the sortBy function. In the result, the elements of the RDD are sorted by the initial letter if they are of the same length. The collect function is used to print the result."
   ]
  },
  {
   "cell_type": "markdown",
   "id": "c9246d96",
   "metadata": {},
   "source": [
    "### take function\n",
    "\n",
    "The take function is a PySpark operation that returns the first n elements of the RDD in the form of a list. This function can be useful when examining the RDD, as it is not necessary to iterate over all the elements, but only the first few. Here is an example of using the take function:\n",
    "\n",
    "```python\n",
    "# Create an RDD with numbers\n",
    "rdd = sc.parallelize([1, 2, 3, 4, 5, 6, 7, 8, 9, 10])\n",
    "\n",
    "# Take the first 3 elements from the RDD\n",
    "result = rdd.take(3)\n",
    "\n",
    "# Write the result\n",
    "print(result)\n",
    "```\n",
    "Result:\n",
    "```python\n",
    "[1, 2, 3]\n",
    "```\n",
    "\n"
   ]
  },
  {
   "cell_type": "code",
   "execution_count": 17,
   "id": "800a43a0",
   "metadata": {},
   "outputs": [
    {
     "name": "stdout",
     "output_type": "stream",
     "text": [
      "[0.42, 0.67, 0.75, 0.75, 0.83, 0.83, 0.92, 1.0, 1.0, 1.0]\n"
     ]
    }
   ],
   "source": [
    "# Make a list of the ages of the first 10 passengers in the Titanic dataset! \n",
    "# Use the map function to retrieve the ages, filter out those with None, \n",
    "# then sort them in ascending order and select the first 10.\n",
    "\n",
    "first_10_ages = titanic_rdd \\\n",
    "                .map(lambda row: row[5]) \\\n",
    "                .filter(lambda age: age != None) \\\n",
    "                .map(lambda age: age) \\\n",
    "                .sortBy(lambda age: age) \\\n",
    "                .take(10)\n",
    "print(first_10_ages)"
   ]
  },
  {
   "cell_type": "markdown",
   "id": "815bc683",
   "metadata": {},
   "source": [
    "## Practice"
   ]
  },
  {
   "cell_type": "code",
   "execution_count": 18,
   "id": "2c214093",
   "metadata": {},
   "outputs": [
    {
     "name": "stdout",
     "output_type": "stream",
     "text": [
      "[80.0, 74.0, 71.0, 71.0, 70.5]\n"
     ]
    }
   ],
   "source": [
    "# Make a list of the ages of the first 5 passengers in the Titanic dataset! \n",
    "# Use the map function to retrieve the ages, filter out those with None, \n",
    "# then sort them in descending order and select the first 5.\n",
    "\n",
    "first_10_ages = titanic_rdd \\\n",
    "                .map(lambda row: row[5]) \\\n",
    "                .filter(lambda age: age != None) \\\n",
    "                .map(lambda age: age) \\\n",
    "                .sortBy(lambda age: age, False) \\\n",
    "                .take(5)\n",
    "print(first_10_ages)"
   ]
  },
  {
   "cell_type": "markdown",
   "id": "c4e3b80e",
   "metadata": {},
   "source": [
    "### partitioning\n",
    "\n",
    "PySpark RDDs can be divided into parts, called partitions, into which the elements of the RDD are grouped. The number of particles can be set when the RDD is created or will be the default number set in the Spark context.\n",
    "\n",
    "The role of partitioning is to divide the RDD into independent parts in the Spark cluster that can be processed in parallel. This allows Spark to make efficient use of available resources and process RDD elements faster.\n",
    "\n",
    "Partitioning the RDD can be advantageous when the RDD is large or when you want to perform operations that allow parallel execution.\n",
    "\n",
    "Partitioning of the RDD can be performed using the repartition or coalesce functions. The repartition function reorganizes the RDD to the specified number of partitions, while the coalesce function reorganizes the RDD to the default partitioning level.\n",
    "\n",
    "```python\n",
    "# Create an RDD with numbers\n",
    "rdd = sc.parallelize(range(100), numSlices=4)\n",
    "\n",
    "# Set the partitioning number to 2\n",
    "rdd = rdd.repartition(2)\n",
    "\n",
    "# Examine the number of partitions\n",
    "print(rdd.getNumPartitions())\n",
    "\n",
    "```\n",
    "Result:\n",
    "\n",
    "```python\n",
    "2\n",
    "\n",
    "```\n",
    "\n",
    "In the above example, we first create an RDD with numbers, and then set the number of partitions to 4 using the numSlices parameter of the parallelize function. Then, using the repartition function, we transform the RDD to contain only 2 partitions. Finally, the getNumPartitions function is used to check the number of partitions and make sure that it is set to 2."
   ]
  },
  {
   "cell_type": "code",
   "execution_count": 19,
   "id": "2152ccb1",
   "metadata": {},
   "outputs": [
    {
     "data": {
      "text/plain": [
       "1"
      ]
     },
     "execution_count": 19,
     "metadata": {},
     "output_type": "execute_result"
    }
   ],
   "source": [
    "# Retrieve the number of partitions\n",
    "\n",
    "titanic_rdd.getNumPartitions()"
   ]
  },
  {
   "cell_type": "code",
   "execution_count": 20,
   "id": "15dd93b9",
   "metadata": {},
   "outputs": [
    {
     "data": {
      "text/plain": [
       "15"
      ]
     },
     "execution_count": 20,
     "metadata": {},
     "output_type": "execute_result"
    }
   ],
   "source": [
    "titanic_rdd.repartition(15).getNumPartitions()"
   ]
  },
  {
   "cell_type": "code",
   "execution_count": 21,
   "id": "7a56a3c7",
   "metadata": {},
   "outputs": [
    {
     "name": "stdout",
     "output_type": "stream",
     "text": [
      "[300, 300, 291]\n"
     ]
    }
   ],
   "source": [
    "# Please describe how much data the particles contain\n",
    "\n",
    "partition_sizes = titanic_rdd.repartition(15).repartition(3).mapPartitions(lambda partition: [len(list(partition))]).collect()\n",
    "print(partition_sizes)"
   ]
  },
  {
   "cell_type": "markdown",
   "id": "888a2922",
   "metadata": {},
   "source": [
    "### distinct function\n",
    "\n",
    "The distinct function in PySpark is an operation on the RDD that removes duplicate elements and keeps only unique elements. The function does not perform any aggregation during its operation, i.e. the order and number of elements in the result is the same as the unique elements in the RDD.\n",
    "\n",
    "The use of the distinct function is very simple, just call it on the RDD you want to apply it to and you will get the RDD with the unique elements. In the following example we will filter out the unique elements of the RDD:\n",
    "    \n",
    "```python\n",
    "# Create RDD\n",
    "rdd = sc.parallelize([1, 2, 3, 2, 1, 4, 5, 3, 6, 7, 6, 8, 9, 9])\n",
    "\n",
    "# Filter RDD to individual elements\n",
    "unique_rdd = rdd.distinct()\n",
    "\n",
    "# Write out the unique elements\n",
    "print(unique_rdd.collect())\n",
    "\n",
    "```\n",
    "Result:\n",
    "\n",
    "```python\n",
    "[1, 2, 3, 4, 5, 6, 7, 8, 9]\n",
    "\n",
    "```\n",
    "\n"
   ]
  },
  {
   "cell_type": "code",
   "execution_count": 23,
   "id": "d8c78c0f",
   "metadata": {},
   "outputs": [],
   "source": [
    "# Please describe the different passenger classes without repeating\n",
    "\n",
    "titanic_rdd.map(lambda x: x[2]) \\\n",
    "           .distinct()          \\\n",
    "           .foreach(print)"
   ]
  },
  {
   "cell_type": "markdown",
   "id": "e696b22c",
   "metadata": {},
   "source": [
    "### union function\n",
    "\n",
    "The union function is used in PySpark to join two RDDs. When the function operates, the elements of the first RDD in the result will follow the elements of the second RDD, and the result RDD will be of the same type as the two input RDDs.\n",
    "\n",
    "Using the union function is very simple, just call it on the two RDDs you want to apply it to, and the elements of the first RDD will follow the elements of the second RDD in the result. In the following example, two RDDs are merged:  \n",
    "```python\n",
    "# Create the first RDD\n",
    "rdd1 = sc.parallelize([1, 2, 3, 4, 5])\n",
    "\n",
    "# Create the second RDD\n",
    "rdd2 = sc.parallelize([6, 7, 8, 9, 10])\n",
    "\n",
    "# Merge the RDDs\n",
    "union_rdd = rdd1.union(rdd2)\n",
    "\n",
    "# Print the result\n",
    "print(union_rdd.collect())\n",
    "\n",
    "\n",
    "```\n",
    "Result:\n",
    "\n",
    "```python\n",
    "[1, 2, 3, 4, 5, 6, 7, 8, 9, 10]\n",
    "\n",
    "```\n"
   ]
  },
  {
   "cell_type": "code",
   "execution_count": 24,
   "id": "dde3fda3",
   "metadata": {},
   "outputs": [
    {
     "name": "stdout",
     "output_type": "stream",
     "text": [
      "[Row(PassengerId=1, Survived=0, Pclass=3, Name='Braund, Mr. Owen Harris', Sex='male', Age=22.0, SibSp=1, Parch=0, Ticket='A/5 21171', Fare=7.25, Cabin=None, Embarked='S'), Row(PassengerId=5, Survived=0, Pclass=3, Name='Allen, Mr. William Henry', Sex='male', Age=35.0, SibSp=0, Parch=0, Ticket='373450', Fare=8.05, Cabin=None, Embarked='S'), Row(PassengerId=6, Survived=0, Pclass=3, Name='Moran, Mr. James', Sex='male', Age=None, SibSp=0, Parch=0, Ticket='330877', Fare=8.4583, Cabin=None, Embarked='Q'), Row(PassengerId=7, Survived=0, Pclass=1, Name='McCarthy, Mr. Timothy J', Sex='male', Age=54.0, SibSp=0, Parch=0, Ticket='17463', Fare=51.8625, Cabin='E46', Embarked='S'), Row(PassengerId=8, Survived=0, Pclass=3, Name='Palsson, Master. Gosta Leonard', Sex='male', Age=2.0, SibSp=3, Parch=1, Ticket='349909', Fare=21.075, Cabin=None, Embarked='S'), Row(PassengerId=13, Survived=0, Pclass=3, Name='Saundercock, Mr. William Henry', Sex='male', Age=20.0, SibSp=0, Parch=0, Ticket='A/5. 2151', Fare=8.05, Cabin=None, Embarked='S'), Row(PassengerId=14, Survived=0, Pclass=3, Name='Andersson, Mr. Anders Johan', Sex='male', Age=39.0, SibSp=1, Parch=5, Ticket='347082', Fare=31.275, Cabin=None, Embarked='S'), Row(PassengerId=17, Survived=0, Pclass=3, Name='Rice, Master. Eugene', Sex='male', Age=2.0, SibSp=4, Parch=1, Ticket='382652', Fare=29.125, Cabin=None, Embarked='Q'), Row(PassengerId=18, Survived=1, Pclass=2, Name='Williams, Mr. Charles Eugene', Sex='male', Age=None, SibSp=0, Parch=0, Ticket='244373', Fare=13.0, Cabin=None, Embarked='S'), Row(PassengerId=21, Survived=0, Pclass=2, Name='Fynney, Mr. Joseph J', Sex='male', Age=35.0, SibSp=0, Parch=0, Ticket='239865', Fare=26.0, Cabin=None, Embarked='S'), Row(PassengerId=22, Survived=1, Pclass=2, Name='Beesley, Mr. Lawrence', Sex='male', Age=34.0, SibSp=0, Parch=0, Ticket='248698', Fare=13.0, Cabin='D56', Embarked='S'), Row(PassengerId=24, Survived=1, Pclass=1, Name='Sloper, Mr. William Thompson', Sex='male', Age=28.0, SibSp=0, Parch=0, Ticket='113788', Fare=35.5, Cabin='A6', Embarked='S'), Row(PassengerId=27, Survived=0, Pclass=3, Name='Emir, Mr. Farred Chehab', Sex='male', Age=None, SibSp=0, Parch=0, Ticket='2631', Fare=7.225, Cabin=None, Embarked='C'), Row(PassengerId=28, Survived=0, Pclass=1, Name='Fortune, Mr. Charles Alexander', Sex='male', Age=19.0, SibSp=3, Parch=2, Ticket='19950', Fare=263.0, Cabin='C23 C25 C27', Embarked='S'), Row(PassengerId=30, Survived=0, Pclass=3, Name='Todoroff, Mr. Lalio', Sex='male', Age=None, SibSp=0, Parch=0, Ticket='349216', Fare=7.8958, Cabin=None, Embarked='S'), Row(PassengerId=31, Survived=0, Pclass=1, Name='Uruchurtu, Don. Manuel E', Sex='male', Age=40.0, SibSp=0, Parch=0, Ticket='PC 17601', Fare=27.7208, Cabin=None, Embarked='C'), Row(PassengerId=34, Survived=0, Pclass=2, Name='Wheadon, Mr. Edward H', Sex='male', Age=66.0, SibSp=0, Parch=0, Ticket='C.A. 24579', Fare=10.5, Cabin=None, Embarked='S'), Row(PassengerId=35, Survived=0, Pclass=1, Name='Meyer, Mr. Edgar Joseph', Sex='male', Age=28.0, SibSp=1, Parch=0, Ticket='PC 17604', Fare=82.1708, Cabin=None, Embarked='C'), Row(PassengerId=36, Survived=0, Pclass=1, Name='Holverson, Mr. Alexander Oskar', Sex='male', Age=42.0, SibSp=1, Parch=0, Ticket='113789', Fare=52.0, Cabin=None, Embarked='S'), Row(PassengerId=37, Survived=1, Pclass=3, Name='Mamee, Mr. Hanna', Sex='male', Age=None, SibSp=0, Parch=0, Ticket='2677', Fare=7.2292, Cabin=None, Embarked='C'), Row(PassengerId=38, Survived=0, Pclass=3, Name='Cann, Mr. Ernest Charles', Sex='male', Age=21.0, SibSp=0, Parch=0, Ticket='A./5. 2152', Fare=8.05, Cabin=None, Embarked='S'), Row(PassengerId=43, Survived=0, Pclass=3, Name='Kraeff, Mr. Theodor', Sex='male', Age=None, SibSp=0, Parch=0, Ticket='349253', Fare=7.8958, Cabin=None, Embarked='C'), Row(PassengerId=46, Survived=0, Pclass=3, Name='Rogers, Mr. William John', Sex='male', Age=None, SibSp=0, Parch=0, Ticket='S.C./A.4. 23567', Fare=8.05, Cabin=None, Embarked='S'), Row(PassengerId=47, Survived=0, Pclass=3, Name='Lennon, Mr. Denis', Sex='male', Age=None, SibSp=1, Parch=0, Ticket='370371', Fare=15.5, Cabin=None, Embarked='Q'), Row(PassengerId=49, Survived=0, Pclass=3, Name='Samaan, Mr. Youssef', Sex='male', Age=None, SibSp=2, Parch=0, Ticket='2662', Fare=21.6792, Cabin=None, Embarked='C'), Row(PassengerId=51, Survived=0, Pclass=3, Name='Panula, Master. Juha Niilo', Sex='male', Age=7.0, SibSp=4, Parch=1, Ticket='3101295', Fare=39.6875, Cabin=None, Embarked='S'), Row(PassengerId=52, Survived=0, Pclass=3, Name='Nosworthy, Mr. Richard Cater', Sex='male', Age=21.0, SibSp=0, Parch=0, Ticket='A/4. 39886', Fare=7.8, Cabin=None, Embarked='S'), Row(PassengerId=55, Survived=0, Pclass=1, Name='Ostby, Mr. Engelhart Cornelius', Sex='male', Age=65.0, SibSp=0, Parch=1, Ticket='113509', Fare=61.9792, Cabin='B30', Embarked='C'), Row(PassengerId=56, Survived=1, Pclass=1, Name='Woolner, Mr. Hugh', Sex='male', Age=None, SibSp=0, Parch=0, Ticket='19947', Fare=35.5, Cabin='C52', Embarked='S'), Row(PassengerId=58, Survived=0, Pclass=3, Name='Novel, Mr. Mansouer', Sex='male', Age=28.5, SibSp=0, Parch=0, Ticket='2697', Fare=7.2292, Cabin=None, Embarked='C'), Row(PassengerId=60, Survived=0, Pclass=3, Name='Goodwin, Master. William Frederick', Sex='male', Age=11.0, SibSp=5, Parch=2, Ticket='CA 2144', Fare=46.9, Cabin=None, Embarked='S'), Row(PassengerId=61, Survived=0, Pclass=3, Name='Sirayanian, Mr. Orsen', Sex='male', Age=22.0, SibSp=0, Parch=0, Ticket='2669', Fare=7.2292, Cabin=None, Embarked='C'), Row(PassengerId=63, Survived=0, Pclass=1, Name='Harris, Mr. Henry Birkhardt', Sex='male', Age=45.0, SibSp=1, Parch=0, Ticket='36973', Fare=83.475, Cabin='C83', Embarked='S'), Row(PassengerId=64, Survived=0, Pclass=3, Name='Skoog, Master. Harald', Sex='male', Age=4.0, SibSp=3, Parch=2, Ticket='347088', Fare=27.9, Cabin=None, Embarked='S'), Row(PassengerId=65, Survived=0, Pclass=1, Name='Stewart, Mr. Albert A', Sex='male', Age=None, SibSp=0, Parch=0, Ticket='PC 17605', Fare=27.7208, Cabin=None, Embarked='C'), Row(PassengerId=66, Survived=1, Pclass=3, Name='Moubarek, Master. Gerios', Sex='male', Age=None, SibSp=1, Parch=1, Ticket='2661', Fare=15.2458, Cabin=None, Embarked='C'), Row(PassengerId=68, Survived=0, Pclass=3, Name='Crease, Mr. Ernest James', Sex='male', Age=19.0, SibSp=0, Parch=0, Ticket='S.P. 3464', Fare=8.1583, Cabin=None, Embarked='S'), Row(PassengerId=70, Survived=0, Pclass=3, Name='Kink, Mr. Vincenz', Sex='male', Age=26.0, SibSp=2, Parch=0, Ticket='315151', Fare=8.6625, Cabin=None, Embarked='S'), Row(PassengerId=71, Survived=0, Pclass=2, Name='Jenkin, Mr. Stephen Curnow', Sex='male', Age=32.0, SibSp=0, Parch=0, Ticket='C.A. 33111', Fare=10.5, Cabin=None, Embarked='S'), Row(PassengerId=73, Survived=0, Pclass=2, Name='Hood, Mr. Ambrose Jr', Sex='male', Age=21.0, SibSp=0, Parch=0, Ticket='S.O.C. 14879', Fare=73.5, Cabin=None, Embarked='S'), Row(PassengerId=74, Survived=0, Pclass=3, Name='Chronopoulos, Mr. Apostolos', Sex='male', Age=26.0, SibSp=1, Parch=0, Ticket='2680', Fare=14.4542, Cabin=None, Embarked='C'), Row(PassengerId=75, Survived=1, Pclass=3, Name='Bing, Mr. Lee', Sex='male', Age=32.0, SibSp=0, Parch=0, Ticket='1601', Fare=56.4958, Cabin=None, Embarked='S'), Row(PassengerId=76, Survived=0, Pclass=3, Name='Moen, Mr. Sigurd Hansen', Sex='male', Age=25.0, SibSp=0, Parch=0, Ticket='348123', Fare=7.65, Cabin='F G73', Embarked='S'), Row(PassengerId=77, Survived=0, Pclass=3, Name='Staneff, Mr. Ivan', Sex='male', Age=None, SibSp=0, Parch=0, Ticket='349208', Fare=7.8958, Cabin=None, Embarked='S'), Row(PassengerId=78, Survived=0, Pclass=3, Name='Moutal, Mr. Rahamin Haim', Sex='male', Age=None, SibSp=0, Parch=0, Ticket='374746', Fare=8.05, Cabin=None, Embarked='S'), Row(PassengerId=79, Survived=1, Pclass=2, Name='Caldwell, Master. Alden Gates', Sex='male', Age=0.83, SibSp=0, Parch=2, Ticket='248738', Fare=29.0, Cabin=None, Embarked='S'), Row(PassengerId=81, Survived=0, Pclass=3, Name='Waelens, Mr. Achille', Sex='male', Age=22.0, SibSp=0, Parch=0, Ticket='345767', Fare=9.0, Cabin=None, Embarked='S'), Row(PassengerId=82, Survived=1, Pclass=3, Name='Sheerlinck, Mr. Jan Baptist', Sex='male', Age=29.0, SibSp=0, Parch=0, Ticket='345779', Fare=9.5, Cabin=None, Embarked='S'), Row(PassengerId=84, Survived=0, Pclass=1, Name='Carrau, Mr. Francisco M', Sex='male', Age=28.0, SibSp=0, Parch=0, Ticket='113059', Fare=47.1, Cabin=None, Embarked='S'), Row(PassengerId=87, Survived=0, Pclass=3, Name='Ford, Mr. William Neal', Sex='male', Age=16.0, SibSp=1, Parch=3, Ticket='W./C. 6608', Fare=34.375, Cabin=None, Embarked='S'), Row(PassengerId=88, Survived=0, Pclass=3, Name='Slocovski, Mr. Selman Francis', Sex='male', Age=None, SibSp=0, Parch=0, Ticket='SOTON/OQ 392086', Fare=8.05, Cabin=None, Embarked='S'), Row(PassengerId=90, Survived=0, Pclass=3, Name='Celotti, Mr. Francesco', Sex='male', Age=24.0, SibSp=0, Parch=0, Ticket='343275', Fare=8.05, Cabin=None, Embarked='S'), Row(PassengerId=91, Survived=0, Pclass=3, Name='Christmann, Mr. Emil', Sex='male', Age=29.0, SibSp=0, Parch=0, Ticket='343276', Fare=8.05, Cabin=None, Embarked='S'), Row(PassengerId=92, Survived=0, Pclass=3, Name='Andreasson, Mr. Paul Edvin', Sex='male', Age=20.0, SibSp=0, Parch=0, Ticket='347466', Fare=7.8542, Cabin=None, Embarked='S'), Row(PassengerId=93, Survived=0, Pclass=1, Name='Chaffee, Mr. Herbert Fuller', Sex='male', Age=46.0, SibSp=1, Parch=0, Ticket='W.E.P. 5734', Fare=61.175, Cabin='E31', Embarked='S'), Row(PassengerId=94, Survived=0, Pclass=3, Name='Dean, Mr. Bertram Frank', Sex='male', Age=26.0, SibSp=1, Parch=2, Ticket='C.A. 2315', Fare=20.575, Cabin=None, Embarked='S'), Row(PassengerId=95, Survived=0, Pclass=3, Name='Coxon, Mr. Daniel', Sex='male', Age=59.0, SibSp=0, Parch=0, Ticket='364500', Fare=7.25, Cabin=None, Embarked='S'), Row(PassengerId=96, Survived=0, Pclass=3, Name='Shorney, Mr. Charles Joseph', Sex='male', Age=None, SibSp=0, Parch=0, Ticket='374910', Fare=8.05, Cabin=None, Embarked='S'), Row(PassengerId=97, Survived=0, Pclass=1, Name='Goldschmidt, Mr. George B', Sex='male', Age=71.0, SibSp=0, Parch=0, Ticket='PC 17754', Fare=34.6542, Cabin='A5', Embarked='C'), Row(PassengerId=98, Survived=1, Pclass=1, Name='Greenfield, Mr. William Bertram', Sex='male', Age=23.0, SibSp=0, Parch=1, Ticket='PC 17759', Fare=63.3583, Cabin='D10 D12', Embarked='C'), Row(PassengerId=100, Survived=0, Pclass=2, Name='Kantor, Mr. Sinai', Sex='male', Age=34.0, SibSp=1, Parch=0, Ticket='244367', Fare=26.0, Cabin=None, Embarked='S'), Row(PassengerId=102, Survived=0, Pclass=3, Name='\"Petroff, Mr. Pastcho (\"\"Pentcho\"\")\"', Sex='male', Age=None, SibSp=0, Parch=0, Ticket='349215', Fare=7.8958, Cabin=None, Embarked='S'), Row(PassengerId=103, Survived=0, Pclass=1, Name='White, Mr. Richard Frasar', Sex='male', Age=21.0, SibSp=0, Parch=1, Ticket='35281', Fare=77.2875, Cabin='D26', Embarked='S'), Row(PassengerId=104, Survived=0, Pclass=3, Name='Johansson, Mr. Gustaf Joel', Sex='male', Age=33.0, SibSp=0, Parch=0, Ticket='7540', Fare=8.6542, Cabin=None, Embarked='S'), Row(PassengerId=105, Survived=0, Pclass=3, Name='Gustafsson, Mr. Anders Vilhelm', Sex='male', Age=37.0, SibSp=2, Parch=0, Ticket='3101276', Fare=7.925, Cabin=None, Embarked='S'), Row(PassengerId=106, Survived=0, Pclass=3, Name='Mionoff, Mr. Stoytcho', Sex='male', Age=28.0, SibSp=0, Parch=0, Ticket='349207', Fare=7.8958, Cabin=None, Embarked='S'), Row(PassengerId=108, Survived=1, Pclass=3, Name='Moss, Mr. Albert Johan', Sex='male', Age=None, SibSp=0, Parch=0, Ticket='312991', Fare=7.775, Cabin=None, Embarked='S'), Row(PassengerId=109, Survived=0, Pclass=3, Name='Rekic, Mr. Tido', Sex='male', Age=38.0, SibSp=0, Parch=0, Ticket='349249', Fare=7.8958, Cabin=None, Embarked='S'), Row(PassengerId=111, Survived=0, Pclass=1, Name='Porter, Mr. Walter Chamberlain', Sex='male', Age=47.0, SibSp=0, Parch=0, Ticket='110465', Fare=52.0, Cabin='C110', Embarked='S'), Row(PassengerId=113, Survived=0, Pclass=3, Name='Barton, Mr. David John', Sex='male', Age=22.0, SibSp=0, Parch=0, Ticket='324669', Fare=8.05, Cabin=None, Embarked='S'), Row(PassengerId=116, Survived=0, Pclass=3, Name='Pekoniemi, Mr. Edvard', Sex='male', Age=21.0, SibSp=0, Parch=0, Ticket='STON/O 2. 3101294', Fare=7.925, Cabin=None, Embarked='S'), Row(PassengerId=117, Survived=0, Pclass=3, Name='Connors, Mr. Patrick', Sex='male', Age=70.5, SibSp=0, Parch=0, Ticket='370369', Fare=7.75, Cabin=None, Embarked='Q'), Row(PassengerId=118, Survived=0, Pclass=2, Name='Turpin, Mr. William John Robert', Sex='male', Age=29.0, SibSp=1, Parch=0, Ticket='11668', Fare=21.0, Cabin=None, Embarked='S'), Row(PassengerId=119, Survived=0, Pclass=1, Name='Baxter, Mr. Quigg Edmond', Sex='male', Age=24.0, SibSp=0, Parch=1, Ticket='PC 17558', Fare=247.5208, Cabin='B58 B60', Embarked='C'), Row(PassengerId=121, Survived=0, Pclass=2, Name='Hickman, Mr. Stanley George', Sex='male', Age=21.0, SibSp=2, Parch=0, Ticket='S.O.C. 14879', Fare=73.5, Cabin=None, Embarked='S'), Row(PassengerId=122, Survived=0, Pclass=3, Name='Moore, Mr. Leonard Charles', Sex='male', Age=None, SibSp=0, Parch=0, Ticket='A4. 54510', Fare=8.05, Cabin=None, Embarked='S'), Row(PassengerId=123, Survived=0, Pclass=2, Name='Nasser, Mr. Nicholas', Sex='male', Age=32.5, SibSp=1, Parch=0, Ticket='237736', Fare=30.0708, Cabin=None, Embarked='C'), Row(PassengerId=125, Survived=0, Pclass=1, Name='White, Mr. Percival Wayland', Sex='male', Age=54.0, SibSp=0, Parch=1, Ticket='35281', Fare=77.2875, Cabin='D26', Embarked='S'), Row(PassengerId=126, Survived=1, Pclass=3, Name='Nicola-Yarred, Master. Elias', Sex='male', Age=12.0, SibSp=1, Parch=0, Ticket='2651', Fare=11.2417, Cabin=None, Embarked='C'), Row(PassengerId=127, Survived=0, Pclass=3, Name='McMahon, Mr. Martin', Sex='male', Age=None, SibSp=0, Parch=0, Ticket='370372', Fare=7.75, Cabin=None, Embarked='Q'), Row(PassengerId=128, Survived=1, Pclass=3, Name='Madsen, Mr. Fridtjof Arne', Sex='male', Age=24.0, SibSp=0, Parch=0, Ticket='C 17369', Fare=7.1417, Cabin=None, Embarked='S'), Row(PassengerId=130, Survived=0, Pclass=3, Name='Ekstrom, Mr. Johan', Sex='male', Age=45.0, SibSp=0, Parch=0, Ticket='347061', Fare=6.975, Cabin=None, Embarked='S'), Row(PassengerId=131, Survived=0, Pclass=3, Name='Drazenoic, Mr. Jozef', Sex='male', Age=33.0, SibSp=0, Parch=0, Ticket='349241', Fare=7.8958, Cabin=None, Embarked='C'), Row(PassengerId=132, Survived=0, Pclass=3, Name='Coelho, Mr. Domingos Fernandeo', Sex='male', Age=20.0, SibSp=0, Parch=0, Ticket='SOTON/O.Q. 3101307', Fare=7.05, Cabin=None, Embarked='S'), Row(PassengerId=135, Survived=0, Pclass=2, Name='Sobey, Mr. Samuel James Hayden', Sex='male', Age=25.0, SibSp=0, Parch=0, Ticket='C.A. 29178', Fare=13.0, Cabin=None, Embarked='S'), Row(PassengerId=136, Survived=0, Pclass=2, Name='Richard, Mr. Emile', Sex='male', Age=23.0, SibSp=0, Parch=0, Ticket='SC/PARIS 2133', Fare=15.0458, Cabin=None, Embarked='C'), Row(PassengerId=138, Survived=0, Pclass=1, Name='Futrelle, Mr. Jacques Heath', Sex='male', Age=37.0, SibSp=1, Parch=0, Ticket='113803', Fare=53.1, Cabin='C123', Embarked='S'), Row(PassengerId=139, Survived=0, Pclass=3, Name='Osen, Mr. Olaf Elon', Sex='male', Age=16.0, SibSp=0, Parch=0, Ticket='7534', Fare=9.2167, Cabin=None, Embarked='S'), Row(PassengerId=140, Survived=0, Pclass=1, Name='Giglio, Mr. Victor', Sex='male', Age=24.0, SibSp=0, Parch=0, Ticket='PC 17593', Fare=79.2, Cabin='B86', Embarked='C'), Row(PassengerId=144, Survived=0, Pclass=3, Name='Burke, Mr. Jeremiah', Sex='male', Age=19.0, SibSp=0, Parch=0, Ticket='365222', Fare=6.75, Cabin=None, Embarked='Q'), Row(PassengerId=145, Survived=0, Pclass=2, Name='Andrew, Mr. Edgardo Samuel', Sex='male', Age=18.0, SibSp=0, Parch=0, Ticket='231945', Fare=11.5, Cabin=None, Embarked='S'), Row(PassengerId=146, Survived=0, Pclass=2, Name='Nicholls, Mr. Joseph Charles', Sex='male', Age=19.0, SibSp=1, Parch=1, Ticket='C.A. 33112', Fare=36.75, Cabin=None, Embarked='S'), Row(PassengerId=147, Survived=1, Pclass=3, Name='\"Andersson, Mr. August Edvard (\"\"Wennerstrom\"\")\"', Sex='male', Age=27.0, SibSp=0, Parch=0, Ticket='350043', Fare=7.7958, Cabin=None, Embarked='S'), Row(PassengerId=149, Survived=0, Pclass=2, Name='\"Navratil, Mr. Michel (\"\"Louis M Hoffman\"\")\"', Sex='male', Age=36.5, SibSp=0, Parch=2, Ticket='230080', Fare=26.0, Cabin='F2', Embarked='S'), Row(PassengerId=150, Survived=0, Pclass=2, Name='Byles, Rev. Thomas Roussel Davids', Sex='male', Age=42.0, SibSp=0, Parch=0, Ticket='244310', Fare=13.0, Cabin=None, Embarked='S'), Row(PassengerId=151, Survived=0, Pclass=2, Name='Bateman, Rev. Robert James', Sex='male', Age=51.0, SibSp=0, Parch=0, Ticket='S.O.P. 1166', Fare=12.525, Cabin=None, Embarked='S'), Row(PassengerId=153, Survived=0, Pclass=3, Name='Meo, Mr. Alfonzo', Sex='male', Age=55.5, SibSp=0, Parch=0, Ticket='A.5. 11206', Fare=8.05, Cabin=None, Embarked='S'), Row(PassengerId=154, Survived=0, Pclass=3, Name='van Billiard, Mr. Austin Blyler', Sex='male', Age=40.5, SibSp=0, Parch=2, Ticket='A/5. 851', Fare=14.5, Cabin=None, Embarked='S'), Row(PassengerId=155, Survived=0, Pclass=3, Name='Olsen, Mr. Ole Martin', Sex='male', Age=None, SibSp=0, Parch=0, Ticket='Fa 265302', Fare=7.3125, Cabin=None, Embarked='S'), Row(PassengerId=156, Survived=0, Pclass=1, Name='Williams, Mr. Charles Duane', Sex='male', Age=51.0, SibSp=0, Parch=1, Ticket='PC 17597', Fare=61.3792, Cabin=None, Embarked='C'), Row(PassengerId=158, Survived=0, Pclass=3, Name='Corn, Mr. Harry', Sex='male', Age=30.0, SibSp=0, Parch=0, Ticket='SOTON/OQ 392090', Fare=8.05, Cabin=None, Embarked='S'), Row(PassengerId=159, Survived=0, Pclass=3, Name='Smiljanic, Mr. Mile', Sex='male', Age=None, SibSp=0, Parch=0, Ticket='315037', Fare=8.6625, Cabin=None, Embarked='S'), Row(PassengerId=160, Survived=0, Pclass=3, Name='Sage, Master. Thomas Henry', Sex='male', Age=None, SibSp=8, Parch=2, Ticket='CA. 2343', Fare=69.55, Cabin=None, Embarked='S'), Row(PassengerId=161, Survived=0, Pclass=3, Name='Cribb, Mr. John Hatfield', Sex='male', Age=44.0, SibSp=0, Parch=1, Ticket='371362', Fare=16.1, Cabin=None, Embarked='S'), Row(PassengerId=163, Survived=0, Pclass=3, Name='Bengtsson, Mr. John Viktor', Sex='male', Age=26.0, SibSp=0, Parch=0, Ticket='347068', Fare=7.775, Cabin=None, Embarked='S'), Row(PassengerId=164, Survived=0, Pclass=3, Name='Calic, Mr. Jovo', Sex='male', Age=17.0, SibSp=0, Parch=0, Ticket='315093', Fare=8.6625, Cabin=None, Embarked='S'), Row(PassengerId=165, Survived=0, Pclass=3, Name='Panula, Master. Eino Viljami', Sex='male', Age=1.0, SibSp=4, Parch=1, Ticket='3101295', Fare=39.6875, Cabin=None, Embarked='S'), Row(PassengerId=166, Survived=1, Pclass=3, Name='\"Goldsmith, Master. Frank John William \"\"Frankie\"\"\"', Sex='male', Age=9.0, SibSp=0, Parch=2, Ticket='363291', Fare=20.525, Cabin=None, Embarked='S'), Row(PassengerId=169, Survived=0, Pclass=1, Name='Baumann, Mr. John D', Sex='male', Age=None, SibSp=0, Parch=0, Ticket='PC 17318', Fare=25.925, Cabin=None, Embarked='S'), Row(PassengerId=170, Survived=0, Pclass=3, Name='Ling, Mr. Lee', Sex='male', Age=28.0, SibSp=0, Parch=0, Ticket='1601', Fare=56.4958, Cabin=None, Embarked='S'), Row(PassengerId=171, Survived=0, Pclass=1, Name='Van der hoef, Mr. Wyckoff', Sex='male', Age=61.0, SibSp=0, Parch=0, Ticket='111240', Fare=33.5, Cabin='B19', Embarked='S'), Row(PassengerId=172, Survived=0, Pclass=3, Name='Rice, Master. Arthur', Sex='male', Age=4.0, SibSp=4, Parch=1, Ticket='382652', Fare=29.125, Cabin=None, Embarked='Q'), Row(PassengerId=174, Survived=0, Pclass=3, Name='Sivola, Mr. Antti Wilhelm', Sex='male', Age=21.0, SibSp=0, Parch=0, Ticket='STON/O 2. 3101280', Fare=7.925, Cabin=None, Embarked='S'), Row(PassengerId=175, Survived=0, Pclass=1, Name='Smith, Mr. James Clinch', Sex='male', Age=56.0, SibSp=0, Parch=0, Ticket='17764', Fare=30.6958, Cabin='A7', Embarked='C'), Row(PassengerId=176, Survived=0, Pclass=3, Name='Klasen, Mr. Klas Albin', Sex='male', Age=18.0, SibSp=1, Parch=1, Ticket='350404', Fare=7.8542, Cabin=None, Embarked='S'), Row(PassengerId=177, Survived=0, Pclass=3, Name='Lefebre, Master. Henry Forbes', Sex='male', Age=None, SibSp=3, Parch=1, Ticket='4133', Fare=25.4667, Cabin=None, Embarked='S'), Row(PassengerId=179, Survived=0, Pclass=2, Name='Hale, Mr. Reginald', Sex='male', Age=30.0, SibSp=0, Parch=0, Ticket='250653', Fare=13.0, Cabin=None, Embarked='S'), Row(PassengerId=180, Survived=0, Pclass=3, Name='Leonard, Mr. Lionel', Sex='male', Age=36.0, SibSp=0, Parch=0, Ticket='LINE', Fare=0.0, Cabin=None, Embarked='S'), Row(PassengerId=182, Survived=0, Pclass=2, Name='Pernot, Mr. Rene', Sex='male', Age=None, SibSp=0, Parch=0, Ticket='SC/PARIS 2131', Fare=15.05, Cabin=None, Embarked='C'), Row(PassengerId=183, Survived=0, Pclass=3, Name='Asplund, Master. Clarence Gustaf Hugo', Sex='male', Age=9.0, SibSp=4, Parch=2, Ticket='347077', Fare=31.3875, Cabin=None, Embarked='S'), Row(PassengerId=184, Survived=1, Pclass=2, Name='Becker, Master. Richard F', Sex='male', Age=1.0, SibSp=2, Parch=1, Ticket='230136', Fare=39.0, Cabin='F4', Embarked='S'), Row(PassengerId=186, Survived=0, Pclass=1, Name='Rood, Mr. Hugh Roscoe', Sex='male', Age=None, SibSp=0, Parch=0, Ticket='113767', Fare=50.0, Cabin='A32', Embarked='S'), Row(PassengerId=188, Survived=1, Pclass=1, Name='\"Romaine, Mr. Charles Hallace (\"\"Mr C Rolmane\"\")\"', Sex='male', Age=45.0, SibSp=0, Parch=0, Ticket='111428', Fare=26.55, Cabin=None, Embarked='S'), Row(PassengerId=189, Survived=0, Pclass=3, Name='Bourke, Mr. John', Sex='male', Age=40.0, SibSp=1, Parch=1, Ticket='364849', Fare=15.5, Cabin=None, Embarked='Q'), Row(PassengerId=190, Survived=0, Pclass=3, Name='Turcin, Mr. Stjepan', Sex='male', Age=36.0, SibSp=0, Parch=0, Ticket='349247', Fare=7.8958, Cabin=None, Embarked='S'), Row(PassengerId=192, Survived=0, Pclass=2, Name='Carbines, Mr. William', Sex='male', Age=19.0, SibSp=0, Parch=0, Ticket='28424', Fare=13.0, Cabin=None, Embarked='S'), Row(PassengerId=194, Survived=1, Pclass=2, Name='Navratil, Master. Michel M', Sex='male', Age=3.0, SibSp=1, Parch=1, Ticket='230080', Fare=26.0, Cabin='F2', Embarked='S'), Row(PassengerId=197, Survived=0, Pclass=3, Name='Mernagh, Mr. Robert', Sex='male', Age=None, SibSp=0, Parch=0, Ticket='368703', Fare=7.75, Cabin=None, Embarked='Q'), Row(PassengerId=198, Survived=0, Pclass=3, Name='Olsen, Mr. Karl Siegwart Andreas', Sex='male', Age=42.0, SibSp=0, Parch=1, Ticket='4579', Fare=8.4042, Cabin=None, Embarked='S'), Row(PassengerId=201, Survived=0, Pclass=3, Name='Vande Walle, Mr. Nestor Cyriel', Sex='male', Age=28.0, SibSp=0, Parch=0, Ticket='345770', Fare=9.5, Cabin=None, Embarked='S'), Row(PassengerId=202, Survived=0, Pclass=3, Name='Sage, Mr. Frederick', Sex='male', Age=None, SibSp=8, Parch=2, Ticket='CA. 2343', Fare=69.55, Cabin=None, Embarked='S'), Row(PassengerId=203, Survived=0, Pclass=3, Name='Johanson, Mr. Jakob Alfred', Sex='male', Age=34.0, SibSp=0, Parch=0, Ticket='3101264', Fare=6.4958, Cabin=None, Embarked='S'), Row(PassengerId=204, Survived=0, Pclass=3, Name='Youseff, Mr. Gerious', Sex='male', Age=45.5, SibSp=0, Parch=0, Ticket='2628', Fare=7.225, Cabin=None, Embarked='C'), Row(PassengerId=205, Survived=1, Pclass=3, Name='\"Cohen, Mr. Gurshon \"\"Gus\"\"\"', Sex='male', Age=18.0, SibSp=0, Parch=0, Ticket='A/5 3540', Fare=8.05, Cabin=None, Embarked='S'), Row(PassengerId=207, Survived=0, Pclass=3, Name='Backstrom, Mr. Karl Alfred', Sex='male', Age=32.0, SibSp=1, Parch=0, Ticket='3101278', Fare=15.85, Cabin=None, Embarked='S'), Row(PassengerId=208, Survived=1, Pclass=3, Name='Albimona, Mr. Nassef Cassem', Sex='male', Age=26.0, SibSp=0, Parch=0, Ticket='2699', Fare=18.7875, Cabin=None, Embarked='C'), Row(PassengerId=210, Survived=1, Pclass=1, Name='Blank, Mr. Henry', Sex='male', Age=40.0, SibSp=0, Parch=0, Ticket='112277', Fare=31.0, Cabin='A31', Embarked='C'), Row(PassengerId=211, Survived=0, Pclass=3, Name='Ali, Mr. Ahmed', Sex='male', Age=24.0, SibSp=0, Parch=0, Ticket='SOTON/O.Q. 3101311', Fare=7.05, Cabin=None, Embarked='S'), Row(PassengerId=213, Survived=0, Pclass=3, Name='Perkin, Mr. John Henry', Sex='male', Age=22.0, SibSp=0, Parch=0, Ticket='A/5 21174', Fare=7.25, Cabin=None, Embarked='S'), Row(PassengerId=214, Survived=0, Pclass=2, Name='Givard, Mr. Hans Kristensen', Sex='male', Age=30.0, SibSp=0, Parch=0, Ticket='250646', Fare=13.0, Cabin=None, Embarked='S'), Row(PassengerId=215, Survived=0, Pclass=3, Name='Kiernan, Mr. Philip', Sex='male', Age=None, SibSp=1, Parch=0, Ticket='367229', Fare=7.75, Cabin=None, Embarked='Q'), Row(PassengerId=218, Survived=0, Pclass=2, Name='Jacobsohn, Mr. Sidney Samuel', Sex='male', Age=42.0, SibSp=1, Parch=0, Ticket='243847', Fare=27.0, Cabin=None, Embarked='S'), Row(PassengerId=220, Survived=0, Pclass=2, Name='Harris, Mr. Walter', Sex='male', Age=30.0, SibSp=0, Parch=0, Ticket='W/C 14208', Fare=10.5, Cabin=None, Embarked='S'), Row(PassengerId=221, Survived=1, Pclass=3, Name='Sunderland, Mr. Victor Francis', Sex='male', Age=16.0, SibSp=0, Parch=0, Ticket='SOTON/OQ 392089', Fare=8.05, Cabin=None, Embarked='S'), Row(PassengerId=222, Survived=0, Pclass=2, Name='Bracken, Mr. James H', Sex='male', Age=27.0, SibSp=0, Parch=0, Ticket='220367', Fare=13.0, Cabin=None, Embarked='S'), Row(PassengerId=223, Survived=0, Pclass=3, Name='Green, Mr. George Henry', Sex='male', Age=51.0, SibSp=0, Parch=0, Ticket='21440', Fare=8.05, Cabin=None, Embarked='S'), Row(PassengerId=224, Survived=0, Pclass=3, Name='Nenkoff, Mr. Christo', Sex='male', Age=None, SibSp=0, Parch=0, Ticket='349234', Fare=7.8958, Cabin=None, Embarked='S'), Row(PassengerId=225, Survived=1, Pclass=1, Name='Hoyt, Mr. Frederick Maxfield', Sex='male', Age=38.0, SibSp=1, Parch=0, Ticket='19943', Fare=90.0, Cabin='C93', Embarked='S'), Row(PassengerId=226, Survived=0, Pclass=3, Name='Berglund, Mr. Karl Ivar Sven', Sex='male', Age=22.0, SibSp=0, Parch=0, Ticket='PP 4348', Fare=9.35, Cabin=None, Embarked='S'), Row(PassengerId=227, Survived=1, Pclass=2, Name='Mellors, Mr. William John', Sex='male', Age=19.0, SibSp=0, Parch=0, Ticket='SW/PP 751', Fare=10.5, Cabin=None, Embarked='S'), Row(PassengerId=228, Survived=0, Pclass=3, Name='\"Lovell, Mr. John Hall (\"\"Henry\"\")\"', Sex='male', Age=20.5, SibSp=0, Parch=0, Ticket='A/5 21173', Fare=7.25, Cabin=None, Embarked='S'), Row(PassengerId=229, Survived=0, Pclass=2, Name='Fahlstrom, Mr. Arne Jonas', Sex='male', Age=18.0, SibSp=0, Parch=0, Ticket='236171', Fare=13.0, Cabin=None, Embarked='S'), Row(PassengerId=232, Survived=0, Pclass=3, Name='Larsson, Mr. Bengt Edvin', Sex='male', Age=29.0, SibSp=0, Parch=0, Ticket='347067', Fare=7.775, Cabin=None, Embarked='S'), Row(PassengerId=233, Survived=0, Pclass=2, Name='Sjostedt, Mr. Ernst Adolf', Sex='male', Age=59.0, SibSp=0, Parch=0, Ticket='237442', Fare=13.5, Cabin=None, Embarked='S'), Row(PassengerId=235, Survived=0, Pclass=2, Name='Leyson, Mr. Robert William Norman', Sex='male', Age=24.0, SibSp=0, Parch=0, Ticket='C.A. 29566', Fare=10.5, Cabin=None, Embarked='S'), Row(PassengerId=237, Survived=0, Pclass=2, Name='Hold, Mr. Stephen', Sex='male', Age=44.0, SibSp=1, Parch=0, Ticket='26707', Fare=26.0, Cabin=None, Embarked='S'), Row(PassengerId=239, Survived=0, Pclass=2, Name='Pengelly, Mr. Frederick William', Sex='male', Age=19.0, SibSp=0, Parch=0, Ticket='28665', Fare=10.5, Cabin=None, Embarked='S'), Row(PassengerId=240, Survived=0, Pclass=2, Name='Hunt, Mr. George Henry', Sex='male', Age=33.0, SibSp=0, Parch=0, Ticket='SCO/W 1585', Fare=12.275, Cabin=None, Embarked='S'), Row(PassengerId=243, Survived=0, Pclass=2, Name='Coleridge, Mr. Reginald Charles', Sex='male', Age=29.0, SibSp=0, Parch=0, Ticket='W./C. 14263', Fare=10.5, Cabin=None, Embarked='S'), Row(PassengerId=244, Survived=0, Pclass=3, Name='Maenpaa, Mr. Matti Alexanteri', Sex='male', Age=22.0, SibSp=0, Parch=0, Ticket='STON/O 2. 3101275', Fare=7.125, Cabin=None, Embarked='S'), Row(PassengerId=245, Survived=0, Pclass=3, Name='Attalah, Mr. Sleiman', Sex='male', Age=30.0, SibSp=0, Parch=0, Ticket='2694', Fare=7.225, Cabin=None, Embarked='C'), Row(PassengerId=246, Survived=0, Pclass=1, Name='Minahan, Dr. William Edward', Sex='male', Age=44.0, SibSp=2, Parch=0, Ticket='19928', Fare=90.0, Cabin='C78', Embarked='Q'), Row(PassengerId=249, Survived=1, Pclass=1, Name='Beckwith, Mr. Richard Leonard', Sex='male', Age=37.0, SibSp=1, Parch=1, Ticket='11751', Fare=52.5542, Cabin='D35', Embarked='S'), Row(PassengerId=250, Survived=0, Pclass=2, Name='Carter, Rev. Ernest Courtenay', Sex='male', Age=54.0, SibSp=1, Parch=0, Ticket='244252', Fare=26.0, Cabin=None, Embarked='S'), Row(PassengerId=251, Survived=0, Pclass=3, Name='Reed, Mr. James George', Sex='male', Age=None, SibSp=0, Parch=0, Ticket='362316', Fare=7.25, Cabin=None, Embarked='S'), Row(PassengerId=253, Survived=0, Pclass=1, Name='Stead, Mr. William Thomas', Sex='male', Age=62.0, SibSp=0, Parch=0, Ticket='113514', Fare=26.55, Cabin='C87', Embarked='S'), Row(PassengerId=254, Survived=0, Pclass=3, Name='Lobb, Mr. William Arthur', Sex='male', Age=30.0, SibSp=1, Parch=0, Ticket='A/5. 3336', Fare=16.1, Cabin=None, Embarked='S'), Row(PassengerId=261, Survived=0, Pclass=3, Name='Smith, Mr. Thomas', Sex='male', Age=None, SibSp=0, Parch=0, Ticket='384461', Fare=7.75, Cabin=None, Embarked='Q'), Row(PassengerId=262, Survived=1, Pclass=3, Name='Asplund, Master. Edvin Rojj Felix', Sex='male', Age=3.0, SibSp=4, Parch=2, Ticket='347077', Fare=31.3875, Cabin=None, Embarked='S'), Row(PassengerId=263, Survived=0, Pclass=1, Name='Taussig, Mr. Emil', Sex='male', Age=52.0, SibSp=1, Parch=1, Ticket='110413', Fare=79.65, Cabin='E67', Embarked='S'), Row(PassengerId=264, Survived=0, Pclass=1, Name='Harrison, Mr. William', Sex='male', Age=40.0, SibSp=0, Parch=0, Ticket='112059', Fare=0.0, Cabin='B94', Embarked='S'), Row(PassengerId=266, Survived=0, Pclass=2, Name='Reeves, Mr. David', Sex='male', Age=36.0, SibSp=0, Parch=0, Ticket='C.A. 17248', Fare=10.5, Cabin=None, Embarked='S'), Row(PassengerId=267, Survived=0, Pclass=3, Name='Panula, Mr. Ernesti Arvid', Sex='male', Age=16.0, SibSp=4, Parch=1, Ticket='3101295', Fare=39.6875, Cabin=None, Embarked='S'), Row(PassengerId=268, Survived=1, Pclass=3, Name='Persson, Mr. Ernst Ulrik', Sex='male', Age=25.0, SibSp=1, Parch=0, Ticket='347083', Fare=7.775, Cabin=None, Embarked='S'), Row(PassengerId=271, Survived=0, Pclass=1, Name='Cairns, Mr. Alexander', Sex='male', Age=None, SibSp=0, Parch=0, Ticket='113798', Fare=31.0, Cabin=None, Embarked='S'), Row(PassengerId=272, Survived=1, Pclass=3, Name='Tornquist, Mr. William Henry', Sex='male', Age=25.0, SibSp=0, Parch=0, Ticket='LINE', Fare=0.0, Cabin=None, Embarked='S'), Row(PassengerId=274, Survived=0, Pclass=1, Name='Natsch, Mr. Charles H', Sex='male', Age=37.0, SibSp=0, Parch=1, Ticket='PC 17596', Fare=29.7, Cabin='C118', Embarked='C'), Row(PassengerId=278, Survived=0, Pclass=2, Name='\"Parkes, Mr. Francis \"\"Frank\"\"\"', Sex='male', Age=None, SibSp=0, Parch=0, Ticket='239853', Fare=0.0, Cabin=None, Embarked='S'), Row(PassengerId=279, Survived=0, Pclass=3, Name='Rice, Master. Eric', Sex='male', Age=7.0, SibSp=4, Parch=1, Ticket='382652', Fare=29.125, Cabin=None, Embarked='Q'), Row(PassengerId=281, Survived=0, Pclass=3, Name='Duane, Mr. Frank', Sex='male', Age=65.0, SibSp=0, Parch=0, Ticket='336439', Fare=7.75, Cabin=None, Embarked='Q'), Row(PassengerId=282, Survived=0, Pclass=3, Name='Olsson, Mr. Nils Johan Goransson', Sex='male', Age=28.0, SibSp=0, Parch=0, Ticket='347464', Fare=7.8542, Cabin=None, Embarked='S'), Row(PassengerId=283, Survived=0, Pclass=3, Name='de Pelsmaeker, Mr. Alfons', Sex='male', Age=16.0, SibSp=0, Parch=0, Ticket='345778', Fare=9.5, Cabin=None, Embarked='S'), Row(PassengerId=284, Survived=1, Pclass=3, Name='Dorking, Mr. Edward Arthur', Sex='male', Age=19.0, SibSp=0, Parch=0, Ticket='A/5. 10482', Fare=8.05, Cabin=None, Embarked='S'), Row(PassengerId=285, Survived=0, Pclass=1, Name='Smith, Mr. Richard William', Sex='male', Age=None, SibSp=0, Parch=0, Ticket='113056', Fare=26.0, Cabin='A19', Embarked='S'), Row(PassengerId=286, Survived=0, Pclass=3, Name='Stankovic, Mr. Ivan', Sex='male', Age=33.0, SibSp=0, Parch=0, Ticket='349239', Fare=8.6625, Cabin=None, Embarked='C'), Row(PassengerId=287, Survived=1, Pclass=3, Name='de Mulder, Mr. Theodore', Sex='male', Age=30.0, SibSp=0, Parch=0, Ticket='345774', Fare=9.5, Cabin=None, Embarked='S'), Row(PassengerId=288, Survived=0, Pclass=3, Name='Naidenoff, Mr. Penko', Sex='male', Age=22.0, SibSp=0, Parch=0, Ticket='349206', Fare=7.8958, Cabin=None, Embarked='S'), Row(PassengerId=289, Survived=1, Pclass=2, Name='Hosono, Mr. Masabumi', Sex='male', Age=42.0, SibSp=0, Parch=0, Ticket='237798', Fare=13.0, Cabin=None, Embarked='S'), Row(PassengerId=293, Survived=0, Pclass=2, Name='Levy, Mr. Rene Jacques', Sex='male', Age=36.0, SibSp=0, Parch=0, Ticket='SC/Paris 2163', Fare=12.875, Cabin='D', Embarked='C'), Row(PassengerId=295, Survived=0, Pclass=3, Name='Mineff, Mr. Ivan', Sex='male', Age=24.0, SibSp=0, Parch=0, Ticket='349233', Fare=7.8958, Cabin=None, Embarked='S'), Row(PassengerId=296, Survived=0, Pclass=1, Name='Lewy, Mr. Ervin G', Sex='male', Age=None, SibSp=0, Parch=0, Ticket='PC 17612', Fare=27.7208, Cabin=None, Embarked='C'), Row(PassengerId=297, Survived=0, Pclass=3, Name='Hanna, Mr. Mansour', Sex='male', Age=23.5, SibSp=0, Parch=0, Ticket='2693', Fare=7.2292, Cabin=None, Embarked='C'), Row(PassengerId=299, Survived=1, Pclass=1, Name='Saalfeld, Mr. Adolphe', Sex='male', Age=None, SibSp=0, Parch=0, Ticket='19988', Fare=30.5, Cabin='C106', Embarked='S'), Row(PassengerId=302, Survived=1, Pclass=3, Name='McCoy, Mr. Bernard', Sex='male', Age=None, SibSp=2, Parch=0, Ticket='367226', Fare=23.25, Cabin=None, Embarked='Q'), Row(PassengerId=303, Survived=0, Pclass=3, Name='Johnson, Mr. William Cahoone Jr', Sex='male', Age=19.0, SibSp=0, Parch=0, Ticket='LINE', Fare=0.0, Cabin=None, Embarked='S'), Row(PassengerId=305, Survived=0, Pclass=3, Name='\"Williams, Mr. Howard Hugh \"\"Harry\"\"\"', Sex='male', Age=None, SibSp=0, Parch=0, Ticket='A/5 2466', Fare=8.05, Cabin=None, Embarked='S'), Row(PassengerId=306, Survived=1, Pclass=1, Name='Allison, Master. Hudson Trevor', Sex='male', Age=0.92, SibSp=1, Parch=2, Ticket='113781', Fare=151.55, Cabin='C22 C26', Embarked='S'), Row(PassengerId=309, Survived=0, Pclass=2, Name='Abelson, Mr. Samuel', Sex='male', Age=30.0, SibSp=1, Parch=0, Ticket='P/PP 3381', Fare=24.0, Cabin=None, Embarked='C'), Row(PassengerId=314, Survived=0, Pclass=3, Name='Hendekovic, Mr. Ignjac', Sex='male', Age=28.0, SibSp=0, Parch=0, Ticket='349243', Fare=7.8958, Cabin=None, Embarked='S'), Row(PassengerId=315, Survived=0, Pclass=2, Name='Hart, Mr. Benjamin', Sex='male', Age=43.0, SibSp=1, Parch=1, Ticket='F.C.C. 13529', Fare=26.25, Cabin=None, Embarked='S'), Row(PassengerId=318, Survived=0, Pclass=2, Name='Moraweck, Dr. Ernest', Sex='male', Age=54.0, SibSp=0, Parch=0, Ticket='29011', Fare=14.0, Cabin=None, Embarked='S'), Row(PassengerId=321, Survived=0, Pclass=3, Name='Dennis, Mr. Samuel', Sex='male', Age=22.0, SibSp=0, Parch=0, Ticket='A/5 21172', Fare=7.25, Cabin=None, Embarked='S'), Row(PassengerId=322, Survived=0, Pclass=3, Name='Danoff, Mr. Yoto', Sex='male', Age=27.0, SibSp=0, Parch=0, Ticket='349219', Fare=7.8958, Cabin=None, Embarked='S'), Row(PassengerId=325, Survived=0, Pclass=3, Name='Sage, Mr. George John Jr', Sex='male', Age=None, SibSp=8, Parch=2, Ticket='CA. 2343', Fare=69.55, Cabin=None, Embarked='S'), Row(PassengerId=327, Survived=0, Pclass=3, Name='Nysveen, Mr. Johan Hansen', Sex='male', Age=61.0, SibSp=0, Parch=0, Ticket='345364', Fare=6.2375, Cabin=None, Embarked='S'), Row(PassengerId=332, Survived=0, Pclass=1, Name='Partner, Mr. Austen', Sex='male', Age=45.5, SibSp=0, Parch=0, Ticket='113043', Fare=28.5, Cabin='C124', Embarked='S'), Row(PassengerId=333, Survived=0, Pclass=1, Name='Graham, Mr. George Edward', Sex='male', Age=38.0, SibSp=0, Parch=1, Ticket='PC 17582', Fare=153.4625, Cabin='C91', Embarked='S'), Row(PassengerId=334, Survived=0, Pclass=3, Name='Vander Planke, Mr. Leo Edmondus', Sex='male', Age=16.0, SibSp=2, Parch=0, Ticket='345764', Fare=18.0, Cabin=None, Embarked='S'), Row(PassengerId=336, Survived=0, Pclass=3, Name='Denkoff, Mr. Mitto', Sex='male', Age=None, SibSp=0, Parch=0, Ticket='349225', Fare=7.8958, Cabin=None, Embarked='S'), Row(PassengerId=337, Survived=0, Pclass=1, Name='Pears, Mr. Thomas Clinton', Sex='male', Age=29.0, SibSp=1, Parch=0, Ticket='113776', Fare=66.6, Cabin='C2', Embarked='S'), Row(PassengerId=339, Survived=1, Pclass=3, Name='Dahl, Mr. Karl Edwart', Sex='male', Age=45.0, SibSp=0, Parch=0, Ticket='7598', Fare=8.05, Cabin=None, Embarked='S'), Row(PassengerId=340, Survived=0, Pclass=1, Name='Blackwell, Mr. Stephen Weart', Sex='male', Age=45.0, SibSp=0, Parch=0, Ticket='113784', Fare=35.5, Cabin='T', Embarked='S'), Row(PassengerId=341, Survived=1, Pclass=2, Name='Navratil, Master. Edmond Roger', Sex='male', Age=2.0, SibSp=1, Parch=1, Ticket='230080', Fare=26.0, Cabin='F2', Embarked='S'), Row(PassengerId=343, Survived=0, Pclass=2, Name='Collander, Mr. Erik Gustaf', Sex='male', Age=28.0, SibSp=0, Parch=0, Ticket='248740', Fare=13.0, Cabin=None, Embarked='S'), Row(PassengerId=344, Survived=0, Pclass=2, Name='Sedgwick, Mr. Charles Frederick Waddington', Sex='male', Age=25.0, SibSp=0, Parch=0, Ticket='244361', Fare=13.0, Cabin=None, Embarked='S'), Row(PassengerId=345, Survived=0, Pclass=2, Name='Fox, Mr. Stanley Hubert', Sex='male', Age=36.0, SibSp=0, Parch=0, Ticket='229236', Fare=13.0, Cabin=None, Embarked='S'), Row(PassengerId=349, Survived=1, Pclass=3, Name='\"Coutts, Master. William Loch \"\"William\"\"\"', Sex='male', Age=3.0, SibSp=1, Parch=1, Ticket='C.A. 37671', Fare=15.9, Cabin=None, Embarked='S'), Row(PassengerId=350, Survived=0, Pclass=3, Name='Dimic, Mr. Jovan', Sex='male', Age=42.0, SibSp=0, Parch=0, Ticket='315088', Fare=8.6625, Cabin=None, Embarked='S'), Row(PassengerId=351, Survived=0, Pclass=3, Name='Odahl, Mr. Nils Martin', Sex='male', Age=23.0, SibSp=0, Parch=0, Ticket='7267', Fare=9.225, Cabin=None, Embarked='S'), Row(PassengerId=352, Survived=0, Pclass=1, Name='Williams-Lambert, Mr. Fletcher Fellows', Sex='male', Age=None, SibSp=0, Parch=0, Ticket='113510', Fare=35.0, Cabin='C128', Embarked='S'), Row(PassengerId=353, Survived=0, Pclass=3, Name='Elias, Mr. Tannous', Sex='male', Age=15.0, SibSp=1, Parch=1, Ticket='2695', Fare=7.2292, Cabin=None, Embarked='C'), Row(PassengerId=354, Survived=0, Pclass=3, Name='Arnold-Franchi, Mr. Josef', Sex='male', Age=25.0, SibSp=1, Parch=0, Ticket='349237', Fare=17.8, Cabin=None, Embarked='S'), Row(PassengerId=355, Survived=0, Pclass=3, Name='Yousif, Mr. Wazli', Sex='male', Age=None, SibSp=0, Parch=0, Ticket='2647', Fare=7.225, Cabin=None, Embarked='C'), Row(PassengerId=356, Survived=0, Pclass=3, Name='Vanden Steen, Mr. Leo Peter', Sex='male', Age=28.0, SibSp=0, Parch=0, Ticket='345783', Fare=9.5, Cabin=None, Embarked='S'), Row(PassengerId=361, Survived=0, Pclass=3, Name='Skoog, Mr. Wilhelm', Sex='male', Age=40.0, SibSp=1, Parch=4, Ticket='347088', Fare=27.9, Cabin=None, Embarked='S'), Row(PassengerId=362, Survived=0, Pclass=2, Name='del Carlo, Mr. Sebastiano', Sex='male', Age=29.0, SibSp=1, Parch=0, Ticket='SC/PARIS 2167', Fare=27.7208, Cabin=None, Embarked='C'), Row(PassengerId=364, Survived=0, Pclass=3, Name='Asim, Mr. Adola', Sex='male', Age=35.0, SibSp=0, Parch=0, Ticket='SOTON/O.Q. 3101310', Fare=7.05, Cabin=None, Embarked='S'), Row(PassengerId=365, Survived=0, Pclass=3, Name=\"O'Brien, Mr. Thomas\", Sex='male', Age=None, SibSp=1, Parch=0, Ticket='370365', Fare=15.5, Cabin=None, Embarked='Q'), Row(PassengerId=366, Survived=0, Pclass=3, Name='Adahl, Mr. Mauritz Nils Martin', Sex='male', Age=30.0, SibSp=0, Parch=0, Ticket='C 7076', Fare=7.25, Cabin=None, Embarked='S'), Row(PassengerId=371, Survived=1, Pclass=1, Name='Harder, Mr. George Achilles', Sex='male', Age=25.0, SibSp=1, Parch=0, Ticket='11765', Fare=55.4417, Cabin='E50', Embarked='C'), Row(PassengerId=372, Survived=0, Pclass=3, Name='Wiklund, Mr. Jakob Alfred', Sex='male', Age=18.0, SibSp=1, Parch=0, Ticket='3101267', Fare=6.4958, Cabin=None, Embarked='S'), Row(PassengerId=373, Survived=0, Pclass=3, Name='Beavan, Mr. William Thomas', Sex='male', Age=19.0, SibSp=0, Parch=0, Ticket='323951', Fare=8.05, Cabin=None, Embarked='S'), Row(PassengerId=374, Survived=0, Pclass=1, Name='Ringhini, Mr. Sante', Sex='male', Age=22.0, SibSp=0, Parch=0, Ticket='PC 17760', Fare=135.6333, Cabin=None, Embarked='C'), Row(PassengerId=378, Survived=0, Pclass=1, Name='Widener, Mr. Harry Elkins', Sex='male', Age=27.0, SibSp=0, Parch=2, Ticket='113503', Fare=211.5, Cabin='C82', Embarked='C'), Row(PassengerId=379, Survived=0, Pclass=3, Name='Betros, Mr. Tannous', Sex='male', Age=20.0, SibSp=0, Parch=0, Ticket='2648', Fare=4.0125, Cabin=None, Embarked='C'), Row(PassengerId=380, Survived=0, Pclass=3, Name='Gustafsson, Mr. Karl Gideon', Sex='male', Age=19.0, SibSp=0, Parch=0, Ticket='347069', Fare=7.775, Cabin=None, Embarked='S'), Row(PassengerId=383, Survived=0, Pclass=3, Name='Tikkanen, Mr. Juho', Sex='male', Age=32.0, SibSp=0, Parch=0, Ticket='STON/O 2. 3101293', Fare=7.925, Cabin=None, Embarked='S'), Row(PassengerId=385, Survived=0, Pclass=3, Name='Plotcharsky, Mr. Vasil', Sex='male', Age=None, SibSp=0, Parch=0, Ticket='349227', Fare=7.8958, Cabin=None, Embarked='S'), Row(PassengerId=386, Survived=0, Pclass=2, Name='Davies, Mr. Charles Henry', Sex='male', Age=18.0, SibSp=0, Parch=0, Ticket='S.O.C. 14879', Fare=73.5, Cabin=None, Embarked='S'), Row(PassengerId=387, Survived=0, Pclass=3, Name='Goodwin, Master. Sidney Leonard', Sex='male', Age=1.0, SibSp=5, Parch=2, Ticket='CA 2144', Fare=46.9, Cabin=None, Embarked='S'), Row(PassengerId=389, Survived=0, Pclass=3, Name='Sadlier, Mr. Matthew', Sex='male', Age=None, SibSp=0, Parch=0, Ticket='367655', Fare=7.7292, Cabin=None, Embarked='Q'), Row(PassengerId=391, Survived=1, Pclass=1, Name='Carter, Mr. William Ernest', Sex='male', Age=36.0, SibSp=1, Parch=2, Ticket='113760', Fare=120.0, Cabin='B96 B98', Embarked='S'), Row(PassengerId=392, Survived=1, Pclass=3, Name='Jansson, Mr. Carl Olof', Sex='male', Age=21.0, SibSp=0, Parch=0, Ticket='350034', Fare=7.7958, Cabin=None, Embarked='S'), Row(PassengerId=393, Survived=0, Pclass=3, Name='Gustafsson, Mr. Johan Birger', Sex='male', Age=28.0, SibSp=2, Parch=0, Ticket='3101277', Fare=7.925, Cabin=None, Embarked='S'), Row(PassengerId=396, Survived=0, Pclass=3, Name='Johansson, Mr. Erik', Sex='male', Age=22.0, SibSp=0, Parch=0, Ticket='350052', Fare=7.7958, Cabin=None, Embarked='S'), Row(PassengerId=398, Survived=0, Pclass=2, Name='McKane, Mr. Peter David', Sex='male', Age=46.0, SibSp=0, Parch=0, Ticket='28403', Fare=26.0, Cabin=None, Embarked='S'), Row(PassengerId=399, Survived=0, Pclass=2, Name='Pain, Dr. Alfred', Sex='male', Age=23.0, SibSp=0, Parch=0, Ticket='244278', Fare=10.5, Cabin=None, Embarked='S'), Row(PassengerId=401, Survived=1, Pclass=3, Name='Niskanen, Mr. Juha', Sex='male', Age=39.0, SibSp=0, Parch=0, Ticket='STON/O 2. 3101289', Fare=7.925, Cabin=None, Embarked='S'), Row(PassengerId=402, Survived=0, Pclass=3, Name='Adams, Mr. John', Sex='male', Age=26.0, SibSp=0, Parch=0, Ticket='341826', Fare=8.05, Cabin=None, Embarked='S'), Row(PassengerId=404, Survived=0, Pclass=3, Name='Hakkarainen, Mr. Pekka Pietari', Sex='male', Age=28.0, SibSp=1, Parch=0, Ticket='STON/O2. 3101279', Fare=15.85, Cabin=None, Embarked='S'), Row(PassengerId=406, Survived=0, Pclass=2, Name='Gale, Mr. Shadrach', Sex='male', Age=34.0, SibSp=1, Parch=0, Ticket='28664', Fare=21.0, Cabin=None, Embarked='S'), Row(PassengerId=407, Survived=0, Pclass=3, Name='Widegren, Mr. Carl/Charles Peter', Sex='male', Age=51.0, SibSp=0, Parch=0, Ticket='347064', Fare=7.75, Cabin=None, Embarked='S'), Row(PassengerId=408, Survived=1, Pclass=2, Name='Richards, Master. William Rowe', Sex='male', Age=3.0, SibSp=1, Parch=1, Ticket='29106', Fare=18.75, Cabin=None, Embarked='S'), Row(PassengerId=409, Survived=0, Pclass=3, Name='Birkeland, Mr. Hans Martin Monsen', Sex='male', Age=21.0, SibSp=0, Parch=0, Ticket='312992', Fare=7.775, Cabin=None, Embarked='S'), Row(PassengerId=411, Survived=0, Pclass=3, Name='Sdycoff, Mr. Todor', Sex='male', Age=None, SibSp=0, Parch=0, Ticket='349222', Fare=7.8958, Cabin=None, Embarked='S'), Row(PassengerId=412, Survived=0, Pclass=3, Name='Hart, Mr. Henry', Sex='male', Age=None, SibSp=0, Parch=0, Ticket='394140', Fare=6.8583, Cabin=None, Embarked='Q'), Row(PassengerId=414, Survived=0, Pclass=2, Name='Cunningham, Mr. Alfred Fleming', Sex='male', Age=None, SibSp=0, Parch=0, Ticket='239853', Fare=0.0, Cabin=None, Embarked='S'), Row(PassengerId=415, Survived=1, Pclass=3, Name='Sundman, Mr. Johan Julian', Sex='male', Age=44.0, SibSp=0, Parch=0, Ticket='STON/O 2. 3101269', Fare=7.925, Cabin=None, Embarked='S'), Row(PassengerId=419, Survived=0, Pclass=2, Name='Matthews, Mr. William John', Sex='male', Age=30.0, SibSp=0, Parch=0, Ticket='28228', Fare=13.0, Cabin=None, Embarked='S'), Row(PassengerId=421, Survived=0, Pclass=3, Name='Gheorgheff, Mr. Stanio', Sex='male', Age=None, SibSp=0, Parch=0, Ticket='349254', Fare=7.8958, Cabin=None, Embarked='C'), Row(PassengerId=422, Survived=0, Pclass=3, Name='Charters, Mr. David', Sex='male', Age=21.0, SibSp=0, Parch=0, Ticket='A/5. 13032', Fare=7.7333, Cabin=None, Embarked='Q'), Row(PassengerId=423, Survived=0, Pclass=3, Name='Zimmerman, Mr. Leo', Sex='male', Age=29.0, SibSp=0, Parch=0, Ticket='315082', Fare=7.875, Cabin=None, Embarked='S'), Row(PassengerId=425, Survived=0, Pclass=3, Name='Rosblom, Mr. Viktor Richard', Sex='male', Age=18.0, SibSp=1, Parch=1, Ticket='370129', Fare=20.2125, Cabin=None, Embarked='S'), Row(PassengerId=426, Survived=0, Pclass=3, Name='Wiseman, Mr. Phillippe', Sex='male', Age=None, SibSp=0, Parch=0, Ticket='A/4. 34244', Fare=7.25, Cabin=None, Embarked='S'), Row(PassengerId=429, Survived=0, Pclass=3, Name='Flynn, Mr. James', Sex='male', Age=None, SibSp=0, Parch=0, Ticket='364851', Fare=7.75, Cabin=None, Embarked='Q'), Row(PassengerId=430, Survived=1, Pclass=3, Name='Pickard, Mr. Berk (Berk Trembisky)', Sex='male', Age=32.0, SibSp=0, Parch=0, Ticket='SOTON/O.Q. 392078', Fare=8.05, Cabin='E10', Embarked='S'), Row(PassengerId=431, Survived=1, Pclass=1, Name='Bjornstrom-Steffansson, Mr. Mauritz Hakan', Sex='male', Age=28.0, SibSp=0, Parch=0, Ticket='110564', Fare=26.55, Cabin='C52', Embarked='S'), Row(PassengerId=434, Survived=0, Pclass=3, Name='Kallio, Mr. Nikolai Erland', Sex='male', Age=17.0, SibSp=0, Parch=0, Ticket='STON/O 2. 3101274', Fare=7.125, Cabin=None, Embarked='S'), Row(PassengerId=435, Survived=0, Pclass=1, Name='Silvey, Mr. William Baird', Sex='male', Age=50.0, SibSp=1, Parch=0, Ticket='13507', Fare=55.9, Cabin='E44', Embarked='S'), Row(PassengerId=439, Survived=0, Pclass=1, Name='Fortune, Mr. Mark', Sex='male', Age=64.0, SibSp=1, Parch=4, Ticket='19950', Fare=263.0, Cabin='C23 C25 C27', Embarked='S'), Row(PassengerId=440, Survived=0, Pclass=2, Name='Kvillner, Mr. Johan Henrik Johannesson', Sex='male', Age=31.0, SibSp=0, Parch=0, Ticket='C.A. 18723', Fare=10.5, Cabin=None, Embarked='S'), Row(PassengerId=442, Survived=0, Pclass=3, Name='Hampe, Mr. Leon', Sex='male', Age=20.0, SibSp=0, Parch=0, Ticket='345769', Fare=9.5, Cabin=None, Embarked='S'), Row(PassengerId=443, Survived=0, Pclass=3, Name='Petterson, Mr. Johan Emil', Sex='male', Age=25.0, SibSp=1, Parch=0, Ticket='347076', Fare=7.775, Cabin=None, Embarked='S'), Row(PassengerId=445, Survived=1, Pclass=3, Name='Johannesen-Bratthammer, Mr. Bernt', Sex='male', Age=None, SibSp=0, Parch=0, Ticket='65306', Fare=8.1125, Cabin=None, Embarked='S'), Row(PassengerId=446, Survived=1, Pclass=1, Name='Dodge, Master. Washington', Sex='male', Age=4.0, SibSp=0, Parch=2, Ticket='33638', Fare=81.8583, Cabin='A34', Embarked='S'), Row(PassengerId=448, Survived=1, Pclass=1, Name='Seward, Mr. Frederic Kimber', Sex='male', Age=34.0, SibSp=0, Parch=0, Ticket='113794', Fare=26.55, Cabin=None, Embarked='S'), Row(PassengerId=450, Survived=1, Pclass=1, Name='Peuchen, Major. Arthur Godfrey', Sex='male', Age=52.0, SibSp=0, Parch=0, Ticket='113786', Fare=30.5, Cabin='C104', Embarked='S'), Row(PassengerId=451, Survived=0, Pclass=2, Name='West, Mr. Edwy Arthur', Sex='male', Age=36.0, SibSp=1, Parch=2, Ticket='C.A. 34651', Fare=27.75, Cabin=None, Embarked='S'), Row(PassengerId=452, Survived=0, Pclass=3, Name='Hagland, Mr. Ingvald Olai Olsen', Sex='male', Age=None, SibSp=1, Parch=0, Ticket='65303', Fare=19.9667, Cabin=None, Embarked='S'), Row(PassengerId=453, Survived=0, Pclass=1, Name='Foreman, Mr. Benjamin Laventall', Sex='male', Age=30.0, SibSp=0, Parch=0, Ticket='113051', Fare=27.75, Cabin='C111', Embarked='C'), Row(PassengerId=454, Survived=1, Pclass=1, Name='Goldenberg, Mr. Samuel L', Sex='male', Age=49.0, SibSp=1, Parch=0, Ticket='17453', Fare=89.1042, Cabin='C92', Embarked='C'), Row(PassengerId=455, Survived=0, Pclass=3, Name='Peduzzi, Mr. Joseph', Sex='male', Age=None, SibSp=0, Parch=0, Ticket='A/5 2817', Fare=8.05, Cabin=None, Embarked='S'), Row(PassengerId=456, Survived=1, Pclass=3, Name='Jalsevac, Mr. Ivan', Sex='male', Age=29.0, SibSp=0, Parch=0, Ticket='349240', Fare=7.8958, Cabin=None, Embarked='C'), Row(PassengerId=457, Survived=0, Pclass=1, Name='Millet, Mr. Francis Davis', Sex='male', Age=65.0, SibSp=0, Parch=0, Ticket='13509', Fare=26.55, Cabin='E38', Embarked='S'), Row(PassengerId=460, Survived=0, Pclass=3, Name=\"O'Connor, Mr. Maurice\", Sex='male', Age=None, SibSp=0, Parch=0, Ticket='371060', Fare=7.75, Cabin=None, Embarked='Q'), Row(PassengerId=461, Survived=1, Pclass=1, Name='Anderson, Mr. Harry', Sex='male', Age=48.0, SibSp=0, Parch=0, Ticket='19952', Fare=26.55, Cabin='E12', Embarked='S'), Row(PassengerId=462, Survived=0, Pclass=3, Name='Morley, Mr. William', Sex='male', Age=34.0, SibSp=0, Parch=0, Ticket='364506', Fare=8.05, Cabin=None, Embarked='S'), Row(PassengerId=463, Survived=0, Pclass=1, Name='Gee, Mr. Arthur H', Sex='male', Age=47.0, SibSp=0, Parch=0, Ticket='111320', Fare=38.5, Cabin='E63', Embarked='S'), Row(PassengerId=464, Survived=0, Pclass=2, Name='Milling, Mr. Jacob Christian', Sex='male', Age=48.0, SibSp=0, Parch=0, Ticket='234360', Fare=13.0, Cabin=None, Embarked='S'), Row(PassengerId=465, Survived=0, Pclass=3, Name='Maisner, Mr. Simon', Sex='male', Age=None, SibSp=0, Parch=0, Ticket='A/S 2816', Fare=8.05, Cabin=None, Embarked='S'), Row(PassengerId=466, Survived=0, Pclass=3, Name='Goncalves, Mr. Manuel Estanslas', Sex='male', Age=38.0, SibSp=0, Parch=0, Ticket='SOTON/O.Q. 3101306', Fare=7.05, Cabin=None, Embarked='S'), Row(PassengerId=467, Survived=0, Pclass=2, Name='Campbell, Mr. William', Sex='male', Age=None, SibSp=0, Parch=0, Ticket='239853', Fare=0.0, Cabin=None, Embarked='S'), Row(PassengerId=468, Survived=0, Pclass=1, Name='Smart, Mr. John Montgomery', Sex='male', Age=56.0, SibSp=0, Parch=0, Ticket='113792', Fare=26.55, Cabin=None, Embarked='S'), Row(PassengerId=469, Survived=0, Pclass=3, Name='Scanlan, Mr. James', Sex='male', Age=None, SibSp=0, Parch=0, Ticket='36209', Fare=7.725, Cabin=None, Embarked='Q'), Row(PassengerId=471, Survived=0, Pclass=3, Name='Keefe, Mr. Arthur', Sex='male', Age=None, SibSp=0, Parch=0, Ticket='323592', Fare=7.25, Cabin=None, Embarked='S'), Row(PassengerId=472, Survived=0, Pclass=3, Name='Cacic, Mr. Luka', Sex='male', Age=38.0, SibSp=0, Parch=0, Ticket='315089', Fare=8.6625, Cabin=None, Embarked='S'), Row(PassengerId=476, Survived=0, Pclass=1, Name='Clifford, Mr. George Quincy', Sex='male', Age=None, SibSp=0, Parch=0, Ticket='110465', Fare=52.0, Cabin='A14', Embarked='S'), Row(PassengerId=477, Survived=0, Pclass=2, Name='Renouf, Mr. Peter Henry', Sex='male', Age=34.0, SibSp=1, Parch=0, Ticket='31027', Fare=21.0, Cabin=None, Embarked='S'), Row(PassengerId=478, Survived=0, Pclass=3, Name='Braund, Mr. Lewis Richard', Sex='male', Age=29.0, SibSp=1, Parch=0, Ticket='3460', Fare=7.0458, Cabin=None, Embarked='S'), Row(PassengerId=479, Survived=0, Pclass=3, Name='Karlsson, Mr. Nils August', Sex='male', Age=22.0, SibSp=0, Parch=0, Ticket='350060', Fare=7.5208, Cabin=None, Embarked='S'), Row(PassengerId=481, Survived=0, Pclass=3, Name='Goodwin, Master. Harold Victor', Sex='male', Age=9.0, SibSp=5, Parch=2, Ticket='CA 2144', Fare=46.9, Cabin=None, Embarked='S'), Row(PassengerId=482, Survived=0, Pclass=2, Name='\"Frost, Mr. Anthony Wood \"\"Archie\"\"\"', Sex='male', Age=None, SibSp=0, Parch=0, Ticket='239854', Fare=0.0, Cabin=None, Embarked='S'), Row(PassengerId=483, Survived=0, Pclass=3, Name='Rouse, Mr. Richard Henry', Sex='male', Age=50.0, SibSp=0, Parch=0, Ticket='A/5 3594', Fare=8.05, Cabin=None, Embarked='S'), Row(PassengerId=485, Survived=1, Pclass=1, Name='Bishop, Mr. Dickinson H', Sex='male', Age=25.0, SibSp=1, Parch=0, Ticket='11967', Fare=91.0792, Cabin='B49', Embarked='C'), Row(PassengerId=488, Survived=0, Pclass=1, Name='Kent, Mr. Edward Austin', Sex='male', Age=58.0, SibSp=0, Parch=0, Ticket='11771', Fare=29.7, Cabin='B37', Embarked='C'), Row(PassengerId=489, Survived=0, Pclass=3, Name='Somerton, Mr. Francis William', Sex='male', Age=30.0, SibSp=0, Parch=0, Ticket='A.5. 18509', Fare=8.05, Cabin=None, Embarked='S'), Row(PassengerId=490, Survived=1, Pclass=3, Name='\"Coutts, Master. Eden Leslie \"\"Neville\"\"\"', Sex='male', Age=9.0, SibSp=1, Parch=1, Ticket='C.A. 37671', Fare=15.9, Cabin=None, Embarked='S'), Row(PassengerId=491, Survived=0, Pclass=3, Name='Hagland, Mr. Konrad Mathias Reiersen', Sex='male', Age=None, SibSp=1, Parch=0, Ticket='65304', Fare=19.9667, Cabin=None, Embarked='S'), Row(PassengerId=492, Survived=0, Pclass=3, Name='Windelov, Mr. Einar', Sex='male', Age=21.0, SibSp=0, Parch=0, Ticket='SOTON/OQ 3101317', Fare=7.25, Cabin=None, Embarked='S'), Row(PassengerId=493, Survived=0, Pclass=1, Name='Molson, Mr. Harry Markland', Sex='male', Age=55.0, SibSp=0, Parch=0, Ticket='113787', Fare=30.5, Cabin='C30', Embarked='S'), Row(PassengerId=494, Survived=0, Pclass=1, Name='Artagaveytia, Mr. Ramon', Sex='male', Age=71.0, SibSp=0, Parch=0, Ticket='PC 17609', Fare=49.5042, Cabin=None, Embarked='C'), Row(PassengerId=495, Survived=0, Pclass=3, Name='Stanley, Mr. Edward Roland', Sex='male', Age=21.0, SibSp=0, Parch=0, Ticket='A/4 45380', Fare=8.05, Cabin=None, Embarked='S'), Row(PassengerId=496, Survived=0, Pclass=3, Name='Yousseff, Mr. Gerious', Sex='male', Age=None, SibSp=0, Parch=0, Ticket='2627', Fare=14.4583, Cabin=None, Embarked='C'), Row(PassengerId=498, Survived=0, Pclass=3, Name='Shellard, Mr. Frederick William', Sex='male', Age=None, SibSp=0, Parch=0, Ticket='C.A. 6212', Fare=15.1, Cabin=None, Embarked='S'), Row(PassengerId=500, Survived=0, Pclass=3, Name='Svensson, Mr. Olof', Sex='male', Age=24.0, SibSp=0, Parch=0, Ticket='350035', Fare=7.7958, Cabin=None, Embarked='S'), Row(PassengerId=501, Survived=0, Pclass=3, Name='Calic, Mr. Petar', Sex='male', Age=17.0, SibSp=0, Parch=0, Ticket='315086', Fare=8.6625, Cabin=None, Embarked='S'), Row(PassengerId=506, Survived=0, Pclass=1, Name='Penasco y Castellana, Mr. Victor de Satode', Sex='male', Age=18.0, SibSp=1, Parch=0, Ticket='PC 17758', Fare=108.9, Cabin='C65', Embarked='C'), Row(PassengerId=508, Survived=1, Pclass=1, Name='\"Bradley, Mr. George (\"\"George Arthur Brayton\"\")\"', Sex='male', Age=None, SibSp=0, Parch=0, Ticket='111427', Fare=26.55, Cabin=None, Embarked='S'), Row(PassengerId=509, Survived=0, Pclass=3, Name='Olsen, Mr. Henry Margido', Sex='male', Age=28.0, SibSp=0, Parch=0, Ticket='C 4001', Fare=22.525, Cabin=None, Embarked='S'), Row(PassengerId=510, Survived=1, Pclass=3, Name='Lang, Mr. Fang', Sex='male', Age=26.0, SibSp=0, Parch=0, Ticket='1601', Fare=56.4958, Cabin=None, Embarked='S'), Row(PassengerId=511, Survived=1, Pclass=3, Name='Daly, Mr. Eugene Patrick', Sex='male', Age=29.0, SibSp=0, Parch=0, Ticket='382651', Fare=7.75, Cabin=None, Embarked='Q'), Row(PassengerId=512, Survived=0, Pclass=3, Name='Webber, Mr. James', Sex='male', Age=None, SibSp=0, Parch=0, Ticket='SOTON/OQ 3101316', Fare=8.05, Cabin=None, Embarked='S'), Row(PassengerId=513, Survived=1, Pclass=1, Name='McGough, Mr. James Robert', Sex='male', Age=36.0, SibSp=0, Parch=0, Ticket='PC 17473', Fare=26.2875, Cabin='E25', Embarked='S'), Row(PassengerId=515, Survived=0, Pclass=3, Name='Coleff, Mr. Satio', Sex='male', Age=24.0, SibSp=0, Parch=0, Ticket='349209', Fare=7.4958, Cabin=None, Embarked='S'), Row(PassengerId=516, Survived=0, Pclass=1, Name='Walker, Mr. William Anderson', Sex='male', Age=47.0, SibSp=0, Parch=0, Ticket='36967', Fare=34.0208, Cabin='D46', Embarked='S'), Row(PassengerId=518, Survived=0, Pclass=3, Name='Ryan, Mr. Patrick', Sex='male', Age=None, SibSp=0, Parch=0, Ticket='371110', Fare=24.15, Cabin=None, Embarked='Q'), Row(PassengerId=520, Survived=0, Pclass=3, Name='Pavlovic, Mr. Stefo', Sex='male', Age=32.0, SibSp=0, Parch=0, Ticket='349242', Fare=7.8958, Cabin=None, Embarked='S'), Row(PassengerId=522, Survived=0, Pclass=3, Name='Vovk, Mr. Janko', Sex='male', Age=22.0, SibSp=0, Parch=0, Ticket='349252', Fare=7.8958, Cabin=None, Embarked='S'), Row(PassengerId=523, Survived=0, Pclass=3, Name='Lahoud, Mr. Sarkis', Sex='male', Age=None, SibSp=0, Parch=0, Ticket='2624', Fare=7.225, Cabin=None, Embarked='C'), Row(PassengerId=525, Survived=0, Pclass=3, Name='Kassem, Mr. Fared', Sex='male', Age=None, SibSp=0, Parch=0, Ticket='2700', Fare=7.2292, Cabin=None, Embarked='C'), Row(PassengerId=526, Survived=0, Pclass=3, Name='Farrell, Mr. James', Sex='male', Age=40.5, SibSp=0, Parch=0, Ticket='367232', Fare=7.75, Cabin=None, Embarked='Q'), Row(PassengerId=528, Survived=0, Pclass=1, Name='Farthing, Mr. John', Sex='male', Age=None, SibSp=0, Parch=0, Ticket='PC 17483', Fare=221.7792, Cabin='C95', Embarked='S'), Row(PassengerId=529, Survived=0, Pclass=3, Name='Salonen, Mr. Johan Werner', Sex='male', Age=39.0, SibSp=0, Parch=0, Ticket='3101296', Fare=7.925, Cabin=None, Embarked='S'), Row(PassengerId=530, Survived=0, Pclass=2, Name='Hocking, Mr. Richard George', Sex='male', Age=23.0, SibSp=2, Parch=1, Ticket='29104', Fare=11.5, Cabin=None, Embarked='S'), Row(PassengerId=532, Survived=0, Pclass=3, Name='Toufik, Mr. Nakli', Sex='male', Age=None, SibSp=0, Parch=0, Ticket='2641', Fare=7.2292, Cabin=None, Embarked='C'), Row(PassengerId=533, Survived=0, Pclass=3, Name='Elias, Mr. Joseph Jr', Sex='male', Age=17.0, SibSp=1, Parch=1, Ticket='2690', Fare=7.2292, Cabin=None, Embarked='C'), Row(PassengerId=537, Survived=0, Pclass=1, Name='Butt, Major. Archibald Willingham', Sex='male', Age=45.0, SibSp=0, Parch=0, Ticket='113050', Fare=26.55, Cabin='B38', Embarked='S'), Row(PassengerId=539, Survived=0, Pclass=3, Name='Risien, Mr. Samuel Beard', Sex='male', Age=None, SibSp=0, Parch=0, Ticket='364498', Fare=14.5, Cabin=None, Embarked='S'), Row(PassengerId=544, Survived=1, Pclass=2, Name='Beane, Mr. Edward', Sex='male', Age=32.0, SibSp=1, Parch=0, Ticket='2908', Fare=26.0, Cabin=None, Embarked='S'), Row(PassengerId=545, Survived=0, Pclass=1, Name='Douglas, Mr. Walter Donald', Sex='male', Age=50.0, SibSp=1, Parch=0, Ticket='PC 17761', Fare=106.425, Cabin='C86', Embarked='C'), Row(PassengerId=546, Survived=0, Pclass=1, Name='Nicholson, Mr. Arthur Ernest', Sex='male', Age=64.0, SibSp=0, Parch=0, Ticket='693', Fare=26.0, Cabin=None, Embarked='S'), Row(PassengerId=548, Survived=1, Pclass=2, Name='Padro y Manent, Mr. Julian', Sex='male', Age=None, SibSp=0, Parch=0, Ticket='SC/PARIS 2146', Fare=13.8625, Cabin=None, Embarked='C'), Row(PassengerId=549, Survived=0, Pclass=3, Name='Goldsmith, Mr. Frank John', Sex='male', Age=33.0, SibSp=1, Parch=1, Ticket='363291', Fare=20.525, Cabin=None, Embarked='S'), Row(PassengerId=550, Survived=1, Pclass=2, Name='Davies, Master. John Morgan Jr', Sex='male', Age=8.0, SibSp=1, Parch=1, Ticket='C.A. 33112', Fare=36.75, Cabin=None, Embarked='S'), Row(PassengerId=551, Survived=1, Pclass=1, Name='Thayer, Mr. John Borland Jr', Sex='male', Age=17.0, SibSp=0, Parch=2, Ticket='17421', Fare=110.8833, Cabin='C70', Embarked='C'), Row(PassengerId=552, Survived=0, Pclass=2, Name='Sharp, Mr. Percival James R', Sex='male', Age=27.0, SibSp=0, Parch=0, Ticket='244358', Fare=26.0, Cabin=None, Embarked='S'), Row(PassengerId=553, Survived=0, Pclass=3, Name=\"O'Brien, Mr. Timothy\", Sex='male', Age=None, SibSp=0, Parch=0, Ticket='330979', Fare=7.8292, Cabin=None, Embarked='Q'), Row(PassengerId=554, Survived=1, Pclass=3, Name='\"Leeni, Mr. Fahim (\"\"Philip Zenni\"\")\"', Sex='male', Age=22.0, SibSp=0, Parch=0, Ticket='2620', Fare=7.225, Cabin=None, Embarked='C'), Row(PassengerId=556, Survived=0, Pclass=1, Name='Wright, Mr. George', Sex='male', Age=62.0, SibSp=0, Parch=0, Ticket='113807', Fare=26.55, Cabin=None, Embarked='S'), Row(PassengerId=558, Survived=0, Pclass=1, Name='Robbins, Mr. Victor', Sex='male', Age=None, SibSp=0, Parch=0, Ticket='PC 17757', Fare=227.525, Cabin=None, Embarked='C'), Row(PassengerId=561, Survived=0, Pclass=3, Name='Morrow, Mr. Thomas Rowan', Sex='male', Age=None, SibSp=0, Parch=0, Ticket='372622', Fare=7.75, Cabin=None, Embarked='Q'), Row(PassengerId=562, Survived=0, Pclass=3, Name='Sivic, Mr. Husein', Sex='male', Age=40.0, SibSp=0, Parch=0, Ticket='349251', Fare=7.8958, Cabin=None, Embarked='S'), Row(PassengerId=563, Survived=0, Pclass=2, Name='Norman, Mr. Robert Douglas', Sex='male', Age=28.0, SibSp=0, Parch=0, Ticket='218629', Fare=13.5, Cabin=None, Embarked='S'), Row(PassengerId=564, Survived=0, Pclass=3, Name='Simmons, Mr. John', Sex='male', Age=None, SibSp=0, Parch=0, Ticket='SOTON/OQ 392082', Fare=8.05, Cabin=None, Embarked='S'), Row(PassengerId=566, Survived=0, Pclass=3, Name='Davies, Mr. Alfred J', Sex='male', Age=24.0, SibSp=2, Parch=0, Ticket='A/4 48871', Fare=24.15, Cabin=None, Embarked='S'), Row(PassengerId=567, Survived=0, Pclass=3, Name='Stoytcheff, Mr. Ilia', Sex='male', Age=19.0, SibSp=0, Parch=0, Ticket='349205', Fare=7.8958, Cabin=None, Embarked='S'), Row(PassengerId=569, Survived=0, Pclass=3, Name='Doharr, Mr. Tannous', Sex='male', Age=None, SibSp=0, Parch=0, Ticket='2686', Fare=7.2292, Cabin=None, Embarked='C'), Row(PassengerId=570, Survived=1, Pclass=3, Name='Jonsson, Mr. Carl', Sex='male', Age=32.0, SibSp=0, Parch=0, Ticket='350417', Fare=7.8542, Cabin=None, Embarked='S'), Row(PassengerId=571, Survived=1, Pclass=2, Name='Harris, Mr. George', Sex='male', Age=62.0, SibSp=0, Parch=0, Ticket='S.W./PP 752', Fare=10.5, Cabin=None, Embarked='S'), Row(PassengerId=573, Survived=1, Pclass=1, Name='\"Flynn, Mr. John Irwin (\"\"Irving\"\")\"', Sex='male', Age=36.0, SibSp=0, Parch=0, Ticket='PC 17474', Fare=26.3875, Cabin='E25', Embarked='S'), Row(PassengerId=575, Survived=0, Pclass=3, Name='Rush, Mr. Alfred George John', Sex='male', Age=16.0, SibSp=0, Parch=0, Ticket='A/4. 20589', Fare=8.05, Cabin=None, Embarked='S'), Row(PassengerId=576, Survived=0, Pclass=3, Name='Patchett, Mr. George', Sex='male', Age=19.0, SibSp=0, Parch=0, Ticket='358585', Fare=14.5, Cabin=None, Embarked='S'), Row(PassengerId=580, Survived=1, Pclass=3, Name='Jussila, Mr. Eiriik', Sex='male', Age=32.0, SibSp=0, Parch=0, Ticket='STON/O 2. 3101286', Fare=7.925, Cabin=None, Embarked='S'), Row(PassengerId=583, Survived=0, Pclass=2, Name='Downton, Mr. William James', Sex='male', Age=54.0, SibSp=0, Parch=0, Ticket='28403', Fare=26.0, Cabin=None, Embarked='S'), Row(PassengerId=584, Survived=0, Pclass=1, Name='Ross, Mr. John Hugo', Sex='male', Age=36.0, SibSp=0, Parch=0, Ticket='13049', Fare=40.125, Cabin='A10', Embarked='C'), Row(PassengerId=585, Survived=0, Pclass=3, Name='Paulner, Mr. Uscher', Sex='male', Age=None, SibSp=0, Parch=0, Ticket='3411', Fare=8.7125, Cabin=None, Embarked='C'), Row(PassengerId=587, Survived=0, Pclass=2, Name='Jarvis, Mr. John Denzil', Sex='male', Age=47.0, SibSp=0, Parch=0, Ticket='237565', Fare=15.0, Cabin=None, Embarked='S'), Row(PassengerId=588, Survived=1, Pclass=1, Name='Frolicher-Stehli, Mr. Maxmillian', Sex='male', Age=60.0, SibSp=1, Parch=1, Ticket='13567', Fare=79.2, Cabin='B41', Embarked='C'), Row(PassengerId=589, Survived=0, Pclass=3, Name='Gilinski, Mr. Eliezer', Sex='male', Age=22.0, SibSp=0, Parch=0, Ticket='14973', Fare=8.05, Cabin=None, Embarked='S'), Row(PassengerId=590, Survived=0, Pclass=3, Name='Murdlin, Mr. Joseph', Sex='male', Age=None, SibSp=0, Parch=0, Ticket='A./5. 3235', Fare=8.05, Cabin=None, Embarked='S'), Row(PassengerId=591, Survived=0, Pclass=3, Name='Rintamaki, Mr. Matti', Sex='male', Age=35.0, SibSp=0, Parch=0, Ticket='STON/O 2. 3101273', Fare=7.125, Cabin=None, Embarked='S'), Row(PassengerId=593, Survived=0, Pclass=3, Name='Elsbury, Mr. William James', Sex='male', Age=47.0, SibSp=0, Parch=0, Ticket='A/5 3902', Fare=7.25, Cabin=None, Embarked='S'), Row(PassengerId=595, Survived=0, Pclass=2, Name='Chapman, Mr. John Henry', Sex='male', Age=37.0, SibSp=1, Parch=0, Ticket='SC/AH 29037', Fare=26.0, Cabin=None, Embarked='S'), Row(PassengerId=596, Survived=0, Pclass=3, Name='Van Impe, Mr. Jean Baptiste', Sex='male', Age=36.0, SibSp=1, Parch=1, Ticket='345773', Fare=24.15, Cabin=None, Embarked='S'), Row(PassengerId=598, Survived=0, Pclass=3, Name='Johnson, Mr. Alfred', Sex='male', Age=49.0, SibSp=0, Parch=0, Ticket='LINE', Fare=0.0, Cabin=None, Embarked='S'), Row(PassengerId=599, Survived=0, Pclass=3, Name='Boulos, Mr. Hanna', Sex='male', Age=None, SibSp=0, Parch=0, Ticket='2664', Fare=7.225, Cabin=None, Embarked='C'), Row(PassengerId=600, Survived=1, Pclass=1, Name='\"Duff Gordon, Sir. Cosmo Edmund (\"\"Mr Morgan\"\")\"', Sex='male', Age=49.0, SibSp=1, Parch=0, Ticket='PC 17485', Fare=56.9292, Cabin='A20', Embarked='C'), Row(PassengerId=602, Survived=0, Pclass=3, Name='Slabenoff, Mr. Petco', Sex='male', Age=None, SibSp=0, Parch=0, Ticket='349214', Fare=7.8958, Cabin=None, Embarked='S'), Row(PassengerId=603, Survived=0, Pclass=1, Name='Harrington, Mr. Charles H', Sex='male', Age=None, SibSp=0, Parch=0, Ticket='113796', Fare=42.4, Cabin=None, Embarked='S'), Row(PassengerId=604, Survived=0, Pclass=3, Name='Torber, Mr. Ernst William', Sex='male', Age=44.0, SibSp=0, Parch=0, Ticket='364511', Fare=8.05, Cabin=None, Embarked='S'), Row(PassengerId=605, Survived=1, Pclass=1, Name='\"Homer, Mr. Harry (\"\"Mr E Haven\"\")\"', Sex='male', Age=35.0, SibSp=0, Parch=0, Ticket='111426', Fare=26.55, Cabin=None, Embarked='C'), Row(PassengerId=606, Survived=0, Pclass=3, Name='Lindell, Mr. Edvard Bengtsson', Sex='male', Age=36.0, SibSp=1, Parch=0, Ticket='349910', Fare=15.55, Cabin=None, Embarked='S'), Row(PassengerId=607, Survived=0, Pclass=3, Name='Karaic, Mr. Milan', Sex='male', Age=30.0, SibSp=0, Parch=0, Ticket='349246', Fare=7.8958, Cabin=None, Embarked='S'), Row(PassengerId=608, Survived=1, Pclass=1, Name='Daniel, Mr. Robert Williams', Sex='male', Age=27.0, SibSp=0, Parch=0, Ticket='113804', Fare=30.5, Cabin=None, Embarked='S'), Row(PassengerId=612, Survived=0, Pclass=3, Name='Jardin, Mr. Jose Neto', Sex='male', Age=None, SibSp=0, Parch=0, Ticket='SOTON/O.Q. 3101305', Fare=7.05, Cabin=None, Embarked='S'), Row(PassengerId=614, Survived=0, Pclass=3, Name='Horgan, Mr. John', Sex='male', Age=None, SibSp=0, Parch=0, Ticket='370377', Fare=7.75, Cabin=None, Embarked='Q'), Row(PassengerId=615, Survived=0, Pclass=3, Name='Brocklebank, Mr. William Alfred', Sex='male', Age=35.0, SibSp=0, Parch=0, Ticket='364512', Fare=8.05, Cabin=None, Embarked='S'), Row(PassengerId=617, Survived=0, Pclass=3, Name='Danbom, Mr. Ernst Gilbert', Sex='male', Age=34.0, SibSp=1, Parch=1, Ticket='347080', Fare=14.4, Cabin=None, Embarked='S'), Row(PassengerId=620, Survived=0, Pclass=2, Name='Gavey, Mr. Lawrence', Sex='male', Age=26.0, SibSp=0, Parch=0, Ticket='31028', Fare=10.5, Cabin=None, Embarked='S'), Row(PassengerId=621, Survived=0, Pclass=3, Name='Yasbeck, Mr. Antoni', Sex='male', Age=27.0, SibSp=1, Parch=0, Ticket='2659', Fare=14.4542, Cabin=None, Embarked='C'), Row(PassengerId=622, Survived=1, Pclass=1, Name='Kimball, Mr. Edwin Nelson Jr', Sex='male', Age=42.0, SibSp=1, Parch=0, Ticket='11753', Fare=52.5542, Cabin='D19', Embarked='S'), Row(PassengerId=623, Survived=1, Pclass=3, Name='Nakid, Mr. Sahid', Sex='male', Age=20.0, SibSp=1, Parch=1, Ticket='2653', Fare=15.7417, Cabin=None, Embarked='C'), Row(PassengerId=624, Survived=0, Pclass=3, Name='Hansen, Mr. Henry Damsgaard', Sex='male', Age=21.0, SibSp=0, Parch=0, Ticket='350029', Fare=7.8542, Cabin=None, Embarked='S'), Row(PassengerId=625, Survived=0, Pclass=3, Name='\"Bowen, Mr. David John \"\"Dai\"\"\"', Sex='male', Age=21.0, SibSp=0, Parch=0, Ticket='54636', Fare=16.1, Cabin=None, Embarked='S'), Row(PassengerId=626, Survived=0, Pclass=1, Name='Sutton, Mr. Frederick', Sex='male', Age=61.0, SibSp=0, Parch=0, Ticket='36963', Fare=32.3208, Cabin='D50', Embarked='S'), Row(PassengerId=627, Survived=0, Pclass=2, Name='Kirkland, Rev. Charles Leonard', Sex='male', Age=57.0, SibSp=0, Parch=0, Ticket='219533', Fare=12.35, Cabin=None, Embarked='Q'), Row(PassengerId=629, Survived=0, Pclass=3, Name='Bostandyeff, Mr. Guentcho', Sex='male', Age=26.0, SibSp=0, Parch=0, Ticket='349224', Fare=7.8958, Cabin=None, Embarked='S'), Row(PassengerId=630, Survived=0, Pclass=3, Name=\"O'Connell, Mr. Patrick D\", Sex='male', Age=None, SibSp=0, Parch=0, Ticket='334912', Fare=7.7333, Cabin=None, Embarked='Q'), Row(PassengerId=631, Survived=1, Pclass=1, Name='Barkworth, Mr. Algernon Henry Wilson', Sex='male', Age=80.0, SibSp=0, Parch=0, Ticket='27042', Fare=30.0, Cabin='A23', Embarked='S'), Row(PassengerId=632, Survived=0, Pclass=3, Name='Lundahl, Mr. Johan Svensson', Sex='male', Age=51.0, SibSp=0, Parch=0, Ticket='347743', Fare=7.0542, Cabin=None, Embarked='S'), Row(PassengerId=633, Survived=1, Pclass=1, Name='Stahelin-Maeglin, Dr. Max', Sex='male', Age=32.0, SibSp=0, Parch=0, Ticket='13214', Fare=30.5, Cabin='B50', Embarked='C'), Row(PassengerId=634, Survived=0, Pclass=1, Name='Parr, Mr. William Henry Marsh', Sex='male', Age=None, SibSp=0, Parch=0, Ticket='112052', Fare=0.0, Cabin=None, Embarked='S'), Row(PassengerId=637, Survived=0, Pclass=3, Name='Leinonen, Mr. Antti Gustaf', Sex='male', Age=32.0, SibSp=0, Parch=0, Ticket='STON/O 2. 3101292', Fare=7.925, Cabin=None, Embarked='S'), Row(PassengerId=638, Survived=0, Pclass=2, Name='Collyer, Mr. Harvey', Sex='male', Age=31.0, SibSp=1, Parch=1, Ticket='C.A. 31921', Fare=26.25, Cabin=None, Embarked='S'), Row(PassengerId=640, Survived=0, Pclass=3, Name='Thorneycroft, Mr. Percival', Sex='male', Age=None, SibSp=1, Parch=0, Ticket='376564', Fare=16.1, Cabin=None, Embarked='S'), Row(PassengerId=641, Survived=0, Pclass=3, Name='Jensen, Mr. Hans Peder', Sex='male', Age=20.0, SibSp=0, Parch=0, Ticket='350050', Fare=7.8542, Cabin=None, Embarked='S'), Row(PassengerId=644, Survived=1, Pclass=3, Name='Foo, Mr. Choong', Sex='male', Age=None, SibSp=0, Parch=0, Ticket='1601', Fare=56.4958, Cabin=None, Embarked='S'), Row(PassengerId=646, Survived=1, Pclass=1, Name='Harper, Mr. Henry Sleeper', Sex='male', Age=48.0, SibSp=1, Parch=0, Ticket='PC 17572', Fare=76.7292, Cabin='D33', Embarked='C'), Row(PassengerId=647, Survived=0, Pclass=3, Name='Cor, Mr. Liudevit', Sex='male', Age=19.0, SibSp=0, Parch=0, Ticket='349231', Fare=7.8958, Cabin=None, Embarked='S'), Row(PassengerId=648, Survived=1, Pclass=1, Name='Simonius-Blumer, Col. Oberst Alfons', Sex='male', Age=56.0, SibSp=0, Parch=0, Ticket='13213', Fare=35.5, Cabin='A26', Embarked='C'), Row(PassengerId=649, Survived=0, Pclass=3, Name='Willey, Mr. Edward', Sex='male', Age=None, SibSp=0, Parch=0, Ticket='S.O./P.P. 751', Fare=7.55, Cabin=None, Embarked='S'), Row(PassengerId=651, Survived=0, Pclass=3, Name='Mitkoff, Mr. Mito', Sex='male', Age=None, SibSp=0, Parch=0, Ticket='349221', Fare=7.8958, Cabin=None, Embarked='S'), Row(PassengerId=653, Survived=0, Pclass=3, Name='Kalvik, Mr. Johannes Halvorsen', Sex='male', Age=21.0, SibSp=0, Parch=0, Ticket='8475', Fare=8.4333, Cabin=None, Embarked='S'), Row(PassengerId=656, Survived=0, Pclass=2, Name='Hickman, Mr. Leonard Mark', Sex='male', Age=24.0, SibSp=2, Parch=0, Ticket='S.O.C. 14879', Fare=73.5, Cabin=None, Embarked='S'), Row(PassengerId=657, Survived=0, Pclass=3, Name='Radeff, Mr. Alexander', Sex='male', Age=None, SibSp=0, Parch=0, Ticket='349223', Fare=7.8958, Cabin=None, Embarked='S'), Row(PassengerId=659, Survived=0, Pclass=2, Name='Eitemiller, Mr. George Floyd', Sex='male', Age=23.0, SibSp=0, Parch=0, Ticket='29751', Fare=13.0, Cabin=None, Embarked='S'), Row(PassengerId=660, Survived=0, Pclass=1, Name='Newell, Mr. Arthur Webster', Sex='male', Age=58.0, SibSp=0, Parch=2, Ticket='35273', Fare=113.275, Cabin='D48', Embarked='C'), Row(PassengerId=661, Survived=1, Pclass=1, Name='Frauenthal, Dr. Henry William', Sex='male', Age=50.0, SibSp=2, Parch=0, Ticket='PC 17611', Fare=133.65, Cabin=None, Embarked='S'), Row(PassengerId=662, Survived=0, Pclass=3, Name='Badt, Mr. Mohamed', Sex='male', Age=40.0, SibSp=0, Parch=0, Ticket='2623', Fare=7.225, Cabin=None, Embarked='C'), Row(PassengerId=663, Survived=0, Pclass=1, Name='Colley, Mr. Edward Pomeroy', Sex='male', Age=47.0, SibSp=0, Parch=0, Ticket='5727', Fare=25.5875, Cabin='E58', Embarked='S'), Row(PassengerId=664, Survived=0, Pclass=3, Name='Coleff, Mr. Peju', Sex='male', Age=36.0, SibSp=0, Parch=0, Ticket='349210', Fare=7.4958, Cabin=None, Embarked='S'), Row(PassengerId=665, Survived=1, Pclass=3, Name='Lindqvist, Mr. Eino William', Sex='male', Age=20.0, SibSp=1, Parch=0, Ticket='STON/O 2. 3101285', Fare=7.925, Cabin=None, Embarked='S'), Row(PassengerId=666, Survived=0, Pclass=2, Name='Hickman, Mr. Lewis', Sex='male', Age=32.0, SibSp=2, Parch=0, Ticket='S.O.C. 14879', Fare=73.5, Cabin=None, Embarked='S'), Row(PassengerId=667, Survived=0, Pclass=2, Name='Butler, Mr. Reginald Fenton', Sex='male', Age=25.0, SibSp=0, Parch=0, Ticket='234686', Fare=13.0, Cabin=None, Embarked='S'), Row(PassengerId=668, Survived=0, Pclass=3, Name='Rommetvedt, Mr. Knud Paust', Sex='male', Age=None, SibSp=0, Parch=0, Ticket='312993', Fare=7.775, Cabin=None, Embarked='S'), Row(PassengerId=669, Survived=0, Pclass=3, Name='Cook, Mr. Jacob', Sex='male', Age=43.0, SibSp=0, Parch=0, Ticket='A/5 3536', Fare=8.05, Cabin=None, Embarked='S'), Row(PassengerId=672, Survived=0, Pclass=1, Name='Davidson, Mr. Thornton', Sex='male', Age=31.0, SibSp=1, Parch=0, Ticket='F.C. 12750', Fare=52.0, Cabin='B71', Embarked='S'), Row(PassengerId=673, Survived=0, Pclass=2, Name='Mitchell, Mr. Henry Michael', Sex='male', Age=70.0, SibSp=0, Parch=0, Ticket='C.A. 24580', Fare=10.5, Cabin=None, Embarked='S'), Row(PassengerId=674, Survived=1, Pclass=2, Name='Wilhelms, Mr. Charles', Sex='male', Age=31.0, SibSp=0, Parch=0, Ticket='244270', Fare=13.0, Cabin=None, Embarked='S'), Row(PassengerId=675, Survived=0, Pclass=2, Name='Watson, Mr. Ennis Hastings', Sex='male', Age=None, SibSp=0, Parch=0, Ticket='239856', Fare=0.0, Cabin=None, Embarked='S'), Row(PassengerId=676, Survived=0, Pclass=3, Name='Edvardsson, Mr. Gustaf Hjalmar', Sex='male', Age=18.0, SibSp=0, Parch=0, Ticket='349912', Fare=7.775, Cabin=None, Embarked='S'), Row(PassengerId=677, Survived=0, Pclass=3, Name='Sawyer, Mr. Frederick Charles', Sex='male', Age=24.5, SibSp=0, Parch=0, Ticket='342826', Fare=8.05, Cabin=None, Embarked='S'), Row(PassengerId=680, Survived=1, Pclass=1, Name='Cardeza, Mr. Thomas Drake Martinez', Sex='male', Age=36.0, SibSp=0, Parch=1, Ticket='PC 17755', Fare=512.3292, Cabin='B51 B53 B55', Embarked='C'), Row(PassengerId=682, Survived=1, Pclass=1, Name='Hassab, Mr. Hammad', Sex='male', Age=27.0, SibSp=0, Parch=0, Ticket='PC 17572', Fare=76.7292, Cabin='D49', Embarked='C'), Row(PassengerId=683, Survived=0, Pclass=3, Name='Olsvigen, Mr. Thor Anderson', Sex='male', Age=20.0, SibSp=0, Parch=0, Ticket='6563', Fare=9.225, Cabin=None, Embarked='S'), Row(PassengerId=684, Survived=0, Pclass=3, Name='Goodwin, Mr. Charles Edward', Sex='male', Age=14.0, SibSp=5, Parch=2, Ticket='CA 2144', Fare=46.9, Cabin=None, Embarked='S'), Row(PassengerId=685, Survived=0, Pclass=2, Name='Brown, Mr. Thomas William Solomon', Sex='male', Age=60.0, SibSp=1, Parch=1, Ticket='29750', Fare=39.0, Cabin=None, Embarked='S'), Row(PassengerId=686, Survived=0, Pclass=2, Name='Laroche, Mr. Joseph Philippe Lemercier', Sex='male', Age=25.0, SibSp=1, Parch=2, Ticket='SC/Paris 2123', Fare=41.5792, Cabin=None, Embarked='C'), Row(PassengerId=687, Survived=0, Pclass=3, Name='Panula, Mr. Jaako Arnold', Sex='male', Age=14.0, SibSp=4, Parch=1, Ticket='3101295', Fare=39.6875, Cabin=None, Embarked='S'), Row(PassengerId=688, Survived=0, Pclass=3, Name='Dakic, Mr. Branko', Sex='male', Age=19.0, SibSp=0, Parch=0, Ticket='349228', Fare=10.1708, Cabin=None, Embarked='S'), Row(PassengerId=689, Survived=0, Pclass=3, Name='Fischer, Mr. Eberhard Thelander', Sex='male', Age=18.0, SibSp=0, Parch=0, Ticket='350036', Fare=7.7958, Cabin=None, Embarked='S'), Row(PassengerId=691, Survived=1, Pclass=1, Name='Dick, Mr. Albert Adrian', Sex='male', Age=31.0, SibSp=1, Parch=0, Ticket='17474', Fare=57.0, Cabin='B20', Embarked='S'), Row(PassengerId=693, Survived=1, Pclass=3, Name='Lam, Mr. Ali', Sex='male', Age=None, SibSp=0, Parch=0, Ticket='1601', Fare=56.4958, Cabin=None, Embarked='S'), Row(PassengerId=694, Survived=0, Pclass=3, Name='Saad, Mr. Khalil', Sex='male', Age=25.0, SibSp=0, Parch=0, Ticket='2672', Fare=7.225, Cabin=None, Embarked='C'), Row(PassengerId=695, Survived=0, Pclass=1, Name='Weir, Col. John', Sex='male', Age=60.0, SibSp=0, Parch=0, Ticket='113800', Fare=26.55, Cabin=None, Embarked='S'), Row(PassengerId=696, Survived=0, Pclass=2, Name='Chapman, Mr. Charles Henry', Sex='male', Age=52.0, SibSp=0, Parch=0, Ticket='248731', Fare=13.5, Cabin=None, Embarked='S'), Row(PassengerId=697, Survived=0, Pclass=3, Name='Kelly, Mr. James', Sex='male', Age=44.0, SibSp=0, Parch=0, Ticket='363592', Fare=8.05, Cabin=None, Embarked='S'), Row(PassengerId=699, Survived=0, Pclass=1, Name='Thayer, Mr. John Borland', Sex='male', Age=49.0, SibSp=1, Parch=1, Ticket='17421', Fare=110.8833, Cabin='C68', Embarked='C'), Row(PassengerId=700, Survived=0, Pclass=3, Name='Humblen, Mr. Adolf Mathias Nicolai Olsen', Sex='male', Age=42.0, SibSp=0, Parch=0, Ticket='348121', Fare=7.65, Cabin='F G63', Embarked='S'), Row(PassengerId=702, Survived=1, Pclass=1, Name='Silverthorne, Mr. Spencer Victor', Sex='male', Age=35.0, SibSp=0, Parch=0, Ticket='PC 17475', Fare=26.2875, Cabin='E24', Embarked='S'), Row(PassengerId=704, Survived=0, Pclass=3, Name='Gallagher, Mr. Martin', Sex='male', Age=25.0, SibSp=0, Parch=0, Ticket='36864', Fare=7.7417, Cabin=None, Embarked='Q'), Row(PassengerId=705, Survived=0, Pclass=3, Name='Hansen, Mr. Henrik Juul', Sex='male', Age=26.0, SibSp=1, Parch=0, Ticket='350025', Fare=7.8542, Cabin=None, Embarked='S'), Row(PassengerId=706, Survived=0, Pclass=2, Name='\"Morley, Mr. Henry Samuel (\"\"Mr Henry Marshall\"\")\"', Sex='male', Age=39.0, SibSp=0, Parch=0, Ticket='250655', Fare=26.0, Cabin=None, Embarked='S'), Row(PassengerId=708, Survived=1, Pclass=1, Name='Calderhead, Mr. Edward Pennington', Sex='male', Age=42.0, SibSp=0, Parch=0, Ticket='PC 17476', Fare=26.2875, Cabin='E24', Embarked='S'), Row(PassengerId=710, Survived=1, Pclass=3, Name='\"Moubarek, Master. Halim Gonios (\"\"William George\"\")\"', Sex='male', Age=None, SibSp=1, Parch=1, Ticket='2661', Fare=15.2458, Cabin=None, Embarked='C'), Row(PassengerId=712, Survived=0, Pclass=1, Name='Klaber, Mr. Herman', Sex='male', Age=None, SibSp=0, Parch=0, Ticket='113028', Fare=26.55, Cabin='C124', Embarked='S'), Row(PassengerId=713, Survived=1, Pclass=1, Name='Taylor, Mr. Elmer Zebley', Sex='male', Age=48.0, SibSp=1, Parch=0, Ticket='19996', Fare=52.0, Cabin='C126', Embarked='S'), Row(PassengerId=714, Survived=0, Pclass=3, Name='Larsson, Mr. August Viktor', Sex='male', Age=29.0, SibSp=0, Parch=0, Ticket='7545', Fare=9.4833, Cabin=None, Embarked='S'), Row(PassengerId=715, Survived=0, Pclass=2, Name='Greenberg, Mr. Samuel', Sex='male', Age=52.0, SibSp=0, Parch=0, Ticket='250647', Fare=13.0, Cabin=None, Embarked='S'), Row(PassengerId=716, Survived=0, Pclass=3, Name='Soholt, Mr. Peter Andreas Lauritz Andersen', Sex='male', Age=19.0, SibSp=0, Parch=0, Ticket='348124', Fare=7.65, Cabin='F G73', Embarked='S'), Row(PassengerId=719, Survived=0, Pclass=3, Name='McEvoy, Mr. Michael', Sex='male', Age=None, SibSp=0, Parch=0, Ticket='36568', Fare=15.5, Cabin=None, Embarked='Q'), Row(PassengerId=720, Survived=0, Pclass=3, Name='Johnson, Mr. Malkolm Joackim', Sex='male', Age=33.0, SibSp=0, Parch=0, Ticket='347062', Fare=7.775, Cabin=None, Embarked='S'), Row(PassengerId=722, Survived=0, Pclass=3, Name='Jensen, Mr. Svend Lauritz', Sex='male', Age=17.0, SibSp=1, Parch=0, Ticket='350048', Fare=7.0542, Cabin=None, Embarked='S'), Row(PassengerId=723, Survived=0, Pclass=2, Name='Gillespie, Mr. William Henry', Sex='male', Age=34.0, SibSp=0, Parch=0, Ticket='12233', Fare=13.0, Cabin=None, Embarked='S'), Row(PassengerId=724, Survived=0, Pclass=2, Name='Hodges, Mr. Henry Price', Sex='male', Age=50.0, SibSp=0, Parch=0, Ticket='250643', Fare=13.0, Cabin=None, Embarked='S'), Row(PassengerId=725, Survived=1, Pclass=1, Name='Chambers, Mr. Norman Campbell', Sex='male', Age=27.0, SibSp=1, Parch=0, Ticket='113806', Fare=53.1, Cabin='E8', Embarked='S'), Row(PassengerId=726, Survived=0, Pclass=3, Name='Oreskovic, Mr. Luka', Sex='male', Age=20.0, SibSp=0, Parch=0, Ticket='315094', Fare=8.6625, Cabin=None, Embarked='S'), Row(PassengerId=729, Survived=0, Pclass=2, Name='Bryhl, Mr. Kurt Arnold Gottfrid', Sex='male', Age=25.0, SibSp=1, Parch=0, Ticket='236853', Fare=26.0, Cabin=None, Embarked='S'), Row(PassengerId=732, Survived=0, Pclass=3, Name='Hassan, Mr. Houssein G N', Sex='male', Age=11.0, SibSp=0, Parch=0, Ticket='2699', Fare=18.7875, Cabin=None, Embarked='C'), Row(PassengerId=733, Survived=0, Pclass=2, Name='Knight, Mr. Robert J', Sex='male', Age=None, SibSp=0, Parch=0, Ticket='239855', Fare=0.0, Cabin=None, Embarked='S'), Row(PassengerId=734, Survived=0, Pclass=2, Name='Berriman, Mr. William John', Sex='male', Age=23.0, SibSp=0, Parch=0, Ticket='28425', Fare=13.0, Cabin=None, Embarked='S'), Row(PassengerId=735, Survived=0, Pclass=2, Name='Troupiansky, Mr. Moses Aaron', Sex='male', Age=23.0, SibSp=0, Parch=0, Ticket='233639', Fare=13.0, Cabin=None, Embarked='S'), Row(PassengerId=736, Survived=0, Pclass=3, Name='Williams, Mr. Leslie', Sex='male', Age=28.5, SibSp=0, Parch=0, Ticket='54636', Fare=16.1, Cabin=None, Embarked='S'), Row(PassengerId=738, Survived=1, Pclass=1, Name='Lesurer, Mr. Gustave J', Sex='male', Age=35.0, SibSp=0, Parch=0, Ticket='PC 17755', Fare=512.3292, Cabin='B101', Embarked='C'), Row(PassengerId=739, Survived=0, Pclass=3, Name='Ivanoff, Mr. Kanio', Sex='male', Age=None, SibSp=0, Parch=0, Ticket='349201', Fare=7.8958, Cabin=None, Embarked='S'), Row(PassengerId=740, Survived=0, Pclass=3, Name='Nankoff, Mr. Minko', Sex='male', Age=None, SibSp=0, Parch=0, Ticket='349218', Fare=7.8958, Cabin=None, Embarked='S'), Row(PassengerId=741, Survived=1, Pclass=1, Name='Hawksford, Mr. Walter James', Sex='male', Age=None, SibSp=0, Parch=0, Ticket='16988', Fare=30.0, Cabin='D45', Embarked='S'), Row(PassengerId=742, Survived=0, Pclass=1, Name='Cavendish, Mr. Tyrell William', Sex='male', Age=36.0, SibSp=1, Parch=0, Ticket='19877', Fare=78.85, Cabin='C46', Embarked='S'), Row(PassengerId=744, Survived=0, Pclass=3, Name='McNamee, Mr. Neal', Sex='male', Age=24.0, SibSp=1, Parch=0, Ticket='376566', Fare=16.1, Cabin=None, Embarked='S'), Row(PassengerId=745, Survived=1, Pclass=3, Name='Stranden, Mr. Juho', Sex='male', Age=31.0, SibSp=0, Parch=0, Ticket='STON/O 2. 3101288', Fare=7.925, Cabin=None, Embarked='S'), Row(PassengerId=746, Survived=0, Pclass=1, Name='Crosby, Capt. Edward Gifford', Sex='male', Age=70.0, SibSp=1, Parch=1, Ticket='WE/P 5735', Fare=71.0, Cabin='B22', Embarked='S'), Row(PassengerId=747, Survived=0, Pclass=3, Name='Abbott, Mr. Rossmore Edward', Sex='male', Age=16.0, SibSp=1, Parch=1, Ticket='C.A. 2673', Fare=20.25, Cabin=None, Embarked='S'), Row(PassengerId=749, Survived=0, Pclass=1, Name='Marvin, Mr. Daniel Warner', Sex='male', Age=19.0, SibSp=1, Parch=0, Ticket='113773', Fare=53.1, Cabin='D30', Embarked='S'), Row(PassengerId=750, Survived=0, Pclass=3, Name='Connaghton, Mr. Michael', Sex='male', Age=31.0, SibSp=0, Parch=0, Ticket='335097', Fare=7.75, Cabin=None, Embarked='Q'), Row(PassengerId=752, Survived=1, Pclass=3, Name='Moor, Master. Meier', Sex='male', Age=6.0, SibSp=0, Parch=1, Ticket='392096', Fare=12.475, Cabin='E121', Embarked='S'), Row(PassengerId=753, Survived=0, Pclass=3, Name='Vande Velde, Mr. Johannes Joseph', Sex='male', Age=33.0, SibSp=0, Parch=0, Ticket='345780', Fare=9.5, Cabin=None, Embarked='S'), Row(PassengerId=754, Survived=0, Pclass=3, Name='Jonkoff, Mr. Lalio', Sex='male', Age=23.0, SibSp=0, Parch=0, Ticket='349204', Fare=7.8958, Cabin=None, Embarked='S'), Row(PassengerId=756, Survived=1, Pclass=2, Name='Hamalainen, Master. Viljo', Sex='male', Age=0.67, SibSp=1, Parch=1, Ticket='250649', Fare=14.5, Cabin=None, Embarked='S'), Row(PassengerId=757, Survived=0, Pclass=3, Name='Carlsson, Mr. August Sigfrid', Sex='male', Age=28.0, SibSp=0, Parch=0, Ticket='350042', Fare=7.7958, Cabin=None, Embarked='S'), Row(PassengerId=758, Survived=0, Pclass=2, Name='Bailey, Mr. Percy Andrew', Sex='male', Age=18.0, SibSp=0, Parch=0, Ticket='29108', Fare=11.5, Cabin=None, Embarked='S'), Row(PassengerId=759, Survived=0, Pclass=3, Name='Theobald, Mr. Thomas Leonard', Sex='male', Age=34.0, SibSp=0, Parch=0, Ticket='363294', Fare=8.05, Cabin=None, Embarked='S'), Row(PassengerId=761, Survived=0, Pclass=3, Name='Garfirth, Mr. John', Sex='male', Age=None, SibSp=0, Parch=0, Ticket='358585', Fare=14.5, Cabin=None, Embarked='S'), Row(PassengerId=762, Survived=0, Pclass=3, Name='Nirva, Mr. Iisakki Antino Aijo', Sex='male', Age=41.0, SibSp=0, Parch=0, Ticket='SOTON/O2 3101272', Fare=7.125, Cabin=None, Embarked='S'), Row(PassengerId=763, Survived=1, Pclass=3, Name='Barah, Mr. Hanna Assi', Sex='male', Age=20.0, SibSp=0, Parch=0, Ticket='2663', Fare=7.2292, Cabin=None, Embarked='C'), Row(PassengerId=765, Survived=0, Pclass=3, Name='Eklund, Mr. Hans Linus', Sex='male', Age=16.0, SibSp=0, Parch=0, Ticket='347074', Fare=7.775, Cabin=None, Embarked='S'), Row(PassengerId=767, Survived=0, Pclass=1, Name='Brewe, Dr. Arthur Jackson', Sex='male', Age=None, SibSp=0, Parch=0, Ticket='112379', Fare=39.6, Cabin=None, Embarked='C'), Row(PassengerId=769, Survived=0, Pclass=3, Name='Moran, Mr. Daniel J', Sex='male', Age=None, SibSp=1, Parch=0, Ticket='371110', Fare=24.15, Cabin=None, Embarked='Q'), Row(PassengerId=770, Survived=0, Pclass=3, Name='Gronnestad, Mr. Daniel Danielsen', Sex='male', Age=32.0, SibSp=0, Parch=0, Ticket='8471', Fare=8.3625, Cabin=None, Embarked='S'), Row(PassengerId=771, Survived=0, Pclass=3, Name='Lievens, Mr. Rene Aime', Sex='male', Age=24.0, SibSp=0, Parch=0, Ticket='345781', Fare=9.5, Cabin=None, Embarked='S'), Row(PassengerId=772, Survived=0, Pclass=3, Name='Jensen, Mr. Niels Peder', Sex='male', Age=48.0, SibSp=0, Parch=0, Ticket='350047', Fare=7.8542, Cabin=None, Embarked='S'), Row(PassengerId=774, Survived=0, Pclass=3, Name='Elias, Mr. Dibo', Sex='male', Age=None, SibSp=0, Parch=0, Ticket='2674', Fare=7.225, Cabin=None, Embarked='C'), Row(PassengerId=776, Survived=0, Pclass=3, Name='Myhrman, Mr. Pehr Fabian Oliver Malkolm', Sex='male', Age=18.0, SibSp=0, Parch=0, Ticket='347078', Fare=7.75, Cabin=None, Embarked='S'), Row(PassengerId=777, Survived=0, Pclass=3, Name='Tobin, Mr. Roger', Sex='male', Age=None, SibSp=0, Parch=0, Ticket='383121', Fare=7.75, Cabin='F38', Embarked='Q'), Row(PassengerId=779, Survived=0, Pclass=3, Name='Kilgannon, Mr. Thomas J', Sex='male', Age=None, SibSp=0, Parch=0, Ticket='36865', Fare=7.7375, Cabin=None, Embarked='Q'), Row(PassengerId=783, Survived=0, Pclass=1, Name='Long, Mr. Milton Clyde', Sex='male', Age=29.0, SibSp=0, Parch=0, Ticket='113501', Fare=30.0, Cabin='D6', Embarked='S'), Row(PassengerId=784, Survived=0, Pclass=3, Name='Johnston, Mr. Andrew G', Sex='male', Age=None, SibSp=1, Parch=2, Ticket='W./C. 6607', Fare=23.45, Cabin=None, Embarked='S'), Row(PassengerId=785, Survived=0, Pclass=3, Name='Ali, Mr. William', Sex='male', Age=25.0, SibSp=0, Parch=0, Ticket='SOTON/O.Q. 3101312', Fare=7.05, Cabin=None, Embarked='S'), Row(PassengerId=786, Survived=0, Pclass=3, Name='Harmer, Mr. Abraham (David Lishin)', Sex='male', Age=25.0, SibSp=0, Parch=0, Ticket='374887', Fare=7.25, Cabin=None, Embarked='S'), Row(PassengerId=788, Survived=0, Pclass=3, Name='Rice, Master. George Hugh', Sex='male', Age=8.0, SibSp=4, Parch=1, Ticket='382652', Fare=29.125, Cabin=None, Embarked='Q'), Row(PassengerId=789, Survived=1, Pclass=3, Name='Dean, Master. Bertram Vere', Sex='male', Age=1.0, SibSp=1, Parch=2, Ticket='C.A. 2315', Fare=20.575, Cabin=None, Embarked='S'), Row(PassengerId=790, Survived=0, Pclass=1, Name='Guggenheim, Mr. Benjamin', Sex='male', Age=46.0, SibSp=0, Parch=0, Ticket='PC 17593', Fare=79.2, Cabin='B82 B84', Embarked='C'), Row(PassengerId=791, Survived=0, Pclass=3, Name='\"Keane, Mr. Andrew \"\"Andy\"\"\"', Sex='male', Age=None, SibSp=0, Parch=0, Ticket='12460', Fare=7.75, Cabin=None, Embarked='Q'), Row(PassengerId=792, Survived=0, Pclass=2, Name='Gaskell, Mr. Alfred', Sex='male', Age=16.0, SibSp=0, Parch=0, Ticket='239865', Fare=26.0, Cabin=None, Embarked='S'), Row(PassengerId=794, Survived=0, Pclass=1, Name='Hoyt, Mr. William Fisher', Sex='male', Age=None, SibSp=0, Parch=0, Ticket='PC 17600', Fare=30.6958, Cabin=None, Embarked='C'), Row(PassengerId=795, Survived=0, Pclass=3, Name='Dantcheff, Mr. Ristiu', Sex='male', Age=25.0, SibSp=0, Parch=0, Ticket='349203', Fare=7.8958, Cabin=None, Embarked='S'), Row(PassengerId=796, Survived=0, Pclass=2, Name='Otter, Mr. Richard', Sex='male', Age=39.0, SibSp=0, Parch=0, Ticket='28213', Fare=13.0, Cabin=None, Embarked='S'), Row(PassengerId=799, Survived=0, Pclass=3, Name='Ibrahim Shawah, Mr. Yousseff', Sex='male', Age=30.0, SibSp=0, Parch=0, Ticket='2685', Fare=7.2292, Cabin=None, Embarked='C'), Row(PassengerId=801, Survived=0, Pclass=2, Name='Ponesell, Mr. Martin', Sex='male', Age=34.0, SibSp=0, Parch=0, Ticket='250647', Fare=13.0, Cabin=None, Embarked='S'), Row(PassengerId=803, Survived=1, Pclass=1, Name='Carter, Master. William Thornton II', Sex='male', Age=11.0, SibSp=1, Parch=2, Ticket='113760', Fare=120.0, Cabin='B96 B98', Embarked='S'), Row(PassengerId=804, Survived=1, Pclass=3, Name='Thomas, Master. Assad Alexander', Sex='male', Age=0.42, SibSp=0, Parch=1, Ticket='2625', Fare=8.5167, Cabin=None, Embarked='C'), Row(PassengerId=805, Survived=1, Pclass=3, Name='Hedman, Mr. Oskar Arvid', Sex='male', Age=27.0, SibSp=0, Parch=0, Ticket='347089', Fare=6.975, Cabin=None, Embarked='S'), Row(PassengerId=806, Survived=0, Pclass=3, Name='Johansson, Mr. Karl Johan', Sex='male', Age=31.0, SibSp=0, Parch=0, Ticket='347063', Fare=7.775, Cabin=None, Embarked='S'), Row(PassengerId=807, Survived=0, Pclass=1, Name='Andrews, Mr. Thomas Jr', Sex='male', Age=39.0, SibSp=0, Parch=0, Ticket='112050', Fare=0.0, Cabin='A36', Embarked='S'), Row(PassengerId=809, Survived=0, Pclass=2, Name='Meyer, Mr. August', Sex='male', Age=39.0, SibSp=0, Parch=0, Ticket='248723', Fare=13.0, Cabin=None, Embarked='S'), Row(PassengerId=811, Survived=0, Pclass=3, Name='Alexander, Mr. William', Sex='male', Age=26.0, SibSp=0, Parch=0, Ticket='3474', Fare=7.8875, Cabin=None, Embarked='S'), Row(PassengerId=812, Survived=0, Pclass=3, Name='Lester, Mr. James', Sex='male', Age=39.0, SibSp=0, Parch=0, Ticket='A/4 48871', Fare=24.15, Cabin=None, Embarked='S'), Row(PassengerId=813, Survived=0, Pclass=2, Name='Slemen, Mr. Richard James', Sex='male', Age=35.0, SibSp=0, Parch=0, Ticket='28206', Fare=10.5, Cabin=None, Embarked='S'), Row(PassengerId=815, Survived=0, Pclass=3, Name='Tomlin, Mr. Ernest Portage', Sex='male', Age=30.5, SibSp=0, Parch=0, Ticket='364499', Fare=8.05, Cabin=None, Embarked='S'), Row(PassengerId=816, Survived=0, Pclass=1, Name='Fry, Mr. Richard', Sex='male', Age=None, SibSp=0, Parch=0, Ticket='112058', Fare=0.0, Cabin='B102', Embarked='S'), Row(PassengerId=818, Survived=0, Pclass=2, Name='Mallet, Mr. Albert', Sex='male', Age=31.0, SibSp=1, Parch=1, Ticket='S.C./PARIS 2079', Fare=37.0042, Cabin=None, Embarked='C'), Row(PassengerId=819, Survived=0, Pclass=3, Name='Holm, Mr. John Fredrik Alexander', Sex='male', Age=43.0, SibSp=0, Parch=0, Ticket='C 7075', Fare=6.45, Cabin=None, Embarked='S'), Row(PassengerId=820, Survived=0, Pclass=3, Name='Skoog, Master. Karl Thorsten', Sex='male', Age=10.0, SibSp=3, Parch=2, Ticket='347088', Fare=27.9, Cabin=None, Embarked='S'), Row(PassengerId=822, Survived=1, Pclass=3, Name='Lulic, Mr. Nikola', Sex='male', Age=27.0, SibSp=0, Parch=0, Ticket='315098', Fare=8.6625, Cabin=None, Embarked='S'), Row(PassengerId=823, Survived=0, Pclass=1, Name='Reuchlin, Jonkheer. John George', Sex='male', Age=38.0, SibSp=0, Parch=0, Ticket='19972', Fare=0.0, Cabin=None, Embarked='S'), Row(PassengerId=825, Survived=0, Pclass=3, Name='Panula, Master. Urho Abraham', Sex='male', Age=2.0, SibSp=4, Parch=1, Ticket='3101295', Fare=39.6875, Cabin=None, Embarked='S'), Row(PassengerId=826, Survived=0, Pclass=3, Name='Flynn, Mr. John', Sex='male', Age=None, SibSp=0, Parch=0, Ticket='368323', Fare=6.95, Cabin=None, Embarked='Q'), Row(PassengerId=827, Survived=0, Pclass=3, Name='Lam, Mr. Len', Sex='male', Age=None, SibSp=0, Parch=0, Ticket='1601', Fare=56.4958, Cabin=None, Embarked='S'), Row(PassengerId=828, Survived=1, Pclass=2, Name='Mallet, Master. Andre', Sex='male', Age=1.0, SibSp=0, Parch=2, Ticket='S.C./PARIS 2079', Fare=37.0042, Cabin=None, Embarked='C'), Row(PassengerId=829, Survived=1, Pclass=3, Name='McCormack, Mr. Thomas Joseph', Sex='male', Age=None, SibSp=0, Parch=0, Ticket='367228', Fare=7.75, Cabin=None, Embarked='Q'), Row(PassengerId=832, Survived=1, Pclass=2, Name='Richards, Master. George Sibley', Sex='male', Age=0.83, SibSp=1, Parch=1, Ticket='29106', Fare=18.75, Cabin=None, Embarked='S'), Row(PassengerId=833, Survived=0, Pclass=3, Name='Saad, Mr. Amin', Sex='male', Age=None, SibSp=0, Parch=0, Ticket='2671', Fare=7.2292, Cabin=None, Embarked='C'), Row(PassengerId=834, Survived=0, Pclass=3, Name='Augustsson, Mr. Albert', Sex='male', Age=23.0, SibSp=0, Parch=0, Ticket='347468', Fare=7.8542, Cabin=None, Embarked='S'), Row(PassengerId=835, Survived=0, Pclass=3, Name='Allum, Mr. Owen George', Sex='male', Age=18.0, SibSp=0, Parch=0, Ticket='2223', Fare=8.3, Cabin=None, Embarked='S'), Row(PassengerId=837, Survived=0, Pclass=3, Name='Pasic, Mr. Jakob', Sex='male', Age=21.0, SibSp=0, Parch=0, Ticket='315097', Fare=8.6625, Cabin=None, Embarked='S'), Row(PassengerId=838, Survived=0, Pclass=3, Name='Sirota, Mr. Maurice', Sex='male', Age=None, SibSp=0, Parch=0, Ticket='392092', Fare=8.05, Cabin=None, Embarked='S'), Row(PassengerId=839, Survived=1, Pclass=3, Name='Chip, Mr. Chang', Sex='male', Age=32.0, SibSp=0, Parch=0, Ticket='1601', Fare=56.4958, Cabin=None, Embarked='S'), Row(PassengerId=840, Survived=1, Pclass=1, Name='Marechal, Mr. Pierre', Sex='male', Age=None, SibSp=0, Parch=0, Ticket='11774', Fare=29.7, Cabin='C47', Embarked='C'), Row(PassengerId=841, Survived=0, Pclass=3, Name='Alhomaki, Mr. Ilmari Rudolf', Sex='male', Age=20.0, SibSp=0, Parch=0, Ticket='SOTON/O2 3101287', Fare=7.925, Cabin=None, Embarked='S'), Row(PassengerId=842, Survived=0, Pclass=2, Name='Mudd, Mr. Thomas Charles', Sex='male', Age=16.0, SibSp=0, Parch=0, Ticket='S.O./P.P. 3', Fare=10.5, Cabin=None, Embarked='S'), Row(PassengerId=844, Survived=0, Pclass=3, Name='Lemberopolous, Mr. Peter L', Sex='male', Age=34.5, SibSp=0, Parch=0, Ticket='2683', Fare=6.4375, Cabin=None, Embarked='C'), Row(PassengerId=845, Survived=0, Pclass=3, Name='Culumovic, Mr. Jeso', Sex='male', Age=17.0, SibSp=0, Parch=0, Ticket='315090', Fare=8.6625, Cabin=None, Embarked='S'), Row(PassengerId=846, Survived=0, Pclass=3, Name='Abbing, Mr. Anthony', Sex='male', Age=42.0, SibSp=0, Parch=0, Ticket='C.A. 5547', Fare=7.55, Cabin=None, Embarked='S'), Row(PassengerId=847, Survived=0, Pclass=3, Name='Sage, Mr. Douglas Bullen', Sex='male', Age=None, SibSp=8, Parch=2, Ticket='CA. 2343', Fare=69.55, Cabin=None, Embarked='S'), Row(PassengerId=848, Survived=0, Pclass=3, Name='Markoff, Mr. Marin', Sex='male', Age=35.0, SibSp=0, Parch=0, Ticket='349213', Fare=7.8958, Cabin=None, Embarked='C'), Row(PassengerId=849, Survived=0, Pclass=2, Name='Harper, Rev. John', Sex='male', Age=28.0, SibSp=0, Parch=1, Ticket='248727', Fare=33.0, Cabin=None, Embarked='S'), Row(PassengerId=851, Survived=0, Pclass=3, Name='Andersson, Master. Sigvard Harald Elias', Sex='male', Age=4.0, SibSp=4, Parch=2, Ticket='347082', Fare=31.275, Cabin=None, Embarked='S'), Row(PassengerId=852, Survived=0, Pclass=3, Name='Svensson, Mr. Johan', Sex='male', Age=74.0, SibSp=0, Parch=0, Ticket='347060', Fare=7.775, Cabin=None, Embarked='S'), Row(PassengerId=858, Survived=1, Pclass=1, Name='Daly, Mr. Peter Denis ', Sex='male', Age=51.0, SibSp=0, Parch=0, Ticket='113055', Fare=26.55, Cabin='E17', Embarked='S'), Row(PassengerId=860, Survived=0, Pclass=3, Name='Razi, Mr. Raihed', Sex='male', Age=None, SibSp=0, Parch=0, Ticket='2629', Fare=7.2292, Cabin=None, Embarked='C'), Row(PassengerId=861, Survived=0, Pclass=3, Name='Hansen, Mr. Claus Peter', Sex='male', Age=41.0, SibSp=2, Parch=0, Ticket='350026', Fare=14.1083, Cabin=None, Embarked='S'), Row(PassengerId=862, Survived=0, Pclass=2, Name='Giles, Mr. Frederick Edward', Sex='male', Age=21.0, SibSp=1, Parch=0, Ticket='28134', Fare=11.5, Cabin=None, Embarked='S'), Row(PassengerId=865, Survived=0, Pclass=2, Name='Gill, Mr. John William', Sex='male', Age=24.0, SibSp=0, Parch=0, Ticket='233866', Fare=13.0, Cabin=None, Embarked='S'), Row(PassengerId=868, Survived=0, Pclass=1, Name='Roebling, Mr. Washington Augustus II', Sex='male', Age=31.0, SibSp=0, Parch=0, Ticket='PC 17590', Fare=50.4958, Cabin='A24', Embarked='S'), Row(PassengerId=869, Survived=0, Pclass=3, Name='van Melkebeke, Mr. Philemon', Sex='male', Age=None, SibSp=0, Parch=0, Ticket='345777', Fare=9.5, Cabin=None, Embarked='S'), Row(PassengerId=870, Survived=1, Pclass=3, Name='Johnson, Master. Harold Theodor', Sex='male', Age=4.0, SibSp=1, Parch=1, Ticket='347742', Fare=11.1333, Cabin=None, Embarked='S'), Row(PassengerId=871, Survived=0, Pclass=3, Name='Balkic, Mr. Cerin', Sex='male', Age=26.0, SibSp=0, Parch=0, Ticket='349248', Fare=7.8958, Cabin=None, Embarked='S'), Row(PassengerId=873, Survived=0, Pclass=1, Name='Carlsson, Mr. Frans Olof', Sex='male', Age=33.0, SibSp=0, Parch=0, Ticket='695', Fare=5.0, Cabin='B51 B53 B55', Embarked='S'), Row(PassengerId=874, Survived=0, Pclass=3, Name='Vander Cruyssen, Mr. Victor', Sex='male', Age=47.0, SibSp=0, Parch=0, Ticket='345765', Fare=9.0, Cabin=None, Embarked='S'), Row(PassengerId=877, Survived=0, Pclass=3, Name='Gustafsson, Mr. Alfred Ossian', Sex='male', Age=20.0, SibSp=0, Parch=0, Ticket='7534', Fare=9.8458, Cabin=None, Embarked='S'), Row(PassengerId=878, Survived=0, Pclass=3, Name='Petroff, Mr. Nedelio', Sex='male', Age=19.0, SibSp=0, Parch=0, Ticket='349212', Fare=7.8958, Cabin=None, Embarked='S'), Row(PassengerId=879, Survived=0, Pclass=3, Name='Laleff, Mr. Kristo', Sex='male', Age=None, SibSp=0, Parch=0, Ticket='349217', Fare=7.8958, Cabin=None, Embarked='S'), Row(PassengerId=882, Survived=0, Pclass=3, Name='Markun, Mr. Johann', Sex='male', Age=33.0, SibSp=0, Parch=0, Ticket='349257', Fare=7.8958, Cabin=None, Embarked='S'), Row(PassengerId=884, Survived=0, Pclass=2, Name='Banfield, Mr. Frederick James', Sex='male', Age=28.0, SibSp=0, Parch=0, Ticket='C.A./SOTON 34068', Fare=10.5, Cabin=None, Embarked='S'), Row(PassengerId=885, Survived=0, Pclass=3, Name='Sutehall, Mr. Henry Jr', Sex='male', Age=25.0, SibSp=0, Parch=0, Ticket='SOTON/OQ 392076', Fare=7.05, Cabin=None, Embarked='S'), Row(PassengerId=887, Survived=0, Pclass=2, Name='Montvila, Rev. Juozas', Sex='male', Age=27.0, SibSp=0, Parch=0, Ticket='211536', Fare=13.0, Cabin=None, Embarked='S'), Row(PassengerId=890, Survived=1, Pclass=1, Name='Behr, Mr. Karl Howell', Sex='male', Age=26.0, SibSp=0, Parch=0, Ticket='111369', Fare=30.0, Cabin='C148', Embarked='C'), Row(PassengerId=891, Survived=0, Pclass=3, Name='Dooley, Mr. Patrick', Sex='male', Age=32.0, SibSp=0, Parch=0, Ticket='370376', Fare=7.75, Cabin=None, Embarked='Q'), Row(PassengerId=2, Survived=1, Pclass=1, Name='Cumings, Mrs. John Bradley (Florence Briggs Thayer)', Sex='female', Age=38.0, SibSp=1, Parch=0, Ticket='PC 17599', Fare=71.2833, Cabin='C85', Embarked='C'), Row(PassengerId=3, Survived=1, Pclass=3, Name='Heikkinen, Miss. Laina', Sex='female', Age=26.0, SibSp=0, Parch=0, Ticket='STON/O2. 3101282', Fare=7.925, Cabin=None, Embarked='S'), Row(PassengerId=4, Survived=1, Pclass=1, Name='Futrelle, Mrs. Jacques Heath (Lily May Peel)', Sex='female', Age=35.0, SibSp=1, Parch=0, Ticket='113803', Fare=53.1, Cabin='C123', Embarked='S'), Row(PassengerId=9, Survived=1, Pclass=3, Name='Johnson, Mrs. Oscar W (Elisabeth Vilhelmina Berg)', Sex='female', Age=27.0, SibSp=0, Parch=2, Ticket='347742', Fare=11.1333, Cabin=None, Embarked='S'), Row(PassengerId=10, Survived=1, Pclass=2, Name='Nasser, Mrs. Nicholas (Adele Achem)', Sex='female', Age=14.0, SibSp=1, Parch=0, Ticket='237736', Fare=30.0708, Cabin=None, Embarked='C'), Row(PassengerId=11, Survived=1, Pclass=3, Name='Sandstrom, Miss. Marguerite Rut', Sex='female', Age=4.0, SibSp=1, Parch=1, Ticket='PP 9549', Fare=16.7, Cabin='G6', Embarked='S'), Row(PassengerId=12, Survived=1, Pclass=1, Name='Bonnell, Miss. Elizabeth', Sex='female', Age=58.0, SibSp=0, Parch=0, Ticket='113783', Fare=26.55, Cabin='C103', Embarked='S'), Row(PassengerId=15, Survived=0, Pclass=3, Name='Vestrom, Miss. Hulda Amanda Adolfina', Sex='female', Age=14.0, SibSp=0, Parch=0, Ticket='350406', Fare=7.8542, Cabin=None, Embarked='S'), Row(PassengerId=16, Survived=1, Pclass=2, Name='Hewlett, Mrs. (Mary D Kingcome) ', Sex='female', Age=55.0, SibSp=0, Parch=0, Ticket='248706', Fare=16.0, Cabin=None, Embarked='S'), Row(PassengerId=19, Survived=0, Pclass=3, Name='Vander Planke, Mrs. Julius (Emelia Maria Vandemoortele)', Sex='female', Age=31.0, SibSp=1, Parch=0, Ticket='345763', Fare=18.0, Cabin=None, Embarked='S'), Row(PassengerId=20, Survived=1, Pclass=3, Name='Masselmani, Mrs. Fatima', Sex='female', Age=None, SibSp=0, Parch=0, Ticket='2649', Fare=7.225, Cabin=None, Embarked='C'), Row(PassengerId=23, Survived=1, Pclass=3, Name='\"McGowan, Miss. Anna \"\"Annie\"\"\"', Sex='female', Age=15.0, SibSp=0, Parch=0, Ticket='330923', Fare=8.0292, Cabin=None, Embarked='Q'), Row(PassengerId=25, Survived=0, Pclass=3, Name='Palsson, Miss. Torborg Danira', Sex='female', Age=8.0, SibSp=3, Parch=1, Ticket='349909', Fare=21.075, Cabin=None, Embarked='S'), Row(PassengerId=26, Survived=1, Pclass=3, Name='Asplund, Mrs. Carl Oscar (Selma Augusta Emilia Johansson)', Sex='female', Age=38.0, SibSp=1, Parch=5, Ticket='347077', Fare=31.3875, Cabin=None, Embarked='S'), Row(PassengerId=29, Survived=1, Pclass=3, Name='\"O\\'Dwyer, Miss. Ellen \"\"Nellie\"\"\"', Sex='female', Age=None, SibSp=0, Parch=0, Ticket='330959', Fare=7.8792, Cabin=None, Embarked='Q'), Row(PassengerId=32, Survived=1, Pclass=1, Name='Spencer, Mrs. William Augustus (Marie Eugenie)', Sex='female', Age=None, SibSp=1, Parch=0, Ticket='PC 17569', Fare=146.5208, Cabin='B78', Embarked='C'), Row(PassengerId=33, Survived=1, Pclass=3, Name='Glynn, Miss. Mary Agatha', Sex='female', Age=None, SibSp=0, Parch=0, Ticket='335677', Fare=7.75, Cabin=None, Embarked='Q'), Row(PassengerId=39, Survived=0, Pclass=3, Name='Vander Planke, Miss. Augusta Maria', Sex='female', Age=18.0, SibSp=2, Parch=0, Ticket='345764', Fare=18.0, Cabin=None, Embarked='S'), Row(PassengerId=40, Survived=1, Pclass=3, Name='Nicola-Yarred, Miss. Jamila', Sex='female', Age=14.0, SibSp=1, Parch=0, Ticket='2651', Fare=11.2417, Cabin=None, Embarked='C'), Row(PassengerId=41, Survived=0, Pclass=3, Name='Ahlin, Mrs. Johan (Johanna Persdotter Larsson)', Sex='female', Age=40.0, SibSp=1, Parch=0, Ticket='7546', Fare=9.475, Cabin=None, Embarked='S'), Row(PassengerId=42, Survived=0, Pclass=2, Name='Turpin, Mrs. William John Robert (Dorothy Ann Wonnacott)', Sex='female', Age=27.0, SibSp=1, Parch=0, Ticket='11668', Fare=21.0, Cabin=None, Embarked='S'), Row(PassengerId=44, Survived=1, Pclass=2, Name='Laroche, Miss. Simonne Marie Anne Andree', Sex='female', Age=3.0, SibSp=1, Parch=2, Ticket='SC/Paris 2123', Fare=41.5792, Cabin=None, Embarked='C'), Row(PassengerId=45, Survived=1, Pclass=3, Name='Devaney, Miss. Margaret Delia', Sex='female', Age=19.0, SibSp=0, Parch=0, Ticket='330958', Fare=7.8792, Cabin=None, Embarked='Q'), Row(PassengerId=48, Survived=1, Pclass=3, Name=\"O'Driscoll, Miss. Bridget\", Sex='female', Age=None, SibSp=0, Parch=0, Ticket='14311', Fare=7.75, Cabin=None, Embarked='Q'), Row(PassengerId=50, Survived=0, Pclass=3, Name='Arnold-Franchi, Mrs. Josef (Josefine Franchi)', Sex='female', Age=18.0, SibSp=1, Parch=0, Ticket='349237', Fare=17.8, Cabin=None, Embarked='S'), Row(PassengerId=53, Survived=1, Pclass=1, Name='Harper, Mrs. Henry Sleeper (Myna Haxtun)', Sex='female', Age=49.0, SibSp=1, Parch=0, Ticket='PC 17572', Fare=76.7292, Cabin='D33', Embarked='C'), Row(PassengerId=54, Survived=1, Pclass=2, Name='Faunthorpe, Mrs. Lizzie (Elizabeth Anne Wilkinson)', Sex='female', Age=29.0, SibSp=1, Parch=0, Ticket='2926', Fare=26.0, Cabin=None, Embarked='S'), Row(PassengerId=57, Survived=1, Pclass=2, Name='Rugg, Miss. Emily', Sex='female', Age=21.0, SibSp=0, Parch=0, Ticket='C.A. 31026', Fare=10.5, Cabin=None, Embarked='S'), Row(PassengerId=59, Survived=1, Pclass=2, Name='West, Miss. Constance Mirium', Sex='female', Age=5.0, SibSp=1, Parch=2, Ticket='C.A. 34651', Fare=27.75, Cabin=None, Embarked='S'), Row(PassengerId=62, Survived=1, Pclass=1, Name='Icard, Miss. Amelie', Sex='female', Age=38.0, SibSp=0, Parch=0, Ticket='113572', Fare=80.0, Cabin='B28', Embarked=None), Row(PassengerId=67, Survived=1, Pclass=2, Name='Nye, Mrs. (Elizabeth Ramell)', Sex='female', Age=29.0, SibSp=0, Parch=0, Ticket='C.A. 29395', Fare=10.5, Cabin='F33', Embarked='S'), Row(PassengerId=69, Survived=1, Pclass=3, Name='Andersson, Miss. Erna Alexandra', Sex='female', Age=17.0, SibSp=4, Parch=2, Ticket='3101281', Fare=7.925, Cabin=None, Embarked='S'), Row(PassengerId=72, Survived=0, Pclass=3, Name='Goodwin, Miss. Lillian Amy', Sex='female', Age=16.0, SibSp=5, Parch=2, Ticket='CA 2144', Fare=46.9, Cabin=None, Embarked='S'), Row(PassengerId=80, Survived=1, Pclass=3, Name='Dowdell, Miss. Elizabeth', Sex='female', Age=30.0, SibSp=0, Parch=0, Ticket='364516', Fare=12.475, Cabin=None, Embarked='S'), Row(PassengerId=83, Survived=1, Pclass=3, Name='McDermott, Miss. Brigdet Delia', Sex='female', Age=None, SibSp=0, Parch=0, Ticket='330932', Fare=7.7875, Cabin=None, Embarked='Q'), Row(PassengerId=85, Survived=1, Pclass=2, Name='Ilett, Miss. Bertha', Sex='female', Age=17.0, SibSp=0, Parch=0, Ticket='SO/C 14885', Fare=10.5, Cabin=None, Embarked='S'), Row(PassengerId=86, Survived=1, Pclass=3, Name='Backstrom, Mrs. Karl Alfred (Maria Mathilda Gustafsson)', Sex='female', Age=33.0, SibSp=3, Parch=0, Ticket='3101278', Fare=15.85, Cabin=None, Embarked='S'), Row(PassengerId=89, Survived=1, Pclass=1, Name='Fortune, Miss. Mabel Helen', Sex='female', Age=23.0, SibSp=3, Parch=2, Ticket='19950', Fare=263.0, Cabin='C23 C25 C27', Embarked='S'), Row(PassengerId=99, Survived=1, Pclass=2, Name='Doling, Mrs. John T (Ada Julia Bone)', Sex='female', Age=34.0, SibSp=0, Parch=1, Ticket='231919', Fare=23.0, Cabin=None, Embarked='S'), Row(PassengerId=101, Survived=0, Pclass=3, Name='Petranec, Miss. Matilda', Sex='female', Age=28.0, SibSp=0, Parch=0, Ticket='349245', Fare=7.8958, Cabin=None, Embarked='S'), Row(PassengerId=107, Survived=1, Pclass=3, Name='Salkjelsvik, Miss. Anna Kristine', Sex='female', Age=21.0, SibSp=0, Parch=0, Ticket='343120', Fare=7.65, Cabin=None, Embarked='S'), Row(PassengerId=110, Survived=1, Pclass=3, Name='Moran, Miss. Bertha', Sex='female', Age=None, SibSp=1, Parch=0, Ticket='371110', Fare=24.15, Cabin=None, Embarked='Q'), Row(PassengerId=112, Survived=0, Pclass=3, Name='Zabour, Miss. Hileni', Sex='female', Age=14.5, SibSp=1, Parch=0, Ticket='2665', Fare=14.4542, Cabin=None, Embarked='C'), Row(PassengerId=114, Survived=0, Pclass=3, Name='Jussila, Miss. Katriina', Sex='female', Age=20.0, SibSp=1, Parch=0, Ticket='4136', Fare=9.825, Cabin=None, Embarked='S'), Row(PassengerId=115, Survived=0, Pclass=3, Name='Attalah, Miss. Malake', Sex='female', Age=17.0, SibSp=0, Parch=0, Ticket='2627', Fare=14.4583, Cabin=None, Embarked='C'), Row(PassengerId=120, Survived=0, Pclass=3, Name='Andersson, Miss. Ellis Anna Maria', Sex='female', Age=2.0, SibSp=4, Parch=2, Ticket='347082', Fare=31.275, Cabin=None, Embarked='S'), Row(PassengerId=124, Survived=1, Pclass=2, Name='Webber, Miss. Susan', Sex='female', Age=32.5, SibSp=0, Parch=0, Ticket='27267', Fare=13.0, Cabin='E101', Embarked='S'), Row(PassengerId=129, Survived=1, Pclass=3, Name='Peter, Miss. Anna', Sex='female', Age=None, SibSp=1, Parch=1, Ticket='2668', Fare=22.3583, Cabin='F E69', Embarked='C'), Row(PassengerId=133, Survived=0, Pclass=3, Name='Robins, Mrs. Alexander A (Grace Charity Laury)', Sex='female', Age=47.0, SibSp=1, Parch=0, Ticket='A/5. 3337', Fare=14.5, Cabin=None, Embarked='S'), Row(PassengerId=134, Survived=1, Pclass=2, Name='Weisz, Mrs. Leopold (Mathilde Francoise Pede)', Sex='female', Age=29.0, SibSp=1, Parch=0, Ticket='228414', Fare=26.0, Cabin=None, Embarked='S'), Row(PassengerId=137, Survived=1, Pclass=1, Name='Newsom, Miss. Helen Monypeny', Sex='female', Age=19.0, SibSp=0, Parch=2, Ticket='11752', Fare=26.2833, Cabin='D47', Embarked='S'), Row(PassengerId=141, Survived=0, Pclass=3, Name='Boulos, Mrs. Joseph (Sultana)', Sex='female', Age=None, SibSp=0, Parch=2, Ticket='2678', Fare=15.2458, Cabin=None, Embarked='C'), Row(PassengerId=142, Survived=1, Pclass=3, Name='Nysten, Miss. Anna Sofia', Sex='female', Age=22.0, SibSp=0, Parch=0, Ticket='347081', Fare=7.75, Cabin=None, Embarked='S'), Row(PassengerId=143, Survived=1, Pclass=3, Name='Hakkarainen, Mrs. Pekka Pietari (Elin Matilda Dolck)', Sex='female', Age=24.0, SibSp=1, Parch=0, Ticket='STON/O2. 3101279', Fare=15.85, Cabin=None, Embarked='S'), Row(PassengerId=148, Survived=0, Pclass=3, Name='\"Ford, Miss. Robina Maggie \"\"Ruby\"\"\"', Sex='female', Age=9.0, SibSp=2, Parch=2, Ticket='W./C. 6608', Fare=34.375, Cabin=None, Embarked='S'), Row(PassengerId=152, Survived=1, Pclass=1, Name='Pears, Mrs. Thomas (Edith Wearne)', Sex='female', Age=22.0, SibSp=1, Parch=0, Ticket='113776', Fare=66.6, Cabin='C2', Embarked='S'), Row(PassengerId=157, Survived=1, Pclass=3, Name='\"Gilnagh, Miss. Katherine \"\"Katie\"\"\"', Sex='female', Age=16.0, SibSp=0, Parch=0, Ticket='35851', Fare=7.7333, Cabin=None, Embarked='Q'), Row(PassengerId=162, Survived=1, Pclass=2, Name='\"Watt, Mrs. James (Elizabeth \"\"Bessie\"\" Inglis Milne)\"', Sex='female', Age=40.0, SibSp=0, Parch=0, Ticket='C.A. 33595', Fare=15.75, Cabin=None, Embarked='S'), Row(PassengerId=167, Survived=1, Pclass=1, Name='Chibnall, Mrs. (Edith Martha Bowerman)', Sex='female', Age=None, SibSp=0, Parch=1, Ticket='113505', Fare=55.0, Cabin='E33', Embarked='S'), Row(PassengerId=168, Survived=0, Pclass=3, Name='Skoog, Mrs. William (Anna Bernhardina Karlsson)', Sex='female', Age=45.0, SibSp=1, Parch=4, Ticket='347088', Fare=27.9, Cabin=None, Embarked='S'), Row(PassengerId=173, Survived=1, Pclass=3, Name='Johnson, Miss. Eleanor Ileen', Sex='female', Age=1.0, SibSp=1, Parch=1, Ticket='347742', Fare=11.1333, Cabin=None, Embarked='S'), Row(PassengerId=178, Survived=0, Pclass=1, Name='Isham, Miss. Ann Elizabeth', Sex='female', Age=50.0, SibSp=0, Parch=0, Ticket='PC 17595', Fare=28.7125, Cabin='C49', Embarked='C'), Row(PassengerId=181, Survived=0, Pclass=3, Name='Sage, Miss. Constance Gladys', Sex='female', Age=None, SibSp=8, Parch=2, Ticket='CA. 2343', Fare=69.55, Cabin=None, Embarked='S'), Row(PassengerId=185, Survived=1, Pclass=3, Name='Kink-Heilmann, Miss. Luise Gretchen', Sex='female', Age=4.0, SibSp=0, Parch=2, Ticket='315153', Fare=22.025, Cabin=None, Embarked='S'), Row(PassengerId=187, Survived=1, Pclass=3, Name='\"O\\'Brien, Mrs. Thomas (Johanna \"\"Hannah\"\" Godfrey)\"', Sex='female', Age=None, SibSp=1, Parch=0, Ticket='370365', Fare=15.5, Cabin=None, Embarked='Q'), Row(PassengerId=191, Survived=1, Pclass=2, Name='Pinsky, Mrs. (Rosa)', Sex='female', Age=32.0, SibSp=0, Parch=0, Ticket='234604', Fare=13.0, Cabin=None, Embarked='S'), Row(PassengerId=193, Survived=1, Pclass=3, Name='Andersen-Jensen, Miss. Carla Christine Nielsine', Sex='female', Age=19.0, SibSp=1, Parch=0, Ticket='350046', Fare=7.8542, Cabin=None, Embarked='S'), Row(PassengerId=195, Survived=1, Pclass=1, Name='Brown, Mrs. James Joseph (Margaret Tobin)', Sex='female', Age=44.0, SibSp=0, Parch=0, Ticket='PC 17610', Fare=27.7208, Cabin='B4', Embarked='C'), Row(PassengerId=196, Survived=1, Pclass=1, Name='Lurette, Miss. Elise', Sex='female', Age=58.0, SibSp=0, Parch=0, Ticket='PC 17569', Fare=146.5208, Cabin='B80', Embarked='C'), Row(PassengerId=199, Survived=1, Pclass=3, Name='\"Madigan, Miss. Margaret \"\"Maggie\"\"\"', Sex='female', Age=None, SibSp=0, Parch=0, Ticket='370370', Fare=7.75, Cabin=None, Embarked='Q'), Row(PassengerId=200, Survived=0, Pclass=2, Name='\"Yrois, Miss. Henriette (\"\"Mrs Harbeck\"\")\"', Sex='female', Age=24.0, SibSp=0, Parch=0, Ticket='248747', Fare=13.0, Cabin=None, Embarked='S'), Row(PassengerId=206, Survived=0, Pclass=3, Name='Strom, Miss. Telma Matilda', Sex='female', Age=2.0, SibSp=0, Parch=1, Ticket='347054', Fare=10.4625, Cabin='G6', Embarked='S'), Row(PassengerId=209, Survived=1, Pclass=3, Name='\"Carr, Miss. Helen \"\"Ellen\"\"\"', Sex='female', Age=16.0, SibSp=0, Parch=0, Ticket='367231', Fare=7.75, Cabin=None, Embarked='Q'), Row(PassengerId=212, Survived=1, Pclass=2, Name='Cameron, Miss. Clear Annie', Sex='female', Age=35.0, SibSp=0, Parch=0, Ticket='F.C.C. 13528', Fare=21.0, Cabin=None, Embarked='S'), Row(PassengerId=216, Survived=1, Pclass=1, Name='Newell, Miss. Madeleine', Sex='female', Age=31.0, SibSp=1, Parch=0, Ticket='35273', Fare=113.275, Cabin='D36', Embarked='C'), Row(PassengerId=217, Survived=1, Pclass=3, Name='Honkanen, Miss. Eliina', Sex='female', Age=27.0, SibSp=0, Parch=0, Ticket='STON/O2. 3101283', Fare=7.925, Cabin=None, Embarked='S'), Row(PassengerId=219, Survived=1, Pclass=1, Name='Bazzani, Miss. Albina', Sex='female', Age=32.0, SibSp=0, Parch=0, Ticket='11813', Fare=76.2917, Cabin='D15', Embarked='C'), Row(PassengerId=230, Survived=0, Pclass=3, Name='Lefebre, Miss. Mathilde', Sex='female', Age=None, SibSp=3, Parch=1, Ticket='4133', Fare=25.4667, Cabin=None, Embarked='S'), Row(PassengerId=231, Survived=1, Pclass=1, Name='Harris, Mrs. Henry Birkhardt (Irene Wallach)', Sex='female', Age=35.0, SibSp=1, Parch=0, Ticket='36973', Fare=83.475, Cabin='C83', Embarked='S'), Row(PassengerId=234, Survived=1, Pclass=3, Name='Asplund, Miss. Lillian Gertrud', Sex='female', Age=5.0, SibSp=4, Parch=2, Ticket='347077', Fare=31.3875, Cabin=None, Embarked='S'), Row(PassengerId=236, Survived=0, Pclass=3, Name='Harknett, Miss. Alice Phoebe', Sex='female', Age=None, SibSp=0, Parch=0, Ticket='W./C. 6609', Fare=7.55, Cabin=None, Embarked='S'), Row(PassengerId=238, Survived=1, Pclass=2, Name='\"Collyer, Miss. Marjorie \"\"Lottie\"\"\"', Sex='female', Age=8.0, SibSp=0, Parch=2, Ticket='C.A. 31921', Fare=26.25, Cabin=None, Embarked='S'), Row(PassengerId=241, Survived=0, Pclass=3, Name='Zabour, Miss. Thamine', Sex='female', Age=None, SibSp=1, Parch=0, Ticket='2665', Fare=14.4542, Cabin=None, Embarked='C'), Row(PassengerId=242, Survived=1, Pclass=3, Name='\"Murphy, Miss. Katherine \"\"Kate\"\"\"', Sex='female', Age=None, SibSp=1, Parch=0, Ticket='367230', Fare=15.5, Cabin=None, Embarked='Q'), Row(PassengerId=247, Survived=0, Pclass=3, Name='Lindahl, Miss. Agda Thorilda Viktoria', Sex='female', Age=25.0, SibSp=0, Parch=0, Ticket='347071', Fare=7.775, Cabin=None, Embarked='S'), Row(PassengerId=248, Survived=1, Pclass=2, Name='Hamalainen, Mrs. William (Anna)', Sex='female', Age=24.0, SibSp=0, Parch=2, Ticket='250649', Fare=14.5, Cabin=None, Embarked='S'), Row(PassengerId=252, Survived=0, Pclass=3, Name='Strom, Mrs. Wilhelm (Elna Matilda Persson)', Sex='female', Age=29.0, SibSp=1, Parch=1, Ticket='347054', Fare=10.4625, Cabin='G6', Embarked='S'), Row(PassengerId=255, Survived=0, Pclass=3, Name='Rosblom, Mrs. Viktor (Helena Wilhelmina)', Sex='female', Age=41.0, SibSp=0, Parch=2, Ticket='370129', Fare=20.2125, Cabin=None, Embarked='S'), Row(PassengerId=256, Survived=1, Pclass=3, Name='Touma, Mrs. Darwis (Hanne Youssef Razi)', Sex='female', Age=29.0, SibSp=0, Parch=2, Ticket='2650', Fare=15.2458, Cabin=None, Embarked='C'), Row(PassengerId=257, Survived=1, Pclass=1, Name='Thorne, Mrs. Gertrude Maybelle', Sex='female', Age=None, SibSp=0, Parch=0, Ticket='PC 17585', Fare=79.2, Cabin=None, Embarked='C'), Row(PassengerId=258, Survived=1, Pclass=1, Name='Cherry, Miss. Gladys', Sex='female', Age=30.0, SibSp=0, Parch=0, Ticket='110152', Fare=86.5, Cabin='B77', Embarked='S'), Row(PassengerId=259, Survived=1, Pclass=1, Name='Ward, Miss. Anna', Sex='female', Age=35.0, SibSp=0, Parch=0, Ticket='PC 17755', Fare=512.3292, Cabin=None, Embarked='C'), Row(PassengerId=260, Survived=1, Pclass=2, Name='Parrish, Mrs. (Lutie Davis)', Sex='female', Age=50.0, SibSp=0, Parch=1, Ticket='230433', Fare=26.0, Cabin=None, Embarked='S'), Row(PassengerId=265, Survived=0, Pclass=3, Name='Henry, Miss. Delia', Sex='female', Age=None, SibSp=0, Parch=0, Ticket='382649', Fare=7.75, Cabin=None, Embarked='Q'), Row(PassengerId=269, Survived=1, Pclass=1, Name='Graham, Mrs. William Thompson (Edith Junkins)', Sex='female', Age=58.0, SibSp=0, Parch=1, Ticket='PC 17582', Fare=153.4625, Cabin='C125', Embarked='S'), Row(PassengerId=270, Survived=1, Pclass=1, Name='Bissette, Miss. Amelia', Sex='female', Age=35.0, SibSp=0, Parch=0, Ticket='PC 17760', Fare=135.6333, Cabin='C99', Embarked='S'), Row(PassengerId=273, Survived=1, Pclass=2, Name='Mellinger, Mrs. (Elizabeth Anne Maidment)', Sex='female', Age=41.0, SibSp=0, Parch=1, Ticket='250644', Fare=19.5, Cabin=None, Embarked='S'), Row(PassengerId=275, Survived=1, Pclass=3, Name='\"Healy, Miss. Hanora \"\"Nora\"\"\"', Sex='female', Age=None, SibSp=0, Parch=0, Ticket='370375', Fare=7.75, Cabin=None, Embarked='Q'), Row(PassengerId=276, Survived=1, Pclass=1, Name='Andrews, Miss. Kornelia Theodosia', Sex='female', Age=63.0, SibSp=1, Parch=0, Ticket='13502', Fare=77.9583, Cabin='D7', Embarked='S'), Row(PassengerId=277, Survived=0, Pclass=3, Name='Lindblom, Miss. Augusta Charlotta', Sex='female', Age=45.0, SibSp=0, Parch=0, Ticket='347073', Fare=7.75, Cabin=None, Embarked='S'), Row(PassengerId=280, Survived=1, Pclass=3, Name='Abbott, Mrs. Stanton (Rosa Hunt)', Sex='female', Age=35.0, SibSp=1, Parch=1, Ticket='C.A. 2673', Fare=20.25, Cabin=None, Embarked='S'), Row(PassengerId=290, Survived=1, Pclass=3, Name='Connolly, Miss. Kate', Sex='female', Age=22.0, SibSp=0, Parch=0, Ticket='370373', Fare=7.75, Cabin=None, Embarked='Q'), Row(PassengerId=291, Survived=1, Pclass=1, Name='\"Barber, Miss. Ellen \"\"Nellie\"\"\"', Sex='female', Age=26.0, SibSp=0, Parch=0, Ticket='19877', Fare=78.85, Cabin=None, Embarked='S'), Row(PassengerId=292, Survived=1, Pclass=1, Name='Bishop, Mrs. Dickinson H (Helen Walton)', Sex='female', Age=19.0, SibSp=1, Parch=0, Ticket='11967', Fare=91.0792, Cabin='B49', Embarked='C'), Row(PassengerId=294, Survived=0, Pclass=3, Name='Haas, Miss. Aloisia', Sex='female', Age=24.0, SibSp=0, Parch=0, Ticket='349236', Fare=8.85, Cabin=None, Embarked='S'), Row(PassengerId=298, Survived=0, Pclass=1, Name='Allison, Miss. Helen Loraine', Sex='female', Age=2.0, SibSp=1, Parch=2, Ticket='113781', Fare=151.55, Cabin='C22 C26', Embarked='S'), Row(PassengerId=300, Survived=1, Pclass=1, Name='Baxter, Mrs. James (Helene DeLaudeniere Chaput)', Sex='female', Age=50.0, SibSp=0, Parch=1, Ticket='PC 17558', Fare=247.5208, Cabin='B58 B60', Embarked='C'), Row(PassengerId=301, Survived=1, Pclass=3, Name='\"Kelly, Miss. Anna Katherine \"\"Annie Kate\"\"\"', Sex='female', Age=None, SibSp=0, Parch=0, Ticket='9234', Fare=7.75, Cabin=None, Embarked='Q'), Row(PassengerId=304, Survived=1, Pclass=2, Name='Keane, Miss. Nora A', Sex='female', Age=None, SibSp=0, Parch=0, Ticket='226593', Fare=12.35, Cabin='E101', Embarked='Q'), Row(PassengerId=307, Survived=1, Pclass=1, Name='Fleming, Miss. Margaret', Sex='female', Age=None, SibSp=0, Parch=0, Ticket='17421', Fare=110.8833, Cabin=None, Embarked='C'), Row(PassengerId=308, Survived=1, Pclass=1, Name='Penasco y Castellana, Mrs. Victor de Satode (Maria Josefa Perez de Soto y Vallejo)', Sex='female', Age=17.0, SibSp=1, Parch=0, Ticket='PC 17758', Fare=108.9, Cabin='C65', Embarked='C'), Row(PassengerId=310, Survived=1, Pclass=1, Name='Francatelli, Miss. Laura Mabel', Sex='female', Age=30.0, SibSp=0, Parch=0, Ticket='PC 17485', Fare=56.9292, Cabin='E36', Embarked='C'), Row(PassengerId=311, Survived=1, Pclass=1, Name='Hays, Miss. Margaret Bechstein', Sex='female', Age=24.0, SibSp=0, Parch=0, Ticket='11767', Fare=83.1583, Cabin='C54', Embarked='C'), Row(PassengerId=312, Survived=1, Pclass=1, Name='Ryerson, Miss. Emily Borie', Sex='female', Age=18.0, SibSp=2, Parch=2, Ticket='PC 17608', Fare=262.375, Cabin='B57 B59 B63 B66', Embarked='C'), Row(PassengerId=313, Survived=0, Pclass=2, Name='Lahtinen, Mrs. William (Anna Sylfven)', Sex='female', Age=26.0, SibSp=1, Parch=1, Ticket='250651', Fare=26.0, Cabin=None, Embarked='S'), Row(PassengerId=316, Survived=1, Pclass=3, Name='Nilsson, Miss. Helmina Josefina', Sex='female', Age=26.0, SibSp=0, Parch=0, Ticket='347470', Fare=7.8542, Cabin=None, Embarked='S'), Row(PassengerId=317, Survived=1, Pclass=2, Name='Kantor, Mrs. Sinai (Miriam Sternin)', Sex='female', Age=24.0, SibSp=1, Parch=0, Ticket='244367', Fare=26.0, Cabin=None, Embarked='S'), Row(PassengerId=319, Survived=1, Pclass=1, Name='Wick, Miss. Mary Natalie', Sex='female', Age=31.0, SibSp=0, Parch=2, Ticket='36928', Fare=164.8667, Cabin='C7', Embarked='S'), Row(PassengerId=320, Survived=1, Pclass=1, Name='Spedden, Mrs. Frederic Oakley (Margaretta Corning Stone)', Sex='female', Age=40.0, SibSp=1, Parch=1, Ticket='16966', Fare=134.5, Cabin='E34', Embarked='C'), Row(PassengerId=323, Survived=1, Pclass=2, Name='Slayter, Miss. Hilda Mary', Sex='female', Age=30.0, SibSp=0, Parch=0, Ticket='234818', Fare=12.35, Cabin=None, Embarked='Q'), Row(PassengerId=324, Survived=1, Pclass=2, Name='Caldwell, Mrs. Albert Francis (Sylvia Mae Harbaugh)', Sex='female', Age=22.0, SibSp=1, Parch=1, Ticket='248738', Fare=29.0, Cabin=None, Embarked='S'), Row(PassengerId=326, Survived=1, Pclass=1, Name='Young, Miss. Marie Grice', Sex='female', Age=36.0, SibSp=0, Parch=0, Ticket='PC 17760', Fare=135.6333, Cabin='C32', Embarked='C'), Row(PassengerId=328, Survived=1, Pclass=2, Name='Ball, Mrs. (Ada E Hall)', Sex='female', Age=36.0, SibSp=0, Parch=0, Ticket='28551', Fare=13.0, Cabin='D', Embarked='S'), Row(PassengerId=329, Survived=1, Pclass=3, Name='Goldsmith, Mrs. Frank John (Emily Alice Brown)', Sex='female', Age=31.0, SibSp=1, Parch=1, Ticket='363291', Fare=20.525, Cabin=None, Embarked='S'), Row(PassengerId=330, Survived=1, Pclass=1, Name='Hippach, Miss. Jean Gertrude', Sex='female', Age=16.0, SibSp=0, Parch=1, Ticket='111361', Fare=57.9792, Cabin='B18', Embarked='C'), Row(PassengerId=331, Survived=1, Pclass=3, Name='McCoy, Miss. Agnes', Sex='female', Age=None, SibSp=2, Parch=0, Ticket='367226', Fare=23.25, Cabin=None, Embarked='Q'), Row(PassengerId=335, Survived=1, Pclass=1, Name='Frauenthal, Mrs. Henry William (Clara Heinsheimer)', Sex='female', Age=None, SibSp=1, Parch=0, Ticket='PC 17611', Fare=133.65, Cabin=None, Embarked='S'), Row(PassengerId=338, Survived=1, Pclass=1, Name='Burns, Miss. Elizabeth Margaret', Sex='female', Age=41.0, SibSp=0, Parch=0, Ticket='16966', Fare=134.5, Cabin='E40', Embarked='C'), Row(PassengerId=342, Survived=1, Pclass=1, Name='Fortune, Miss. Alice Elizabeth', Sex='female', Age=24.0, SibSp=3, Parch=2, Ticket='19950', Fare=263.0, Cabin='C23 C25 C27', Embarked='S'), Row(PassengerId=346, Survived=1, Pclass=2, Name='\"Brown, Miss. Amelia \"\"Mildred\"\"\"', Sex='female', Age=24.0, SibSp=0, Parch=0, Ticket='248733', Fare=13.0, Cabin='F33', Embarked='S'), Row(PassengerId=347, Survived=1, Pclass=2, Name='Smith, Miss. Marion Elsie', Sex='female', Age=40.0, SibSp=0, Parch=0, Ticket='31418', Fare=13.0, Cabin=None, Embarked='S'), Row(PassengerId=348, Survived=1, Pclass=3, Name='Davison, Mrs. Thomas Henry (Mary E Finck)', Sex='female', Age=None, SibSp=1, Parch=0, Ticket='386525', Fare=16.1, Cabin=None, Embarked='S'), Row(PassengerId=357, Survived=1, Pclass=1, Name='Bowerman, Miss. Elsie Edith', Sex='female', Age=22.0, SibSp=0, Parch=1, Ticket='113505', Fare=55.0, Cabin='E33', Embarked='S'), Row(PassengerId=358, Survived=0, Pclass=2, Name='Funk, Miss. Annie Clemmer', Sex='female', Age=38.0, SibSp=0, Parch=0, Ticket='237671', Fare=13.0, Cabin=None, Embarked='S'), Row(PassengerId=359, Survived=1, Pclass=3, Name='McGovern, Miss. Mary', Sex='female', Age=None, SibSp=0, Parch=0, Ticket='330931', Fare=7.8792, Cabin=None, Embarked='Q'), Row(PassengerId=360, Survived=1, Pclass=3, Name='\"Mockler, Miss. Helen Mary \"\"Ellie\"\"\"', Sex='female', Age=None, SibSp=0, Parch=0, Ticket='330980', Fare=7.8792, Cabin=None, Embarked='Q'), Row(PassengerId=363, Survived=0, Pclass=3, Name='Barbara, Mrs. (Catherine David)', Sex='female', Age=45.0, SibSp=0, Parch=1, Ticket='2691', Fare=14.4542, Cabin=None, Embarked='C'), Row(PassengerId=367, Survived=1, Pclass=1, Name='Warren, Mrs. Frank Manley (Anna Sophia Atkinson)', Sex='female', Age=60.0, SibSp=1, Parch=0, Ticket='110813', Fare=75.25, Cabin='D37', Embarked='C'), Row(PassengerId=368, Survived=1, Pclass=3, Name='Moussa, Mrs. (Mantoura Boulos)', Sex='female', Age=None, SibSp=0, Parch=0, Ticket='2626', Fare=7.2292, Cabin=None, Embarked='C'), Row(PassengerId=369, Survived=1, Pclass=3, Name='Jermyn, Miss. Annie', Sex='female', Age=None, SibSp=0, Parch=0, Ticket='14313', Fare=7.75, Cabin=None, Embarked='Q'), Row(PassengerId=370, Survived=1, Pclass=1, Name='Aubart, Mme. Leontine Pauline', Sex='female', Age=24.0, SibSp=0, Parch=0, Ticket='PC 17477', Fare=69.3, Cabin='B35', Embarked='C'), Row(PassengerId=375, Survived=0, Pclass=3, Name='Palsson, Miss. Stina Viola', Sex='female', Age=3.0, SibSp=3, Parch=1, Ticket='349909', Fare=21.075, Cabin=None, Embarked='S'), Row(PassengerId=376, Survived=1, Pclass=1, Name='Meyer, Mrs. Edgar Joseph (Leila Saks)', Sex='female', Age=None, SibSp=1, Parch=0, Ticket='PC 17604', Fare=82.1708, Cabin=None, Embarked='C'), Row(PassengerId=377, Survived=1, Pclass=3, Name='Landergren, Miss. Aurora Adelia', Sex='female', Age=22.0, SibSp=0, Parch=0, Ticket='C 7077', Fare=7.25, Cabin=None, Embarked='S'), Row(PassengerId=381, Survived=1, Pclass=1, Name='Bidois, Miss. Rosalie', Sex='female', Age=42.0, SibSp=0, Parch=0, Ticket='PC 17757', Fare=227.525, Cabin=None, Embarked='C'), Row(PassengerId=382, Survived=1, Pclass=3, Name='\"Nakid, Miss. Maria (\"\"Mary\"\")\"', Sex='female', Age=1.0, SibSp=0, Parch=2, Ticket='2653', Fare=15.7417, Cabin=None, Embarked='C'), Row(PassengerId=384, Survived=1, Pclass=1, Name='Holverson, Mrs. Alexander Oskar (Mary Aline Towner)', Sex='female', Age=35.0, SibSp=1, Parch=0, Ticket='113789', Fare=52.0, Cabin=None, Embarked='S'), Row(PassengerId=388, Survived=1, Pclass=2, Name='Buss, Miss. Kate', Sex='female', Age=36.0, SibSp=0, Parch=0, Ticket='27849', Fare=13.0, Cabin=None, Embarked='S'), Row(PassengerId=390, Survived=1, Pclass=2, Name='Lehmann, Miss. Bertha', Sex='female', Age=17.0, SibSp=0, Parch=0, Ticket='SC 1748', Fare=12.0, Cabin=None, Embarked='C'), Row(PassengerId=394, Survived=1, Pclass=1, Name='Newell, Miss. Marjorie', Sex='female', Age=23.0, SibSp=1, Parch=0, Ticket='35273', Fare=113.275, Cabin='D36', Embarked='C'), Row(PassengerId=395, Survived=1, Pclass=3, Name='Sandstrom, Mrs. Hjalmar (Agnes Charlotta Bengtsson)', Sex='female', Age=24.0, SibSp=0, Parch=2, Ticket='PP 9549', Fare=16.7, Cabin='G6', Embarked='S'), Row(PassengerId=397, Survived=0, Pclass=3, Name='Olsson, Miss. Elina', Sex='female', Age=31.0, SibSp=0, Parch=0, Ticket='350407', Fare=7.8542, Cabin=None, Embarked='S'), Row(PassengerId=400, Survived=1, Pclass=2, Name='Trout, Mrs. William H (Jessie L)', Sex='female', Age=28.0, SibSp=0, Parch=0, Ticket='240929', Fare=12.65, Cabin=None, Embarked='S'), Row(PassengerId=403, Survived=0, Pclass=3, Name='Jussila, Miss. Mari Aina', Sex='female', Age=21.0, SibSp=1, Parch=0, Ticket='4137', Fare=9.825, Cabin=None, Embarked='S'), Row(PassengerId=405, Survived=0, Pclass=3, Name='Oreskovic, Miss. Marija', Sex='female', Age=20.0, SibSp=0, Parch=0, Ticket='315096', Fare=8.6625, Cabin=None, Embarked='S'), Row(PassengerId=410, Survived=0, Pclass=3, Name='Lefebre, Miss. Ida', Sex='female', Age=None, SibSp=3, Parch=1, Ticket='4133', Fare=25.4667, Cabin=None, Embarked='S'), Row(PassengerId=413, Survived=1, Pclass=1, Name='Minahan, Miss. Daisy E', Sex='female', Age=33.0, SibSp=1, Parch=0, Ticket='19928', Fare=90.0, Cabin='C78', Embarked='Q'), Row(PassengerId=416, Survived=0, Pclass=3, Name='Meek, Mrs. Thomas (Annie Louise Rowley)', Sex='female', Age=None, SibSp=0, Parch=0, Ticket='343095', Fare=8.05, Cabin=None, Embarked='S'), Row(PassengerId=417, Survived=1, Pclass=2, Name='Drew, Mrs. James Vivian (Lulu Thorne Christian)', Sex='female', Age=34.0, SibSp=1, Parch=1, Ticket='28220', Fare=32.5, Cabin=None, Embarked='S'), Row(PassengerId=418, Survived=1, Pclass=2, Name='Silven, Miss. Lyyli Karoliina', Sex='female', Age=18.0, SibSp=0, Parch=2, Ticket='250652', Fare=13.0, Cabin=None, Embarked='S'), Row(PassengerId=420, Survived=0, Pclass=3, Name='Van Impe, Miss. Catharina', Sex='female', Age=10.0, SibSp=0, Parch=2, Ticket='345773', Fare=24.15, Cabin=None, Embarked='S'), Row(PassengerId=424, Survived=0, Pclass=3, Name='Danbom, Mrs. Ernst Gilbert (Anna Sigrid Maria Brogren)', Sex='female', Age=28.0, SibSp=1, Parch=1, Ticket='347080', Fare=14.4, Cabin=None, Embarked='S'), Row(PassengerId=427, Survived=1, Pclass=2, Name='Clarke, Mrs. Charles V (Ada Maria Winfield)', Sex='female', Age=28.0, SibSp=1, Parch=0, Ticket='2003', Fare=26.0, Cabin=None, Embarked='S'), Row(PassengerId=428, Survived=1, Pclass=2, Name='\"Phillips, Miss. Kate Florence (\"\"Mrs Kate Louise Phillips Marshall\"\")\"', Sex='female', Age=19.0, SibSp=0, Parch=0, Ticket='250655', Fare=26.0, Cabin=None, Embarked='S'), Row(PassengerId=432, Survived=1, Pclass=3, Name='Thorneycroft, Mrs. Percival (Florence Kate White)', Sex='female', Age=None, SibSp=1, Parch=0, Ticket='376564', Fare=16.1, Cabin=None, Embarked='S'), Row(PassengerId=433, Survived=1, Pclass=2, Name='Louch, Mrs. Charles Alexander (Alice Adelaide Slow)', Sex='female', Age=42.0, SibSp=1, Parch=0, Ticket='SC/AH 3085', Fare=26.0, Cabin=None, Embarked='S'), Row(PassengerId=436, Survived=1, Pclass=1, Name='Carter, Miss. Lucile Polk', Sex='female', Age=14.0, SibSp=1, Parch=2, Ticket='113760', Fare=120.0, Cabin='B96 B98', Embarked='S'), Row(PassengerId=437, Survived=0, Pclass=3, Name='\"Ford, Miss. Doolina Margaret \"\"Daisy\"\"\"', Sex='female', Age=21.0, SibSp=2, Parch=2, Ticket='W./C. 6608', Fare=34.375, Cabin=None, Embarked='S'), Row(PassengerId=438, Survived=1, Pclass=2, Name='Richards, Mrs. Sidney (Emily Hocking)', Sex='female', Age=24.0, SibSp=2, Parch=3, Ticket='29106', Fare=18.75, Cabin=None, Embarked='S'), Row(PassengerId=441, Survived=1, Pclass=2, Name='Hart, Mrs. Benjamin (Esther Ada Bloomfield)', Sex='female', Age=45.0, SibSp=1, Parch=1, Ticket='F.C.C. 13529', Fare=26.25, Cabin=None, Embarked='S'), Row(PassengerId=444, Survived=1, Pclass=2, Name='Reynaldo, Ms. Encarnacion', Sex='female', Age=28.0, SibSp=0, Parch=0, Ticket='230434', Fare=13.0, Cabin=None, Embarked='S'), Row(PassengerId=447, Survived=1, Pclass=2, Name='Mellinger, Miss. Madeleine Violet', Sex='female', Age=13.0, SibSp=0, Parch=1, Ticket='250644', Fare=19.5, Cabin=None, Embarked='S'), Row(PassengerId=449, Survived=1, Pclass=3, Name='Baclini, Miss. Marie Catherine', Sex='female', Age=5.0, SibSp=2, Parch=1, Ticket='2666', Fare=19.2583, Cabin=None, Embarked='C'), Row(PassengerId=458, Survived=1, Pclass=1, Name='Kenyon, Mrs. Frederick R (Marion)', Sex='female', Age=None, SibSp=1, Parch=0, Ticket='17464', Fare=51.8625, Cabin='D21', Embarked='S'), Row(PassengerId=459, Survived=1, Pclass=2, Name='Toomey, Miss. Ellen', Sex='female', Age=50.0, SibSp=0, Parch=0, Ticket='F.C.C. 13531', Fare=10.5, Cabin=None, Embarked='S'), Row(PassengerId=470, Survived=1, Pclass=3, Name='Baclini, Miss. Helene Barbara', Sex='female', Age=0.75, SibSp=2, Parch=1, Ticket='2666', Fare=19.2583, Cabin=None, Embarked='C'), Row(PassengerId=473, Survived=1, Pclass=2, Name='West, Mrs. Edwy Arthur (Ada Mary Worth)', Sex='female', Age=33.0, SibSp=1, Parch=2, Ticket='C.A. 34651', Fare=27.75, Cabin=None, Embarked='S'), Row(PassengerId=474, Survived=1, Pclass=2, Name='Jerwan, Mrs. Amin S (Marie Marthe Thuillard)', Sex='female', Age=23.0, SibSp=0, Parch=0, Ticket='SC/AH Basle 541', Fare=13.7917, Cabin='D', Embarked='C'), Row(PassengerId=475, Survived=0, Pclass=3, Name='Strandberg, Miss. Ida Sofia', Sex='female', Age=22.0, SibSp=0, Parch=0, Ticket='7553', Fare=9.8375, Cabin=None, Embarked='S'), Row(PassengerId=480, Survived=1, Pclass=3, Name='Hirvonen, Miss. Hildur E', Sex='female', Age=2.0, SibSp=0, Parch=1, Ticket='3101298', Fare=12.2875, Cabin=None, Embarked='S'), Row(PassengerId=484, Survived=1, Pclass=3, Name='Turkula, Mrs. (Hedwig)', Sex='female', Age=63.0, SibSp=0, Parch=0, Ticket='4134', Fare=9.5875, Cabin=None, Embarked='S'), Row(PassengerId=486, Survived=0, Pclass=3, Name='Lefebre, Miss. Jeannie', Sex='female', Age=None, SibSp=3, Parch=1, Ticket='4133', Fare=25.4667, Cabin=None, Embarked='S'), Row(PassengerId=487, Survived=1, Pclass=1, Name='Hoyt, Mrs. Frederick Maxfield (Jane Anne Forby)', Sex='female', Age=35.0, SibSp=1, Parch=0, Ticket='19943', Fare=90.0, Cabin='C93', Embarked='S'), Row(PassengerId=497, Survived=1, Pclass=1, Name='Eustis, Miss. Elizabeth Mussey', Sex='female', Age=54.0, SibSp=1, Parch=0, Ticket='36947', Fare=78.2667, Cabin='D20', Embarked='C'), Row(PassengerId=499, Survived=0, Pclass=1, Name='Allison, Mrs. Hudson J C (Bessie Waldo Daniels)', Sex='female', Age=25.0, SibSp=1, Parch=2, Ticket='113781', Fare=151.55, Cabin='C22 C26', Embarked='S'), Row(PassengerId=502, Survived=0, Pclass=3, Name='Canavan, Miss. Mary', Sex='female', Age=21.0, SibSp=0, Parch=0, Ticket='364846', Fare=7.75, Cabin=None, Embarked='Q'), Row(PassengerId=503, Survived=0, Pclass=3, Name=\"O'Sullivan, Miss. Bridget Mary\", Sex='female', Age=None, SibSp=0, Parch=0, Ticket='330909', Fare=7.6292, Cabin=None, Embarked='Q'), Row(PassengerId=504, Survived=0, Pclass=3, Name='Laitinen, Miss. Kristina Sofia', Sex='female', Age=37.0, SibSp=0, Parch=0, Ticket='4135', Fare=9.5875, Cabin=None, Embarked='S'), Row(PassengerId=505, Survived=1, Pclass=1, Name='Maioni, Miss. Roberta', Sex='female', Age=16.0, SibSp=0, Parch=0, Ticket='110152', Fare=86.5, Cabin='B79', Embarked='S'), Row(PassengerId=507, Survived=1, Pclass=2, Name='Quick, Mrs. Frederick Charles (Jane Richards)', Sex='female', Age=33.0, SibSp=0, Parch=2, Ticket='26360', Fare=26.0, Cabin=None, Embarked='S'), Row(PassengerId=514, Survived=1, Pclass=1, Name='Rothschild, Mrs. Martin (Elizabeth L. Barrett)', Sex='female', Age=54.0, SibSp=1, Parch=0, Ticket='PC 17603', Fare=59.4, Cabin=None, Embarked='C'), Row(PassengerId=517, Survived=1, Pclass=2, Name='Lemore, Mrs. (Amelia Milley)', Sex='female', Age=34.0, SibSp=0, Parch=0, Ticket='C.A. 34260', Fare=10.5, Cabin='F33', Embarked='S'), Row(PassengerId=519, Survived=1, Pclass=2, Name='\"Angle, Mrs. William A (Florence \"\"Mary\"\" Agnes Hughes)\"', Sex='female', Age=36.0, SibSp=1, Parch=0, Ticket='226875', Fare=26.0, Cabin=None, Embarked='S'), Row(PassengerId=521, Survived=1, Pclass=1, Name='Perreault, Miss. Anne', Sex='female', Age=30.0, SibSp=0, Parch=0, Ticket='12749', Fare=93.5, Cabin='B73', Embarked='S'), Row(PassengerId=524, Survived=1, Pclass=1, Name='Hippach, Mrs. Louis Albert (Ida Sophia Fischer)', Sex='female', Age=44.0, SibSp=0, Parch=1, Ticket='111361', Fare=57.9792, Cabin='B18', Embarked='C'), Row(PassengerId=527, Survived=1, Pclass=2, Name='Ridsdale, Miss. Lucy', Sex='female', Age=50.0, SibSp=0, Parch=0, Ticket='W./C. 14258', Fare=10.5, Cabin=None, Embarked='S'), Row(PassengerId=531, Survived=1, Pclass=2, Name='Quick, Miss. Phyllis May', Sex='female', Age=2.0, SibSp=1, Parch=1, Ticket='26360', Fare=26.0, Cabin=None, Embarked='S'), Row(PassengerId=534, Survived=1, Pclass=3, Name='Peter, Mrs. Catherine (Catherine Rizk)', Sex='female', Age=None, SibSp=0, Parch=2, Ticket='2668', Fare=22.3583, Cabin=None, Embarked='C'), Row(PassengerId=535, Survived=0, Pclass=3, Name='Cacic, Miss. Marija', Sex='female', Age=30.0, SibSp=0, Parch=0, Ticket='315084', Fare=8.6625, Cabin=None, Embarked='S'), Row(PassengerId=536, Survived=1, Pclass=2, Name='Hart, Miss. Eva Miriam', Sex='female', Age=7.0, SibSp=0, Parch=2, Ticket='F.C.C. 13529', Fare=26.25, Cabin=None, Embarked='S'), Row(PassengerId=538, Survived=1, Pclass=1, Name='LeRoy, Miss. Bertha', Sex='female', Age=30.0, SibSp=0, Parch=0, Ticket='PC 17761', Fare=106.425, Cabin=None, Embarked='C'), Row(PassengerId=540, Survived=1, Pclass=1, Name='Frolicher, Miss. Hedwig Margaritha', Sex='female', Age=22.0, SibSp=0, Parch=2, Ticket='13568', Fare=49.5, Cabin='B39', Embarked='C'), Row(PassengerId=541, Survived=1, Pclass=1, Name='Crosby, Miss. Harriet R', Sex='female', Age=36.0, SibSp=0, Parch=2, Ticket='WE/P 5735', Fare=71.0, Cabin='B22', Embarked='S'), Row(PassengerId=542, Survived=0, Pclass=3, Name='Andersson, Miss. Ingeborg Constanzia', Sex='female', Age=9.0, SibSp=4, Parch=2, Ticket='347082', Fare=31.275, Cabin=None, Embarked='S'), Row(PassengerId=543, Survived=0, Pclass=3, Name='Andersson, Miss. Sigrid Elisabeth', Sex='female', Age=11.0, SibSp=4, Parch=2, Ticket='347082', Fare=31.275, Cabin=None, Embarked='S'), Row(PassengerId=547, Survived=1, Pclass=2, Name='Beane, Mrs. Edward (Ethel Clarke)', Sex='female', Age=19.0, SibSp=1, Parch=0, Ticket='2908', Fare=26.0, Cabin=None, Embarked='S'), Row(PassengerId=555, Survived=1, Pclass=3, Name='Ohman, Miss. Velin', Sex='female', Age=22.0, SibSp=0, Parch=0, Ticket='347085', Fare=7.775, Cabin=None, Embarked='S'), Row(PassengerId=557, Survived=1, Pclass=1, Name='\"Duff Gordon, Lady. (Lucille Christiana Sutherland) (\"\"Mrs Morgan\"\")\"', Sex='female', Age=48.0, SibSp=1, Parch=0, Ticket='11755', Fare=39.6, Cabin='A16', Embarked='C'), Row(PassengerId=559, Survived=1, Pclass=1, Name='Taussig, Mrs. Emil (Tillie Mandelbaum)', Sex='female', Age=39.0, SibSp=1, Parch=1, Ticket='110413', Fare=79.65, Cabin='E67', Embarked='S'), Row(PassengerId=560, Survived=1, Pclass=3, Name='de Messemaeker, Mrs. Guillaume Joseph (Emma)', Sex='female', Age=36.0, SibSp=1, Parch=0, Ticket='345572', Fare=17.4, Cabin=None, Embarked='S'), Row(PassengerId=565, Survived=0, Pclass=3, Name='Meanwell, Miss. (Marion Ogden)', Sex='female', Age=None, SibSp=0, Parch=0, Ticket='SOTON/O.Q. 392087', Fare=8.05, Cabin=None, Embarked='S'), Row(PassengerId=568, Survived=0, Pclass=3, Name='Palsson, Mrs. Nils (Alma Cornelia Berglund)', Sex='female', Age=29.0, SibSp=0, Parch=4, Ticket='349909', Fare=21.075, Cabin=None, Embarked='S'), Row(PassengerId=572, Survived=1, Pclass=1, Name='Appleton, Mrs. Edward Dale (Charlotte Lamson)', Sex='female', Age=53.0, SibSp=2, Parch=0, Ticket='11769', Fare=51.4792, Cabin='C101', Embarked='S'), Row(PassengerId=574, Survived=1, Pclass=3, Name='Kelly, Miss. Mary', Sex='female', Age=None, SibSp=0, Parch=0, Ticket='14312', Fare=7.75, Cabin=None, Embarked='Q'), Row(PassengerId=577, Survived=1, Pclass=2, Name='Garside, Miss. Ethel', Sex='female', Age=34.0, SibSp=0, Parch=0, Ticket='243880', Fare=13.0, Cabin=None, Embarked='S'), Row(PassengerId=578, Survived=1, Pclass=1, Name='Silvey, Mrs. William Baird (Alice Munger)', Sex='female', Age=39.0, SibSp=1, Parch=0, Ticket='13507', Fare=55.9, Cabin='E44', Embarked='S'), Row(PassengerId=579, Survived=0, Pclass=3, Name='Caram, Mrs. Joseph (Maria Elias)', Sex='female', Age=None, SibSp=1, Parch=0, Ticket='2689', Fare=14.4583, Cabin=None, Embarked='C'), Row(PassengerId=581, Survived=1, Pclass=2, Name='Christy, Miss. Julie Rachel', Sex='female', Age=25.0, SibSp=1, Parch=1, Ticket='237789', Fare=30.0, Cabin=None, Embarked='S'), Row(PassengerId=582, Survived=1, Pclass=1, Name='Thayer, Mrs. John Borland (Marian Longstreth Morris)', Sex='female', Age=39.0, SibSp=1, Parch=1, Ticket='17421', Fare=110.8833, Cabin='C68', Embarked='C'), Row(PassengerId=586, Survived=1, Pclass=1, Name='Taussig, Miss. Ruth', Sex='female', Age=18.0, SibSp=0, Parch=2, Ticket='110413', Fare=79.65, Cabin='E68', Embarked='S'), Row(PassengerId=592, Survived=1, Pclass=1, Name='Stephenson, Mrs. Walter Bertram (Martha Eustis)', Sex='female', Age=52.0, SibSp=1, Parch=0, Ticket='36947', Fare=78.2667, Cabin='D20', Embarked='C'), Row(PassengerId=594, Survived=0, Pclass=3, Name='Bourke, Miss. Mary', Sex='female', Age=None, SibSp=0, Parch=2, Ticket='364848', Fare=7.75, Cabin=None, Embarked='Q'), Row(PassengerId=597, Survived=1, Pclass=2, Name='Leitch, Miss. Jessie Wills', Sex='female', Age=None, SibSp=0, Parch=0, Ticket='248727', Fare=33.0, Cabin=None, Embarked='S'), Row(PassengerId=601, Survived=1, Pclass=2, Name='Jacobsohn, Mrs. Sidney Samuel (Amy Frances Christy)', Sex='female', Age=24.0, SibSp=2, Parch=1, Ticket='243847', Fare=27.0, Cabin=None, Embarked='S'), Row(PassengerId=609, Survived=1, Pclass=2, Name='Laroche, Mrs. Joseph (Juliette Marie Louise Lafargue)', Sex='female', Age=22.0, SibSp=1, Parch=2, Ticket='SC/Paris 2123', Fare=41.5792, Cabin=None, Embarked='C'), Row(PassengerId=610, Survived=1, Pclass=1, Name='Shutes, Miss. Elizabeth W', Sex='female', Age=40.0, SibSp=0, Parch=0, Ticket='PC 17582', Fare=153.4625, Cabin='C125', Embarked='S'), Row(PassengerId=611, Survived=0, Pclass=3, Name='Andersson, Mrs. Anders Johan (Alfrida Konstantia Brogren)', Sex='female', Age=39.0, SibSp=1, Parch=5, Ticket='347082', Fare=31.275, Cabin=None, Embarked='S'), Row(PassengerId=613, Survived=1, Pclass=3, Name='Murphy, Miss. Margaret Jane', Sex='female', Age=None, SibSp=1, Parch=0, Ticket='367230', Fare=15.5, Cabin=None, Embarked='Q'), Row(PassengerId=616, Survived=1, Pclass=2, Name='Herman, Miss. Alice', Sex='female', Age=24.0, SibSp=1, Parch=2, Ticket='220845', Fare=65.0, Cabin=None, Embarked='S'), Row(PassengerId=618, Survived=0, Pclass=3, Name='Lobb, Mrs. William Arthur (Cordelia K Stanlick)', Sex='female', Age=26.0, SibSp=1, Parch=0, Ticket='A/5. 3336', Fare=16.1, Cabin=None, Embarked='S'), Row(PassengerId=619, Survived=1, Pclass=2, Name='Becker, Miss. Marion Louise', Sex='female', Age=4.0, SibSp=2, Parch=1, Ticket='230136', Fare=39.0, Cabin='F4', Embarked='S'), Row(PassengerId=628, Survived=1, Pclass=1, Name='Longley, Miss. Gretchen Fiske', Sex='female', Age=21.0, SibSp=0, Parch=0, Ticket='13502', Fare=77.9583, Cabin='D9', Embarked='S'), Row(PassengerId=635, Survived=0, Pclass=3, Name='Skoog, Miss. Mabel', Sex='female', Age=9.0, SibSp=3, Parch=2, Ticket='347088', Fare=27.9, Cabin=None, Embarked='S'), Row(PassengerId=636, Survived=1, Pclass=2, Name='Davis, Miss. Mary', Sex='female', Age=28.0, SibSp=0, Parch=0, Ticket='237668', Fare=13.0, Cabin=None, Embarked='S'), Row(PassengerId=639, Survived=0, Pclass=3, Name='Panula, Mrs. Juha (Maria Emilia Ojala)', Sex='female', Age=41.0, SibSp=0, Parch=5, Ticket='3101295', Fare=39.6875, Cabin=None, Embarked='S'), Row(PassengerId=642, Survived=1, Pclass=1, Name='Sagesser, Mlle. Emma', Sex='female', Age=24.0, SibSp=0, Parch=0, Ticket='PC 17477', Fare=69.3, Cabin='B35', Embarked='C'), Row(PassengerId=643, Survived=0, Pclass=3, Name='Skoog, Miss. Margit Elizabeth', Sex='female', Age=2.0, SibSp=3, Parch=2, Ticket='347088', Fare=27.9, Cabin=None, Embarked='S'), Row(PassengerId=645, Survived=1, Pclass=3, Name='Baclini, Miss. Eugenie', Sex='female', Age=0.75, SibSp=2, Parch=1, Ticket='2666', Fare=19.2583, Cabin=None, Embarked='C'), Row(PassengerId=650, Survived=1, Pclass=3, Name='Stanley, Miss. Amy Zillah Elsie', Sex='female', Age=23.0, SibSp=0, Parch=0, Ticket='CA. 2314', Fare=7.55, Cabin=None, Embarked='S'), Row(PassengerId=652, Survived=1, Pclass=2, Name='Doling, Miss. Elsie', Sex='female', Age=18.0, SibSp=0, Parch=1, Ticket='231919', Fare=23.0, Cabin=None, Embarked='S'), Row(PassengerId=654, Survived=1, Pclass=3, Name='\"O\\'Leary, Miss. Hanora \"\"Norah\"\"\"', Sex='female', Age=None, SibSp=0, Parch=0, Ticket='330919', Fare=7.8292, Cabin=None, Embarked='Q'), Row(PassengerId=655, Survived=0, Pclass=3, Name='\"Hegarty, Miss. Hanora \"\"Nora\"\"\"', Sex='female', Age=18.0, SibSp=0, Parch=0, Ticket='365226', Fare=6.75, Cabin=None, Embarked='Q'), Row(PassengerId=658, Survived=0, Pclass=3, Name='Bourke, Mrs. John (Catherine)', Sex='female', Age=32.0, SibSp=1, Parch=1, Ticket='364849', Fare=15.5, Cabin=None, Embarked='Q'), Row(PassengerId=670, Survived=1, Pclass=1, Name='Taylor, Mrs. Elmer Zebley (Juliet Cummins Wright)', Sex='female', Age=None, SibSp=1, Parch=0, Ticket='19996', Fare=52.0, Cabin='C126', Embarked='S'), Row(PassengerId=671, Survived=1, Pclass=2, Name='Brown, Mrs. Thomas William Solomon (Elizabeth Catherine Ford)', Sex='female', Age=40.0, SibSp=1, Parch=1, Ticket='29750', Fare=39.0, Cabin=None, Embarked='S'), Row(PassengerId=678, Survived=1, Pclass=3, Name='Turja, Miss. Anna Sofia', Sex='female', Age=18.0, SibSp=0, Parch=0, Ticket='4138', Fare=9.8417, Cabin=None, Embarked='S'), Row(PassengerId=679, Survived=0, Pclass=3, Name='Goodwin, Mrs. Frederick (Augusta Tyler)', Sex='female', Age=43.0, SibSp=1, Parch=6, Ticket='CA 2144', Fare=46.9, Cabin=None, Embarked='S'), Row(PassengerId=681, Survived=0, Pclass=3, Name='Peters, Miss. Katie', Sex='female', Age=None, SibSp=0, Parch=0, Ticket='330935', Fare=8.1375, Cabin=None, Embarked='Q'), Row(PassengerId=690, Survived=1, Pclass=1, Name='Madill, Miss. Georgette Alexandra', Sex='female', Age=15.0, SibSp=0, Parch=1, Ticket='24160', Fare=211.3375, Cabin='B5', Embarked='S'), Row(PassengerId=692, Survived=1, Pclass=3, Name='Karun, Miss. Manca', Sex='female', Age=4.0, SibSp=0, Parch=1, Ticket='349256', Fare=13.4167, Cabin=None, Embarked='C'), Row(PassengerId=698, Survived=1, Pclass=3, Name='\"Mullens, Miss. Katherine \"\"Katie\"\"\"', Sex='female', Age=None, SibSp=0, Parch=0, Ticket='35852', Fare=7.7333, Cabin=None, Embarked='Q'), Row(PassengerId=701, Survived=1, Pclass=1, Name='Astor, Mrs. John Jacob (Madeleine Talmadge Force)', Sex='female', Age=18.0, SibSp=1, Parch=0, Ticket='PC 17757', Fare=227.525, Cabin='C62 C64', Embarked='C'), Row(PassengerId=703, Survived=0, Pclass=3, Name='Barbara, Miss. Saiide', Sex='female', Age=18.0, SibSp=0, Parch=1, Ticket='2691', Fare=14.4542, Cabin=None, Embarked='C'), Row(PassengerId=707, Survived=1, Pclass=2, Name='\"Kelly, Mrs. Florence \"\"Fannie\"\"\"', Sex='female', Age=45.0, SibSp=0, Parch=0, Ticket='223596', Fare=13.5, Cabin=None, Embarked='S'), Row(PassengerId=709, Survived=1, Pclass=1, Name='Cleaver, Miss. Alice', Sex='female', Age=22.0, SibSp=0, Parch=0, Ticket='113781', Fare=151.55, Cabin=None, Embarked='S'), Row(PassengerId=711, Survived=1, Pclass=1, Name='\"Mayne, Mlle. Berthe Antonine (\"\"Mrs de Villiers\"\")\"', Sex='female', Age=24.0, SibSp=0, Parch=0, Ticket='PC 17482', Fare=49.5042, Cabin='C90', Embarked='C'), Row(PassengerId=717, Survived=1, Pclass=1, Name='Endres, Miss. Caroline Louise', Sex='female', Age=38.0, SibSp=0, Parch=0, Ticket='PC 17757', Fare=227.525, Cabin='C45', Embarked='C'), Row(PassengerId=718, Survived=1, Pclass=2, Name='\"Troutt, Miss. Edwina Celia \"\"Winnie\"\"\"', Sex='female', Age=27.0, SibSp=0, Parch=0, Ticket='34218', Fare=10.5, Cabin='E101', Embarked='S'), Row(PassengerId=721, Survived=1, Pclass=2, Name='\"Harper, Miss. Annie Jessie \"\"Nina\"\"\"', Sex='female', Age=6.0, SibSp=0, Parch=1, Ticket='248727', Fare=33.0, Cabin=None, Embarked='S'), Row(PassengerId=727, Survived=1, Pclass=2, Name='Renouf, Mrs. Peter Henry (Lillian Jefferys)', Sex='female', Age=30.0, SibSp=3, Parch=0, Ticket='31027', Fare=21.0, Cabin=None, Embarked='S'), Row(PassengerId=728, Survived=1, Pclass=3, Name='Mannion, Miss. Margareth', Sex='female', Age=None, SibSp=0, Parch=0, Ticket='36866', Fare=7.7375, Cabin=None, Embarked='Q'), Row(PassengerId=730, Survived=0, Pclass=3, Name='Ilmakangas, Miss. Pieta Sofia', Sex='female', Age=25.0, SibSp=1, Parch=0, Ticket='STON/O2. 3101271', Fare=7.925, Cabin=None, Embarked='S'), Row(PassengerId=731, Survived=1, Pclass=1, Name='Allen, Miss. Elisabeth Walton', Sex='female', Age=29.0, SibSp=0, Parch=0, Ticket='24160', Fare=211.3375, Cabin='B5', Embarked='S'), Row(PassengerId=737, Survived=0, Pclass=3, Name='Ford, Mrs. Edward (Margaret Ann Watson)', Sex='female', Age=48.0, SibSp=1, Parch=3, Ticket='W./C. 6608', Fare=34.375, Cabin=None, Embarked='S'), Row(PassengerId=743, Survived=1, Pclass=1, Name='\"Ryerson, Miss. Susan Parker \"\"Suzette\"\"\"', Sex='female', Age=21.0, SibSp=2, Parch=2, Ticket='PC 17608', Fare=262.375, Cabin='B57 B59 B63 B66', Embarked='C'), Row(PassengerId=748, Survived=1, Pclass=2, Name='Sinkkonen, Miss. Anna', Sex='female', Age=30.0, SibSp=0, Parch=0, Ticket='250648', Fare=13.0, Cabin=None, Embarked='S'), Row(PassengerId=751, Survived=1, Pclass=2, Name='Wells, Miss. Joan', Sex='female', Age=4.0, SibSp=1, Parch=1, Ticket='29103', Fare=23.0, Cabin=None, Embarked='S'), Row(PassengerId=755, Survived=1, Pclass=2, Name='Herman, Mrs. Samuel (Jane Laver)', Sex='female', Age=48.0, SibSp=1, Parch=2, Ticket='220845', Fare=65.0, Cabin=None, Embarked='S'), Row(PassengerId=760, Survived=1, Pclass=1, Name='Rothes, the Countess. of (Lucy Noel Martha Dyer-Edwards)', Sex='female', Age=33.0, SibSp=0, Parch=0, Ticket='110152', Fare=86.5, Cabin='B77', Embarked='S'), Row(PassengerId=764, Survived=1, Pclass=1, Name='Carter, Mrs. William Ernest (Lucile Polk)', Sex='female', Age=36.0, SibSp=1, Parch=2, Ticket='113760', Fare=120.0, Cabin='B96 B98', Embarked='S'), Row(PassengerId=766, Survived=1, Pclass=1, Name='Hogeboom, Mrs. John C (Anna Andrews)', Sex='female', Age=51.0, SibSp=1, Parch=0, Ticket='13502', Fare=77.9583, Cabin='D11', Embarked='S'), Row(PassengerId=768, Survived=0, Pclass=3, Name='Mangan, Miss. Mary', Sex='female', Age=30.5, SibSp=0, Parch=0, Ticket='364850', Fare=7.75, Cabin=None, Embarked='Q'), Row(PassengerId=773, Survived=0, Pclass=2, Name='Mack, Mrs. (Mary)', Sex='female', Age=57.0, SibSp=0, Parch=0, Ticket='S.O./P.P. 3', Fare=10.5, Cabin='E77', Embarked='S'), Row(PassengerId=775, Survived=1, Pclass=2, Name='Hocking, Mrs. Elizabeth (Eliza Needs)', Sex='female', Age=54.0, SibSp=1, Parch=3, Ticket='29105', Fare=23.0, Cabin=None, Embarked='S'), Row(PassengerId=778, Survived=1, Pclass=3, Name='Emanuel, Miss. Virginia Ethel', Sex='female', Age=5.0, SibSp=0, Parch=0, Ticket='364516', Fare=12.475, Cabin=None, Embarked='S'), Row(PassengerId=780, Survived=1, Pclass=1, Name='Robert, Mrs. Edward Scott (Elisabeth Walton McMillan)', Sex='female', Age=43.0, SibSp=0, Parch=1, Ticket='24160', Fare=211.3375, Cabin='B3', Embarked='S'), Row(PassengerId=781, Survived=1, Pclass=3, Name='Ayoub, Miss. Banoura', Sex='female', Age=13.0, SibSp=0, Parch=0, Ticket='2687', Fare=7.2292, Cabin=None, Embarked='C'), Row(PassengerId=782, Survived=1, Pclass=1, Name='Dick, Mrs. Albert Adrian (Vera Gillespie)', Sex='female', Age=17.0, SibSp=1, Parch=0, Ticket='17474', Fare=57.0, Cabin='B20', Embarked='S'), Row(PassengerId=787, Survived=1, Pclass=3, Name='Sjoblom, Miss. Anna Sofia', Sex='female', Age=18.0, SibSp=0, Parch=0, Ticket='3101265', Fare=7.4958, Cabin=None, Embarked='S'), Row(PassengerId=793, Survived=0, Pclass=3, Name='Sage, Miss. Stella Anna', Sex='female', Age=None, SibSp=8, Parch=2, Ticket='CA. 2343', Fare=69.55, Cabin=None, Embarked='S'), Row(PassengerId=797, Survived=1, Pclass=1, Name='Leader, Dr. Alice (Farnham)', Sex='female', Age=49.0, SibSp=0, Parch=0, Ticket='17465', Fare=25.9292, Cabin='D17', Embarked='S'), Row(PassengerId=798, Survived=1, Pclass=3, Name='Osman, Mrs. Mara', Sex='female', Age=31.0, SibSp=0, Parch=0, Ticket='349244', Fare=8.6833, Cabin=None, Embarked='S'), Row(PassengerId=800, Survived=0, Pclass=3, Name='Van Impe, Mrs. Jean Baptiste (Rosalie Paula Govaert)', Sex='female', Age=30.0, SibSp=1, Parch=1, Ticket='345773', Fare=24.15, Cabin=None, Embarked='S'), Row(PassengerId=802, Survived=1, Pclass=2, Name='Collyer, Mrs. Harvey (Charlotte Annie Tate)', Sex='female', Age=31.0, SibSp=1, Parch=1, Ticket='C.A. 31921', Fare=26.25, Cabin=None, Embarked='S'), Row(PassengerId=808, Survived=0, Pclass=3, Name='Pettersson, Miss. Ellen Natalia', Sex='female', Age=18.0, SibSp=0, Parch=0, Ticket='347087', Fare=7.775, Cabin=None, Embarked='S'), Row(PassengerId=810, Survived=1, Pclass=1, Name='Chambers, Mrs. Norman Campbell (Bertha Griggs)', Sex='female', Age=33.0, SibSp=1, Parch=0, Ticket='113806', Fare=53.1, Cabin='E8', Embarked='S'), Row(PassengerId=814, Survived=0, Pclass=3, Name='Andersson, Miss. Ebba Iris Alfrida', Sex='female', Age=6.0, SibSp=4, Parch=2, Ticket='347082', Fare=31.275, Cabin=None, Embarked='S'), Row(PassengerId=817, Survived=0, Pclass=3, Name='Heininen, Miss. Wendla Maria', Sex='female', Age=23.0, SibSp=0, Parch=0, Ticket='STON/O2. 3101290', Fare=7.925, Cabin=None, Embarked='S'), Row(PassengerId=821, Survived=1, Pclass=1, Name='Hays, Mrs. Charles Melville (Clara Jennings Gregg)', Sex='female', Age=52.0, SibSp=1, Parch=1, Ticket='12749', Fare=93.5, Cabin='B69', Embarked='S'), Row(PassengerId=824, Survived=1, Pclass=3, Name='Moor, Mrs. (Beila)', Sex='female', Age=27.0, SibSp=0, Parch=1, Ticket='392096', Fare=12.475, Cabin='E121', Embarked='S'), Row(PassengerId=830, Survived=1, Pclass=1, Name='Stone, Mrs. George Nelson (Martha Evelyn)', Sex='female', Age=62.0, SibSp=0, Parch=0, Ticket='113572', Fare=80.0, Cabin='B28', Embarked=None), Row(PassengerId=831, Survived=1, Pclass=3, Name='Yasbeck, Mrs. Antoni (Selini Alexander)', Sex='female', Age=15.0, SibSp=1, Parch=0, Ticket='2659', Fare=14.4542, Cabin=None, Embarked='C'), Row(PassengerId=836, Survived=1, Pclass=1, Name='Compton, Miss. Sara Rebecca', Sex='female', Age=39.0, SibSp=1, Parch=1, Ticket='PC 17756', Fare=83.1583, Cabin='E49', Embarked='C'), Row(PassengerId=843, Survived=1, Pclass=1, Name='Serepeca, Miss. Augusta', Sex='female', Age=30.0, SibSp=0, Parch=0, Ticket='113798', Fare=31.0, Cabin=None, Embarked='C'), Row(PassengerId=850, Survived=1, Pclass=1, Name='Goldenberg, Mrs. Samuel L (Edwiga Grabowska)', Sex='female', Age=None, SibSp=1, Parch=0, Ticket='17453', Fare=89.1042, Cabin='C92', Embarked='C'), Row(PassengerId=853, Survived=0, Pclass=3, Name='Boulos, Miss. Nourelain', Sex='female', Age=9.0, SibSp=1, Parch=1, Ticket='2678', Fare=15.2458, Cabin=None, Embarked='C'), Row(PassengerId=854, Survived=1, Pclass=1, Name='Lines, Miss. Mary Conover', Sex='female', Age=16.0, SibSp=0, Parch=1, Ticket='PC 17592', Fare=39.4, Cabin='D28', Embarked='S'), Row(PassengerId=855, Survived=0, Pclass=2, Name='Carter, Mrs. Ernest Courtenay (Lilian Hughes)', Sex='female', Age=44.0, SibSp=1, Parch=0, Ticket='244252', Fare=26.0, Cabin=None, Embarked='S'), Row(PassengerId=856, Survived=1, Pclass=3, Name='Aks, Mrs. Sam (Leah Rosen)', Sex='female', Age=18.0, SibSp=0, Parch=1, Ticket='392091', Fare=9.35, Cabin=None, Embarked='S'), Row(PassengerId=857, Survived=1, Pclass=1, Name='Wick, Mrs. George Dennick (Mary Hitchcock)', Sex='female', Age=45.0, SibSp=1, Parch=1, Ticket='36928', Fare=164.8667, Cabin=None, Embarked='S'), Row(PassengerId=859, Survived=1, Pclass=3, Name='Baclini, Mrs. Solomon (Latifa Qurban)', Sex='female', Age=24.0, SibSp=0, Parch=3, Ticket='2666', Fare=19.2583, Cabin=None, Embarked='C'), Row(PassengerId=863, Survived=1, Pclass=1, Name='Swift, Mrs. Frederick Joel (Margaret Welles Barron)', Sex='female', Age=48.0, SibSp=0, Parch=0, Ticket='17466', Fare=25.9292, Cabin='D17', Embarked='S'), Row(PassengerId=864, Survived=0, Pclass=3, Name='\"Sage, Miss. Dorothy Edith \"\"Dolly\"\"\"', Sex='female', Age=None, SibSp=8, Parch=2, Ticket='CA. 2343', Fare=69.55, Cabin=None, Embarked='S'), Row(PassengerId=866, Survived=1, Pclass=2, Name='Bystrom, Mrs. (Karolina)', Sex='female', Age=42.0, SibSp=0, Parch=0, Ticket='236852', Fare=13.0, Cabin=None, Embarked='S'), Row(PassengerId=867, Survived=1, Pclass=2, Name='Duran y More, Miss. Asuncion', Sex='female', Age=27.0, SibSp=1, Parch=0, Ticket='SC/PARIS 2149', Fare=13.8583, Cabin=None, Embarked='C'), Row(PassengerId=872, Survived=1, Pclass=1, Name='Beckwith, Mrs. Richard Leonard (Sallie Monypeny)', Sex='female', Age=47.0, SibSp=1, Parch=1, Ticket='11751', Fare=52.5542, Cabin='D35', Embarked='S'), Row(PassengerId=875, Survived=1, Pclass=2, Name='Abelson, Mrs. Samuel (Hannah Wizosky)', Sex='female', Age=28.0, SibSp=1, Parch=0, Ticket='P/PP 3381', Fare=24.0, Cabin=None, Embarked='C'), Row(PassengerId=876, Survived=1, Pclass=3, Name='\"Najib, Miss. Adele Kiamie \"\"Jane\"\"\"', Sex='female', Age=15.0, SibSp=0, Parch=0, Ticket='2667', Fare=7.225, Cabin=None, Embarked='C'), Row(PassengerId=880, Survived=1, Pclass=1, Name='Potter, Mrs. Thomas Jr (Lily Alexenia Wilson)', Sex='female', Age=56.0, SibSp=0, Parch=1, Ticket='11767', Fare=83.1583, Cabin='C50', Embarked='C'), Row(PassengerId=881, Survived=1, Pclass=2, Name='Shelley, Mrs. William (Imanita Parrish Hall)', Sex='female', Age=25.0, SibSp=0, Parch=1, Ticket='230433', Fare=26.0, Cabin=None, Embarked='S'), Row(PassengerId=883, Survived=0, Pclass=3, Name='Dahlberg, Miss. Gerda Ulrika', Sex='female', Age=22.0, SibSp=0, Parch=0, Ticket='7552', Fare=10.5167, Cabin=None, Embarked='S'), Row(PassengerId=886, Survived=0, Pclass=3, Name='Rice, Mrs. William (Margaret Norton)', Sex='female', Age=39.0, SibSp=0, Parch=5, Ticket='382652', Fare=29.125, Cabin=None, Embarked='Q'), Row(PassengerId=888, Survived=1, Pclass=1, Name='Graham, Miss. Margaret Edith', Sex='female', Age=19.0, SibSp=0, Parch=0, Ticket='112053', Fare=30.0, Cabin='B42', Embarked='S'), Row(PassengerId=889, Survived=0, Pclass=3, Name='\"Johnston, Miss. Catherine Helen \"\"Carrie\"\"\"', Sex='female', Age=None, SibSp=1, Parch=2, Ticket='W./C. 6607', Fare=23.45, Cabin=None, Embarked='S')]\n"
     ]
    }
   ],
   "source": [
    "# Please describe men and women separately and then combine the two RDDs with a union function.\n",
    "\n",
    "male_rdd = titanic_rdd.filter(lambda row: row[4] == \"male\")\n",
    "female_rdd = titanic_rdd.filter(lambda row: row[4] == \"female\")\n",
    "\n",
    "male_and_female = male_rdd.union(female_rdd)\n",
    "\n",
    "print(male_and_female.collect())"
   ]
  },
  {
   "cell_type": "markdown",
   "id": "3e23f72c",
   "metadata": {},
   "source": [
    "### reduceByKey function\n",
    "\n",
    "The reduceByKey() function in PySpark is a transformation that can be applied to key-value pairs. The function takes an RDD stored in a key-value pair and returns another RDD in which the values associated with the keys are aggregated.\n",
    "\n",
    "The reduceByKey() function is extremely simple to use. First, an RDD with key-value pairs must be created. Then apply the reduceByKey() function to the RDD, passing the reducing function as the first argument. The reducing function has two inputs and returns an output of the same type.\n",
    "\n",
    "In the example below, an RDD is created in which the frequency of occurrence of each letter is calculated:  \n",
    "```python\n",
    "# Create RDD with key-value pairs\n",
    "rdd = sc.parallelize(['a', 'b', 'c', 'a', 'b', 'a', 'd', 'b', 'c'])\n",
    "\n",
    "# Create key-value pairs\n",
    "key_value_rdd = rdd.map(lambda x: (x, 1))\n",
    "\n",
    "# Aggregate keys by values\n",
    "sums_rdd = key_value_rdd.reduceByKey(lambda a, b: a + b)\n",
    "\n",
    "# Print the result\n",
    "print(sums_rdd.collect())\n",
    "\n",
    "\n",
    "```\n",
    "In the result, all occurrences are summed up by key:\n",
    "\n",
    "\n",
    "```python\n",
    "[('a', 3), ('b', 3), ('c', 2), ('d', 1)]\n",
    "\n",
    "```\n",
    "\n",
    "### reduceByKey comparison with groupByKey\n",
    "\n",
    "The reduceByKey() and groupByKey() functions are both used for aggregation in Spark. However, there are differences between the two functions:\n",
    "\n",
    "groupByKey(): aggregates all the values for a given key into a given list and returns the keys and their associated values. It groups all the values associated with a key into a single iterable object (for example, a list) and returns this object with the keys. If the input RDD is very large, the groupByKey() operation may cause memory problems, since it puts all values into a single list.\n",
    "\n",
    "reduceByKey(): Collect the values associated with the given keys and then apply the reduce() function to all the values assigned to the key. It then returns an RDD containing the keys and the aggregated values. The reduceByKey() operation allows Spark to pre-aggregate the data by key during partitioning, thus reducing communication between partitions and the memory required.\n",
    "\n",
    "So the main difference is that reduceByKey() pre-partitions the data before aggregation and reduces memory requirements, whereas groupByKey() stores all values in a single list, which can cause memory problems for large amounts of data. In addition, reduceByKey() may be more efficient if the function used for aggregation is computationally intensive."
   ]
  },
  {
   "cell_type": "code",
   "execution_count": 25,
   "id": "0fab32b4",
   "metadata": {},
   "outputs": [
    {
     "name": "stdout",
     "output_type": "stream",
     "text": [
      "[(3, 491), (1, 216), (2, 184)]\n"
     ]
    }
   ],
   "source": [
    "# Use Map-reduceByKey to count how many people travelled in which class?\n",
    "\n",
    "class_travelers = titanic_rdd.filter(lambda row: row[2] != None) \\\n",
    "                             .map(lambda x: (x[2],1)) \\\n",
    "                             .reduceByKey(lambda a, b: a + b) \\\n",
    "                             .collect()\n",
    "\n",
    "print(class_travelers)"
   ]
  },
  {
   "cell_type": "code",
   "execution_count": 26,
   "id": "fe410962",
   "metadata": {},
   "outputs": [
    {
     "name": "stdout",
     "output_type": "stream",
     "text": [
      "[(3, 491), (1, 216), (2, 184)]\n"
     ]
    }
   ],
   "source": [
    "# Use Map-groupByKey to count how many people travelled in which class?\n",
    "\n",
    "class_travelers = titanic_rdd.filter(lambda row: row[2] != None) \\\n",
    "                             .map(lambda x: (x[2],1)) \\\n",
    "                             .groupByKey().mapValues(sum) \\\n",
    "                             .collect()\n",
    "\n",
    "print(class_travelers)"
   ]
  },
  {
   "cell_type": "markdown",
   "id": "23b25e08",
   "metadata": {},
   "source": [
    "## Practice"
   ]
  },
  {
   "cell_type": "code",
   "execution_count": 29,
   "id": "9e0ccb95",
   "metadata": {},
   "outputs": [
    {
     "data": {
      "text/plain": [
       "1"
      ]
     },
     "execution_count": 29,
     "metadata": {},
     "output_type": "execute_result"
    }
   ],
   "source": [
    "# Partition the titanic dataset into 15 partitions, then partition it back into 1 partition. \n",
    "\n",
    "# At the end, ask how many particles it consists of. \n",
    "\n",
    "fifteen_part_rdd = titanic_rdd.repartition(15).repartition(1)\n",
    "\n",
    "fifteen_part_rdd.getNumPartitions()\n",
    "\n"
   ]
  },
  {
   "cell_type": "code",
   "execution_count": 31,
   "id": "fc0a2a41",
   "metadata": {},
   "outputs": [],
   "source": [
    "# Please describe the different passenger classes without repeating\n",
    "\n",
    "titanic_rdd.map(lambda x: x[2]) \\\n",
    "           .distinct() \\\n",
    "           .foreach(print)"
   ]
  },
  {
   "cell_type": "code",
   "execution_count": 32,
   "id": "98db7be9",
   "metadata": {},
   "outputs": [
    {
     "name": "stdout",
     "output_type": "stream",
     "text": [
      "[Row(PassengerId=2, Survived=1, Pclass=1, Name='Cumings, Mrs. John Bradley (Florence Briggs Thayer)', Sex='female', Age=38.0, SibSp=1, Parch=0, Ticket='PC 17599', Fare=71.2833, Cabin='C85', Embarked='C'), Row(PassengerId=3, Survived=1, Pclass=3, Name='Heikkinen, Miss. Laina', Sex='female', Age=26.0, SibSp=0, Parch=0, Ticket='STON/O2. 3101282', Fare=7.925, Cabin=None, Embarked='S'), Row(PassengerId=4, Survived=1, Pclass=1, Name='Futrelle, Mrs. Jacques Heath (Lily May Peel)', Sex='female', Age=35.0, SibSp=1, Parch=0, Ticket='113803', Fare=53.1, Cabin='C123', Embarked='S'), Row(PassengerId=9, Survived=1, Pclass=3, Name='Johnson, Mrs. Oscar W (Elisabeth Vilhelmina Berg)', Sex='female', Age=27.0, SibSp=0, Parch=2, Ticket='347742', Fare=11.1333, Cabin=None, Embarked='S'), Row(PassengerId=10, Survived=1, Pclass=2, Name='Nasser, Mrs. Nicholas (Adele Achem)', Sex='female', Age=14.0, SibSp=1, Parch=0, Ticket='237736', Fare=30.0708, Cabin=None, Embarked='C'), Row(PassengerId=11, Survived=1, Pclass=3, Name='Sandstrom, Miss. Marguerite Rut', Sex='female', Age=4.0, SibSp=1, Parch=1, Ticket='PP 9549', Fare=16.7, Cabin='G6', Embarked='S'), Row(PassengerId=12, Survived=1, Pclass=1, Name='Bonnell, Miss. Elizabeth', Sex='female', Age=58.0, SibSp=0, Parch=0, Ticket='113783', Fare=26.55, Cabin='C103', Embarked='S'), Row(PassengerId=15, Survived=0, Pclass=3, Name='Vestrom, Miss. Hulda Amanda Adolfina', Sex='female', Age=14.0, SibSp=0, Parch=0, Ticket='350406', Fare=7.8542, Cabin=None, Embarked='S'), Row(PassengerId=16, Survived=1, Pclass=2, Name='Hewlett, Mrs. (Mary D Kingcome) ', Sex='female', Age=55.0, SibSp=0, Parch=0, Ticket='248706', Fare=16.0, Cabin=None, Embarked='S'), Row(PassengerId=19, Survived=0, Pclass=3, Name='Vander Planke, Mrs. Julius (Emelia Maria Vandemoortele)', Sex='female', Age=31.0, SibSp=1, Parch=0, Ticket='345763', Fare=18.0, Cabin=None, Embarked='S'), Row(PassengerId=20, Survived=1, Pclass=3, Name='Masselmani, Mrs. Fatima', Sex='female', Age=None, SibSp=0, Parch=0, Ticket='2649', Fare=7.225, Cabin=None, Embarked='C'), Row(PassengerId=23, Survived=1, Pclass=3, Name='\"McGowan, Miss. Anna \"\"Annie\"\"\"', Sex='female', Age=15.0, SibSp=0, Parch=0, Ticket='330923', Fare=8.0292, Cabin=None, Embarked='Q'), Row(PassengerId=25, Survived=0, Pclass=3, Name='Palsson, Miss. Torborg Danira', Sex='female', Age=8.0, SibSp=3, Parch=1, Ticket='349909', Fare=21.075, Cabin=None, Embarked='S'), Row(PassengerId=26, Survived=1, Pclass=3, Name='Asplund, Mrs. Carl Oscar (Selma Augusta Emilia Johansson)', Sex='female', Age=38.0, SibSp=1, Parch=5, Ticket='347077', Fare=31.3875, Cabin=None, Embarked='S'), Row(PassengerId=29, Survived=1, Pclass=3, Name='\"O\\'Dwyer, Miss. Ellen \"\"Nellie\"\"\"', Sex='female', Age=None, SibSp=0, Parch=0, Ticket='330959', Fare=7.8792, Cabin=None, Embarked='Q'), Row(PassengerId=32, Survived=1, Pclass=1, Name='Spencer, Mrs. William Augustus (Marie Eugenie)', Sex='female', Age=None, SibSp=1, Parch=0, Ticket='PC 17569', Fare=146.5208, Cabin='B78', Embarked='C'), Row(PassengerId=33, Survived=1, Pclass=3, Name='Glynn, Miss. Mary Agatha', Sex='female', Age=None, SibSp=0, Parch=0, Ticket='335677', Fare=7.75, Cabin=None, Embarked='Q'), Row(PassengerId=39, Survived=0, Pclass=3, Name='Vander Planke, Miss. Augusta Maria', Sex='female', Age=18.0, SibSp=2, Parch=0, Ticket='345764', Fare=18.0, Cabin=None, Embarked='S'), Row(PassengerId=40, Survived=1, Pclass=3, Name='Nicola-Yarred, Miss. Jamila', Sex='female', Age=14.0, SibSp=1, Parch=0, Ticket='2651', Fare=11.2417, Cabin=None, Embarked='C'), Row(PassengerId=41, Survived=0, Pclass=3, Name='Ahlin, Mrs. Johan (Johanna Persdotter Larsson)', Sex='female', Age=40.0, SibSp=1, Parch=0, Ticket='7546', Fare=9.475, Cabin=None, Embarked='S'), Row(PassengerId=42, Survived=0, Pclass=2, Name='Turpin, Mrs. William John Robert (Dorothy Ann Wonnacott)', Sex='female', Age=27.0, SibSp=1, Parch=0, Ticket='11668', Fare=21.0, Cabin=None, Embarked='S'), Row(PassengerId=44, Survived=1, Pclass=2, Name='Laroche, Miss. Simonne Marie Anne Andree', Sex='female', Age=3.0, SibSp=1, Parch=2, Ticket='SC/Paris 2123', Fare=41.5792, Cabin=None, Embarked='C'), Row(PassengerId=45, Survived=1, Pclass=3, Name='Devaney, Miss. Margaret Delia', Sex='female', Age=19.0, SibSp=0, Parch=0, Ticket='330958', Fare=7.8792, Cabin=None, Embarked='Q'), Row(PassengerId=48, Survived=1, Pclass=3, Name=\"O'Driscoll, Miss. Bridget\", Sex='female', Age=None, SibSp=0, Parch=0, Ticket='14311', Fare=7.75, Cabin=None, Embarked='Q'), Row(PassengerId=50, Survived=0, Pclass=3, Name='Arnold-Franchi, Mrs. Josef (Josefine Franchi)', Sex='female', Age=18.0, SibSp=1, Parch=0, Ticket='349237', Fare=17.8, Cabin=None, Embarked='S'), Row(PassengerId=53, Survived=1, Pclass=1, Name='Harper, Mrs. Henry Sleeper (Myna Haxtun)', Sex='female', Age=49.0, SibSp=1, Parch=0, Ticket='PC 17572', Fare=76.7292, Cabin='D33', Embarked='C'), Row(PassengerId=54, Survived=1, Pclass=2, Name='Faunthorpe, Mrs. Lizzie (Elizabeth Anne Wilkinson)', Sex='female', Age=29.0, SibSp=1, Parch=0, Ticket='2926', Fare=26.0, Cabin=None, Embarked='S'), Row(PassengerId=57, Survived=1, Pclass=2, Name='Rugg, Miss. Emily', Sex='female', Age=21.0, SibSp=0, Parch=0, Ticket='C.A. 31026', Fare=10.5, Cabin=None, Embarked='S'), Row(PassengerId=59, Survived=1, Pclass=2, Name='West, Miss. Constance Mirium', Sex='female', Age=5.0, SibSp=1, Parch=2, Ticket='C.A. 34651', Fare=27.75, Cabin=None, Embarked='S'), Row(PassengerId=62, Survived=1, Pclass=1, Name='Icard, Miss. Amelie', Sex='female', Age=38.0, SibSp=0, Parch=0, Ticket='113572', Fare=80.0, Cabin='B28', Embarked=None), Row(PassengerId=67, Survived=1, Pclass=2, Name='Nye, Mrs. (Elizabeth Ramell)', Sex='female', Age=29.0, SibSp=0, Parch=0, Ticket='C.A. 29395', Fare=10.5, Cabin='F33', Embarked='S'), Row(PassengerId=69, Survived=1, Pclass=3, Name='Andersson, Miss. Erna Alexandra', Sex='female', Age=17.0, SibSp=4, Parch=2, Ticket='3101281', Fare=7.925, Cabin=None, Embarked='S'), Row(PassengerId=72, Survived=0, Pclass=3, Name='Goodwin, Miss. Lillian Amy', Sex='female', Age=16.0, SibSp=5, Parch=2, Ticket='CA 2144', Fare=46.9, Cabin=None, Embarked='S'), Row(PassengerId=80, Survived=1, Pclass=3, Name='Dowdell, Miss. Elizabeth', Sex='female', Age=30.0, SibSp=0, Parch=0, Ticket='364516', Fare=12.475, Cabin=None, Embarked='S'), Row(PassengerId=83, Survived=1, Pclass=3, Name='McDermott, Miss. Brigdet Delia', Sex='female', Age=None, SibSp=0, Parch=0, Ticket='330932', Fare=7.7875, Cabin=None, Embarked='Q'), Row(PassengerId=85, Survived=1, Pclass=2, Name='Ilett, Miss. Bertha', Sex='female', Age=17.0, SibSp=0, Parch=0, Ticket='SO/C 14885', Fare=10.5, Cabin=None, Embarked='S'), Row(PassengerId=86, Survived=1, Pclass=3, Name='Backstrom, Mrs. Karl Alfred (Maria Mathilda Gustafsson)', Sex='female', Age=33.0, SibSp=3, Parch=0, Ticket='3101278', Fare=15.85, Cabin=None, Embarked='S'), Row(PassengerId=89, Survived=1, Pclass=1, Name='Fortune, Miss. Mabel Helen', Sex='female', Age=23.0, SibSp=3, Parch=2, Ticket='19950', Fare=263.0, Cabin='C23 C25 C27', Embarked='S'), Row(PassengerId=99, Survived=1, Pclass=2, Name='Doling, Mrs. John T (Ada Julia Bone)', Sex='female', Age=34.0, SibSp=0, Parch=1, Ticket='231919', Fare=23.0, Cabin=None, Embarked='S'), Row(PassengerId=101, Survived=0, Pclass=3, Name='Petranec, Miss. Matilda', Sex='female', Age=28.0, SibSp=0, Parch=0, Ticket='349245', Fare=7.8958, Cabin=None, Embarked='S'), Row(PassengerId=107, Survived=1, Pclass=3, Name='Salkjelsvik, Miss. Anna Kristine', Sex='female', Age=21.0, SibSp=0, Parch=0, Ticket='343120', Fare=7.65, Cabin=None, Embarked='S'), Row(PassengerId=110, Survived=1, Pclass=3, Name='Moran, Miss. Bertha', Sex='female', Age=None, SibSp=1, Parch=0, Ticket='371110', Fare=24.15, Cabin=None, Embarked='Q'), Row(PassengerId=112, Survived=0, Pclass=3, Name='Zabour, Miss. Hileni', Sex='female', Age=14.5, SibSp=1, Parch=0, Ticket='2665', Fare=14.4542, Cabin=None, Embarked='C'), Row(PassengerId=114, Survived=0, Pclass=3, Name='Jussila, Miss. Katriina', Sex='female', Age=20.0, SibSp=1, Parch=0, Ticket='4136', Fare=9.825, Cabin=None, Embarked='S'), Row(PassengerId=115, Survived=0, Pclass=3, Name='Attalah, Miss. Malake', Sex='female', Age=17.0, SibSp=0, Parch=0, Ticket='2627', Fare=14.4583, Cabin=None, Embarked='C'), Row(PassengerId=120, Survived=0, Pclass=3, Name='Andersson, Miss. Ellis Anna Maria', Sex='female', Age=2.0, SibSp=4, Parch=2, Ticket='347082', Fare=31.275, Cabin=None, Embarked='S'), Row(PassengerId=124, Survived=1, Pclass=2, Name='Webber, Miss. Susan', Sex='female', Age=32.5, SibSp=0, Parch=0, Ticket='27267', Fare=13.0, Cabin='E101', Embarked='S'), Row(PassengerId=129, Survived=1, Pclass=3, Name='Peter, Miss. Anna', Sex='female', Age=None, SibSp=1, Parch=1, Ticket='2668', Fare=22.3583, Cabin='F E69', Embarked='C'), Row(PassengerId=133, Survived=0, Pclass=3, Name='Robins, Mrs. Alexander A (Grace Charity Laury)', Sex='female', Age=47.0, SibSp=1, Parch=0, Ticket='A/5. 3337', Fare=14.5, Cabin=None, Embarked='S'), Row(PassengerId=134, Survived=1, Pclass=2, Name='Weisz, Mrs. Leopold (Mathilde Francoise Pede)', Sex='female', Age=29.0, SibSp=1, Parch=0, Ticket='228414', Fare=26.0, Cabin=None, Embarked='S'), Row(PassengerId=137, Survived=1, Pclass=1, Name='Newsom, Miss. Helen Monypeny', Sex='female', Age=19.0, SibSp=0, Parch=2, Ticket='11752', Fare=26.2833, Cabin='D47', Embarked='S'), Row(PassengerId=141, Survived=0, Pclass=3, Name='Boulos, Mrs. Joseph (Sultana)', Sex='female', Age=None, SibSp=0, Parch=2, Ticket='2678', Fare=15.2458, Cabin=None, Embarked='C'), Row(PassengerId=142, Survived=1, Pclass=3, Name='Nysten, Miss. Anna Sofia', Sex='female', Age=22.0, SibSp=0, Parch=0, Ticket='347081', Fare=7.75, Cabin=None, Embarked='S'), Row(PassengerId=143, Survived=1, Pclass=3, Name='Hakkarainen, Mrs. Pekka Pietari (Elin Matilda Dolck)', Sex='female', Age=24.0, SibSp=1, Parch=0, Ticket='STON/O2. 3101279', Fare=15.85, Cabin=None, Embarked='S'), Row(PassengerId=148, Survived=0, Pclass=3, Name='\"Ford, Miss. Robina Maggie \"\"Ruby\"\"\"', Sex='female', Age=9.0, SibSp=2, Parch=2, Ticket='W./C. 6608', Fare=34.375, Cabin=None, Embarked='S'), Row(PassengerId=152, Survived=1, Pclass=1, Name='Pears, Mrs. Thomas (Edith Wearne)', Sex='female', Age=22.0, SibSp=1, Parch=0, Ticket='113776', Fare=66.6, Cabin='C2', Embarked='S'), Row(PassengerId=157, Survived=1, Pclass=3, Name='\"Gilnagh, Miss. Katherine \"\"Katie\"\"\"', Sex='female', Age=16.0, SibSp=0, Parch=0, Ticket='35851', Fare=7.7333, Cabin=None, Embarked='Q'), Row(PassengerId=162, Survived=1, Pclass=2, Name='\"Watt, Mrs. James (Elizabeth \"\"Bessie\"\" Inglis Milne)\"', Sex='female', Age=40.0, SibSp=0, Parch=0, Ticket='C.A. 33595', Fare=15.75, Cabin=None, Embarked='S'), Row(PassengerId=167, Survived=1, Pclass=1, Name='Chibnall, Mrs. (Edith Martha Bowerman)', Sex='female', Age=None, SibSp=0, Parch=1, Ticket='113505', Fare=55.0, Cabin='E33', Embarked='S'), Row(PassengerId=168, Survived=0, Pclass=3, Name='Skoog, Mrs. William (Anna Bernhardina Karlsson)', Sex='female', Age=45.0, SibSp=1, Parch=4, Ticket='347088', Fare=27.9, Cabin=None, Embarked='S'), Row(PassengerId=173, Survived=1, Pclass=3, Name='Johnson, Miss. Eleanor Ileen', Sex='female', Age=1.0, SibSp=1, Parch=1, Ticket='347742', Fare=11.1333, Cabin=None, Embarked='S'), Row(PassengerId=178, Survived=0, Pclass=1, Name='Isham, Miss. Ann Elizabeth', Sex='female', Age=50.0, SibSp=0, Parch=0, Ticket='PC 17595', Fare=28.7125, Cabin='C49', Embarked='C'), Row(PassengerId=181, Survived=0, Pclass=3, Name='Sage, Miss. Constance Gladys', Sex='female', Age=None, SibSp=8, Parch=2, Ticket='CA. 2343', Fare=69.55, Cabin=None, Embarked='S'), Row(PassengerId=185, Survived=1, Pclass=3, Name='Kink-Heilmann, Miss. Luise Gretchen', Sex='female', Age=4.0, SibSp=0, Parch=2, Ticket='315153', Fare=22.025, Cabin=None, Embarked='S'), Row(PassengerId=187, Survived=1, Pclass=3, Name='\"O\\'Brien, Mrs. Thomas (Johanna \"\"Hannah\"\" Godfrey)\"', Sex='female', Age=None, SibSp=1, Parch=0, Ticket='370365', Fare=15.5, Cabin=None, Embarked='Q'), Row(PassengerId=191, Survived=1, Pclass=2, Name='Pinsky, Mrs. (Rosa)', Sex='female', Age=32.0, SibSp=0, Parch=0, Ticket='234604', Fare=13.0, Cabin=None, Embarked='S'), Row(PassengerId=193, Survived=1, Pclass=3, Name='Andersen-Jensen, Miss. Carla Christine Nielsine', Sex='female', Age=19.0, SibSp=1, Parch=0, Ticket='350046', Fare=7.8542, Cabin=None, Embarked='S'), Row(PassengerId=195, Survived=1, Pclass=1, Name='Brown, Mrs. James Joseph (Margaret Tobin)', Sex='female', Age=44.0, SibSp=0, Parch=0, Ticket='PC 17610', Fare=27.7208, Cabin='B4', Embarked='C'), Row(PassengerId=196, Survived=1, Pclass=1, Name='Lurette, Miss. Elise', Sex='female', Age=58.0, SibSp=0, Parch=0, Ticket='PC 17569', Fare=146.5208, Cabin='B80', Embarked='C'), Row(PassengerId=199, Survived=1, Pclass=3, Name='\"Madigan, Miss. Margaret \"\"Maggie\"\"\"', Sex='female', Age=None, SibSp=0, Parch=0, Ticket='370370', Fare=7.75, Cabin=None, Embarked='Q'), Row(PassengerId=200, Survived=0, Pclass=2, Name='\"Yrois, Miss. Henriette (\"\"Mrs Harbeck\"\")\"', Sex='female', Age=24.0, SibSp=0, Parch=0, Ticket='248747', Fare=13.0, Cabin=None, Embarked='S'), Row(PassengerId=206, Survived=0, Pclass=3, Name='Strom, Miss. Telma Matilda', Sex='female', Age=2.0, SibSp=0, Parch=1, Ticket='347054', Fare=10.4625, Cabin='G6', Embarked='S'), Row(PassengerId=209, Survived=1, Pclass=3, Name='\"Carr, Miss. Helen \"\"Ellen\"\"\"', Sex='female', Age=16.0, SibSp=0, Parch=0, Ticket='367231', Fare=7.75, Cabin=None, Embarked='Q'), Row(PassengerId=212, Survived=1, Pclass=2, Name='Cameron, Miss. Clear Annie', Sex='female', Age=35.0, SibSp=0, Parch=0, Ticket='F.C.C. 13528', Fare=21.0, Cabin=None, Embarked='S'), Row(PassengerId=216, Survived=1, Pclass=1, Name='Newell, Miss. Madeleine', Sex='female', Age=31.0, SibSp=1, Parch=0, Ticket='35273', Fare=113.275, Cabin='D36', Embarked='C'), Row(PassengerId=217, Survived=1, Pclass=3, Name='Honkanen, Miss. Eliina', Sex='female', Age=27.0, SibSp=0, Parch=0, Ticket='STON/O2. 3101283', Fare=7.925, Cabin=None, Embarked='S'), Row(PassengerId=219, Survived=1, Pclass=1, Name='Bazzani, Miss. Albina', Sex='female', Age=32.0, SibSp=0, Parch=0, Ticket='11813', Fare=76.2917, Cabin='D15', Embarked='C'), Row(PassengerId=230, Survived=0, Pclass=3, Name='Lefebre, Miss. Mathilde', Sex='female', Age=None, SibSp=3, Parch=1, Ticket='4133', Fare=25.4667, Cabin=None, Embarked='S'), Row(PassengerId=231, Survived=1, Pclass=1, Name='Harris, Mrs. Henry Birkhardt (Irene Wallach)', Sex='female', Age=35.0, SibSp=1, Parch=0, Ticket='36973', Fare=83.475, Cabin='C83', Embarked='S'), Row(PassengerId=234, Survived=1, Pclass=3, Name='Asplund, Miss. Lillian Gertrud', Sex='female', Age=5.0, SibSp=4, Parch=2, Ticket='347077', Fare=31.3875, Cabin=None, Embarked='S'), Row(PassengerId=236, Survived=0, Pclass=3, Name='Harknett, Miss. Alice Phoebe', Sex='female', Age=None, SibSp=0, Parch=0, Ticket='W./C. 6609', Fare=7.55, Cabin=None, Embarked='S'), Row(PassengerId=238, Survived=1, Pclass=2, Name='\"Collyer, Miss. Marjorie \"\"Lottie\"\"\"', Sex='female', Age=8.0, SibSp=0, Parch=2, Ticket='C.A. 31921', Fare=26.25, Cabin=None, Embarked='S'), Row(PassengerId=241, Survived=0, Pclass=3, Name='Zabour, Miss. Thamine', Sex='female', Age=None, SibSp=1, Parch=0, Ticket='2665', Fare=14.4542, Cabin=None, Embarked='C'), Row(PassengerId=242, Survived=1, Pclass=3, Name='\"Murphy, Miss. Katherine \"\"Kate\"\"\"', Sex='female', Age=None, SibSp=1, Parch=0, Ticket='367230', Fare=15.5, Cabin=None, Embarked='Q'), Row(PassengerId=247, Survived=0, Pclass=3, Name='Lindahl, Miss. Agda Thorilda Viktoria', Sex='female', Age=25.0, SibSp=0, Parch=0, Ticket='347071', Fare=7.775, Cabin=None, Embarked='S'), Row(PassengerId=248, Survived=1, Pclass=2, Name='Hamalainen, Mrs. William (Anna)', Sex='female', Age=24.0, SibSp=0, Parch=2, Ticket='250649', Fare=14.5, Cabin=None, Embarked='S'), Row(PassengerId=252, Survived=0, Pclass=3, Name='Strom, Mrs. Wilhelm (Elna Matilda Persson)', Sex='female', Age=29.0, SibSp=1, Parch=1, Ticket='347054', Fare=10.4625, Cabin='G6', Embarked='S'), Row(PassengerId=255, Survived=0, Pclass=3, Name='Rosblom, Mrs. Viktor (Helena Wilhelmina)', Sex='female', Age=41.0, SibSp=0, Parch=2, Ticket='370129', Fare=20.2125, Cabin=None, Embarked='S'), Row(PassengerId=256, Survived=1, Pclass=3, Name='Touma, Mrs. Darwis (Hanne Youssef Razi)', Sex='female', Age=29.0, SibSp=0, Parch=2, Ticket='2650', Fare=15.2458, Cabin=None, Embarked='C'), Row(PassengerId=257, Survived=1, Pclass=1, Name='Thorne, Mrs. Gertrude Maybelle', Sex='female', Age=None, SibSp=0, Parch=0, Ticket='PC 17585', Fare=79.2, Cabin=None, Embarked='C'), Row(PassengerId=258, Survived=1, Pclass=1, Name='Cherry, Miss. Gladys', Sex='female', Age=30.0, SibSp=0, Parch=0, Ticket='110152', Fare=86.5, Cabin='B77', Embarked='S'), Row(PassengerId=259, Survived=1, Pclass=1, Name='Ward, Miss. Anna', Sex='female', Age=35.0, SibSp=0, Parch=0, Ticket='PC 17755', Fare=512.3292, Cabin=None, Embarked='C'), Row(PassengerId=260, Survived=1, Pclass=2, Name='Parrish, Mrs. (Lutie Davis)', Sex='female', Age=50.0, SibSp=0, Parch=1, Ticket='230433', Fare=26.0, Cabin=None, Embarked='S'), Row(PassengerId=265, Survived=0, Pclass=3, Name='Henry, Miss. Delia', Sex='female', Age=None, SibSp=0, Parch=0, Ticket='382649', Fare=7.75, Cabin=None, Embarked='Q'), Row(PassengerId=269, Survived=1, Pclass=1, Name='Graham, Mrs. William Thompson (Edith Junkins)', Sex='female', Age=58.0, SibSp=0, Parch=1, Ticket='PC 17582', Fare=153.4625, Cabin='C125', Embarked='S'), Row(PassengerId=270, Survived=1, Pclass=1, Name='Bissette, Miss. Amelia', Sex='female', Age=35.0, SibSp=0, Parch=0, Ticket='PC 17760', Fare=135.6333, Cabin='C99', Embarked='S'), Row(PassengerId=273, Survived=1, Pclass=2, Name='Mellinger, Mrs. (Elizabeth Anne Maidment)', Sex='female', Age=41.0, SibSp=0, Parch=1, Ticket='250644', Fare=19.5, Cabin=None, Embarked='S'), Row(PassengerId=275, Survived=1, Pclass=3, Name='\"Healy, Miss. Hanora \"\"Nora\"\"\"', Sex='female', Age=None, SibSp=0, Parch=0, Ticket='370375', Fare=7.75, Cabin=None, Embarked='Q'), Row(PassengerId=276, Survived=1, Pclass=1, Name='Andrews, Miss. Kornelia Theodosia', Sex='female', Age=63.0, SibSp=1, Parch=0, Ticket='13502', Fare=77.9583, Cabin='D7', Embarked='S'), Row(PassengerId=277, Survived=0, Pclass=3, Name='Lindblom, Miss. Augusta Charlotta', Sex='female', Age=45.0, SibSp=0, Parch=0, Ticket='347073', Fare=7.75, Cabin=None, Embarked='S'), Row(PassengerId=280, Survived=1, Pclass=3, Name='Abbott, Mrs. Stanton (Rosa Hunt)', Sex='female', Age=35.0, SibSp=1, Parch=1, Ticket='C.A. 2673', Fare=20.25, Cabin=None, Embarked='S'), Row(PassengerId=290, Survived=1, Pclass=3, Name='Connolly, Miss. Kate', Sex='female', Age=22.0, SibSp=0, Parch=0, Ticket='370373', Fare=7.75, Cabin=None, Embarked='Q'), Row(PassengerId=291, Survived=1, Pclass=1, Name='\"Barber, Miss. Ellen \"\"Nellie\"\"\"', Sex='female', Age=26.0, SibSp=0, Parch=0, Ticket='19877', Fare=78.85, Cabin=None, Embarked='S'), Row(PassengerId=292, Survived=1, Pclass=1, Name='Bishop, Mrs. Dickinson H (Helen Walton)', Sex='female', Age=19.0, SibSp=1, Parch=0, Ticket='11967', Fare=91.0792, Cabin='B49', Embarked='C'), Row(PassengerId=294, Survived=0, Pclass=3, Name='Haas, Miss. Aloisia', Sex='female', Age=24.0, SibSp=0, Parch=0, Ticket='349236', Fare=8.85, Cabin=None, Embarked='S'), Row(PassengerId=298, Survived=0, Pclass=1, Name='Allison, Miss. Helen Loraine', Sex='female', Age=2.0, SibSp=1, Parch=2, Ticket='113781', Fare=151.55, Cabin='C22 C26', Embarked='S'), Row(PassengerId=300, Survived=1, Pclass=1, Name='Baxter, Mrs. James (Helene DeLaudeniere Chaput)', Sex='female', Age=50.0, SibSp=0, Parch=1, Ticket='PC 17558', Fare=247.5208, Cabin='B58 B60', Embarked='C'), Row(PassengerId=301, Survived=1, Pclass=3, Name='\"Kelly, Miss. Anna Katherine \"\"Annie Kate\"\"\"', Sex='female', Age=None, SibSp=0, Parch=0, Ticket='9234', Fare=7.75, Cabin=None, Embarked='Q'), Row(PassengerId=304, Survived=1, Pclass=2, Name='Keane, Miss. Nora A', Sex='female', Age=None, SibSp=0, Parch=0, Ticket='226593', Fare=12.35, Cabin='E101', Embarked='Q'), Row(PassengerId=307, Survived=1, Pclass=1, Name='Fleming, Miss. Margaret', Sex='female', Age=None, SibSp=0, Parch=0, Ticket='17421', Fare=110.8833, Cabin=None, Embarked='C'), Row(PassengerId=308, Survived=1, Pclass=1, Name='Penasco y Castellana, Mrs. Victor de Satode (Maria Josefa Perez de Soto y Vallejo)', Sex='female', Age=17.0, SibSp=1, Parch=0, Ticket='PC 17758', Fare=108.9, Cabin='C65', Embarked='C'), Row(PassengerId=310, Survived=1, Pclass=1, Name='Francatelli, Miss. Laura Mabel', Sex='female', Age=30.0, SibSp=0, Parch=0, Ticket='PC 17485', Fare=56.9292, Cabin='E36', Embarked='C'), Row(PassengerId=311, Survived=1, Pclass=1, Name='Hays, Miss. Margaret Bechstein', Sex='female', Age=24.0, SibSp=0, Parch=0, Ticket='11767', Fare=83.1583, Cabin='C54', Embarked='C'), Row(PassengerId=312, Survived=1, Pclass=1, Name='Ryerson, Miss. Emily Borie', Sex='female', Age=18.0, SibSp=2, Parch=2, Ticket='PC 17608', Fare=262.375, Cabin='B57 B59 B63 B66', Embarked='C'), Row(PassengerId=313, Survived=0, Pclass=2, Name='Lahtinen, Mrs. William (Anna Sylfven)', Sex='female', Age=26.0, SibSp=1, Parch=1, Ticket='250651', Fare=26.0, Cabin=None, Embarked='S'), Row(PassengerId=316, Survived=1, Pclass=3, Name='Nilsson, Miss. Helmina Josefina', Sex='female', Age=26.0, SibSp=0, Parch=0, Ticket='347470', Fare=7.8542, Cabin=None, Embarked='S'), Row(PassengerId=317, Survived=1, Pclass=2, Name='Kantor, Mrs. Sinai (Miriam Sternin)', Sex='female', Age=24.0, SibSp=1, Parch=0, Ticket='244367', Fare=26.0, Cabin=None, Embarked='S'), Row(PassengerId=319, Survived=1, Pclass=1, Name='Wick, Miss. Mary Natalie', Sex='female', Age=31.0, SibSp=0, Parch=2, Ticket='36928', Fare=164.8667, Cabin='C7', Embarked='S'), Row(PassengerId=320, Survived=1, Pclass=1, Name='Spedden, Mrs. Frederic Oakley (Margaretta Corning Stone)', Sex='female', Age=40.0, SibSp=1, Parch=1, Ticket='16966', Fare=134.5, Cabin='E34', Embarked='C'), Row(PassengerId=323, Survived=1, Pclass=2, Name='Slayter, Miss. Hilda Mary', Sex='female', Age=30.0, SibSp=0, Parch=0, Ticket='234818', Fare=12.35, Cabin=None, Embarked='Q'), Row(PassengerId=324, Survived=1, Pclass=2, Name='Caldwell, Mrs. Albert Francis (Sylvia Mae Harbaugh)', Sex='female', Age=22.0, SibSp=1, Parch=1, Ticket='248738', Fare=29.0, Cabin=None, Embarked='S'), Row(PassengerId=326, Survived=1, Pclass=1, Name='Young, Miss. Marie Grice', Sex='female', Age=36.0, SibSp=0, Parch=0, Ticket='PC 17760', Fare=135.6333, Cabin='C32', Embarked='C'), Row(PassengerId=328, Survived=1, Pclass=2, Name='Ball, Mrs. (Ada E Hall)', Sex='female', Age=36.0, SibSp=0, Parch=0, Ticket='28551', Fare=13.0, Cabin='D', Embarked='S'), Row(PassengerId=329, Survived=1, Pclass=3, Name='Goldsmith, Mrs. Frank John (Emily Alice Brown)', Sex='female', Age=31.0, SibSp=1, Parch=1, Ticket='363291', Fare=20.525, Cabin=None, Embarked='S'), Row(PassengerId=330, Survived=1, Pclass=1, Name='Hippach, Miss. Jean Gertrude', Sex='female', Age=16.0, SibSp=0, Parch=1, Ticket='111361', Fare=57.9792, Cabin='B18', Embarked='C'), Row(PassengerId=331, Survived=1, Pclass=3, Name='McCoy, Miss. Agnes', Sex='female', Age=None, SibSp=2, Parch=0, Ticket='367226', Fare=23.25, Cabin=None, Embarked='Q'), Row(PassengerId=335, Survived=1, Pclass=1, Name='Frauenthal, Mrs. Henry William (Clara Heinsheimer)', Sex='female', Age=None, SibSp=1, Parch=0, Ticket='PC 17611', Fare=133.65, Cabin=None, Embarked='S'), Row(PassengerId=338, Survived=1, Pclass=1, Name='Burns, Miss. Elizabeth Margaret', Sex='female', Age=41.0, SibSp=0, Parch=0, Ticket='16966', Fare=134.5, Cabin='E40', Embarked='C'), Row(PassengerId=342, Survived=1, Pclass=1, Name='Fortune, Miss. Alice Elizabeth', Sex='female', Age=24.0, SibSp=3, Parch=2, Ticket='19950', Fare=263.0, Cabin='C23 C25 C27', Embarked='S'), Row(PassengerId=346, Survived=1, Pclass=2, Name='\"Brown, Miss. Amelia \"\"Mildred\"\"\"', Sex='female', Age=24.0, SibSp=0, Parch=0, Ticket='248733', Fare=13.0, Cabin='F33', Embarked='S'), Row(PassengerId=347, Survived=1, Pclass=2, Name='Smith, Miss. Marion Elsie', Sex='female', Age=40.0, SibSp=0, Parch=0, Ticket='31418', Fare=13.0, Cabin=None, Embarked='S'), Row(PassengerId=348, Survived=1, Pclass=3, Name='Davison, Mrs. Thomas Henry (Mary E Finck)', Sex='female', Age=None, SibSp=1, Parch=0, Ticket='386525', Fare=16.1, Cabin=None, Embarked='S'), Row(PassengerId=357, Survived=1, Pclass=1, Name='Bowerman, Miss. Elsie Edith', Sex='female', Age=22.0, SibSp=0, Parch=1, Ticket='113505', Fare=55.0, Cabin='E33', Embarked='S'), Row(PassengerId=358, Survived=0, Pclass=2, Name='Funk, Miss. Annie Clemmer', Sex='female', Age=38.0, SibSp=0, Parch=0, Ticket='237671', Fare=13.0, Cabin=None, Embarked='S'), Row(PassengerId=359, Survived=1, Pclass=3, Name='McGovern, Miss. Mary', Sex='female', Age=None, SibSp=0, Parch=0, Ticket='330931', Fare=7.8792, Cabin=None, Embarked='Q'), Row(PassengerId=360, Survived=1, Pclass=3, Name='\"Mockler, Miss. Helen Mary \"\"Ellie\"\"\"', Sex='female', Age=None, SibSp=0, Parch=0, Ticket='330980', Fare=7.8792, Cabin=None, Embarked='Q'), Row(PassengerId=363, Survived=0, Pclass=3, Name='Barbara, Mrs. (Catherine David)', Sex='female', Age=45.0, SibSp=0, Parch=1, Ticket='2691', Fare=14.4542, Cabin=None, Embarked='C'), Row(PassengerId=367, Survived=1, Pclass=1, Name='Warren, Mrs. Frank Manley (Anna Sophia Atkinson)', Sex='female', Age=60.0, SibSp=1, Parch=0, Ticket='110813', Fare=75.25, Cabin='D37', Embarked='C'), Row(PassengerId=368, Survived=1, Pclass=3, Name='Moussa, Mrs. (Mantoura Boulos)', Sex='female', Age=None, SibSp=0, Parch=0, Ticket='2626', Fare=7.2292, Cabin=None, Embarked='C'), Row(PassengerId=369, Survived=1, Pclass=3, Name='Jermyn, Miss. Annie', Sex='female', Age=None, SibSp=0, Parch=0, Ticket='14313', Fare=7.75, Cabin=None, Embarked='Q'), Row(PassengerId=370, Survived=1, Pclass=1, Name='Aubart, Mme. Leontine Pauline', Sex='female', Age=24.0, SibSp=0, Parch=0, Ticket='PC 17477', Fare=69.3, Cabin='B35', Embarked='C'), Row(PassengerId=375, Survived=0, Pclass=3, Name='Palsson, Miss. Stina Viola', Sex='female', Age=3.0, SibSp=3, Parch=1, Ticket='349909', Fare=21.075, Cabin=None, Embarked='S'), Row(PassengerId=376, Survived=1, Pclass=1, Name='Meyer, Mrs. Edgar Joseph (Leila Saks)', Sex='female', Age=None, SibSp=1, Parch=0, Ticket='PC 17604', Fare=82.1708, Cabin=None, Embarked='C'), Row(PassengerId=377, Survived=1, Pclass=3, Name='Landergren, Miss. Aurora Adelia', Sex='female', Age=22.0, SibSp=0, Parch=0, Ticket='C 7077', Fare=7.25, Cabin=None, Embarked='S'), Row(PassengerId=381, Survived=1, Pclass=1, Name='Bidois, Miss. Rosalie', Sex='female', Age=42.0, SibSp=0, Parch=0, Ticket='PC 17757', Fare=227.525, Cabin=None, Embarked='C'), Row(PassengerId=382, Survived=1, Pclass=3, Name='\"Nakid, Miss. Maria (\"\"Mary\"\")\"', Sex='female', Age=1.0, SibSp=0, Parch=2, Ticket='2653', Fare=15.7417, Cabin=None, Embarked='C'), Row(PassengerId=384, Survived=1, Pclass=1, Name='Holverson, Mrs. Alexander Oskar (Mary Aline Towner)', Sex='female', Age=35.0, SibSp=1, Parch=0, Ticket='113789', Fare=52.0, Cabin=None, Embarked='S'), Row(PassengerId=388, Survived=1, Pclass=2, Name='Buss, Miss. Kate', Sex='female', Age=36.0, SibSp=0, Parch=0, Ticket='27849', Fare=13.0, Cabin=None, Embarked='S'), Row(PassengerId=390, Survived=1, Pclass=2, Name='Lehmann, Miss. Bertha', Sex='female', Age=17.0, SibSp=0, Parch=0, Ticket='SC 1748', Fare=12.0, Cabin=None, Embarked='C'), Row(PassengerId=394, Survived=1, Pclass=1, Name='Newell, Miss. Marjorie', Sex='female', Age=23.0, SibSp=1, Parch=0, Ticket='35273', Fare=113.275, Cabin='D36', Embarked='C'), Row(PassengerId=395, Survived=1, Pclass=3, Name='Sandstrom, Mrs. Hjalmar (Agnes Charlotta Bengtsson)', Sex='female', Age=24.0, SibSp=0, Parch=2, Ticket='PP 9549', Fare=16.7, Cabin='G6', Embarked='S'), Row(PassengerId=397, Survived=0, Pclass=3, Name='Olsson, Miss. Elina', Sex='female', Age=31.0, SibSp=0, Parch=0, Ticket='350407', Fare=7.8542, Cabin=None, Embarked='S'), Row(PassengerId=400, Survived=1, Pclass=2, Name='Trout, Mrs. William H (Jessie L)', Sex='female', Age=28.0, SibSp=0, Parch=0, Ticket='240929', Fare=12.65, Cabin=None, Embarked='S'), Row(PassengerId=403, Survived=0, Pclass=3, Name='Jussila, Miss. Mari Aina', Sex='female', Age=21.0, SibSp=1, Parch=0, Ticket='4137', Fare=9.825, Cabin=None, Embarked='S'), Row(PassengerId=405, Survived=0, Pclass=3, Name='Oreskovic, Miss. Marija', Sex='female', Age=20.0, SibSp=0, Parch=0, Ticket='315096', Fare=8.6625, Cabin=None, Embarked='S'), Row(PassengerId=410, Survived=0, Pclass=3, Name='Lefebre, Miss. Ida', Sex='female', Age=None, SibSp=3, Parch=1, Ticket='4133', Fare=25.4667, Cabin=None, Embarked='S'), Row(PassengerId=413, Survived=1, Pclass=1, Name='Minahan, Miss. Daisy E', Sex='female', Age=33.0, SibSp=1, Parch=0, Ticket='19928', Fare=90.0, Cabin='C78', Embarked='Q'), Row(PassengerId=416, Survived=0, Pclass=3, Name='Meek, Mrs. Thomas (Annie Louise Rowley)', Sex='female', Age=None, SibSp=0, Parch=0, Ticket='343095', Fare=8.05, Cabin=None, Embarked='S'), Row(PassengerId=417, Survived=1, Pclass=2, Name='Drew, Mrs. James Vivian (Lulu Thorne Christian)', Sex='female', Age=34.0, SibSp=1, Parch=1, Ticket='28220', Fare=32.5, Cabin=None, Embarked='S'), Row(PassengerId=418, Survived=1, Pclass=2, Name='Silven, Miss. Lyyli Karoliina', Sex='female', Age=18.0, SibSp=0, Parch=2, Ticket='250652', Fare=13.0, Cabin=None, Embarked='S'), Row(PassengerId=420, Survived=0, Pclass=3, Name='Van Impe, Miss. Catharina', Sex='female', Age=10.0, SibSp=0, Parch=2, Ticket='345773', Fare=24.15, Cabin=None, Embarked='S'), Row(PassengerId=424, Survived=0, Pclass=3, Name='Danbom, Mrs. Ernst Gilbert (Anna Sigrid Maria Brogren)', Sex='female', Age=28.0, SibSp=1, Parch=1, Ticket='347080', Fare=14.4, Cabin=None, Embarked='S'), Row(PassengerId=427, Survived=1, Pclass=2, Name='Clarke, Mrs. Charles V (Ada Maria Winfield)', Sex='female', Age=28.0, SibSp=1, Parch=0, Ticket='2003', Fare=26.0, Cabin=None, Embarked='S'), Row(PassengerId=428, Survived=1, Pclass=2, Name='\"Phillips, Miss. Kate Florence (\"\"Mrs Kate Louise Phillips Marshall\"\")\"', Sex='female', Age=19.0, SibSp=0, Parch=0, Ticket='250655', Fare=26.0, Cabin=None, Embarked='S'), Row(PassengerId=432, Survived=1, Pclass=3, Name='Thorneycroft, Mrs. Percival (Florence Kate White)', Sex='female', Age=None, SibSp=1, Parch=0, Ticket='376564', Fare=16.1, Cabin=None, Embarked='S'), Row(PassengerId=433, Survived=1, Pclass=2, Name='Louch, Mrs. Charles Alexander (Alice Adelaide Slow)', Sex='female', Age=42.0, SibSp=1, Parch=0, Ticket='SC/AH 3085', Fare=26.0, Cabin=None, Embarked='S'), Row(PassengerId=436, Survived=1, Pclass=1, Name='Carter, Miss. Lucile Polk', Sex='female', Age=14.0, SibSp=1, Parch=2, Ticket='113760', Fare=120.0, Cabin='B96 B98', Embarked='S'), Row(PassengerId=437, Survived=0, Pclass=3, Name='\"Ford, Miss. Doolina Margaret \"\"Daisy\"\"\"', Sex='female', Age=21.0, SibSp=2, Parch=2, Ticket='W./C. 6608', Fare=34.375, Cabin=None, Embarked='S'), Row(PassengerId=438, Survived=1, Pclass=2, Name='Richards, Mrs. Sidney (Emily Hocking)', Sex='female', Age=24.0, SibSp=2, Parch=3, Ticket='29106', Fare=18.75, Cabin=None, Embarked='S'), Row(PassengerId=441, Survived=1, Pclass=2, Name='Hart, Mrs. Benjamin (Esther Ada Bloomfield)', Sex='female', Age=45.0, SibSp=1, Parch=1, Ticket='F.C.C. 13529', Fare=26.25, Cabin=None, Embarked='S'), Row(PassengerId=444, Survived=1, Pclass=2, Name='Reynaldo, Ms. Encarnacion', Sex='female', Age=28.0, SibSp=0, Parch=0, Ticket='230434', Fare=13.0, Cabin=None, Embarked='S'), Row(PassengerId=447, Survived=1, Pclass=2, Name='Mellinger, Miss. Madeleine Violet', Sex='female', Age=13.0, SibSp=0, Parch=1, Ticket='250644', Fare=19.5, Cabin=None, Embarked='S'), Row(PassengerId=449, Survived=1, Pclass=3, Name='Baclini, Miss. Marie Catherine', Sex='female', Age=5.0, SibSp=2, Parch=1, Ticket='2666', Fare=19.2583, Cabin=None, Embarked='C'), Row(PassengerId=458, Survived=1, Pclass=1, Name='Kenyon, Mrs. Frederick R (Marion)', Sex='female', Age=None, SibSp=1, Parch=0, Ticket='17464', Fare=51.8625, Cabin='D21', Embarked='S'), Row(PassengerId=459, Survived=1, Pclass=2, Name='Toomey, Miss. Ellen', Sex='female', Age=50.0, SibSp=0, Parch=0, Ticket='F.C.C. 13531', Fare=10.5, Cabin=None, Embarked='S'), Row(PassengerId=470, Survived=1, Pclass=3, Name='Baclini, Miss. Helene Barbara', Sex='female', Age=0.75, SibSp=2, Parch=1, Ticket='2666', Fare=19.2583, Cabin=None, Embarked='C'), Row(PassengerId=473, Survived=1, Pclass=2, Name='West, Mrs. Edwy Arthur (Ada Mary Worth)', Sex='female', Age=33.0, SibSp=1, Parch=2, Ticket='C.A. 34651', Fare=27.75, Cabin=None, Embarked='S'), Row(PassengerId=474, Survived=1, Pclass=2, Name='Jerwan, Mrs. Amin S (Marie Marthe Thuillard)', Sex='female', Age=23.0, SibSp=0, Parch=0, Ticket='SC/AH Basle 541', Fare=13.7917, Cabin='D', Embarked='C'), Row(PassengerId=475, Survived=0, Pclass=3, Name='Strandberg, Miss. Ida Sofia', Sex='female', Age=22.0, SibSp=0, Parch=0, Ticket='7553', Fare=9.8375, Cabin=None, Embarked='S'), Row(PassengerId=480, Survived=1, Pclass=3, Name='Hirvonen, Miss. Hildur E', Sex='female', Age=2.0, SibSp=0, Parch=1, Ticket='3101298', Fare=12.2875, Cabin=None, Embarked='S'), Row(PassengerId=484, Survived=1, Pclass=3, Name='Turkula, Mrs. (Hedwig)', Sex='female', Age=63.0, SibSp=0, Parch=0, Ticket='4134', Fare=9.5875, Cabin=None, Embarked='S'), Row(PassengerId=486, Survived=0, Pclass=3, Name='Lefebre, Miss. Jeannie', Sex='female', Age=None, SibSp=3, Parch=1, Ticket='4133', Fare=25.4667, Cabin=None, Embarked='S'), Row(PassengerId=487, Survived=1, Pclass=1, Name='Hoyt, Mrs. Frederick Maxfield (Jane Anne Forby)', Sex='female', Age=35.0, SibSp=1, Parch=0, Ticket='19943', Fare=90.0, Cabin='C93', Embarked='S'), Row(PassengerId=497, Survived=1, Pclass=1, Name='Eustis, Miss. Elizabeth Mussey', Sex='female', Age=54.0, SibSp=1, Parch=0, Ticket='36947', Fare=78.2667, Cabin='D20', Embarked='C'), Row(PassengerId=499, Survived=0, Pclass=1, Name='Allison, Mrs. Hudson J C (Bessie Waldo Daniels)', Sex='female', Age=25.0, SibSp=1, Parch=2, Ticket='113781', Fare=151.55, Cabin='C22 C26', Embarked='S'), Row(PassengerId=502, Survived=0, Pclass=3, Name='Canavan, Miss. Mary', Sex='female', Age=21.0, SibSp=0, Parch=0, Ticket='364846', Fare=7.75, Cabin=None, Embarked='Q'), Row(PassengerId=503, Survived=0, Pclass=3, Name=\"O'Sullivan, Miss. Bridget Mary\", Sex='female', Age=None, SibSp=0, Parch=0, Ticket='330909', Fare=7.6292, Cabin=None, Embarked='Q'), Row(PassengerId=504, Survived=0, Pclass=3, Name='Laitinen, Miss. Kristina Sofia', Sex='female', Age=37.0, SibSp=0, Parch=0, Ticket='4135', Fare=9.5875, Cabin=None, Embarked='S'), Row(PassengerId=505, Survived=1, Pclass=1, Name='Maioni, Miss. Roberta', Sex='female', Age=16.0, SibSp=0, Parch=0, Ticket='110152', Fare=86.5, Cabin='B79', Embarked='S'), Row(PassengerId=507, Survived=1, Pclass=2, Name='Quick, Mrs. Frederick Charles (Jane Richards)', Sex='female', Age=33.0, SibSp=0, Parch=2, Ticket='26360', Fare=26.0, Cabin=None, Embarked='S'), Row(PassengerId=514, Survived=1, Pclass=1, Name='Rothschild, Mrs. Martin (Elizabeth L. Barrett)', Sex='female', Age=54.0, SibSp=1, Parch=0, Ticket='PC 17603', Fare=59.4, Cabin=None, Embarked='C'), Row(PassengerId=517, Survived=1, Pclass=2, Name='Lemore, Mrs. (Amelia Milley)', Sex='female', Age=34.0, SibSp=0, Parch=0, Ticket='C.A. 34260', Fare=10.5, Cabin='F33', Embarked='S'), Row(PassengerId=519, Survived=1, Pclass=2, Name='\"Angle, Mrs. William A (Florence \"\"Mary\"\" Agnes Hughes)\"', Sex='female', Age=36.0, SibSp=1, Parch=0, Ticket='226875', Fare=26.0, Cabin=None, Embarked='S'), Row(PassengerId=521, Survived=1, Pclass=1, Name='Perreault, Miss. Anne', Sex='female', Age=30.0, SibSp=0, Parch=0, Ticket='12749', Fare=93.5, Cabin='B73', Embarked='S'), Row(PassengerId=524, Survived=1, Pclass=1, Name='Hippach, Mrs. Louis Albert (Ida Sophia Fischer)', Sex='female', Age=44.0, SibSp=0, Parch=1, Ticket='111361', Fare=57.9792, Cabin='B18', Embarked='C'), Row(PassengerId=527, Survived=1, Pclass=2, Name='Ridsdale, Miss. Lucy', Sex='female', Age=50.0, SibSp=0, Parch=0, Ticket='W./C. 14258', Fare=10.5, Cabin=None, Embarked='S'), Row(PassengerId=531, Survived=1, Pclass=2, Name='Quick, Miss. Phyllis May', Sex='female', Age=2.0, SibSp=1, Parch=1, Ticket='26360', Fare=26.0, Cabin=None, Embarked='S'), Row(PassengerId=534, Survived=1, Pclass=3, Name='Peter, Mrs. Catherine (Catherine Rizk)', Sex='female', Age=None, SibSp=0, Parch=2, Ticket='2668', Fare=22.3583, Cabin=None, Embarked='C'), Row(PassengerId=535, Survived=0, Pclass=3, Name='Cacic, Miss. Marija', Sex='female', Age=30.0, SibSp=0, Parch=0, Ticket='315084', Fare=8.6625, Cabin=None, Embarked='S'), Row(PassengerId=536, Survived=1, Pclass=2, Name='Hart, Miss. Eva Miriam', Sex='female', Age=7.0, SibSp=0, Parch=2, Ticket='F.C.C. 13529', Fare=26.25, Cabin=None, Embarked='S'), Row(PassengerId=538, Survived=1, Pclass=1, Name='LeRoy, Miss. Bertha', Sex='female', Age=30.0, SibSp=0, Parch=0, Ticket='PC 17761', Fare=106.425, Cabin=None, Embarked='C'), Row(PassengerId=540, Survived=1, Pclass=1, Name='Frolicher, Miss. Hedwig Margaritha', Sex='female', Age=22.0, SibSp=0, Parch=2, Ticket='13568', Fare=49.5, Cabin='B39', Embarked='C'), Row(PassengerId=541, Survived=1, Pclass=1, Name='Crosby, Miss. Harriet R', Sex='female', Age=36.0, SibSp=0, Parch=2, Ticket='WE/P 5735', Fare=71.0, Cabin='B22', Embarked='S'), Row(PassengerId=542, Survived=0, Pclass=3, Name='Andersson, Miss. Ingeborg Constanzia', Sex='female', Age=9.0, SibSp=4, Parch=2, Ticket='347082', Fare=31.275, Cabin=None, Embarked='S'), Row(PassengerId=543, Survived=0, Pclass=3, Name='Andersson, Miss. Sigrid Elisabeth', Sex='female', Age=11.0, SibSp=4, Parch=2, Ticket='347082', Fare=31.275, Cabin=None, Embarked='S'), Row(PassengerId=547, Survived=1, Pclass=2, Name='Beane, Mrs. Edward (Ethel Clarke)', Sex='female', Age=19.0, SibSp=1, Parch=0, Ticket='2908', Fare=26.0, Cabin=None, Embarked='S'), Row(PassengerId=555, Survived=1, Pclass=3, Name='Ohman, Miss. Velin', Sex='female', Age=22.0, SibSp=0, Parch=0, Ticket='347085', Fare=7.775, Cabin=None, Embarked='S'), Row(PassengerId=557, Survived=1, Pclass=1, Name='\"Duff Gordon, Lady. (Lucille Christiana Sutherland) (\"\"Mrs Morgan\"\")\"', Sex='female', Age=48.0, SibSp=1, Parch=0, Ticket='11755', Fare=39.6, Cabin='A16', Embarked='C'), Row(PassengerId=559, Survived=1, Pclass=1, Name='Taussig, Mrs. Emil (Tillie Mandelbaum)', Sex='female', Age=39.0, SibSp=1, Parch=1, Ticket='110413', Fare=79.65, Cabin='E67', Embarked='S'), Row(PassengerId=560, Survived=1, Pclass=3, Name='de Messemaeker, Mrs. Guillaume Joseph (Emma)', Sex='female', Age=36.0, SibSp=1, Parch=0, Ticket='345572', Fare=17.4, Cabin=None, Embarked='S'), Row(PassengerId=565, Survived=0, Pclass=3, Name='Meanwell, Miss. (Marion Ogden)', Sex='female', Age=None, SibSp=0, Parch=0, Ticket='SOTON/O.Q. 392087', Fare=8.05, Cabin=None, Embarked='S'), Row(PassengerId=568, Survived=0, Pclass=3, Name='Palsson, Mrs. Nils (Alma Cornelia Berglund)', Sex='female', Age=29.0, SibSp=0, Parch=4, Ticket='349909', Fare=21.075, Cabin=None, Embarked='S'), Row(PassengerId=572, Survived=1, Pclass=1, Name='Appleton, Mrs. Edward Dale (Charlotte Lamson)', Sex='female', Age=53.0, SibSp=2, Parch=0, Ticket='11769', Fare=51.4792, Cabin='C101', Embarked='S'), Row(PassengerId=574, Survived=1, Pclass=3, Name='Kelly, Miss. Mary', Sex='female', Age=None, SibSp=0, Parch=0, Ticket='14312', Fare=7.75, Cabin=None, Embarked='Q'), Row(PassengerId=577, Survived=1, Pclass=2, Name='Garside, Miss. Ethel', Sex='female', Age=34.0, SibSp=0, Parch=0, Ticket='243880', Fare=13.0, Cabin=None, Embarked='S'), Row(PassengerId=578, Survived=1, Pclass=1, Name='Silvey, Mrs. William Baird (Alice Munger)', Sex='female', Age=39.0, SibSp=1, Parch=0, Ticket='13507', Fare=55.9, Cabin='E44', Embarked='S'), Row(PassengerId=579, Survived=0, Pclass=3, Name='Caram, Mrs. Joseph (Maria Elias)', Sex='female', Age=None, SibSp=1, Parch=0, Ticket='2689', Fare=14.4583, Cabin=None, Embarked='C'), Row(PassengerId=581, Survived=1, Pclass=2, Name='Christy, Miss. Julie Rachel', Sex='female', Age=25.0, SibSp=1, Parch=1, Ticket='237789', Fare=30.0, Cabin=None, Embarked='S'), Row(PassengerId=582, Survived=1, Pclass=1, Name='Thayer, Mrs. John Borland (Marian Longstreth Morris)', Sex='female', Age=39.0, SibSp=1, Parch=1, Ticket='17421', Fare=110.8833, Cabin='C68', Embarked='C'), Row(PassengerId=586, Survived=1, Pclass=1, Name='Taussig, Miss. Ruth', Sex='female', Age=18.0, SibSp=0, Parch=2, Ticket='110413', Fare=79.65, Cabin='E68', Embarked='S'), Row(PassengerId=592, Survived=1, Pclass=1, Name='Stephenson, Mrs. Walter Bertram (Martha Eustis)', Sex='female', Age=52.0, SibSp=1, Parch=0, Ticket='36947', Fare=78.2667, Cabin='D20', Embarked='C'), Row(PassengerId=594, Survived=0, Pclass=3, Name='Bourke, Miss. Mary', Sex='female', Age=None, SibSp=0, Parch=2, Ticket='364848', Fare=7.75, Cabin=None, Embarked='Q'), Row(PassengerId=597, Survived=1, Pclass=2, Name='Leitch, Miss. Jessie Wills', Sex='female', Age=None, SibSp=0, Parch=0, Ticket='248727', Fare=33.0, Cabin=None, Embarked='S'), Row(PassengerId=601, Survived=1, Pclass=2, Name='Jacobsohn, Mrs. Sidney Samuel (Amy Frances Christy)', Sex='female', Age=24.0, SibSp=2, Parch=1, Ticket='243847', Fare=27.0, Cabin=None, Embarked='S'), Row(PassengerId=609, Survived=1, Pclass=2, Name='Laroche, Mrs. Joseph (Juliette Marie Louise Lafargue)', Sex='female', Age=22.0, SibSp=1, Parch=2, Ticket='SC/Paris 2123', Fare=41.5792, Cabin=None, Embarked='C'), Row(PassengerId=610, Survived=1, Pclass=1, Name='Shutes, Miss. Elizabeth W', Sex='female', Age=40.0, SibSp=0, Parch=0, Ticket='PC 17582', Fare=153.4625, Cabin='C125', Embarked='S'), Row(PassengerId=611, Survived=0, Pclass=3, Name='Andersson, Mrs. Anders Johan (Alfrida Konstantia Brogren)', Sex='female', Age=39.0, SibSp=1, Parch=5, Ticket='347082', Fare=31.275, Cabin=None, Embarked='S'), Row(PassengerId=613, Survived=1, Pclass=3, Name='Murphy, Miss. Margaret Jane', Sex='female', Age=None, SibSp=1, Parch=0, Ticket='367230', Fare=15.5, Cabin=None, Embarked='Q'), Row(PassengerId=616, Survived=1, Pclass=2, Name='Herman, Miss. Alice', Sex='female', Age=24.0, SibSp=1, Parch=2, Ticket='220845', Fare=65.0, Cabin=None, Embarked='S'), Row(PassengerId=618, Survived=0, Pclass=3, Name='Lobb, Mrs. William Arthur (Cordelia K Stanlick)', Sex='female', Age=26.0, SibSp=1, Parch=0, Ticket='A/5. 3336', Fare=16.1, Cabin=None, Embarked='S'), Row(PassengerId=619, Survived=1, Pclass=2, Name='Becker, Miss. Marion Louise', Sex='female', Age=4.0, SibSp=2, Parch=1, Ticket='230136', Fare=39.0, Cabin='F4', Embarked='S'), Row(PassengerId=628, Survived=1, Pclass=1, Name='Longley, Miss. Gretchen Fiske', Sex='female', Age=21.0, SibSp=0, Parch=0, Ticket='13502', Fare=77.9583, Cabin='D9', Embarked='S'), Row(PassengerId=635, Survived=0, Pclass=3, Name='Skoog, Miss. Mabel', Sex='female', Age=9.0, SibSp=3, Parch=2, Ticket='347088', Fare=27.9, Cabin=None, Embarked='S'), Row(PassengerId=636, Survived=1, Pclass=2, Name='Davis, Miss. Mary', Sex='female', Age=28.0, SibSp=0, Parch=0, Ticket='237668', Fare=13.0, Cabin=None, Embarked='S'), Row(PassengerId=639, Survived=0, Pclass=3, Name='Panula, Mrs. Juha (Maria Emilia Ojala)', Sex='female', Age=41.0, SibSp=0, Parch=5, Ticket='3101295', Fare=39.6875, Cabin=None, Embarked='S'), Row(PassengerId=642, Survived=1, Pclass=1, Name='Sagesser, Mlle. Emma', Sex='female', Age=24.0, SibSp=0, Parch=0, Ticket='PC 17477', Fare=69.3, Cabin='B35', Embarked='C'), Row(PassengerId=643, Survived=0, Pclass=3, Name='Skoog, Miss. Margit Elizabeth', Sex='female', Age=2.0, SibSp=3, Parch=2, Ticket='347088', Fare=27.9, Cabin=None, Embarked='S'), Row(PassengerId=645, Survived=1, Pclass=3, Name='Baclini, Miss. Eugenie', Sex='female', Age=0.75, SibSp=2, Parch=1, Ticket='2666', Fare=19.2583, Cabin=None, Embarked='C'), Row(PassengerId=650, Survived=1, Pclass=3, Name='Stanley, Miss. Amy Zillah Elsie', Sex='female', Age=23.0, SibSp=0, Parch=0, Ticket='CA. 2314', Fare=7.55, Cabin=None, Embarked='S'), Row(PassengerId=652, Survived=1, Pclass=2, Name='Doling, Miss. Elsie', Sex='female', Age=18.0, SibSp=0, Parch=1, Ticket='231919', Fare=23.0, Cabin=None, Embarked='S'), Row(PassengerId=654, Survived=1, Pclass=3, Name='\"O\\'Leary, Miss. Hanora \"\"Norah\"\"\"', Sex='female', Age=None, SibSp=0, Parch=0, Ticket='330919', Fare=7.8292, Cabin=None, Embarked='Q'), Row(PassengerId=655, Survived=0, Pclass=3, Name='\"Hegarty, Miss. Hanora \"\"Nora\"\"\"', Sex='female', Age=18.0, SibSp=0, Parch=0, Ticket='365226', Fare=6.75, Cabin=None, Embarked='Q'), Row(PassengerId=658, Survived=0, Pclass=3, Name='Bourke, Mrs. John (Catherine)', Sex='female', Age=32.0, SibSp=1, Parch=1, Ticket='364849', Fare=15.5, Cabin=None, Embarked='Q'), Row(PassengerId=670, Survived=1, Pclass=1, Name='Taylor, Mrs. Elmer Zebley (Juliet Cummins Wright)', Sex='female', Age=None, SibSp=1, Parch=0, Ticket='19996', Fare=52.0, Cabin='C126', Embarked='S'), Row(PassengerId=671, Survived=1, Pclass=2, Name='Brown, Mrs. Thomas William Solomon (Elizabeth Catherine Ford)', Sex='female', Age=40.0, SibSp=1, Parch=1, Ticket='29750', Fare=39.0, Cabin=None, Embarked='S'), Row(PassengerId=678, Survived=1, Pclass=3, Name='Turja, Miss. Anna Sofia', Sex='female', Age=18.0, SibSp=0, Parch=0, Ticket='4138', Fare=9.8417, Cabin=None, Embarked='S'), Row(PassengerId=679, Survived=0, Pclass=3, Name='Goodwin, Mrs. Frederick (Augusta Tyler)', Sex='female', Age=43.0, SibSp=1, Parch=6, Ticket='CA 2144', Fare=46.9, Cabin=None, Embarked='S'), Row(PassengerId=681, Survived=0, Pclass=3, Name='Peters, Miss. Katie', Sex='female', Age=None, SibSp=0, Parch=0, Ticket='330935', Fare=8.1375, Cabin=None, Embarked='Q'), Row(PassengerId=690, Survived=1, Pclass=1, Name='Madill, Miss. Georgette Alexandra', Sex='female', Age=15.0, SibSp=0, Parch=1, Ticket='24160', Fare=211.3375, Cabin='B5', Embarked='S'), Row(PassengerId=692, Survived=1, Pclass=3, Name='Karun, Miss. Manca', Sex='female', Age=4.0, SibSp=0, Parch=1, Ticket='349256', Fare=13.4167, Cabin=None, Embarked='C'), Row(PassengerId=698, Survived=1, Pclass=3, Name='\"Mullens, Miss. Katherine \"\"Katie\"\"\"', Sex='female', Age=None, SibSp=0, Parch=0, Ticket='35852', Fare=7.7333, Cabin=None, Embarked='Q'), Row(PassengerId=701, Survived=1, Pclass=1, Name='Astor, Mrs. John Jacob (Madeleine Talmadge Force)', Sex='female', Age=18.0, SibSp=1, Parch=0, Ticket='PC 17757', Fare=227.525, Cabin='C62 C64', Embarked='C'), Row(PassengerId=703, Survived=0, Pclass=3, Name='Barbara, Miss. Saiide', Sex='female', Age=18.0, SibSp=0, Parch=1, Ticket='2691', Fare=14.4542, Cabin=None, Embarked='C'), Row(PassengerId=707, Survived=1, Pclass=2, Name='\"Kelly, Mrs. Florence \"\"Fannie\"\"\"', Sex='female', Age=45.0, SibSp=0, Parch=0, Ticket='223596', Fare=13.5, Cabin=None, Embarked='S'), Row(PassengerId=709, Survived=1, Pclass=1, Name='Cleaver, Miss. Alice', Sex='female', Age=22.0, SibSp=0, Parch=0, Ticket='113781', Fare=151.55, Cabin=None, Embarked='S'), Row(PassengerId=711, Survived=1, Pclass=1, Name='\"Mayne, Mlle. Berthe Antonine (\"\"Mrs de Villiers\"\")\"', Sex='female', Age=24.0, SibSp=0, Parch=0, Ticket='PC 17482', Fare=49.5042, Cabin='C90', Embarked='C'), Row(PassengerId=717, Survived=1, Pclass=1, Name='Endres, Miss. Caroline Louise', Sex='female', Age=38.0, SibSp=0, Parch=0, Ticket='PC 17757', Fare=227.525, Cabin='C45', Embarked='C'), Row(PassengerId=718, Survived=1, Pclass=2, Name='\"Troutt, Miss. Edwina Celia \"\"Winnie\"\"\"', Sex='female', Age=27.0, SibSp=0, Parch=0, Ticket='34218', Fare=10.5, Cabin='E101', Embarked='S'), Row(PassengerId=721, Survived=1, Pclass=2, Name='\"Harper, Miss. Annie Jessie \"\"Nina\"\"\"', Sex='female', Age=6.0, SibSp=0, Parch=1, Ticket='248727', Fare=33.0, Cabin=None, Embarked='S'), Row(PassengerId=727, Survived=1, Pclass=2, Name='Renouf, Mrs. Peter Henry (Lillian Jefferys)', Sex='female', Age=30.0, SibSp=3, Parch=0, Ticket='31027', Fare=21.0, Cabin=None, Embarked='S'), Row(PassengerId=728, Survived=1, Pclass=3, Name='Mannion, Miss. Margareth', Sex='female', Age=None, SibSp=0, Parch=0, Ticket='36866', Fare=7.7375, Cabin=None, Embarked='Q'), Row(PassengerId=730, Survived=0, Pclass=3, Name='Ilmakangas, Miss. Pieta Sofia', Sex='female', Age=25.0, SibSp=1, Parch=0, Ticket='STON/O2. 3101271', Fare=7.925, Cabin=None, Embarked='S'), Row(PassengerId=731, Survived=1, Pclass=1, Name='Allen, Miss. Elisabeth Walton', Sex='female', Age=29.0, SibSp=0, Parch=0, Ticket='24160', Fare=211.3375, Cabin='B5', Embarked='S'), Row(PassengerId=737, Survived=0, Pclass=3, Name='Ford, Mrs. Edward (Margaret Ann Watson)', Sex='female', Age=48.0, SibSp=1, Parch=3, Ticket='W./C. 6608', Fare=34.375, Cabin=None, Embarked='S'), Row(PassengerId=743, Survived=1, Pclass=1, Name='\"Ryerson, Miss. Susan Parker \"\"Suzette\"\"\"', Sex='female', Age=21.0, SibSp=2, Parch=2, Ticket='PC 17608', Fare=262.375, Cabin='B57 B59 B63 B66', Embarked='C'), Row(PassengerId=748, Survived=1, Pclass=2, Name='Sinkkonen, Miss. Anna', Sex='female', Age=30.0, SibSp=0, Parch=0, Ticket='250648', Fare=13.0, Cabin=None, Embarked='S'), Row(PassengerId=751, Survived=1, Pclass=2, Name='Wells, Miss. Joan', Sex='female', Age=4.0, SibSp=1, Parch=1, Ticket='29103', Fare=23.0, Cabin=None, Embarked='S'), Row(PassengerId=755, Survived=1, Pclass=2, Name='Herman, Mrs. Samuel (Jane Laver)', Sex='female', Age=48.0, SibSp=1, Parch=2, Ticket='220845', Fare=65.0, Cabin=None, Embarked='S'), Row(PassengerId=760, Survived=1, Pclass=1, Name='Rothes, the Countess. of (Lucy Noel Martha Dyer-Edwards)', Sex='female', Age=33.0, SibSp=0, Parch=0, Ticket='110152', Fare=86.5, Cabin='B77', Embarked='S'), Row(PassengerId=764, Survived=1, Pclass=1, Name='Carter, Mrs. William Ernest (Lucile Polk)', Sex='female', Age=36.0, SibSp=1, Parch=2, Ticket='113760', Fare=120.0, Cabin='B96 B98', Embarked='S'), Row(PassengerId=766, Survived=1, Pclass=1, Name='Hogeboom, Mrs. John C (Anna Andrews)', Sex='female', Age=51.0, SibSp=1, Parch=0, Ticket='13502', Fare=77.9583, Cabin='D11', Embarked='S'), Row(PassengerId=768, Survived=0, Pclass=3, Name='Mangan, Miss. Mary', Sex='female', Age=30.5, SibSp=0, Parch=0, Ticket='364850', Fare=7.75, Cabin=None, Embarked='Q'), Row(PassengerId=773, Survived=0, Pclass=2, Name='Mack, Mrs. (Mary)', Sex='female', Age=57.0, SibSp=0, Parch=0, Ticket='S.O./P.P. 3', Fare=10.5, Cabin='E77', Embarked='S'), Row(PassengerId=775, Survived=1, Pclass=2, Name='Hocking, Mrs. Elizabeth (Eliza Needs)', Sex='female', Age=54.0, SibSp=1, Parch=3, Ticket='29105', Fare=23.0, Cabin=None, Embarked='S'), Row(PassengerId=778, Survived=1, Pclass=3, Name='Emanuel, Miss. Virginia Ethel', Sex='female', Age=5.0, SibSp=0, Parch=0, Ticket='364516', Fare=12.475, Cabin=None, Embarked='S'), Row(PassengerId=780, Survived=1, Pclass=1, Name='Robert, Mrs. Edward Scott (Elisabeth Walton McMillan)', Sex='female', Age=43.0, SibSp=0, Parch=1, Ticket='24160', Fare=211.3375, Cabin='B3', Embarked='S'), Row(PassengerId=781, Survived=1, Pclass=3, Name='Ayoub, Miss. Banoura', Sex='female', Age=13.0, SibSp=0, Parch=0, Ticket='2687', Fare=7.2292, Cabin=None, Embarked='C'), Row(PassengerId=782, Survived=1, Pclass=1, Name='Dick, Mrs. Albert Adrian (Vera Gillespie)', Sex='female', Age=17.0, SibSp=1, Parch=0, Ticket='17474', Fare=57.0, Cabin='B20', Embarked='S'), Row(PassengerId=787, Survived=1, Pclass=3, Name='Sjoblom, Miss. Anna Sofia', Sex='female', Age=18.0, SibSp=0, Parch=0, Ticket='3101265', Fare=7.4958, Cabin=None, Embarked='S'), Row(PassengerId=793, Survived=0, Pclass=3, Name='Sage, Miss. Stella Anna', Sex='female', Age=None, SibSp=8, Parch=2, Ticket='CA. 2343', Fare=69.55, Cabin=None, Embarked='S'), Row(PassengerId=797, Survived=1, Pclass=1, Name='Leader, Dr. Alice (Farnham)', Sex='female', Age=49.0, SibSp=0, Parch=0, Ticket='17465', Fare=25.9292, Cabin='D17', Embarked='S'), Row(PassengerId=798, Survived=1, Pclass=3, Name='Osman, Mrs. Mara', Sex='female', Age=31.0, SibSp=0, Parch=0, Ticket='349244', Fare=8.6833, Cabin=None, Embarked='S'), Row(PassengerId=800, Survived=0, Pclass=3, Name='Van Impe, Mrs. Jean Baptiste (Rosalie Paula Govaert)', Sex='female', Age=30.0, SibSp=1, Parch=1, Ticket='345773', Fare=24.15, Cabin=None, Embarked='S'), Row(PassengerId=802, Survived=1, Pclass=2, Name='Collyer, Mrs. Harvey (Charlotte Annie Tate)', Sex='female', Age=31.0, SibSp=1, Parch=1, Ticket='C.A. 31921', Fare=26.25, Cabin=None, Embarked='S'), Row(PassengerId=808, Survived=0, Pclass=3, Name='Pettersson, Miss. Ellen Natalia', Sex='female', Age=18.0, SibSp=0, Parch=0, Ticket='347087', Fare=7.775, Cabin=None, Embarked='S'), Row(PassengerId=810, Survived=1, Pclass=1, Name='Chambers, Mrs. Norman Campbell (Bertha Griggs)', Sex='female', Age=33.0, SibSp=1, Parch=0, Ticket='113806', Fare=53.1, Cabin='E8', Embarked='S'), Row(PassengerId=814, Survived=0, Pclass=3, Name='Andersson, Miss. Ebba Iris Alfrida', Sex='female', Age=6.0, SibSp=4, Parch=2, Ticket='347082', Fare=31.275, Cabin=None, Embarked='S'), Row(PassengerId=817, Survived=0, Pclass=3, Name='Heininen, Miss. Wendla Maria', Sex='female', Age=23.0, SibSp=0, Parch=0, Ticket='STON/O2. 3101290', Fare=7.925, Cabin=None, Embarked='S'), Row(PassengerId=821, Survived=1, Pclass=1, Name='Hays, Mrs. Charles Melville (Clara Jennings Gregg)', Sex='female', Age=52.0, SibSp=1, Parch=1, Ticket='12749', Fare=93.5, Cabin='B69', Embarked='S'), Row(PassengerId=824, Survived=1, Pclass=3, Name='Moor, Mrs. (Beila)', Sex='female', Age=27.0, SibSp=0, Parch=1, Ticket='392096', Fare=12.475, Cabin='E121', Embarked='S'), Row(PassengerId=830, Survived=1, Pclass=1, Name='Stone, Mrs. George Nelson (Martha Evelyn)', Sex='female', Age=62.0, SibSp=0, Parch=0, Ticket='113572', Fare=80.0, Cabin='B28', Embarked=None), Row(PassengerId=831, Survived=1, Pclass=3, Name='Yasbeck, Mrs. Antoni (Selini Alexander)', Sex='female', Age=15.0, SibSp=1, Parch=0, Ticket='2659', Fare=14.4542, Cabin=None, Embarked='C'), Row(PassengerId=836, Survived=1, Pclass=1, Name='Compton, Miss. Sara Rebecca', Sex='female', Age=39.0, SibSp=1, Parch=1, Ticket='PC 17756', Fare=83.1583, Cabin='E49', Embarked='C'), Row(PassengerId=843, Survived=1, Pclass=1, Name='Serepeca, Miss. Augusta', Sex='female', Age=30.0, SibSp=0, Parch=0, Ticket='113798', Fare=31.0, Cabin=None, Embarked='C'), Row(PassengerId=850, Survived=1, Pclass=1, Name='Goldenberg, Mrs. Samuel L (Edwiga Grabowska)', Sex='female', Age=None, SibSp=1, Parch=0, Ticket='17453', Fare=89.1042, Cabin='C92', Embarked='C'), Row(PassengerId=853, Survived=0, Pclass=3, Name='Boulos, Miss. Nourelain', Sex='female', Age=9.0, SibSp=1, Parch=1, Ticket='2678', Fare=15.2458, Cabin=None, Embarked='C'), Row(PassengerId=854, Survived=1, Pclass=1, Name='Lines, Miss. Mary Conover', Sex='female', Age=16.0, SibSp=0, Parch=1, Ticket='PC 17592', Fare=39.4, Cabin='D28', Embarked='S'), Row(PassengerId=855, Survived=0, Pclass=2, Name='Carter, Mrs. Ernest Courtenay (Lilian Hughes)', Sex='female', Age=44.0, SibSp=1, Parch=0, Ticket='244252', Fare=26.0, Cabin=None, Embarked='S'), Row(PassengerId=856, Survived=1, Pclass=3, Name='Aks, Mrs. Sam (Leah Rosen)', Sex='female', Age=18.0, SibSp=0, Parch=1, Ticket='392091', Fare=9.35, Cabin=None, Embarked='S'), Row(PassengerId=857, Survived=1, Pclass=1, Name='Wick, Mrs. George Dennick (Mary Hitchcock)', Sex='female', Age=45.0, SibSp=1, Parch=1, Ticket='36928', Fare=164.8667, Cabin=None, Embarked='S'), Row(PassengerId=859, Survived=1, Pclass=3, Name='Baclini, Mrs. Solomon (Latifa Qurban)', Sex='female', Age=24.0, SibSp=0, Parch=3, Ticket='2666', Fare=19.2583, Cabin=None, Embarked='C'), Row(PassengerId=863, Survived=1, Pclass=1, Name='Swift, Mrs. Frederick Joel (Margaret Welles Barron)', Sex='female', Age=48.0, SibSp=0, Parch=0, Ticket='17466', Fare=25.9292, Cabin='D17', Embarked='S'), Row(PassengerId=864, Survived=0, Pclass=3, Name='\"Sage, Miss. Dorothy Edith \"\"Dolly\"\"\"', Sex='female', Age=None, SibSp=8, Parch=2, Ticket='CA. 2343', Fare=69.55, Cabin=None, Embarked='S'), Row(PassengerId=866, Survived=1, Pclass=2, Name='Bystrom, Mrs. (Karolina)', Sex='female', Age=42.0, SibSp=0, Parch=0, Ticket='236852', Fare=13.0, Cabin=None, Embarked='S'), Row(PassengerId=867, Survived=1, Pclass=2, Name='Duran y More, Miss. Asuncion', Sex='female', Age=27.0, SibSp=1, Parch=0, Ticket='SC/PARIS 2149', Fare=13.8583, Cabin=None, Embarked='C'), Row(PassengerId=872, Survived=1, Pclass=1, Name='Beckwith, Mrs. Richard Leonard (Sallie Monypeny)', Sex='female', Age=47.0, SibSp=1, Parch=1, Ticket='11751', Fare=52.5542, Cabin='D35', Embarked='S'), Row(PassengerId=875, Survived=1, Pclass=2, Name='Abelson, Mrs. Samuel (Hannah Wizosky)', Sex='female', Age=28.0, SibSp=1, Parch=0, Ticket='P/PP 3381', Fare=24.0, Cabin=None, Embarked='C'), Row(PassengerId=876, Survived=1, Pclass=3, Name='\"Najib, Miss. Adele Kiamie \"\"Jane\"\"\"', Sex='female', Age=15.0, SibSp=0, Parch=0, Ticket='2667', Fare=7.225, Cabin=None, Embarked='C'), Row(PassengerId=880, Survived=1, Pclass=1, Name='Potter, Mrs. Thomas Jr (Lily Alexenia Wilson)', Sex='female', Age=56.0, SibSp=0, Parch=1, Ticket='11767', Fare=83.1583, Cabin='C50', Embarked='C'), Row(PassengerId=881, Survived=1, Pclass=2, Name='Shelley, Mrs. William (Imanita Parrish Hall)', Sex='female', Age=25.0, SibSp=0, Parch=1, Ticket='230433', Fare=26.0, Cabin=None, Embarked='S'), Row(PassengerId=883, Survived=0, Pclass=3, Name='Dahlberg, Miss. Gerda Ulrika', Sex='female', Age=22.0, SibSp=0, Parch=0, Ticket='7552', Fare=10.5167, Cabin=None, Embarked='S'), Row(PassengerId=886, Survived=0, Pclass=3, Name='Rice, Mrs. William (Margaret Norton)', Sex='female', Age=39.0, SibSp=0, Parch=5, Ticket='382652', Fare=29.125, Cabin=None, Embarked='Q'), Row(PassengerId=888, Survived=1, Pclass=1, Name='Graham, Miss. Margaret Edith', Sex='female', Age=19.0, SibSp=0, Parch=0, Ticket='112053', Fare=30.0, Cabin='B42', Embarked='S'), Row(PassengerId=889, Survived=0, Pclass=3, Name='\"Johnston, Miss. Catherine Helen \"\"Carrie\"\"\"', Sex='female', Age=None, SibSp=1, Parch=2, Ticket='W./C. 6607', Fare=23.45, Cabin=None, Embarked='S'), Row(PassengerId=1, Survived=0, Pclass=3, Name='Braund, Mr. Owen Harris', Sex='male', Age=22.0, SibSp=1, Parch=0, Ticket='A/5 21171', Fare=7.25, Cabin=None, Embarked='S'), Row(PassengerId=5, Survived=0, Pclass=3, Name='Allen, Mr. William Henry', Sex='male', Age=35.0, SibSp=0, Parch=0, Ticket='373450', Fare=8.05, Cabin=None, Embarked='S'), Row(PassengerId=6, Survived=0, Pclass=3, Name='Moran, Mr. James', Sex='male', Age=None, SibSp=0, Parch=0, Ticket='330877', Fare=8.4583, Cabin=None, Embarked='Q'), Row(PassengerId=7, Survived=0, Pclass=1, Name='McCarthy, Mr. Timothy J', Sex='male', Age=54.0, SibSp=0, Parch=0, Ticket='17463', Fare=51.8625, Cabin='E46', Embarked='S'), Row(PassengerId=8, Survived=0, Pclass=3, Name='Palsson, Master. Gosta Leonard', Sex='male', Age=2.0, SibSp=3, Parch=1, Ticket='349909', Fare=21.075, Cabin=None, Embarked='S'), Row(PassengerId=13, Survived=0, Pclass=3, Name='Saundercock, Mr. William Henry', Sex='male', Age=20.0, SibSp=0, Parch=0, Ticket='A/5. 2151', Fare=8.05, Cabin=None, Embarked='S'), Row(PassengerId=14, Survived=0, Pclass=3, Name='Andersson, Mr. Anders Johan', Sex='male', Age=39.0, SibSp=1, Parch=5, Ticket='347082', Fare=31.275, Cabin=None, Embarked='S'), Row(PassengerId=17, Survived=0, Pclass=3, Name='Rice, Master. Eugene', Sex='male', Age=2.0, SibSp=4, Parch=1, Ticket='382652', Fare=29.125, Cabin=None, Embarked='Q'), Row(PassengerId=18, Survived=1, Pclass=2, Name='Williams, Mr. Charles Eugene', Sex='male', Age=None, SibSp=0, Parch=0, Ticket='244373', Fare=13.0, Cabin=None, Embarked='S'), Row(PassengerId=21, Survived=0, Pclass=2, Name='Fynney, Mr. Joseph J', Sex='male', Age=35.0, SibSp=0, Parch=0, Ticket='239865', Fare=26.0, Cabin=None, Embarked='S'), Row(PassengerId=22, Survived=1, Pclass=2, Name='Beesley, Mr. Lawrence', Sex='male', Age=34.0, SibSp=0, Parch=0, Ticket='248698', Fare=13.0, Cabin='D56', Embarked='S'), Row(PassengerId=24, Survived=1, Pclass=1, Name='Sloper, Mr. William Thompson', Sex='male', Age=28.0, SibSp=0, Parch=0, Ticket='113788', Fare=35.5, Cabin='A6', Embarked='S'), Row(PassengerId=27, Survived=0, Pclass=3, Name='Emir, Mr. Farred Chehab', Sex='male', Age=None, SibSp=0, Parch=0, Ticket='2631', Fare=7.225, Cabin=None, Embarked='C'), Row(PassengerId=28, Survived=0, Pclass=1, Name='Fortune, Mr. Charles Alexander', Sex='male', Age=19.0, SibSp=3, Parch=2, Ticket='19950', Fare=263.0, Cabin='C23 C25 C27', Embarked='S'), Row(PassengerId=30, Survived=0, Pclass=3, Name='Todoroff, Mr. Lalio', Sex='male', Age=None, SibSp=0, Parch=0, Ticket='349216', Fare=7.8958, Cabin=None, Embarked='S'), Row(PassengerId=31, Survived=0, Pclass=1, Name='Uruchurtu, Don. Manuel E', Sex='male', Age=40.0, SibSp=0, Parch=0, Ticket='PC 17601', Fare=27.7208, Cabin=None, Embarked='C'), Row(PassengerId=34, Survived=0, Pclass=2, Name='Wheadon, Mr. Edward H', Sex='male', Age=66.0, SibSp=0, Parch=0, Ticket='C.A. 24579', Fare=10.5, Cabin=None, Embarked='S'), Row(PassengerId=35, Survived=0, Pclass=1, Name='Meyer, Mr. Edgar Joseph', Sex='male', Age=28.0, SibSp=1, Parch=0, Ticket='PC 17604', Fare=82.1708, Cabin=None, Embarked='C'), Row(PassengerId=36, Survived=0, Pclass=1, Name='Holverson, Mr. Alexander Oskar', Sex='male', Age=42.0, SibSp=1, Parch=0, Ticket='113789', Fare=52.0, Cabin=None, Embarked='S'), Row(PassengerId=37, Survived=1, Pclass=3, Name='Mamee, Mr. Hanna', Sex='male', Age=None, SibSp=0, Parch=0, Ticket='2677', Fare=7.2292, Cabin=None, Embarked='C'), Row(PassengerId=38, Survived=0, Pclass=3, Name='Cann, Mr. Ernest Charles', Sex='male', Age=21.0, SibSp=0, Parch=0, Ticket='A./5. 2152', Fare=8.05, Cabin=None, Embarked='S'), Row(PassengerId=43, Survived=0, Pclass=3, Name='Kraeff, Mr. Theodor', Sex='male', Age=None, SibSp=0, Parch=0, Ticket='349253', Fare=7.8958, Cabin=None, Embarked='C'), Row(PassengerId=46, Survived=0, Pclass=3, Name='Rogers, Mr. William John', Sex='male', Age=None, SibSp=0, Parch=0, Ticket='S.C./A.4. 23567', Fare=8.05, Cabin=None, Embarked='S'), Row(PassengerId=47, Survived=0, Pclass=3, Name='Lennon, Mr. Denis', Sex='male', Age=None, SibSp=1, Parch=0, Ticket='370371', Fare=15.5, Cabin=None, Embarked='Q'), Row(PassengerId=49, Survived=0, Pclass=3, Name='Samaan, Mr. Youssef', Sex='male', Age=None, SibSp=2, Parch=0, Ticket='2662', Fare=21.6792, Cabin=None, Embarked='C'), Row(PassengerId=51, Survived=0, Pclass=3, Name='Panula, Master. Juha Niilo', Sex='male', Age=7.0, SibSp=4, Parch=1, Ticket='3101295', Fare=39.6875, Cabin=None, Embarked='S'), Row(PassengerId=52, Survived=0, Pclass=3, Name='Nosworthy, Mr. Richard Cater', Sex='male', Age=21.0, SibSp=0, Parch=0, Ticket='A/4. 39886', Fare=7.8, Cabin=None, Embarked='S'), Row(PassengerId=55, Survived=0, Pclass=1, Name='Ostby, Mr. Engelhart Cornelius', Sex='male', Age=65.0, SibSp=0, Parch=1, Ticket='113509', Fare=61.9792, Cabin='B30', Embarked='C'), Row(PassengerId=56, Survived=1, Pclass=1, Name='Woolner, Mr. Hugh', Sex='male', Age=None, SibSp=0, Parch=0, Ticket='19947', Fare=35.5, Cabin='C52', Embarked='S'), Row(PassengerId=58, Survived=0, Pclass=3, Name='Novel, Mr. Mansouer', Sex='male', Age=28.5, SibSp=0, Parch=0, Ticket='2697', Fare=7.2292, Cabin=None, Embarked='C'), Row(PassengerId=60, Survived=0, Pclass=3, Name='Goodwin, Master. William Frederick', Sex='male', Age=11.0, SibSp=5, Parch=2, Ticket='CA 2144', Fare=46.9, Cabin=None, Embarked='S'), Row(PassengerId=61, Survived=0, Pclass=3, Name='Sirayanian, Mr. Orsen', Sex='male', Age=22.0, SibSp=0, Parch=0, Ticket='2669', Fare=7.2292, Cabin=None, Embarked='C'), Row(PassengerId=63, Survived=0, Pclass=1, Name='Harris, Mr. Henry Birkhardt', Sex='male', Age=45.0, SibSp=1, Parch=0, Ticket='36973', Fare=83.475, Cabin='C83', Embarked='S'), Row(PassengerId=64, Survived=0, Pclass=3, Name='Skoog, Master. Harald', Sex='male', Age=4.0, SibSp=3, Parch=2, Ticket='347088', Fare=27.9, Cabin=None, Embarked='S'), Row(PassengerId=65, Survived=0, Pclass=1, Name='Stewart, Mr. Albert A', Sex='male', Age=None, SibSp=0, Parch=0, Ticket='PC 17605', Fare=27.7208, Cabin=None, Embarked='C'), Row(PassengerId=66, Survived=1, Pclass=3, Name='Moubarek, Master. Gerios', Sex='male', Age=None, SibSp=1, Parch=1, Ticket='2661', Fare=15.2458, Cabin=None, Embarked='C'), Row(PassengerId=68, Survived=0, Pclass=3, Name='Crease, Mr. Ernest James', Sex='male', Age=19.0, SibSp=0, Parch=0, Ticket='S.P. 3464', Fare=8.1583, Cabin=None, Embarked='S'), Row(PassengerId=70, Survived=0, Pclass=3, Name='Kink, Mr. Vincenz', Sex='male', Age=26.0, SibSp=2, Parch=0, Ticket='315151', Fare=8.6625, Cabin=None, Embarked='S'), Row(PassengerId=71, Survived=0, Pclass=2, Name='Jenkin, Mr. Stephen Curnow', Sex='male', Age=32.0, SibSp=0, Parch=0, Ticket='C.A. 33111', Fare=10.5, Cabin=None, Embarked='S'), Row(PassengerId=73, Survived=0, Pclass=2, Name='Hood, Mr. Ambrose Jr', Sex='male', Age=21.0, SibSp=0, Parch=0, Ticket='S.O.C. 14879', Fare=73.5, Cabin=None, Embarked='S'), Row(PassengerId=74, Survived=0, Pclass=3, Name='Chronopoulos, Mr. Apostolos', Sex='male', Age=26.0, SibSp=1, Parch=0, Ticket='2680', Fare=14.4542, Cabin=None, Embarked='C'), Row(PassengerId=75, Survived=1, Pclass=3, Name='Bing, Mr. Lee', Sex='male', Age=32.0, SibSp=0, Parch=0, Ticket='1601', Fare=56.4958, Cabin=None, Embarked='S'), Row(PassengerId=76, Survived=0, Pclass=3, Name='Moen, Mr. Sigurd Hansen', Sex='male', Age=25.0, SibSp=0, Parch=0, Ticket='348123', Fare=7.65, Cabin='F G73', Embarked='S'), Row(PassengerId=77, Survived=0, Pclass=3, Name='Staneff, Mr. Ivan', Sex='male', Age=None, SibSp=0, Parch=0, Ticket='349208', Fare=7.8958, Cabin=None, Embarked='S'), Row(PassengerId=78, Survived=0, Pclass=3, Name='Moutal, Mr. Rahamin Haim', Sex='male', Age=None, SibSp=0, Parch=0, Ticket='374746', Fare=8.05, Cabin=None, Embarked='S'), Row(PassengerId=79, Survived=1, Pclass=2, Name='Caldwell, Master. Alden Gates', Sex='male', Age=0.83, SibSp=0, Parch=2, Ticket='248738', Fare=29.0, Cabin=None, Embarked='S'), Row(PassengerId=81, Survived=0, Pclass=3, Name='Waelens, Mr. Achille', Sex='male', Age=22.0, SibSp=0, Parch=0, Ticket='345767', Fare=9.0, Cabin=None, Embarked='S'), Row(PassengerId=82, Survived=1, Pclass=3, Name='Sheerlinck, Mr. Jan Baptist', Sex='male', Age=29.0, SibSp=0, Parch=0, Ticket='345779', Fare=9.5, Cabin=None, Embarked='S'), Row(PassengerId=84, Survived=0, Pclass=1, Name='Carrau, Mr. Francisco M', Sex='male', Age=28.0, SibSp=0, Parch=0, Ticket='113059', Fare=47.1, Cabin=None, Embarked='S'), Row(PassengerId=87, Survived=0, Pclass=3, Name='Ford, Mr. William Neal', Sex='male', Age=16.0, SibSp=1, Parch=3, Ticket='W./C. 6608', Fare=34.375, Cabin=None, Embarked='S'), Row(PassengerId=88, Survived=0, Pclass=3, Name='Slocovski, Mr. Selman Francis', Sex='male', Age=None, SibSp=0, Parch=0, Ticket='SOTON/OQ 392086', Fare=8.05, Cabin=None, Embarked='S'), Row(PassengerId=90, Survived=0, Pclass=3, Name='Celotti, Mr. Francesco', Sex='male', Age=24.0, SibSp=0, Parch=0, Ticket='343275', Fare=8.05, Cabin=None, Embarked='S'), Row(PassengerId=91, Survived=0, Pclass=3, Name='Christmann, Mr. Emil', Sex='male', Age=29.0, SibSp=0, Parch=0, Ticket='343276', Fare=8.05, Cabin=None, Embarked='S'), Row(PassengerId=92, Survived=0, Pclass=3, Name='Andreasson, Mr. Paul Edvin', Sex='male', Age=20.0, SibSp=0, Parch=0, Ticket='347466', Fare=7.8542, Cabin=None, Embarked='S'), Row(PassengerId=93, Survived=0, Pclass=1, Name='Chaffee, Mr. Herbert Fuller', Sex='male', Age=46.0, SibSp=1, Parch=0, Ticket='W.E.P. 5734', Fare=61.175, Cabin='E31', Embarked='S'), Row(PassengerId=94, Survived=0, Pclass=3, Name='Dean, Mr. Bertram Frank', Sex='male', Age=26.0, SibSp=1, Parch=2, Ticket='C.A. 2315', Fare=20.575, Cabin=None, Embarked='S'), Row(PassengerId=95, Survived=0, Pclass=3, Name='Coxon, Mr. Daniel', Sex='male', Age=59.0, SibSp=0, Parch=0, Ticket='364500', Fare=7.25, Cabin=None, Embarked='S'), Row(PassengerId=96, Survived=0, Pclass=3, Name='Shorney, Mr. Charles Joseph', Sex='male', Age=None, SibSp=0, Parch=0, Ticket='374910', Fare=8.05, Cabin=None, Embarked='S'), Row(PassengerId=97, Survived=0, Pclass=1, Name='Goldschmidt, Mr. George B', Sex='male', Age=71.0, SibSp=0, Parch=0, Ticket='PC 17754', Fare=34.6542, Cabin='A5', Embarked='C'), Row(PassengerId=98, Survived=1, Pclass=1, Name='Greenfield, Mr. William Bertram', Sex='male', Age=23.0, SibSp=0, Parch=1, Ticket='PC 17759', Fare=63.3583, Cabin='D10 D12', Embarked='C'), Row(PassengerId=100, Survived=0, Pclass=2, Name='Kantor, Mr. Sinai', Sex='male', Age=34.0, SibSp=1, Parch=0, Ticket='244367', Fare=26.0, Cabin=None, Embarked='S'), Row(PassengerId=102, Survived=0, Pclass=3, Name='\"Petroff, Mr. Pastcho (\"\"Pentcho\"\")\"', Sex='male', Age=None, SibSp=0, Parch=0, Ticket='349215', Fare=7.8958, Cabin=None, Embarked='S'), Row(PassengerId=103, Survived=0, Pclass=1, Name='White, Mr. Richard Frasar', Sex='male', Age=21.0, SibSp=0, Parch=1, Ticket='35281', Fare=77.2875, Cabin='D26', Embarked='S'), Row(PassengerId=104, Survived=0, Pclass=3, Name='Johansson, Mr. Gustaf Joel', Sex='male', Age=33.0, SibSp=0, Parch=0, Ticket='7540', Fare=8.6542, Cabin=None, Embarked='S'), Row(PassengerId=105, Survived=0, Pclass=3, Name='Gustafsson, Mr. Anders Vilhelm', Sex='male', Age=37.0, SibSp=2, Parch=0, Ticket='3101276', Fare=7.925, Cabin=None, Embarked='S'), Row(PassengerId=106, Survived=0, Pclass=3, Name='Mionoff, Mr. Stoytcho', Sex='male', Age=28.0, SibSp=0, Parch=0, Ticket='349207', Fare=7.8958, Cabin=None, Embarked='S'), Row(PassengerId=108, Survived=1, Pclass=3, Name='Moss, Mr. Albert Johan', Sex='male', Age=None, SibSp=0, Parch=0, Ticket='312991', Fare=7.775, Cabin=None, Embarked='S'), Row(PassengerId=109, Survived=0, Pclass=3, Name='Rekic, Mr. Tido', Sex='male', Age=38.0, SibSp=0, Parch=0, Ticket='349249', Fare=7.8958, Cabin=None, Embarked='S'), Row(PassengerId=111, Survived=0, Pclass=1, Name='Porter, Mr. Walter Chamberlain', Sex='male', Age=47.0, SibSp=0, Parch=0, Ticket='110465', Fare=52.0, Cabin='C110', Embarked='S'), Row(PassengerId=113, Survived=0, Pclass=3, Name='Barton, Mr. David John', Sex='male', Age=22.0, SibSp=0, Parch=0, Ticket='324669', Fare=8.05, Cabin=None, Embarked='S'), Row(PassengerId=116, Survived=0, Pclass=3, Name='Pekoniemi, Mr. Edvard', Sex='male', Age=21.0, SibSp=0, Parch=0, Ticket='STON/O 2. 3101294', Fare=7.925, Cabin=None, Embarked='S'), Row(PassengerId=117, Survived=0, Pclass=3, Name='Connors, Mr. Patrick', Sex='male', Age=70.5, SibSp=0, Parch=0, Ticket='370369', Fare=7.75, Cabin=None, Embarked='Q'), Row(PassengerId=118, Survived=0, Pclass=2, Name='Turpin, Mr. William John Robert', Sex='male', Age=29.0, SibSp=1, Parch=0, Ticket='11668', Fare=21.0, Cabin=None, Embarked='S'), Row(PassengerId=119, Survived=0, Pclass=1, Name='Baxter, Mr. Quigg Edmond', Sex='male', Age=24.0, SibSp=0, Parch=1, Ticket='PC 17558', Fare=247.5208, Cabin='B58 B60', Embarked='C'), Row(PassengerId=121, Survived=0, Pclass=2, Name='Hickman, Mr. Stanley George', Sex='male', Age=21.0, SibSp=2, Parch=0, Ticket='S.O.C. 14879', Fare=73.5, Cabin=None, Embarked='S'), Row(PassengerId=122, Survived=0, Pclass=3, Name='Moore, Mr. Leonard Charles', Sex='male', Age=None, SibSp=0, Parch=0, Ticket='A4. 54510', Fare=8.05, Cabin=None, Embarked='S'), Row(PassengerId=123, Survived=0, Pclass=2, Name='Nasser, Mr. Nicholas', Sex='male', Age=32.5, SibSp=1, Parch=0, Ticket='237736', Fare=30.0708, Cabin=None, Embarked='C'), Row(PassengerId=125, Survived=0, Pclass=1, Name='White, Mr. Percival Wayland', Sex='male', Age=54.0, SibSp=0, Parch=1, Ticket='35281', Fare=77.2875, Cabin='D26', Embarked='S'), Row(PassengerId=126, Survived=1, Pclass=3, Name='Nicola-Yarred, Master. Elias', Sex='male', Age=12.0, SibSp=1, Parch=0, Ticket='2651', Fare=11.2417, Cabin=None, Embarked='C'), Row(PassengerId=127, Survived=0, Pclass=3, Name='McMahon, Mr. Martin', Sex='male', Age=None, SibSp=0, Parch=0, Ticket='370372', Fare=7.75, Cabin=None, Embarked='Q'), Row(PassengerId=128, Survived=1, Pclass=3, Name='Madsen, Mr. Fridtjof Arne', Sex='male', Age=24.0, SibSp=0, Parch=0, Ticket='C 17369', Fare=7.1417, Cabin=None, Embarked='S'), Row(PassengerId=130, Survived=0, Pclass=3, Name='Ekstrom, Mr. Johan', Sex='male', Age=45.0, SibSp=0, Parch=0, Ticket='347061', Fare=6.975, Cabin=None, Embarked='S'), Row(PassengerId=131, Survived=0, Pclass=3, Name='Drazenoic, Mr. Jozef', Sex='male', Age=33.0, SibSp=0, Parch=0, Ticket='349241', Fare=7.8958, Cabin=None, Embarked='C'), Row(PassengerId=132, Survived=0, Pclass=3, Name='Coelho, Mr. Domingos Fernandeo', Sex='male', Age=20.0, SibSp=0, Parch=0, Ticket='SOTON/O.Q. 3101307', Fare=7.05, Cabin=None, Embarked='S'), Row(PassengerId=135, Survived=0, Pclass=2, Name='Sobey, Mr. Samuel James Hayden', Sex='male', Age=25.0, SibSp=0, Parch=0, Ticket='C.A. 29178', Fare=13.0, Cabin=None, Embarked='S'), Row(PassengerId=136, Survived=0, Pclass=2, Name='Richard, Mr. Emile', Sex='male', Age=23.0, SibSp=0, Parch=0, Ticket='SC/PARIS 2133', Fare=15.0458, Cabin=None, Embarked='C'), Row(PassengerId=138, Survived=0, Pclass=1, Name='Futrelle, Mr. Jacques Heath', Sex='male', Age=37.0, SibSp=1, Parch=0, Ticket='113803', Fare=53.1, Cabin='C123', Embarked='S'), Row(PassengerId=139, Survived=0, Pclass=3, Name='Osen, Mr. Olaf Elon', Sex='male', Age=16.0, SibSp=0, Parch=0, Ticket='7534', Fare=9.2167, Cabin=None, Embarked='S'), Row(PassengerId=140, Survived=0, Pclass=1, Name='Giglio, Mr. Victor', Sex='male', Age=24.0, SibSp=0, Parch=0, Ticket='PC 17593', Fare=79.2, Cabin='B86', Embarked='C'), Row(PassengerId=144, Survived=0, Pclass=3, Name='Burke, Mr. Jeremiah', Sex='male', Age=19.0, SibSp=0, Parch=0, Ticket='365222', Fare=6.75, Cabin=None, Embarked='Q'), Row(PassengerId=145, Survived=0, Pclass=2, Name='Andrew, Mr. Edgardo Samuel', Sex='male', Age=18.0, SibSp=0, Parch=0, Ticket='231945', Fare=11.5, Cabin=None, Embarked='S'), Row(PassengerId=146, Survived=0, Pclass=2, Name='Nicholls, Mr. Joseph Charles', Sex='male', Age=19.0, SibSp=1, Parch=1, Ticket='C.A. 33112', Fare=36.75, Cabin=None, Embarked='S'), Row(PassengerId=147, Survived=1, Pclass=3, Name='\"Andersson, Mr. August Edvard (\"\"Wennerstrom\"\")\"', Sex='male', Age=27.0, SibSp=0, Parch=0, Ticket='350043', Fare=7.7958, Cabin=None, Embarked='S'), Row(PassengerId=149, Survived=0, Pclass=2, Name='\"Navratil, Mr. Michel (\"\"Louis M Hoffman\"\")\"', Sex='male', Age=36.5, SibSp=0, Parch=2, Ticket='230080', Fare=26.0, Cabin='F2', Embarked='S'), Row(PassengerId=150, Survived=0, Pclass=2, Name='Byles, Rev. Thomas Roussel Davids', Sex='male', Age=42.0, SibSp=0, Parch=0, Ticket='244310', Fare=13.0, Cabin=None, Embarked='S'), Row(PassengerId=151, Survived=0, Pclass=2, Name='Bateman, Rev. Robert James', Sex='male', Age=51.0, SibSp=0, Parch=0, Ticket='S.O.P. 1166', Fare=12.525, Cabin=None, Embarked='S'), Row(PassengerId=153, Survived=0, Pclass=3, Name='Meo, Mr. Alfonzo', Sex='male', Age=55.5, SibSp=0, Parch=0, Ticket='A.5. 11206', Fare=8.05, Cabin=None, Embarked='S'), Row(PassengerId=154, Survived=0, Pclass=3, Name='van Billiard, Mr. Austin Blyler', Sex='male', Age=40.5, SibSp=0, Parch=2, Ticket='A/5. 851', Fare=14.5, Cabin=None, Embarked='S'), Row(PassengerId=155, Survived=0, Pclass=3, Name='Olsen, Mr. Ole Martin', Sex='male', Age=None, SibSp=0, Parch=0, Ticket='Fa 265302', Fare=7.3125, Cabin=None, Embarked='S'), Row(PassengerId=156, Survived=0, Pclass=1, Name='Williams, Mr. Charles Duane', Sex='male', Age=51.0, SibSp=0, Parch=1, Ticket='PC 17597', Fare=61.3792, Cabin=None, Embarked='C'), Row(PassengerId=158, Survived=0, Pclass=3, Name='Corn, Mr. Harry', Sex='male', Age=30.0, SibSp=0, Parch=0, Ticket='SOTON/OQ 392090', Fare=8.05, Cabin=None, Embarked='S'), Row(PassengerId=159, Survived=0, Pclass=3, Name='Smiljanic, Mr. Mile', Sex='male', Age=None, SibSp=0, Parch=0, Ticket='315037', Fare=8.6625, Cabin=None, Embarked='S'), Row(PassengerId=160, Survived=0, Pclass=3, Name='Sage, Master. Thomas Henry', Sex='male', Age=None, SibSp=8, Parch=2, Ticket='CA. 2343', Fare=69.55, Cabin=None, Embarked='S'), Row(PassengerId=161, Survived=0, Pclass=3, Name='Cribb, Mr. John Hatfield', Sex='male', Age=44.0, SibSp=0, Parch=1, Ticket='371362', Fare=16.1, Cabin=None, Embarked='S'), Row(PassengerId=163, Survived=0, Pclass=3, Name='Bengtsson, Mr. John Viktor', Sex='male', Age=26.0, SibSp=0, Parch=0, Ticket='347068', Fare=7.775, Cabin=None, Embarked='S'), Row(PassengerId=164, Survived=0, Pclass=3, Name='Calic, Mr. Jovo', Sex='male', Age=17.0, SibSp=0, Parch=0, Ticket='315093', Fare=8.6625, Cabin=None, Embarked='S'), Row(PassengerId=165, Survived=0, Pclass=3, Name='Panula, Master. Eino Viljami', Sex='male', Age=1.0, SibSp=4, Parch=1, Ticket='3101295', Fare=39.6875, Cabin=None, Embarked='S'), Row(PassengerId=166, Survived=1, Pclass=3, Name='\"Goldsmith, Master. Frank John William \"\"Frankie\"\"\"', Sex='male', Age=9.0, SibSp=0, Parch=2, Ticket='363291', Fare=20.525, Cabin=None, Embarked='S'), Row(PassengerId=169, Survived=0, Pclass=1, Name='Baumann, Mr. John D', Sex='male', Age=None, SibSp=0, Parch=0, Ticket='PC 17318', Fare=25.925, Cabin=None, Embarked='S'), Row(PassengerId=170, Survived=0, Pclass=3, Name='Ling, Mr. Lee', Sex='male', Age=28.0, SibSp=0, Parch=0, Ticket='1601', Fare=56.4958, Cabin=None, Embarked='S'), Row(PassengerId=171, Survived=0, Pclass=1, Name='Van der hoef, Mr. Wyckoff', Sex='male', Age=61.0, SibSp=0, Parch=0, Ticket='111240', Fare=33.5, Cabin='B19', Embarked='S'), Row(PassengerId=172, Survived=0, Pclass=3, Name='Rice, Master. Arthur', Sex='male', Age=4.0, SibSp=4, Parch=1, Ticket='382652', Fare=29.125, Cabin=None, Embarked='Q'), Row(PassengerId=174, Survived=0, Pclass=3, Name='Sivola, Mr. Antti Wilhelm', Sex='male', Age=21.0, SibSp=0, Parch=0, Ticket='STON/O 2. 3101280', Fare=7.925, Cabin=None, Embarked='S'), Row(PassengerId=175, Survived=0, Pclass=1, Name='Smith, Mr. James Clinch', Sex='male', Age=56.0, SibSp=0, Parch=0, Ticket='17764', Fare=30.6958, Cabin='A7', Embarked='C'), Row(PassengerId=176, Survived=0, Pclass=3, Name='Klasen, Mr. Klas Albin', Sex='male', Age=18.0, SibSp=1, Parch=1, Ticket='350404', Fare=7.8542, Cabin=None, Embarked='S'), Row(PassengerId=177, Survived=0, Pclass=3, Name='Lefebre, Master. Henry Forbes', Sex='male', Age=None, SibSp=3, Parch=1, Ticket='4133', Fare=25.4667, Cabin=None, Embarked='S'), Row(PassengerId=179, Survived=0, Pclass=2, Name='Hale, Mr. Reginald', Sex='male', Age=30.0, SibSp=0, Parch=0, Ticket='250653', Fare=13.0, Cabin=None, Embarked='S'), Row(PassengerId=180, Survived=0, Pclass=3, Name='Leonard, Mr. Lionel', Sex='male', Age=36.0, SibSp=0, Parch=0, Ticket='LINE', Fare=0.0, Cabin=None, Embarked='S'), Row(PassengerId=182, Survived=0, Pclass=2, Name='Pernot, Mr. Rene', Sex='male', Age=None, SibSp=0, Parch=0, Ticket='SC/PARIS 2131', Fare=15.05, Cabin=None, Embarked='C'), Row(PassengerId=183, Survived=0, Pclass=3, Name='Asplund, Master. Clarence Gustaf Hugo', Sex='male', Age=9.0, SibSp=4, Parch=2, Ticket='347077', Fare=31.3875, Cabin=None, Embarked='S'), Row(PassengerId=184, Survived=1, Pclass=2, Name='Becker, Master. Richard F', Sex='male', Age=1.0, SibSp=2, Parch=1, Ticket='230136', Fare=39.0, Cabin='F4', Embarked='S'), Row(PassengerId=186, Survived=0, Pclass=1, Name='Rood, Mr. Hugh Roscoe', Sex='male', Age=None, SibSp=0, Parch=0, Ticket='113767', Fare=50.0, Cabin='A32', Embarked='S'), Row(PassengerId=188, Survived=1, Pclass=1, Name='\"Romaine, Mr. Charles Hallace (\"\"Mr C Rolmane\"\")\"', Sex='male', Age=45.0, SibSp=0, Parch=0, Ticket='111428', Fare=26.55, Cabin=None, Embarked='S'), Row(PassengerId=189, Survived=0, Pclass=3, Name='Bourke, Mr. John', Sex='male', Age=40.0, SibSp=1, Parch=1, Ticket='364849', Fare=15.5, Cabin=None, Embarked='Q'), Row(PassengerId=190, Survived=0, Pclass=3, Name='Turcin, Mr. Stjepan', Sex='male', Age=36.0, SibSp=0, Parch=0, Ticket='349247', Fare=7.8958, Cabin=None, Embarked='S'), Row(PassengerId=192, Survived=0, Pclass=2, Name='Carbines, Mr. William', Sex='male', Age=19.0, SibSp=0, Parch=0, Ticket='28424', Fare=13.0, Cabin=None, Embarked='S'), Row(PassengerId=194, Survived=1, Pclass=2, Name='Navratil, Master. Michel M', Sex='male', Age=3.0, SibSp=1, Parch=1, Ticket='230080', Fare=26.0, Cabin='F2', Embarked='S'), Row(PassengerId=197, Survived=0, Pclass=3, Name='Mernagh, Mr. Robert', Sex='male', Age=None, SibSp=0, Parch=0, Ticket='368703', Fare=7.75, Cabin=None, Embarked='Q'), Row(PassengerId=198, Survived=0, Pclass=3, Name='Olsen, Mr. Karl Siegwart Andreas', Sex='male', Age=42.0, SibSp=0, Parch=1, Ticket='4579', Fare=8.4042, Cabin=None, Embarked='S'), Row(PassengerId=201, Survived=0, Pclass=3, Name='Vande Walle, Mr. Nestor Cyriel', Sex='male', Age=28.0, SibSp=0, Parch=0, Ticket='345770', Fare=9.5, Cabin=None, Embarked='S'), Row(PassengerId=202, Survived=0, Pclass=3, Name='Sage, Mr. Frederick', Sex='male', Age=None, SibSp=8, Parch=2, Ticket='CA. 2343', Fare=69.55, Cabin=None, Embarked='S'), Row(PassengerId=203, Survived=0, Pclass=3, Name='Johanson, Mr. Jakob Alfred', Sex='male', Age=34.0, SibSp=0, Parch=0, Ticket='3101264', Fare=6.4958, Cabin=None, Embarked='S'), Row(PassengerId=204, Survived=0, Pclass=3, Name='Youseff, Mr. Gerious', Sex='male', Age=45.5, SibSp=0, Parch=0, Ticket='2628', Fare=7.225, Cabin=None, Embarked='C'), Row(PassengerId=205, Survived=1, Pclass=3, Name='\"Cohen, Mr. Gurshon \"\"Gus\"\"\"', Sex='male', Age=18.0, SibSp=0, Parch=0, Ticket='A/5 3540', Fare=8.05, Cabin=None, Embarked='S'), Row(PassengerId=207, Survived=0, Pclass=3, Name='Backstrom, Mr. Karl Alfred', Sex='male', Age=32.0, SibSp=1, Parch=0, Ticket='3101278', Fare=15.85, Cabin=None, Embarked='S'), Row(PassengerId=208, Survived=1, Pclass=3, Name='Albimona, Mr. Nassef Cassem', Sex='male', Age=26.0, SibSp=0, Parch=0, Ticket='2699', Fare=18.7875, Cabin=None, Embarked='C'), Row(PassengerId=210, Survived=1, Pclass=1, Name='Blank, Mr. Henry', Sex='male', Age=40.0, SibSp=0, Parch=0, Ticket='112277', Fare=31.0, Cabin='A31', Embarked='C'), Row(PassengerId=211, Survived=0, Pclass=3, Name='Ali, Mr. Ahmed', Sex='male', Age=24.0, SibSp=0, Parch=0, Ticket='SOTON/O.Q. 3101311', Fare=7.05, Cabin=None, Embarked='S'), Row(PassengerId=213, Survived=0, Pclass=3, Name='Perkin, Mr. John Henry', Sex='male', Age=22.0, SibSp=0, Parch=0, Ticket='A/5 21174', Fare=7.25, Cabin=None, Embarked='S'), Row(PassengerId=214, Survived=0, Pclass=2, Name='Givard, Mr. Hans Kristensen', Sex='male', Age=30.0, SibSp=0, Parch=0, Ticket='250646', Fare=13.0, Cabin=None, Embarked='S'), Row(PassengerId=215, Survived=0, Pclass=3, Name='Kiernan, Mr. Philip', Sex='male', Age=None, SibSp=1, Parch=0, Ticket='367229', Fare=7.75, Cabin=None, Embarked='Q'), Row(PassengerId=218, Survived=0, Pclass=2, Name='Jacobsohn, Mr. Sidney Samuel', Sex='male', Age=42.0, SibSp=1, Parch=0, Ticket='243847', Fare=27.0, Cabin=None, Embarked='S'), Row(PassengerId=220, Survived=0, Pclass=2, Name='Harris, Mr. Walter', Sex='male', Age=30.0, SibSp=0, Parch=0, Ticket='W/C 14208', Fare=10.5, Cabin=None, Embarked='S'), Row(PassengerId=221, Survived=1, Pclass=3, Name='Sunderland, Mr. Victor Francis', Sex='male', Age=16.0, SibSp=0, Parch=0, Ticket='SOTON/OQ 392089', Fare=8.05, Cabin=None, Embarked='S'), Row(PassengerId=222, Survived=0, Pclass=2, Name='Bracken, Mr. James H', Sex='male', Age=27.0, SibSp=0, Parch=0, Ticket='220367', Fare=13.0, Cabin=None, Embarked='S'), Row(PassengerId=223, Survived=0, Pclass=3, Name='Green, Mr. George Henry', Sex='male', Age=51.0, SibSp=0, Parch=0, Ticket='21440', Fare=8.05, Cabin=None, Embarked='S'), Row(PassengerId=224, Survived=0, Pclass=3, Name='Nenkoff, Mr. Christo', Sex='male', Age=None, SibSp=0, Parch=0, Ticket='349234', Fare=7.8958, Cabin=None, Embarked='S'), Row(PassengerId=225, Survived=1, Pclass=1, Name='Hoyt, Mr. Frederick Maxfield', Sex='male', Age=38.0, SibSp=1, Parch=0, Ticket='19943', Fare=90.0, Cabin='C93', Embarked='S'), Row(PassengerId=226, Survived=0, Pclass=3, Name='Berglund, Mr. Karl Ivar Sven', Sex='male', Age=22.0, SibSp=0, Parch=0, Ticket='PP 4348', Fare=9.35, Cabin=None, Embarked='S'), Row(PassengerId=227, Survived=1, Pclass=2, Name='Mellors, Mr. William John', Sex='male', Age=19.0, SibSp=0, Parch=0, Ticket='SW/PP 751', Fare=10.5, Cabin=None, Embarked='S'), Row(PassengerId=228, Survived=0, Pclass=3, Name='\"Lovell, Mr. John Hall (\"\"Henry\"\")\"', Sex='male', Age=20.5, SibSp=0, Parch=0, Ticket='A/5 21173', Fare=7.25, Cabin=None, Embarked='S'), Row(PassengerId=229, Survived=0, Pclass=2, Name='Fahlstrom, Mr. Arne Jonas', Sex='male', Age=18.0, SibSp=0, Parch=0, Ticket='236171', Fare=13.0, Cabin=None, Embarked='S'), Row(PassengerId=232, Survived=0, Pclass=3, Name='Larsson, Mr. Bengt Edvin', Sex='male', Age=29.0, SibSp=0, Parch=0, Ticket='347067', Fare=7.775, Cabin=None, Embarked='S'), Row(PassengerId=233, Survived=0, Pclass=2, Name='Sjostedt, Mr. Ernst Adolf', Sex='male', Age=59.0, SibSp=0, Parch=0, Ticket='237442', Fare=13.5, Cabin=None, Embarked='S'), Row(PassengerId=235, Survived=0, Pclass=2, Name='Leyson, Mr. Robert William Norman', Sex='male', Age=24.0, SibSp=0, Parch=0, Ticket='C.A. 29566', Fare=10.5, Cabin=None, Embarked='S'), Row(PassengerId=237, Survived=0, Pclass=2, Name='Hold, Mr. Stephen', Sex='male', Age=44.0, SibSp=1, Parch=0, Ticket='26707', Fare=26.0, Cabin=None, Embarked='S'), Row(PassengerId=239, Survived=0, Pclass=2, Name='Pengelly, Mr. Frederick William', Sex='male', Age=19.0, SibSp=0, Parch=0, Ticket='28665', Fare=10.5, Cabin=None, Embarked='S'), Row(PassengerId=240, Survived=0, Pclass=2, Name='Hunt, Mr. George Henry', Sex='male', Age=33.0, SibSp=0, Parch=0, Ticket='SCO/W 1585', Fare=12.275, Cabin=None, Embarked='S'), Row(PassengerId=243, Survived=0, Pclass=2, Name='Coleridge, Mr. Reginald Charles', Sex='male', Age=29.0, SibSp=0, Parch=0, Ticket='W./C. 14263', Fare=10.5, Cabin=None, Embarked='S'), Row(PassengerId=244, Survived=0, Pclass=3, Name='Maenpaa, Mr. Matti Alexanteri', Sex='male', Age=22.0, SibSp=0, Parch=0, Ticket='STON/O 2. 3101275', Fare=7.125, Cabin=None, Embarked='S'), Row(PassengerId=245, Survived=0, Pclass=3, Name='Attalah, Mr. Sleiman', Sex='male', Age=30.0, SibSp=0, Parch=0, Ticket='2694', Fare=7.225, Cabin=None, Embarked='C'), Row(PassengerId=246, Survived=0, Pclass=1, Name='Minahan, Dr. William Edward', Sex='male', Age=44.0, SibSp=2, Parch=0, Ticket='19928', Fare=90.0, Cabin='C78', Embarked='Q'), Row(PassengerId=249, Survived=1, Pclass=1, Name='Beckwith, Mr. Richard Leonard', Sex='male', Age=37.0, SibSp=1, Parch=1, Ticket='11751', Fare=52.5542, Cabin='D35', Embarked='S'), Row(PassengerId=250, Survived=0, Pclass=2, Name='Carter, Rev. Ernest Courtenay', Sex='male', Age=54.0, SibSp=1, Parch=0, Ticket='244252', Fare=26.0, Cabin=None, Embarked='S'), Row(PassengerId=251, Survived=0, Pclass=3, Name='Reed, Mr. James George', Sex='male', Age=None, SibSp=0, Parch=0, Ticket='362316', Fare=7.25, Cabin=None, Embarked='S'), Row(PassengerId=253, Survived=0, Pclass=1, Name='Stead, Mr. William Thomas', Sex='male', Age=62.0, SibSp=0, Parch=0, Ticket='113514', Fare=26.55, Cabin='C87', Embarked='S'), Row(PassengerId=254, Survived=0, Pclass=3, Name='Lobb, Mr. William Arthur', Sex='male', Age=30.0, SibSp=1, Parch=0, Ticket='A/5. 3336', Fare=16.1, Cabin=None, Embarked='S'), Row(PassengerId=261, Survived=0, Pclass=3, Name='Smith, Mr. Thomas', Sex='male', Age=None, SibSp=0, Parch=0, Ticket='384461', Fare=7.75, Cabin=None, Embarked='Q'), Row(PassengerId=262, Survived=1, Pclass=3, Name='Asplund, Master. Edvin Rojj Felix', Sex='male', Age=3.0, SibSp=4, Parch=2, Ticket='347077', Fare=31.3875, Cabin=None, Embarked='S'), Row(PassengerId=263, Survived=0, Pclass=1, Name='Taussig, Mr. Emil', Sex='male', Age=52.0, SibSp=1, Parch=1, Ticket='110413', Fare=79.65, Cabin='E67', Embarked='S'), Row(PassengerId=264, Survived=0, Pclass=1, Name='Harrison, Mr. William', Sex='male', Age=40.0, SibSp=0, Parch=0, Ticket='112059', Fare=0.0, Cabin='B94', Embarked='S'), Row(PassengerId=266, Survived=0, Pclass=2, Name='Reeves, Mr. David', Sex='male', Age=36.0, SibSp=0, Parch=0, Ticket='C.A. 17248', Fare=10.5, Cabin=None, Embarked='S'), Row(PassengerId=267, Survived=0, Pclass=3, Name='Panula, Mr. Ernesti Arvid', Sex='male', Age=16.0, SibSp=4, Parch=1, Ticket='3101295', Fare=39.6875, Cabin=None, Embarked='S'), Row(PassengerId=268, Survived=1, Pclass=3, Name='Persson, Mr. Ernst Ulrik', Sex='male', Age=25.0, SibSp=1, Parch=0, Ticket='347083', Fare=7.775, Cabin=None, Embarked='S'), Row(PassengerId=271, Survived=0, Pclass=1, Name='Cairns, Mr. Alexander', Sex='male', Age=None, SibSp=0, Parch=0, Ticket='113798', Fare=31.0, Cabin=None, Embarked='S'), Row(PassengerId=272, Survived=1, Pclass=3, Name='Tornquist, Mr. William Henry', Sex='male', Age=25.0, SibSp=0, Parch=0, Ticket='LINE', Fare=0.0, Cabin=None, Embarked='S'), Row(PassengerId=274, Survived=0, Pclass=1, Name='Natsch, Mr. Charles H', Sex='male', Age=37.0, SibSp=0, Parch=1, Ticket='PC 17596', Fare=29.7, Cabin='C118', Embarked='C'), Row(PassengerId=278, Survived=0, Pclass=2, Name='\"Parkes, Mr. Francis \"\"Frank\"\"\"', Sex='male', Age=None, SibSp=0, Parch=0, Ticket='239853', Fare=0.0, Cabin=None, Embarked='S'), Row(PassengerId=279, Survived=0, Pclass=3, Name='Rice, Master. Eric', Sex='male', Age=7.0, SibSp=4, Parch=1, Ticket='382652', Fare=29.125, Cabin=None, Embarked='Q'), Row(PassengerId=281, Survived=0, Pclass=3, Name='Duane, Mr. Frank', Sex='male', Age=65.0, SibSp=0, Parch=0, Ticket='336439', Fare=7.75, Cabin=None, Embarked='Q'), Row(PassengerId=282, Survived=0, Pclass=3, Name='Olsson, Mr. Nils Johan Goransson', Sex='male', Age=28.0, SibSp=0, Parch=0, Ticket='347464', Fare=7.8542, Cabin=None, Embarked='S'), Row(PassengerId=283, Survived=0, Pclass=3, Name='de Pelsmaeker, Mr. Alfons', Sex='male', Age=16.0, SibSp=0, Parch=0, Ticket='345778', Fare=9.5, Cabin=None, Embarked='S'), Row(PassengerId=284, Survived=1, Pclass=3, Name='Dorking, Mr. Edward Arthur', Sex='male', Age=19.0, SibSp=0, Parch=0, Ticket='A/5. 10482', Fare=8.05, Cabin=None, Embarked='S'), Row(PassengerId=285, Survived=0, Pclass=1, Name='Smith, Mr. Richard William', Sex='male', Age=None, SibSp=0, Parch=0, Ticket='113056', Fare=26.0, Cabin='A19', Embarked='S'), Row(PassengerId=286, Survived=0, Pclass=3, Name='Stankovic, Mr. Ivan', Sex='male', Age=33.0, SibSp=0, Parch=0, Ticket='349239', Fare=8.6625, Cabin=None, Embarked='C'), Row(PassengerId=287, Survived=1, Pclass=3, Name='de Mulder, Mr. Theodore', Sex='male', Age=30.0, SibSp=0, Parch=0, Ticket='345774', Fare=9.5, Cabin=None, Embarked='S'), Row(PassengerId=288, Survived=0, Pclass=3, Name='Naidenoff, Mr. Penko', Sex='male', Age=22.0, SibSp=0, Parch=0, Ticket='349206', Fare=7.8958, Cabin=None, Embarked='S'), Row(PassengerId=289, Survived=1, Pclass=2, Name='Hosono, Mr. Masabumi', Sex='male', Age=42.0, SibSp=0, Parch=0, Ticket='237798', Fare=13.0, Cabin=None, Embarked='S'), Row(PassengerId=293, Survived=0, Pclass=2, Name='Levy, Mr. Rene Jacques', Sex='male', Age=36.0, SibSp=0, Parch=0, Ticket='SC/Paris 2163', Fare=12.875, Cabin='D', Embarked='C'), Row(PassengerId=295, Survived=0, Pclass=3, Name='Mineff, Mr. Ivan', Sex='male', Age=24.0, SibSp=0, Parch=0, Ticket='349233', Fare=7.8958, Cabin=None, Embarked='S'), Row(PassengerId=296, Survived=0, Pclass=1, Name='Lewy, Mr. Ervin G', Sex='male', Age=None, SibSp=0, Parch=0, Ticket='PC 17612', Fare=27.7208, Cabin=None, Embarked='C'), Row(PassengerId=297, Survived=0, Pclass=3, Name='Hanna, Mr. Mansour', Sex='male', Age=23.5, SibSp=0, Parch=0, Ticket='2693', Fare=7.2292, Cabin=None, Embarked='C'), Row(PassengerId=299, Survived=1, Pclass=1, Name='Saalfeld, Mr. Adolphe', Sex='male', Age=None, SibSp=0, Parch=0, Ticket='19988', Fare=30.5, Cabin='C106', Embarked='S'), Row(PassengerId=302, Survived=1, Pclass=3, Name='McCoy, Mr. Bernard', Sex='male', Age=None, SibSp=2, Parch=0, Ticket='367226', Fare=23.25, Cabin=None, Embarked='Q'), Row(PassengerId=303, Survived=0, Pclass=3, Name='Johnson, Mr. William Cahoone Jr', Sex='male', Age=19.0, SibSp=0, Parch=0, Ticket='LINE', Fare=0.0, Cabin=None, Embarked='S'), Row(PassengerId=305, Survived=0, Pclass=3, Name='\"Williams, Mr. Howard Hugh \"\"Harry\"\"\"', Sex='male', Age=None, SibSp=0, Parch=0, Ticket='A/5 2466', Fare=8.05, Cabin=None, Embarked='S'), Row(PassengerId=306, Survived=1, Pclass=1, Name='Allison, Master. Hudson Trevor', Sex='male', Age=0.92, SibSp=1, Parch=2, Ticket='113781', Fare=151.55, Cabin='C22 C26', Embarked='S'), Row(PassengerId=309, Survived=0, Pclass=2, Name='Abelson, Mr. Samuel', Sex='male', Age=30.0, SibSp=1, Parch=0, Ticket='P/PP 3381', Fare=24.0, Cabin=None, Embarked='C'), Row(PassengerId=314, Survived=0, Pclass=3, Name='Hendekovic, Mr. Ignjac', Sex='male', Age=28.0, SibSp=0, Parch=0, Ticket='349243', Fare=7.8958, Cabin=None, Embarked='S'), Row(PassengerId=315, Survived=0, Pclass=2, Name='Hart, Mr. Benjamin', Sex='male', Age=43.0, SibSp=1, Parch=1, Ticket='F.C.C. 13529', Fare=26.25, Cabin=None, Embarked='S'), Row(PassengerId=318, Survived=0, Pclass=2, Name='Moraweck, Dr. Ernest', Sex='male', Age=54.0, SibSp=0, Parch=0, Ticket='29011', Fare=14.0, Cabin=None, Embarked='S'), Row(PassengerId=321, Survived=0, Pclass=3, Name='Dennis, Mr. Samuel', Sex='male', Age=22.0, SibSp=0, Parch=0, Ticket='A/5 21172', Fare=7.25, Cabin=None, Embarked='S'), Row(PassengerId=322, Survived=0, Pclass=3, Name='Danoff, Mr. Yoto', Sex='male', Age=27.0, SibSp=0, Parch=0, Ticket='349219', Fare=7.8958, Cabin=None, Embarked='S'), Row(PassengerId=325, Survived=0, Pclass=3, Name='Sage, Mr. George John Jr', Sex='male', Age=None, SibSp=8, Parch=2, Ticket='CA. 2343', Fare=69.55, Cabin=None, Embarked='S'), Row(PassengerId=327, Survived=0, Pclass=3, Name='Nysveen, Mr. Johan Hansen', Sex='male', Age=61.0, SibSp=0, Parch=0, Ticket='345364', Fare=6.2375, Cabin=None, Embarked='S'), Row(PassengerId=332, Survived=0, Pclass=1, Name='Partner, Mr. Austen', Sex='male', Age=45.5, SibSp=0, Parch=0, Ticket='113043', Fare=28.5, Cabin='C124', Embarked='S'), Row(PassengerId=333, Survived=0, Pclass=1, Name='Graham, Mr. George Edward', Sex='male', Age=38.0, SibSp=0, Parch=1, Ticket='PC 17582', Fare=153.4625, Cabin='C91', Embarked='S'), Row(PassengerId=334, Survived=0, Pclass=3, Name='Vander Planke, Mr. Leo Edmondus', Sex='male', Age=16.0, SibSp=2, Parch=0, Ticket='345764', Fare=18.0, Cabin=None, Embarked='S'), Row(PassengerId=336, Survived=0, Pclass=3, Name='Denkoff, Mr. Mitto', Sex='male', Age=None, SibSp=0, Parch=0, Ticket='349225', Fare=7.8958, Cabin=None, Embarked='S'), Row(PassengerId=337, Survived=0, Pclass=1, Name='Pears, Mr. Thomas Clinton', Sex='male', Age=29.0, SibSp=1, Parch=0, Ticket='113776', Fare=66.6, Cabin='C2', Embarked='S'), Row(PassengerId=339, Survived=1, Pclass=3, Name='Dahl, Mr. Karl Edwart', Sex='male', Age=45.0, SibSp=0, Parch=0, Ticket='7598', Fare=8.05, Cabin=None, Embarked='S'), Row(PassengerId=340, Survived=0, Pclass=1, Name='Blackwell, Mr. Stephen Weart', Sex='male', Age=45.0, SibSp=0, Parch=0, Ticket='113784', Fare=35.5, Cabin='T', Embarked='S'), Row(PassengerId=341, Survived=1, Pclass=2, Name='Navratil, Master. Edmond Roger', Sex='male', Age=2.0, SibSp=1, Parch=1, Ticket='230080', Fare=26.0, Cabin='F2', Embarked='S'), Row(PassengerId=343, Survived=0, Pclass=2, Name='Collander, Mr. Erik Gustaf', Sex='male', Age=28.0, SibSp=0, Parch=0, Ticket='248740', Fare=13.0, Cabin=None, Embarked='S'), Row(PassengerId=344, Survived=0, Pclass=2, Name='Sedgwick, Mr. Charles Frederick Waddington', Sex='male', Age=25.0, SibSp=0, Parch=0, Ticket='244361', Fare=13.0, Cabin=None, Embarked='S'), Row(PassengerId=345, Survived=0, Pclass=2, Name='Fox, Mr. Stanley Hubert', Sex='male', Age=36.0, SibSp=0, Parch=0, Ticket='229236', Fare=13.0, Cabin=None, Embarked='S'), Row(PassengerId=349, Survived=1, Pclass=3, Name='\"Coutts, Master. William Loch \"\"William\"\"\"', Sex='male', Age=3.0, SibSp=1, Parch=1, Ticket='C.A. 37671', Fare=15.9, Cabin=None, Embarked='S'), Row(PassengerId=350, Survived=0, Pclass=3, Name='Dimic, Mr. Jovan', Sex='male', Age=42.0, SibSp=0, Parch=0, Ticket='315088', Fare=8.6625, Cabin=None, Embarked='S'), Row(PassengerId=351, Survived=0, Pclass=3, Name='Odahl, Mr. Nils Martin', Sex='male', Age=23.0, SibSp=0, Parch=0, Ticket='7267', Fare=9.225, Cabin=None, Embarked='S'), Row(PassengerId=352, Survived=0, Pclass=1, Name='Williams-Lambert, Mr. Fletcher Fellows', Sex='male', Age=None, SibSp=0, Parch=0, Ticket='113510', Fare=35.0, Cabin='C128', Embarked='S'), Row(PassengerId=353, Survived=0, Pclass=3, Name='Elias, Mr. Tannous', Sex='male', Age=15.0, SibSp=1, Parch=1, Ticket='2695', Fare=7.2292, Cabin=None, Embarked='C'), Row(PassengerId=354, Survived=0, Pclass=3, Name='Arnold-Franchi, Mr. Josef', Sex='male', Age=25.0, SibSp=1, Parch=0, Ticket='349237', Fare=17.8, Cabin=None, Embarked='S'), Row(PassengerId=355, Survived=0, Pclass=3, Name='Yousif, Mr. Wazli', Sex='male', Age=None, SibSp=0, Parch=0, Ticket='2647', Fare=7.225, Cabin=None, Embarked='C'), Row(PassengerId=356, Survived=0, Pclass=3, Name='Vanden Steen, Mr. Leo Peter', Sex='male', Age=28.0, SibSp=0, Parch=0, Ticket='345783', Fare=9.5, Cabin=None, Embarked='S'), Row(PassengerId=361, Survived=0, Pclass=3, Name='Skoog, Mr. Wilhelm', Sex='male', Age=40.0, SibSp=1, Parch=4, Ticket='347088', Fare=27.9, Cabin=None, Embarked='S'), Row(PassengerId=362, Survived=0, Pclass=2, Name='del Carlo, Mr. Sebastiano', Sex='male', Age=29.0, SibSp=1, Parch=0, Ticket='SC/PARIS 2167', Fare=27.7208, Cabin=None, Embarked='C'), Row(PassengerId=364, Survived=0, Pclass=3, Name='Asim, Mr. Adola', Sex='male', Age=35.0, SibSp=0, Parch=0, Ticket='SOTON/O.Q. 3101310', Fare=7.05, Cabin=None, Embarked='S'), Row(PassengerId=365, Survived=0, Pclass=3, Name=\"O'Brien, Mr. Thomas\", Sex='male', Age=None, SibSp=1, Parch=0, Ticket='370365', Fare=15.5, Cabin=None, Embarked='Q'), Row(PassengerId=366, Survived=0, Pclass=3, Name='Adahl, Mr. Mauritz Nils Martin', Sex='male', Age=30.0, SibSp=0, Parch=0, Ticket='C 7076', Fare=7.25, Cabin=None, Embarked='S'), Row(PassengerId=371, Survived=1, Pclass=1, Name='Harder, Mr. George Achilles', Sex='male', Age=25.0, SibSp=1, Parch=0, Ticket='11765', Fare=55.4417, Cabin='E50', Embarked='C'), Row(PassengerId=372, Survived=0, Pclass=3, Name='Wiklund, Mr. Jakob Alfred', Sex='male', Age=18.0, SibSp=1, Parch=0, Ticket='3101267', Fare=6.4958, Cabin=None, Embarked='S'), Row(PassengerId=373, Survived=0, Pclass=3, Name='Beavan, Mr. William Thomas', Sex='male', Age=19.0, SibSp=0, Parch=0, Ticket='323951', Fare=8.05, Cabin=None, Embarked='S'), Row(PassengerId=374, Survived=0, Pclass=1, Name='Ringhini, Mr. Sante', Sex='male', Age=22.0, SibSp=0, Parch=0, Ticket='PC 17760', Fare=135.6333, Cabin=None, Embarked='C'), Row(PassengerId=378, Survived=0, Pclass=1, Name='Widener, Mr. Harry Elkins', Sex='male', Age=27.0, SibSp=0, Parch=2, Ticket='113503', Fare=211.5, Cabin='C82', Embarked='C'), Row(PassengerId=379, Survived=0, Pclass=3, Name='Betros, Mr. Tannous', Sex='male', Age=20.0, SibSp=0, Parch=0, Ticket='2648', Fare=4.0125, Cabin=None, Embarked='C'), Row(PassengerId=380, Survived=0, Pclass=3, Name='Gustafsson, Mr. Karl Gideon', Sex='male', Age=19.0, SibSp=0, Parch=0, Ticket='347069', Fare=7.775, Cabin=None, Embarked='S'), Row(PassengerId=383, Survived=0, Pclass=3, Name='Tikkanen, Mr. Juho', Sex='male', Age=32.0, SibSp=0, Parch=0, Ticket='STON/O 2. 3101293', Fare=7.925, Cabin=None, Embarked='S'), Row(PassengerId=385, Survived=0, Pclass=3, Name='Plotcharsky, Mr. Vasil', Sex='male', Age=None, SibSp=0, Parch=0, Ticket='349227', Fare=7.8958, Cabin=None, Embarked='S'), Row(PassengerId=386, Survived=0, Pclass=2, Name='Davies, Mr. Charles Henry', Sex='male', Age=18.0, SibSp=0, Parch=0, Ticket='S.O.C. 14879', Fare=73.5, Cabin=None, Embarked='S'), Row(PassengerId=387, Survived=0, Pclass=3, Name='Goodwin, Master. Sidney Leonard', Sex='male', Age=1.0, SibSp=5, Parch=2, Ticket='CA 2144', Fare=46.9, Cabin=None, Embarked='S'), Row(PassengerId=389, Survived=0, Pclass=3, Name='Sadlier, Mr. Matthew', Sex='male', Age=None, SibSp=0, Parch=0, Ticket='367655', Fare=7.7292, Cabin=None, Embarked='Q'), Row(PassengerId=391, Survived=1, Pclass=1, Name='Carter, Mr. William Ernest', Sex='male', Age=36.0, SibSp=1, Parch=2, Ticket='113760', Fare=120.0, Cabin='B96 B98', Embarked='S'), Row(PassengerId=392, Survived=1, Pclass=3, Name='Jansson, Mr. Carl Olof', Sex='male', Age=21.0, SibSp=0, Parch=0, Ticket='350034', Fare=7.7958, Cabin=None, Embarked='S'), Row(PassengerId=393, Survived=0, Pclass=3, Name='Gustafsson, Mr. Johan Birger', Sex='male', Age=28.0, SibSp=2, Parch=0, Ticket='3101277', Fare=7.925, Cabin=None, Embarked='S'), Row(PassengerId=396, Survived=0, Pclass=3, Name='Johansson, Mr. Erik', Sex='male', Age=22.0, SibSp=0, Parch=0, Ticket='350052', Fare=7.7958, Cabin=None, Embarked='S'), Row(PassengerId=398, Survived=0, Pclass=2, Name='McKane, Mr. Peter David', Sex='male', Age=46.0, SibSp=0, Parch=0, Ticket='28403', Fare=26.0, Cabin=None, Embarked='S'), Row(PassengerId=399, Survived=0, Pclass=2, Name='Pain, Dr. Alfred', Sex='male', Age=23.0, SibSp=0, Parch=0, Ticket='244278', Fare=10.5, Cabin=None, Embarked='S'), Row(PassengerId=401, Survived=1, Pclass=3, Name='Niskanen, Mr. Juha', Sex='male', Age=39.0, SibSp=0, Parch=0, Ticket='STON/O 2. 3101289', Fare=7.925, Cabin=None, Embarked='S'), Row(PassengerId=402, Survived=0, Pclass=3, Name='Adams, Mr. John', Sex='male', Age=26.0, SibSp=0, Parch=0, Ticket='341826', Fare=8.05, Cabin=None, Embarked='S'), Row(PassengerId=404, Survived=0, Pclass=3, Name='Hakkarainen, Mr. Pekka Pietari', Sex='male', Age=28.0, SibSp=1, Parch=0, Ticket='STON/O2. 3101279', Fare=15.85, Cabin=None, Embarked='S'), Row(PassengerId=406, Survived=0, Pclass=2, Name='Gale, Mr. Shadrach', Sex='male', Age=34.0, SibSp=1, Parch=0, Ticket='28664', Fare=21.0, Cabin=None, Embarked='S'), Row(PassengerId=407, Survived=0, Pclass=3, Name='Widegren, Mr. Carl/Charles Peter', Sex='male', Age=51.0, SibSp=0, Parch=0, Ticket='347064', Fare=7.75, Cabin=None, Embarked='S'), Row(PassengerId=408, Survived=1, Pclass=2, Name='Richards, Master. William Rowe', Sex='male', Age=3.0, SibSp=1, Parch=1, Ticket='29106', Fare=18.75, Cabin=None, Embarked='S'), Row(PassengerId=409, Survived=0, Pclass=3, Name='Birkeland, Mr. Hans Martin Monsen', Sex='male', Age=21.0, SibSp=0, Parch=0, Ticket='312992', Fare=7.775, Cabin=None, Embarked='S'), Row(PassengerId=411, Survived=0, Pclass=3, Name='Sdycoff, Mr. Todor', Sex='male', Age=None, SibSp=0, Parch=0, Ticket='349222', Fare=7.8958, Cabin=None, Embarked='S'), Row(PassengerId=412, Survived=0, Pclass=3, Name='Hart, Mr. Henry', Sex='male', Age=None, SibSp=0, Parch=0, Ticket='394140', Fare=6.8583, Cabin=None, Embarked='Q'), Row(PassengerId=414, Survived=0, Pclass=2, Name='Cunningham, Mr. Alfred Fleming', Sex='male', Age=None, SibSp=0, Parch=0, Ticket='239853', Fare=0.0, Cabin=None, Embarked='S'), Row(PassengerId=415, Survived=1, Pclass=3, Name='Sundman, Mr. Johan Julian', Sex='male', Age=44.0, SibSp=0, Parch=0, Ticket='STON/O 2. 3101269', Fare=7.925, Cabin=None, Embarked='S'), Row(PassengerId=419, Survived=0, Pclass=2, Name='Matthews, Mr. William John', Sex='male', Age=30.0, SibSp=0, Parch=0, Ticket='28228', Fare=13.0, Cabin=None, Embarked='S'), Row(PassengerId=421, Survived=0, Pclass=3, Name='Gheorgheff, Mr. Stanio', Sex='male', Age=None, SibSp=0, Parch=0, Ticket='349254', Fare=7.8958, Cabin=None, Embarked='C'), Row(PassengerId=422, Survived=0, Pclass=3, Name='Charters, Mr. David', Sex='male', Age=21.0, SibSp=0, Parch=0, Ticket='A/5. 13032', Fare=7.7333, Cabin=None, Embarked='Q'), Row(PassengerId=423, Survived=0, Pclass=3, Name='Zimmerman, Mr. Leo', Sex='male', Age=29.0, SibSp=0, Parch=0, Ticket='315082', Fare=7.875, Cabin=None, Embarked='S'), Row(PassengerId=425, Survived=0, Pclass=3, Name='Rosblom, Mr. Viktor Richard', Sex='male', Age=18.0, SibSp=1, Parch=1, Ticket='370129', Fare=20.2125, Cabin=None, Embarked='S'), Row(PassengerId=426, Survived=0, Pclass=3, Name='Wiseman, Mr. Phillippe', Sex='male', Age=None, SibSp=0, Parch=0, Ticket='A/4. 34244', Fare=7.25, Cabin=None, Embarked='S'), Row(PassengerId=429, Survived=0, Pclass=3, Name='Flynn, Mr. James', Sex='male', Age=None, SibSp=0, Parch=0, Ticket='364851', Fare=7.75, Cabin=None, Embarked='Q'), Row(PassengerId=430, Survived=1, Pclass=3, Name='Pickard, Mr. Berk (Berk Trembisky)', Sex='male', Age=32.0, SibSp=0, Parch=0, Ticket='SOTON/O.Q. 392078', Fare=8.05, Cabin='E10', Embarked='S'), Row(PassengerId=431, Survived=1, Pclass=1, Name='Bjornstrom-Steffansson, Mr. Mauritz Hakan', Sex='male', Age=28.0, SibSp=0, Parch=0, Ticket='110564', Fare=26.55, Cabin='C52', Embarked='S'), Row(PassengerId=434, Survived=0, Pclass=3, Name='Kallio, Mr. Nikolai Erland', Sex='male', Age=17.0, SibSp=0, Parch=0, Ticket='STON/O 2. 3101274', Fare=7.125, Cabin=None, Embarked='S'), Row(PassengerId=435, Survived=0, Pclass=1, Name='Silvey, Mr. William Baird', Sex='male', Age=50.0, SibSp=1, Parch=0, Ticket='13507', Fare=55.9, Cabin='E44', Embarked='S'), Row(PassengerId=439, Survived=0, Pclass=1, Name='Fortune, Mr. Mark', Sex='male', Age=64.0, SibSp=1, Parch=4, Ticket='19950', Fare=263.0, Cabin='C23 C25 C27', Embarked='S'), Row(PassengerId=440, Survived=0, Pclass=2, Name='Kvillner, Mr. Johan Henrik Johannesson', Sex='male', Age=31.0, SibSp=0, Parch=0, Ticket='C.A. 18723', Fare=10.5, Cabin=None, Embarked='S'), Row(PassengerId=442, Survived=0, Pclass=3, Name='Hampe, Mr. Leon', Sex='male', Age=20.0, SibSp=0, Parch=0, Ticket='345769', Fare=9.5, Cabin=None, Embarked='S'), Row(PassengerId=443, Survived=0, Pclass=3, Name='Petterson, Mr. Johan Emil', Sex='male', Age=25.0, SibSp=1, Parch=0, Ticket='347076', Fare=7.775, Cabin=None, Embarked='S'), Row(PassengerId=445, Survived=1, Pclass=3, Name='Johannesen-Bratthammer, Mr. Bernt', Sex='male', Age=None, SibSp=0, Parch=0, Ticket='65306', Fare=8.1125, Cabin=None, Embarked='S'), Row(PassengerId=446, Survived=1, Pclass=1, Name='Dodge, Master. Washington', Sex='male', Age=4.0, SibSp=0, Parch=2, Ticket='33638', Fare=81.8583, Cabin='A34', Embarked='S'), Row(PassengerId=448, Survived=1, Pclass=1, Name='Seward, Mr. Frederic Kimber', Sex='male', Age=34.0, SibSp=0, Parch=0, Ticket='113794', Fare=26.55, Cabin=None, Embarked='S'), Row(PassengerId=450, Survived=1, Pclass=1, Name='Peuchen, Major. Arthur Godfrey', Sex='male', Age=52.0, SibSp=0, Parch=0, Ticket='113786', Fare=30.5, Cabin='C104', Embarked='S'), Row(PassengerId=451, Survived=0, Pclass=2, Name='West, Mr. Edwy Arthur', Sex='male', Age=36.0, SibSp=1, Parch=2, Ticket='C.A. 34651', Fare=27.75, Cabin=None, Embarked='S'), Row(PassengerId=452, Survived=0, Pclass=3, Name='Hagland, Mr. Ingvald Olai Olsen', Sex='male', Age=None, SibSp=1, Parch=0, Ticket='65303', Fare=19.9667, Cabin=None, Embarked='S'), Row(PassengerId=453, Survived=0, Pclass=1, Name='Foreman, Mr. Benjamin Laventall', Sex='male', Age=30.0, SibSp=0, Parch=0, Ticket='113051', Fare=27.75, Cabin='C111', Embarked='C'), Row(PassengerId=454, Survived=1, Pclass=1, Name='Goldenberg, Mr. Samuel L', Sex='male', Age=49.0, SibSp=1, Parch=0, Ticket='17453', Fare=89.1042, Cabin='C92', Embarked='C'), Row(PassengerId=455, Survived=0, Pclass=3, Name='Peduzzi, Mr. Joseph', Sex='male', Age=None, SibSp=0, Parch=0, Ticket='A/5 2817', Fare=8.05, Cabin=None, Embarked='S'), Row(PassengerId=456, Survived=1, Pclass=3, Name='Jalsevac, Mr. Ivan', Sex='male', Age=29.0, SibSp=0, Parch=0, Ticket='349240', Fare=7.8958, Cabin=None, Embarked='C'), Row(PassengerId=457, Survived=0, Pclass=1, Name='Millet, Mr. Francis Davis', Sex='male', Age=65.0, SibSp=0, Parch=0, Ticket='13509', Fare=26.55, Cabin='E38', Embarked='S'), Row(PassengerId=460, Survived=0, Pclass=3, Name=\"O'Connor, Mr. Maurice\", Sex='male', Age=None, SibSp=0, Parch=0, Ticket='371060', Fare=7.75, Cabin=None, Embarked='Q'), Row(PassengerId=461, Survived=1, Pclass=1, Name='Anderson, Mr. Harry', Sex='male', Age=48.0, SibSp=0, Parch=0, Ticket='19952', Fare=26.55, Cabin='E12', Embarked='S'), Row(PassengerId=462, Survived=0, Pclass=3, Name='Morley, Mr. William', Sex='male', Age=34.0, SibSp=0, Parch=0, Ticket='364506', Fare=8.05, Cabin=None, Embarked='S'), Row(PassengerId=463, Survived=0, Pclass=1, Name='Gee, Mr. Arthur H', Sex='male', Age=47.0, SibSp=0, Parch=0, Ticket='111320', Fare=38.5, Cabin='E63', Embarked='S'), Row(PassengerId=464, Survived=0, Pclass=2, Name='Milling, Mr. Jacob Christian', Sex='male', Age=48.0, SibSp=0, Parch=0, Ticket='234360', Fare=13.0, Cabin=None, Embarked='S'), Row(PassengerId=465, Survived=0, Pclass=3, Name='Maisner, Mr. Simon', Sex='male', Age=None, SibSp=0, Parch=0, Ticket='A/S 2816', Fare=8.05, Cabin=None, Embarked='S'), Row(PassengerId=466, Survived=0, Pclass=3, Name='Goncalves, Mr. Manuel Estanslas', Sex='male', Age=38.0, SibSp=0, Parch=0, Ticket='SOTON/O.Q. 3101306', Fare=7.05, Cabin=None, Embarked='S'), Row(PassengerId=467, Survived=0, Pclass=2, Name='Campbell, Mr. William', Sex='male', Age=None, SibSp=0, Parch=0, Ticket='239853', Fare=0.0, Cabin=None, Embarked='S'), Row(PassengerId=468, Survived=0, Pclass=1, Name='Smart, Mr. John Montgomery', Sex='male', Age=56.0, SibSp=0, Parch=0, Ticket='113792', Fare=26.55, Cabin=None, Embarked='S'), Row(PassengerId=469, Survived=0, Pclass=3, Name='Scanlan, Mr. James', Sex='male', Age=None, SibSp=0, Parch=0, Ticket='36209', Fare=7.725, Cabin=None, Embarked='Q'), Row(PassengerId=471, Survived=0, Pclass=3, Name='Keefe, Mr. Arthur', Sex='male', Age=None, SibSp=0, Parch=0, Ticket='323592', Fare=7.25, Cabin=None, Embarked='S'), Row(PassengerId=472, Survived=0, Pclass=3, Name='Cacic, Mr. Luka', Sex='male', Age=38.0, SibSp=0, Parch=0, Ticket='315089', Fare=8.6625, Cabin=None, Embarked='S'), Row(PassengerId=476, Survived=0, Pclass=1, Name='Clifford, Mr. George Quincy', Sex='male', Age=None, SibSp=0, Parch=0, Ticket='110465', Fare=52.0, Cabin='A14', Embarked='S'), Row(PassengerId=477, Survived=0, Pclass=2, Name='Renouf, Mr. Peter Henry', Sex='male', Age=34.0, SibSp=1, Parch=0, Ticket='31027', Fare=21.0, Cabin=None, Embarked='S'), Row(PassengerId=478, Survived=0, Pclass=3, Name='Braund, Mr. Lewis Richard', Sex='male', Age=29.0, SibSp=1, Parch=0, Ticket='3460', Fare=7.0458, Cabin=None, Embarked='S'), Row(PassengerId=479, Survived=0, Pclass=3, Name='Karlsson, Mr. Nils August', Sex='male', Age=22.0, SibSp=0, Parch=0, Ticket='350060', Fare=7.5208, Cabin=None, Embarked='S'), Row(PassengerId=481, Survived=0, Pclass=3, Name='Goodwin, Master. Harold Victor', Sex='male', Age=9.0, SibSp=5, Parch=2, Ticket='CA 2144', Fare=46.9, Cabin=None, Embarked='S'), Row(PassengerId=482, Survived=0, Pclass=2, Name='\"Frost, Mr. Anthony Wood \"\"Archie\"\"\"', Sex='male', Age=None, SibSp=0, Parch=0, Ticket='239854', Fare=0.0, Cabin=None, Embarked='S'), Row(PassengerId=483, Survived=0, Pclass=3, Name='Rouse, Mr. Richard Henry', Sex='male', Age=50.0, SibSp=0, Parch=0, Ticket='A/5 3594', Fare=8.05, Cabin=None, Embarked='S'), Row(PassengerId=485, Survived=1, Pclass=1, Name='Bishop, Mr. Dickinson H', Sex='male', Age=25.0, SibSp=1, Parch=0, Ticket='11967', Fare=91.0792, Cabin='B49', Embarked='C'), Row(PassengerId=488, Survived=0, Pclass=1, Name='Kent, Mr. Edward Austin', Sex='male', Age=58.0, SibSp=0, Parch=0, Ticket='11771', Fare=29.7, Cabin='B37', Embarked='C'), Row(PassengerId=489, Survived=0, Pclass=3, Name='Somerton, Mr. Francis William', Sex='male', Age=30.0, SibSp=0, Parch=0, Ticket='A.5. 18509', Fare=8.05, Cabin=None, Embarked='S'), Row(PassengerId=490, Survived=1, Pclass=3, Name='\"Coutts, Master. Eden Leslie \"\"Neville\"\"\"', Sex='male', Age=9.0, SibSp=1, Parch=1, Ticket='C.A. 37671', Fare=15.9, Cabin=None, Embarked='S'), Row(PassengerId=491, Survived=0, Pclass=3, Name='Hagland, Mr. Konrad Mathias Reiersen', Sex='male', Age=None, SibSp=1, Parch=0, Ticket='65304', Fare=19.9667, Cabin=None, Embarked='S'), Row(PassengerId=492, Survived=0, Pclass=3, Name='Windelov, Mr. Einar', Sex='male', Age=21.0, SibSp=0, Parch=0, Ticket='SOTON/OQ 3101317', Fare=7.25, Cabin=None, Embarked='S'), Row(PassengerId=493, Survived=0, Pclass=1, Name='Molson, Mr. Harry Markland', Sex='male', Age=55.0, SibSp=0, Parch=0, Ticket='113787', Fare=30.5, Cabin='C30', Embarked='S'), Row(PassengerId=494, Survived=0, Pclass=1, Name='Artagaveytia, Mr. Ramon', Sex='male', Age=71.0, SibSp=0, Parch=0, Ticket='PC 17609', Fare=49.5042, Cabin=None, Embarked='C'), Row(PassengerId=495, Survived=0, Pclass=3, Name='Stanley, Mr. Edward Roland', Sex='male', Age=21.0, SibSp=0, Parch=0, Ticket='A/4 45380', Fare=8.05, Cabin=None, Embarked='S'), Row(PassengerId=496, Survived=0, Pclass=3, Name='Yousseff, Mr. Gerious', Sex='male', Age=None, SibSp=0, Parch=0, Ticket='2627', Fare=14.4583, Cabin=None, Embarked='C'), Row(PassengerId=498, Survived=0, Pclass=3, Name='Shellard, Mr. Frederick William', Sex='male', Age=None, SibSp=0, Parch=0, Ticket='C.A. 6212', Fare=15.1, Cabin=None, Embarked='S'), Row(PassengerId=500, Survived=0, Pclass=3, Name='Svensson, Mr. Olof', Sex='male', Age=24.0, SibSp=0, Parch=0, Ticket='350035', Fare=7.7958, Cabin=None, Embarked='S'), Row(PassengerId=501, Survived=0, Pclass=3, Name='Calic, Mr. Petar', Sex='male', Age=17.0, SibSp=0, Parch=0, Ticket='315086', Fare=8.6625, Cabin=None, Embarked='S'), Row(PassengerId=506, Survived=0, Pclass=1, Name='Penasco y Castellana, Mr. Victor de Satode', Sex='male', Age=18.0, SibSp=1, Parch=0, Ticket='PC 17758', Fare=108.9, Cabin='C65', Embarked='C'), Row(PassengerId=508, Survived=1, Pclass=1, Name='\"Bradley, Mr. George (\"\"George Arthur Brayton\"\")\"', Sex='male', Age=None, SibSp=0, Parch=0, Ticket='111427', Fare=26.55, Cabin=None, Embarked='S'), Row(PassengerId=509, Survived=0, Pclass=3, Name='Olsen, Mr. Henry Margido', Sex='male', Age=28.0, SibSp=0, Parch=0, Ticket='C 4001', Fare=22.525, Cabin=None, Embarked='S'), Row(PassengerId=510, Survived=1, Pclass=3, Name='Lang, Mr. Fang', Sex='male', Age=26.0, SibSp=0, Parch=0, Ticket='1601', Fare=56.4958, Cabin=None, Embarked='S'), Row(PassengerId=511, Survived=1, Pclass=3, Name='Daly, Mr. Eugene Patrick', Sex='male', Age=29.0, SibSp=0, Parch=0, Ticket='382651', Fare=7.75, Cabin=None, Embarked='Q'), Row(PassengerId=512, Survived=0, Pclass=3, Name='Webber, Mr. James', Sex='male', Age=None, SibSp=0, Parch=0, Ticket='SOTON/OQ 3101316', Fare=8.05, Cabin=None, Embarked='S'), Row(PassengerId=513, Survived=1, Pclass=1, Name='McGough, Mr. James Robert', Sex='male', Age=36.0, SibSp=0, Parch=0, Ticket='PC 17473', Fare=26.2875, Cabin='E25', Embarked='S'), Row(PassengerId=515, Survived=0, Pclass=3, Name='Coleff, Mr. Satio', Sex='male', Age=24.0, SibSp=0, Parch=0, Ticket='349209', Fare=7.4958, Cabin=None, Embarked='S'), Row(PassengerId=516, Survived=0, Pclass=1, Name='Walker, Mr. William Anderson', Sex='male', Age=47.0, SibSp=0, Parch=0, Ticket='36967', Fare=34.0208, Cabin='D46', Embarked='S'), Row(PassengerId=518, Survived=0, Pclass=3, Name='Ryan, Mr. Patrick', Sex='male', Age=None, SibSp=0, Parch=0, Ticket='371110', Fare=24.15, Cabin=None, Embarked='Q'), Row(PassengerId=520, Survived=0, Pclass=3, Name='Pavlovic, Mr. Stefo', Sex='male', Age=32.0, SibSp=0, Parch=0, Ticket='349242', Fare=7.8958, Cabin=None, Embarked='S'), Row(PassengerId=522, Survived=0, Pclass=3, Name='Vovk, Mr. Janko', Sex='male', Age=22.0, SibSp=0, Parch=0, Ticket='349252', Fare=7.8958, Cabin=None, Embarked='S'), Row(PassengerId=523, Survived=0, Pclass=3, Name='Lahoud, Mr. Sarkis', Sex='male', Age=None, SibSp=0, Parch=0, Ticket='2624', Fare=7.225, Cabin=None, Embarked='C'), Row(PassengerId=525, Survived=0, Pclass=3, Name='Kassem, Mr. Fared', Sex='male', Age=None, SibSp=0, Parch=0, Ticket='2700', Fare=7.2292, Cabin=None, Embarked='C'), Row(PassengerId=526, Survived=0, Pclass=3, Name='Farrell, Mr. James', Sex='male', Age=40.5, SibSp=0, Parch=0, Ticket='367232', Fare=7.75, Cabin=None, Embarked='Q'), Row(PassengerId=528, Survived=0, Pclass=1, Name='Farthing, Mr. John', Sex='male', Age=None, SibSp=0, Parch=0, Ticket='PC 17483', Fare=221.7792, Cabin='C95', Embarked='S'), Row(PassengerId=529, Survived=0, Pclass=3, Name='Salonen, Mr. Johan Werner', Sex='male', Age=39.0, SibSp=0, Parch=0, Ticket='3101296', Fare=7.925, Cabin=None, Embarked='S'), Row(PassengerId=530, Survived=0, Pclass=2, Name='Hocking, Mr. Richard George', Sex='male', Age=23.0, SibSp=2, Parch=1, Ticket='29104', Fare=11.5, Cabin=None, Embarked='S'), Row(PassengerId=532, Survived=0, Pclass=3, Name='Toufik, Mr. Nakli', Sex='male', Age=None, SibSp=0, Parch=0, Ticket='2641', Fare=7.2292, Cabin=None, Embarked='C'), Row(PassengerId=533, Survived=0, Pclass=3, Name='Elias, Mr. Joseph Jr', Sex='male', Age=17.0, SibSp=1, Parch=1, Ticket='2690', Fare=7.2292, Cabin=None, Embarked='C'), Row(PassengerId=537, Survived=0, Pclass=1, Name='Butt, Major. Archibald Willingham', Sex='male', Age=45.0, SibSp=0, Parch=0, Ticket='113050', Fare=26.55, Cabin='B38', Embarked='S'), Row(PassengerId=539, Survived=0, Pclass=3, Name='Risien, Mr. Samuel Beard', Sex='male', Age=None, SibSp=0, Parch=0, Ticket='364498', Fare=14.5, Cabin=None, Embarked='S'), Row(PassengerId=544, Survived=1, Pclass=2, Name='Beane, Mr. Edward', Sex='male', Age=32.0, SibSp=1, Parch=0, Ticket='2908', Fare=26.0, Cabin=None, Embarked='S'), Row(PassengerId=545, Survived=0, Pclass=1, Name='Douglas, Mr. Walter Donald', Sex='male', Age=50.0, SibSp=1, Parch=0, Ticket='PC 17761', Fare=106.425, Cabin='C86', Embarked='C'), Row(PassengerId=546, Survived=0, Pclass=1, Name='Nicholson, Mr. Arthur Ernest', Sex='male', Age=64.0, SibSp=0, Parch=0, Ticket='693', Fare=26.0, Cabin=None, Embarked='S'), Row(PassengerId=548, Survived=1, Pclass=2, Name='Padro y Manent, Mr. Julian', Sex='male', Age=None, SibSp=0, Parch=0, Ticket='SC/PARIS 2146', Fare=13.8625, Cabin=None, Embarked='C'), Row(PassengerId=549, Survived=0, Pclass=3, Name='Goldsmith, Mr. Frank John', Sex='male', Age=33.0, SibSp=1, Parch=1, Ticket='363291', Fare=20.525, Cabin=None, Embarked='S'), Row(PassengerId=550, Survived=1, Pclass=2, Name='Davies, Master. John Morgan Jr', Sex='male', Age=8.0, SibSp=1, Parch=1, Ticket='C.A. 33112', Fare=36.75, Cabin=None, Embarked='S'), Row(PassengerId=551, Survived=1, Pclass=1, Name='Thayer, Mr. John Borland Jr', Sex='male', Age=17.0, SibSp=0, Parch=2, Ticket='17421', Fare=110.8833, Cabin='C70', Embarked='C'), Row(PassengerId=552, Survived=0, Pclass=2, Name='Sharp, Mr. Percival James R', Sex='male', Age=27.0, SibSp=0, Parch=0, Ticket='244358', Fare=26.0, Cabin=None, Embarked='S'), Row(PassengerId=553, Survived=0, Pclass=3, Name=\"O'Brien, Mr. Timothy\", Sex='male', Age=None, SibSp=0, Parch=0, Ticket='330979', Fare=7.8292, Cabin=None, Embarked='Q'), Row(PassengerId=554, Survived=1, Pclass=3, Name='\"Leeni, Mr. Fahim (\"\"Philip Zenni\"\")\"', Sex='male', Age=22.0, SibSp=0, Parch=0, Ticket='2620', Fare=7.225, Cabin=None, Embarked='C'), Row(PassengerId=556, Survived=0, Pclass=1, Name='Wright, Mr. George', Sex='male', Age=62.0, SibSp=0, Parch=0, Ticket='113807', Fare=26.55, Cabin=None, Embarked='S'), Row(PassengerId=558, Survived=0, Pclass=1, Name='Robbins, Mr. Victor', Sex='male', Age=None, SibSp=0, Parch=0, Ticket='PC 17757', Fare=227.525, Cabin=None, Embarked='C'), Row(PassengerId=561, Survived=0, Pclass=3, Name='Morrow, Mr. Thomas Rowan', Sex='male', Age=None, SibSp=0, Parch=0, Ticket='372622', Fare=7.75, Cabin=None, Embarked='Q'), Row(PassengerId=562, Survived=0, Pclass=3, Name='Sivic, Mr. Husein', Sex='male', Age=40.0, SibSp=0, Parch=0, Ticket='349251', Fare=7.8958, Cabin=None, Embarked='S'), Row(PassengerId=563, Survived=0, Pclass=2, Name='Norman, Mr. Robert Douglas', Sex='male', Age=28.0, SibSp=0, Parch=0, Ticket='218629', Fare=13.5, Cabin=None, Embarked='S'), Row(PassengerId=564, Survived=0, Pclass=3, Name='Simmons, Mr. John', Sex='male', Age=None, SibSp=0, Parch=0, Ticket='SOTON/OQ 392082', Fare=8.05, Cabin=None, Embarked='S'), Row(PassengerId=566, Survived=0, Pclass=3, Name='Davies, Mr. Alfred J', Sex='male', Age=24.0, SibSp=2, Parch=0, Ticket='A/4 48871', Fare=24.15, Cabin=None, Embarked='S'), Row(PassengerId=567, Survived=0, Pclass=3, Name='Stoytcheff, Mr. Ilia', Sex='male', Age=19.0, SibSp=0, Parch=0, Ticket='349205', Fare=7.8958, Cabin=None, Embarked='S'), Row(PassengerId=569, Survived=0, Pclass=3, Name='Doharr, Mr. Tannous', Sex='male', Age=None, SibSp=0, Parch=0, Ticket='2686', Fare=7.2292, Cabin=None, Embarked='C'), Row(PassengerId=570, Survived=1, Pclass=3, Name='Jonsson, Mr. Carl', Sex='male', Age=32.0, SibSp=0, Parch=0, Ticket='350417', Fare=7.8542, Cabin=None, Embarked='S'), Row(PassengerId=571, Survived=1, Pclass=2, Name='Harris, Mr. George', Sex='male', Age=62.0, SibSp=0, Parch=0, Ticket='S.W./PP 752', Fare=10.5, Cabin=None, Embarked='S'), Row(PassengerId=573, Survived=1, Pclass=1, Name='\"Flynn, Mr. John Irwin (\"\"Irving\"\")\"', Sex='male', Age=36.0, SibSp=0, Parch=0, Ticket='PC 17474', Fare=26.3875, Cabin='E25', Embarked='S'), Row(PassengerId=575, Survived=0, Pclass=3, Name='Rush, Mr. Alfred George John', Sex='male', Age=16.0, SibSp=0, Parch=0, Ticket='A/4. 20589', Fare=8.05, Cabin=None, Embarked='S'), Row(PassengerId=576, Survived=0, Pclass=3, Name='Patchett, Mr. George', Sex='male', Age=19.0, SibSp=0, Parch=0, Ticket='358585', Fare=14.5, Cabin=None, Embarked='S'), Row(PassengerId=580, Survived=1, Pclass=3, Name='Jussila, Mr. Eiriik', Sex='male', Age=32.0, SibSp=0, Parch=0, Ticket='STON/O 2. 3101286', Fare=7.925, Cabin=None, Embarked='S'), Row(PassengerId=583, Survived=0, Pclass=2, Name='Downton, Mr. William James', Sex='male', Age=54.0, SibSp=0, Parch=0, Ticket='28403', Fare=26.0, Cabin=None, Embarked='S'), Row(PassengerId=584, Survived=0, Pclass=1, Name='Ross, Mr. John Hugo', Sex='male', Age=36.0, SibSp=0, Parch=0, Ticket='13049', Fare=40.125, Cabin='A10', Embarked='C'), Row(PassengerId=585, Survived=0, Pclass=3, Name='Paulner, Mr. Uscher', Sex='male', Age=None, SibSp=0, Parch=0, Ticket='3411', Fare=8.7125, Cabin=None, Embarked='C'), Row(PassengerId=587, Survived=0, Pclass=2, Name='Jarvis, Mr. John Denzil', Sex='male', Age=47.0, SibSp=0, Parch=0, Ticket='237565', Fare=15.0, Cabin=None, Embarked='S'), Row(PassengerId=588, Survived=1, Pclass=1, Name='Frolicher-Stehli, Mr. Maxmillian', Sex='male', Age=60.0, SibSp=1, Parch=1, Ticket='13567', Fare=79.2, Cabin='B41', Embarked='C'), Row(PassengerId=589, Survived=0, Pclass=3, Name='Gilinski, Mr. Eliezer', Sex='male', Age=22.0, SibSp=0, Parch=0, Ticket='14973', Fare=8.05, Cabin=None, Embarked='S'), Row(PassengerId=590, Survived=0, Pclass=3, Name='Murdlin, Mr. Joseph', Sex='male', Age=None, SibSp=0, Parch=0, Ticket='A./5. 3235', Fare=8.05, Cabin=None, Embarked='S'), Row(PassengerId=591, Survived=0, Pclass=3, Name='Rintamaki, Mr. Matti', Sex='male', Age=35.0, SibSp=0, Parch=0, Ticket='STON/O 2. 3101273', Fare=7.125, Cabin=None, Embarked='S'), Row(PassengerId=593, Survived=0, Pclass=3, Name='Elsbury, Mr. William James', Sex='male', Age=47.0, SibSp=0, Parch=0, Ticket='A/5 3902', Fare=7.25, Cabin=None, Embarked='S'), Row(PassengerId=595, Survived=0, Pclass=2, Name='Chapman, Mr. John Henry', Sex='male', Age=37.0, SibSp=1, Parch=0, Ticket='SC/AH 29037', Fare=26.0, Cabin=None, Embarked='S'), Row(PassengerId=596, Survived=0, Pclass=3, Name='Van Impe, Mr. Jean Baptiste', Sex='male', Age=36.0, SibSp=1, Parch=1, Ticket='345773', Fare=24.15, Cabin=None, Embarked='S'), Row(PassengerId=598, Survived=0, Pclass=3, Name='Johnson, Mr. Alfred', Sex='male', Age=49.0, SibSp=0, Parch=0, Ticket='LINE', Fare=0.0, Cabin=None, Embarked='S'), Row(PassengerId=599, Survived=0, Pclass=3, Name='Boulos, Mr. Hanna', Sex='male', Age=None, SibSp=0, Parch=0, Ticket='2664', Fare=7.225, Cabin=None, Embarked='C'), Row(PassengerId=600, Survived=1, Pclass=1, Name='\"Duff Gordon, Sir. Cosmo Edmund (\"\"Mr Morgan\"\")\"', Sex='male', Age=49.0, SibSp=1, Parch=0, Ticket='PC 17485', Fare=56.9292, Cabin='A20', Embarked='C'), Row(PassengerId=602, Survived=0, Pclass=3, Name='Slabenoff, Mr. Petco', Sex='male', Age=None, SibSp=0, Parch=0, Ticket='349214', Fare=7.8958, Cabin=None, Embarked='S'), Row(PassengerId=603, Survived=0, Pclass=1, Name='Harrington, Mr. Charles H', Sex='male', Age=None, SibSp=0, Parch=0, Ticket='113796', Fare=42.4, Cabin=None, Embarked='S'), Row(PassengerId=604, Survived=0, Pclass=3, Name='Torber, Mr. Ernst William', Sex='male', Age=44.0, SibSp=0, Parch=0, Ticket='364511', Fare=8.05, Cabin=None, Embarked='S'), Row(PassengerId=605, Survived=1, Pclass=1, Name='\"Homer, Mr. Harry (\"\"Mr E Haven\"\")\"', Sex='male', Age=35.0, SibSp=0, Parch=0, Ticket='111426', Fare=26.55, Cabin=None, Embarked='C'), Row(PassengerId=606, Survived=0, Pclass=3, Name='Lindell, Mr. Edvard Bengtsson', Sex='male', Age=36.0, SibSp=1, Parch=0, Ticket='349910', Fare=15.55, Cabin=None, Embarked='S'), Row(PassengerId=607, Survived=0, Pclass=3, Name='Karaic, Mr. Milan', Sex='male', Age=30.0, SibSp=0, Parch=0, Ticket='349246', Fare=7.8958, Cabin=None, Embarked='S'), Row(PassengerId=608, Survived=1, Pclass=1, Name='Daniel, Mr. Robert Williams', Sex='male', Age=27.0, SibSp=0, Parch=0, Ticket='113804', Fare=30.5, Cabin=None, Embarked='S'), Row(PassengerId=612, Survived=0, Pclass=3, Name='Jardin, Mr. Jose Neto', Sex='male', Age=None, SibSp=0, Parch=0, Ticket='SOTON/O.Q. 3101305', Fare=7.05, Cabin=None, Embarked='S'), Row(PassengerId=614, Survived=0, Pclass=3, Name='Horgan, Mr. John', Sex='male', Age=None, SibSp=0, Parch=0, Ticket='370377', Fare=7.75, Cabin=None, Embarked='Q'), Row(PassengerId=615, Survived=0, Pclass=3, Name='Brocklebank, Mr. William Alfred', Sex='male', Age=35.0, SibSp=0, Parch=0, Ticket='364512', Fare=8.05, Cabin=None, Embarked='S'), Row(PassengerId=617, Survived=0, Pclass=3, Name='Danbom, Mr. Ernst Gilbert', Sex='male', Age=34.0, SibSp=1, Parch=1, Ticket='347080', Fare=14.4, Cabin=None, Embarked='S'), Row(PassengerId=620, Survived=0, Pclass=2, Name='Gavey, Mr. Lawrence', Sex='male', Age=26.0, SibSp=0, Parch=0, Ticket='31028', Fare=10.5, Cabin=None, Embarked='S'), Row(PassengerId=621, Survived=0, Pclass=3, Name='Yasbeck, Mr. Antoni', Sex='male', Age=27.0, SibSp=1, Parch=0, Ticket='2659', Fare=14.4542, Cabin=None, Embarked='C'), Row(PassengerId=622, Survived=1, Pclass=1, Name='Kimball, Mr. Edwin Nelson Jr', Sex='male', Age=42.0, SibSp=1, Parch=0, Ticket='11753', Fare=52.5542, Cabin='D19', Embarked='S'), Row(PassengerId=623, Survived=1, Pclass=3, Name='Nakid, Mr. Sahid', Sex='male', Age=20.0, SibSp=1, Parch=1, Ticket='2653', Fare=15.7417, Cabin=None, Embarked='C'), Row(PassengerId=624, Survived=0, Pclass=3, Name='Hansen, Mr. Henry Damsgaard', Sex='male', Age=21.0, SibSp=0, Parch=0, Ticket='350029', Fare=7.8542, Cabin=None, Embarked='S'), Row(PassengerId=625, Survived=0, Pclass=3, Name='\"Bowen, Mr. David John \"\"Dai\"\"\"', Sex='male', Age=21.0, SibSp=0, Parch=0, Ticket='54636', Fare=16.1, Cabin=None, Embarked='S'), Row(PassengerId=626, Survived=0, Pclass=1, Name='Sutton, Mr. Frederick', Sex='male', Age=61.0, SibSp=0, Parch=0, Ticket='36963', Fare=32.3208, Cabin='D50', Embarked='S'), Row(PassengerId=627, Survived=0, Pclass=2, Name='Kirkland, Rev. Charles Leonard', Sex='male', Age=57.0, SibSp=0, Parch=0, Ticket='219533', Fare=12.35, Cabin=None, Embarked='Q'), Row(PassengerId=629, Survived=0, Pclass=3, Name='Bostandyeff, Mr. Guentcho', Sex='male', Age=26.0, SibSp=0, Parch=0, Ticket='349224', Fare=7.8958, Cabin=None, Embarked='S'), Row(PassengerId=630, Survived=0, Pclass=3, Name=\"O'Connell, Mr. Patrick D\", Sex='male', Age=None, SibSp=0, Parch=0, Ticket='334912', Fare=7.7333, Cabin=None, Embarked='Q'), Row(PassengerId=631, Survived=1, Pclass=1, Name='Barkworth, Mr. Algernon Henry Wilson', Sex='male', Age=80.0, SibSp=0, Parch=0, Ticket='27042', Fare=30.0, Cabin='A23', Embarked='S'), Row(PassengerId=632, Survived=0, Pclass=3, Name='Lundahl, Mr. Johan Svensson', Sex='male', Age=51.0, SibSp=0, Parch=0, Ticket='347743', Fare=7.0542, Cabin=None, Embarked='S'), Row(PassengerId=633, Survived=1, Pclass=1, Name='Stahelin-Maeglin, Dr. Max', Sex='male', Age=32.0, SibSp=0, Parch=0, Ticket='13214', Fare=30.5, Cabin='B50', Embarked='C'), Row(PassengerId=634, Survived=0, Pclass=1, Name='Parr, Mr. William Henry Marsh', Sex='male', Age=None, SibSp=0, Parch=0, Ticket='112052', Fare=0.0, Cabin=None, Embarked='S'), Row(PassengerId=637, Survived=0, Pclass=3, Name='Leinonen, Mr. Antti Gustaf', Sex='male', Age=32.0, SibSp=0, Parch=0, Ticket='STON/O 2. 3101292', Fare=7.925, Cabin=None, Embarked='S'), Row(PassengerId=638, Survived=0, Pclass=2, Name='Collyer, Mr. Harvey', Sex='male', Age=31.0, SibSp=1, Parch=1, Ticket='C.A. 31921', Fare=26.25, Cabin=None, Embarked='S'), Row(PassengerId=640, Survived=0, Pclass=3, Name='Thorneycroft, Mr. Percival', Sex='male', Age=None, SibSp=1, Parch=0, Ticket='376564', Fare=16.1, Cabin=None, Embarked='S'), Row(PassengerId=641, Survived=0, Pclass=3, Name='Jensen, Mr. Hans Peder', Sex='male', Age=20.0, SibSp=0, Parch=0, Ticket='350050', Fare=7.8542, Cabin=None, Embarked='S'), Row(PassengerId=644, Survived=1, Pclass=3, Name='Foo, Mr. Choong', Sex='male', Age=None, SibSp=0, Parch=0, Ticket='1601', Fare=56.4958, Cabin=None, Embarked='S'), Row(PassengerId=646, Survived=1, Pclass=1, Name='Harper, Mr. Henry Sleeper', Sex='male', Age=48.0, SibSp=1, Parch=0, Ticket='PC 17572', Fare=76.7292, Cabin='D33', Embarked='C'), Row(PassengerId=647, Survived=0, Pclass=3, Name='Cor, Mr. Liudevit', Sex='male', Age=19.0, SibSp=0, Parch=0, Ticket='349231', Fare=7.8958, Cabin=None, Embarked='S'), Row(PassengerId=648, Survived=1, Pclass=1, Name='Simonius-Blumer, Col. Oberst Alfons', Sex='male', Age=56.0, SibSp=0, Parch=0, Ticket='13213', Fare=35.5, Cabin='A26', Embarked='C'), Row(PassengerId=649, Survived=0, Pclass=3, Name='Willey, Mr. Edward', Sex='male', Age=None, SibSp=0, Parch=0, Ticket='S.O./P.P. 751', Fare=7.55, Cabin=None, Embarked='S'), Row(PassengerId=651, Survived=0, Pclass=3, Name='Mitkoff, Mr. Mito', Sex='male', Age=None, SibSp=0, Parch=0, Ticket='349221', Fare=7.8958, Cabin=None, Embarked='S'), Row(PassengerId=653, Survived=0, Pclass=3, Name='Kalvik, Mr. Johannes Halvorsen', Sex='male', Age=21.0, SibSp=0, Parch=0, Ticket='8475', Fare=8.4333, Cabin=None, Embarked='S'), Row(PassengerId=656, Survived=0, Pclass=2, Name='Hickman, Mr. Leonard Mark', Sex='male', Age=24.0, SibSp=2, Parch=0, Ticket='S.O.C. 14879', Fare=73.5, Cabin=None, Embarked='S'), Row(PassengerId=657, Survived=0, Pclass=3, Name='Radeff, Mr. Alexander', Sex='male', Age=None, SibSp=0, Parch=0, Ticket='349223', Fare=7.8958, Cabin=None, Embarked='S'), Row(PassengerId=659, Survived=0, Pclass=2, Name='Eitemiller, Mr. George Floyd', Sex='male', Age=23.0, SibSp=0, Parch=0, Ticket='29751', Fare=13.0, Cabin=None, Embarked='S'), Row(PassengerId=660, Survived=0, Pclass=1, Name='Newell, Mr. Arthur Webster', Sex='male', Age=58.0, SibSp=0, Parch=2, Ticket='35273', Fare=113.275, Cabin='D48', Embarked='C'), Row(PassengerId=661, Survived=1, Pclass=1, Name='Frauenthal, Dr. Henry William', Sex='male', Age=50.0, SibSp=2, Parch=0, Ticket='PC 17611', Fare=133.65, Cabin=None, Embarked='S'), Row(PassengerId=662, Survived=0, Pclass=3, Name='Badt, Mr. Mohamed', Sex='male', Age=40.0, SibSp=0, Parch=0, Ticket='2623', Fare=7.225, Cabin=None, Embarked='C'), Row(PassengerId=663, Survived=0, Pclass=1, Name='Colley, Mr. Edward Pomeroy', Sex='male', Age=47.0, SibSp=0, Parch=0, Ticket='5727', Fare=25.5875, Cabin='E58', Embarked='S'), Row(PassengerId=664, Survived=0, Pclass=3, Name='Coleff, Mr. Peju', Sex='male', Age=36.0, SibSp=0, Parch=0, Ticket='349210', Fare=7.4958, Cabin=None, Embarked='S'), Row(PassengerId=665, Survived=1, Pclass=3, Name='Lindqvist, Mr. Eino William', Sex='male', Age=20.0, SibSp=1, Parch=0, Ticket='STON/O 2. 3101285', Fare=7.925, Cabin=None, Embarked='S'), Row(PassengerId=666, Survived=0, Pclass=2, Name='Hickman, Mr. Lewis', Sex='male', Age=32.0, SibSp=2, Parch=0, Ticket='S.O.C. 14879', Fare=73.5, Cabin=None, Embarked='S'), Row(PassengerId=667, Survived=0, Pclass=2, Name='Butler, Mr. Reginald Fenton', Sex='male', Age=25.0, SibSp=0, Parch=0, Ticket='234686', Fare=13.0, Cabin=None, Embarked='S'), Row(PassengerId=668, Survived=0, Pclass=3, Name='Rommetvedt, Mr. Knud Paust', Sex='male', Age=None, SibSp=0, Parch=0, Ticket='312993', Fare=7.775, Cabin=None, Embarked='S'), Row(PassengerId=669, Survived=0, Pclass=3, Name='Cook, Mr. Jacob', Sex='male', Age=43.0, SibSp=0, Parch=0, Ticket='A/5 3536', Fare=8.05, Cabin=None, Embarked='S'), Row(PassengerId=672, Survived=0, Pclass=1, Name='Davidson, Mr. Thornton', Sex='male', Age=31.0, SibSp=1, Parch=0, Ticket='F.C. 12750', Fare=52.0, Cabin='B71', Embarked='S'), Row(PassengerId=673, Survived=0, Pclass=2, Name='Mitchell, Mr. Henry Michael', Sex='male', Age=70.0, SibSp=0, Parch=0, Ticket='C.A. 24580', Fare=10.5, Cabin=None, Embarked='S'), Row(PassengerId=674, Survived=1, Pclass=2, Name='Wilhelms, Mr. Charles', Sex='male', Age=31.0, SibSp=0, Parch=0, Ticket='244270', Fare=13.0, Cabin=None, Embarked='S'), Row(PassengerId=675, Survived=0, Pclass=2, Name='Watson, Mr. Ennis Hastings', Sex='male', Age=None, SibSp=0, Parch=0, Ticket='239856', Fare=0.0, Cabin=None, Embarked='S'), Row(PassengerId=676, Survived=0, Pclass=3, Name='Edvardsson, Mr. Gustaf Hjalmar', Sex='male', Age=18.0, SibSp=0, Parch=0, Ticket='349912', Fare=7.775, Cabin=None, Embarked='S'), Row(PassengerId=677, Survived=0, Pclass=3, Name='Sawyer, Mr. Frederick Charles', Sex='male', Age=24.5, SibSp=0, Parch=0, Ticket='342826', Fare=8.05, Cabin=None, Embarked='S'), Row(PassengerId=680, Survived=1, Pclass=1, Name='Cardeza, Mr. Thomas Drake Martinez', Sex='male', Age=36.0, SibSp=0, Parch=1, Ticket='PC 17755', Fare=512.3292, Cabin='B51 B53 B55', Embarked='C'), Row(PassengerId=682, Survived=1, Pclass=1, Name='Hassab, Mr. Hammad', Sex='male', Age=27.0, SibSp=0, Parch=0, Ticket='PC 17572', Fare=76.7292, Cabin='D49', Embarked='C'), Row(PassengerId=683, Survived=0, Pclass=3, Name='Olsvigen, Mr. Thor Anderson', Sex='male', Age=20.0, SibSp=0, Parch=0, Ticket='6563', Fare=9.225, Cabin=None, Embarked='S'), Row(PassengerId=684, Survived=0, Pclass=3, Name='Goodwin, Mr. Charles Edward', Sex='male', Age=14.0, SibSp=5, Parch=2, Ticket='CA 2144', Fare=46.9, Cabin=None, Embarked='S'), Row(PassengerId=685, Survived=0, Pclass=2, Name='Brown, Mr. Thomas William Solomon', Sex='male', Age=60.0, SibSp=1, Parch=1, Ticket='29750', Fare=39.0, Cabin=None, Embarked='S'), Row(PassengerId=686, Survived=0, Pclass=2, Name='Laroche, Mr. Joseph Philippe Lemercier', Sex='male', Age=25.0, SibSp=1, Parch=2, Ticket='SC/Paris 2123', Fare=41.5792, Cabin=None, Embarked='C'), Row(PassengerId=687, Survived=0, Pclass=3, Name='Panula, Mr. Jaako Arnold', Sex='male', Age=14.0, SibSp=4, Parch=1, Ticket='3101295', Fare=39.6875, Cabin=None, Embarked='S'), Row(PassengerId=688, Survived=0, Pclass=3, Name='Dakic, Mr. Branko', Sex='male', Age=19.0, SibSp=0, Parch=0, Ticket='349228', Fare=10.1708, Cabin=None, Embarked='S'), Row(PassengerId=689, Survived=0, Pclass=3, Name='Fischer, Mr. Eberhard Thelander', Sex='male', Age=18.0, SibSp=0, Parch=0, Ticket='350036', Fare=7.7958, Cabin=None, Embarked='S'), Row(PassengerId=691, Survived=1, Pclass=1, Name='Dick, Mr. Albert Adrian', Sex='male', Age=31.0, SibSp=1, Parch=0, Ticket='17474', Fare=57.0, Cabin='B20', Embarked='S'), Row(PassengerId=693, Survived=1, Pclass=3, Name='Lam, Mr. Ali', Sex='male', Age=None, SibSp=0, Parch=0, Ticket='1601', Fare=56.4958, Cabin=None, Embarked='S'), Row(PassengerId=694, Survived=0, Pclass=3, Name='Saad, Mr. Khalil', Sex='male', Age=25.0, SibSp=0, Parch=0, Ticket='2672', Fare=7.225, Cabin=None, Embarked='C'), Row(PassengerId=695, Survived=0, Pclass=1, Name='Weir, Col. John', Sex='male', Age=60.0, SibSp=0, Parch=0, Ticket='113800', Fare=26.55, Cabin=None, Embarked='S'), Row(PassengerId=696, Survived=0, Pclass=2, Name='Chapman, Mr. Charles Henry', Sex='male', Age=52.0, SibSp=0, Parch=0, Ticket='248731', Fare=13.5, Cabin=None, Embarked='S'), Row(PassengerId=697, Survived=0, Pclass=3, Name='Kelly, Mr. James', Sex='male', Age=44.0, SibSp=0, Parch=0, Ticket='363592', Fare=8.05, Cabin=None, Embarked='S'), Row(PassengerId=699, Survived=0, Pclass=1, Name='Thayer, Mr. John Borland', Sex='male', Age=49.0, SibSp=1, Parch=1, Ticket='17421', Fare=110.8833, Cabin='C68', Embarked='C'), Row(PassengerId=700, Survived=0, Pclass=3, Name='Humblen, Mr. Adolf Mathias Nicolai Olsen', Sex='male', Age=42.0, SibSp=0, Parch=0, Ticket='348121', Fare=7.65, Cabin='F G63', Embarked='S'), Row(PassengerId=702, Survived=1, Pclass=1, Name='Silverthorne, Mr. Spencer Victor', Sex='male', Age=35.0, SibSp=0, Parch=0, Ticket='PC 17475', Fare=26.2875, Cabin='E24', Embarked='S'), Row(PassengerId=704, Survived=0, Pclass=3, Name='Gallagher, Mr. Martin', Sex='male', Age=25.0, SibSp=0, Parch=0, Ticket='36864', Fare=7.7417, Cabin=None, Embarked='Q'), Row(PassengerId=705, Survived=0, Pclass=3, Name='Hansen, Mr. Henrik Juul', Sex='male', Age=26.0, SibSp=1, Parch=0, Ticket='350025', Fare=7.8542, Cabin=None, Embarked='S'), Row(PassengerId=706, Survived=0, Pclass=2, Name='\"Morley, Mr. Henry Samuel (\"\"Mr Henry Marshall\"\")\"', Sex='male', Age=39.0, SibSp=0, Parch=0, Ticket='250655', Fare=26.0, Cabin=None, Embarked='S'), Row(PassengerId=708, Survived=1, Pclass=1, Name='Calderhead, Mr. Edward Pennington', Sex='male', Age=42.0, SibSp=0, Parch=0, Ticket='PC 17476', Fare=26.2875, Cabin='E24', Embarked='S'), Row(PassengerId=710, Survived=1, Pclass=3, Name='\"Moubarek, Master. Halim Gonios (\"\"William George\"\")\"', Sex='male', Age=None, SibSp=1, Parch=1, Ticket='2661', Fare=15.2458, Cabin=None, Embarked='C'), Row(PassengerId=712, Survived=0, Pclass=1, Name='Klaber, Mr. Herman', Sex='male', Age=None, SibSp=0, Parch=0, Ticket='113028', Fare=26.55, Cabin='C124', Embarked='S'), Row(PassengerId=713, Survived=1, Pclass=1, Name='Taylor, Mr. Elmer Zebley', Sex='male', Age=48.0, SibSp=1, Parch=0, Ticket='19996', Fare=52.0, Cabin='C126', Embarked='S'), Row(PassengerId=714, Survived=0, Pclass=3, Name='Larsson, Mr. August Viktor', Sex='male', Age=29.0, SibSp=0, Parch=0, Ticket='7545', Fare=9.4833, Cabin=None, Embarked='S'), Row(PassengerId=715, Survived=0, Pclass=2, Name='Greenberg, Mr. Samuel', Sex='male', Age=52.0, SibSp=0, Parch=0, Ticket='250647', Fare=13.0, Cabin=None, Embarked='S'), Row(PassengerId=716, Survived=0, Pclass=3, Name='Soholt, Mr. Peter Andreas Lauritz Andersen', Sex='male', Age=19.0, SibSp=0, Parch=0, Ticket='348124', Fare=7.65, Cabin='F G73', Embarked='S'), Row(PassengerId=719, Survived=0, Pclass=3, Name='McEvoy, Mr. Michael', Sex='male', Age=None, SibSp=0, Parch=0, Ticket='36568', Fare=15.5, Cabin=None, Embarked='Q'), Row(PassengerId=720, Survived=0, Pclass=3, Name='Johnson, Mr. Malkolm Joackim', Sex='male', Age=33.0, SibSp=0, Parch=0, Ticket='347062', Fare=7.775, Cabin=None, Embarked='S'), Row(PassengerId=722, Survived=0, Pclass=3, Name='Jensen, Mr. Svend Lauritz', Sex='male', Age=17.0, SibSp=1, Parch=0, Ticket='350048', Fare=7.0542, Cabin=None, Embarked='S'), Row(PassengerId=723, Survived=0, Pclass=2, Name='Gillespie, Mr. William Henry', Sex='male', Age=34.0, SibSp=0, Parch=0, Ticket='12233', Fare=13.0, Cabin=None, Embarked='S'), Row(PassengerId=724, Survived=0, Pclass=2, Name='Hodges, Mr. Henry Price', Sex='male', Age=50.0, SibSp=0, Parch=0, Ticket='250643', Fare=13.0, Cabin=None, Embarked='S'), Row(PassengerId=725, Survived=1, Pclass=1, Name='Chambers, Mr. Norman Campbell', Sex='male', Age=27.0, SibSp=1, Parch=0, Ticket='113806', Fare=53.1, Cabin='E8', Embarked='S'), Row(PassengerId=726, Survived=0, Pclass=3, Name='Oreskovic, Mr. Luka', Sex='male', Age=20.0, SibSp=0, Parch=0, Ticket='315094', Fare=8.6625, Cabin=None, Embarked='S'), Row(PassengerId=729, Survived=0, Pclass=2, Name='Bryhl, Mr. Kurt Arnold Gottfrid', Sex='male', Age=25.0, SibSp=1, Parch=0, Ticket='236853', Fare=26.0, Cabin=None, Embarked='S'), Row(PassengerId=732, Survived=0, Pclass=3, Name='Hassan, Mr. Houssein G N', Sex='male', Age=11.0, SibSp=0, Parch=0, Ticket='2699', Fare=18.7875, Cabin=None, Embarked='C'), Row(PassengerId=733, Survived=0, Pclass=2, Name='Knight, Mr. Robert J', Sex='male', Age=None, SibSp=0, Parch=0, Ticket='239855', Fare=0.0, Cabin=None, Embarked='S'), Row(PassengerId=734, Survived=0, Pclass=2, Name='Berriman, Mr. William John', Sex='male', Age=23.0, SibSp=0, Parch=0, Ticket='28425', Fare=13.0, Cabin=None, Embarked='S'), Row(PassengerId=735, Survived=0, Pclass=2, Name='Troupiansky, Mr. Moses Aaron', Sex='male', Age=23.0, SibSp=0, Parch=0, Ticket='233639', Fare=13.0, Cabin=None, Embarked='S'), Row(PassengerId=736, Survived=0, Pclass=3, Name='Williams, Mr. Leslie', Sex='male', Age=28.5, SibSp=0, Parch=0, Ticket='54636', Fare=16.1, Cabin=None, Embarked='S'), Row(PassengerId=738, Survived=1, Pclass=1, Name='Lesurer, Mr. Gustave J', Sex='male', Age=35.0, SibSp=0, Parch=0, Ticket='PC 17755', Fare=512.3292, Cabin='B101', Embarked='C'), Row(PassengerId=739, Survived=0, Pclass=3, Name='Ivanoff, Mr. Kanio', Sex='male', Age=None, SibSp=0, Parch=0, Ticket='349201', Fare=7.8958, Cabin=None, Embarked='S'), Row(PassengerId=740, Survived=0, Pclass=3, Name='Nankoff, Mr. Minko', Sex='male', Age=None, SibSp=0, Parch=0, Ticket='349218', Fare=7.8958, Cabin=None, Embarked='S'), Row(PassengerId=741, Survived=1, Pclass=1, Name='Hawksford, Mr. Walter James', Sex='male', Age=None, SibSp=0, Parch=0, Ticket='16988', Fare=30.0, Cabin='D45', Embarked='S'), Row(PassengerId=742, Survived=0, Pclass=1, Name='Cavendish, Mr. Tyrell William', Sex='male', Age=36.0, SibSp=1, Parch=0, Ticket='19877', Fare=78.85, Cabin='C46', Embarked='S'), Row(PassengerId=744, Survived=0, Pclass=3, Name='McNamee, Mr. Neal', Sex='male', Age=24.0, SibSp=1, Parch=0, Ticket='376566', Fare=16.1, Cabin=None, Embarked='S'), Row(PassengerId=745, Survived=1, Pclass=3, Name='Stranden, Mr. Juho', Sex='male', Age=31.0, SibSp=0, Parch=0, Ticket='STON/O 2. 3101288', Fare=7.925, Cabin=None, Embarked='S'), Row(PassengerId=746, Survived=0, Pclass=1, Name='Crosby, Capt. Edward Gifford', Sex='male', Age=70.0, SibSp=1, Parch=1, Ticket='WE/P 5735', Fare=71.0, Cabin='B22', Embarked='S'), Row(PassengerId=747, Survived=0, Pclass=3, Name='Abbott, Mr. Rossmore Edward', Sex='male', Age=16.0, SibSp=1, Parch=1, Ticket='C.A. 2673', Fare=20.25, Cabin=None, Embarked='S'), Row(PassengerId=749, Survived=0, Pclass=1, Name='Marvin, Mr. Daniel Warner', Sex='male', Age=19.0, SibSp=1, Parch=0, Ticket='113773', Fare=53.1, Cabin='D30', Embarked='S'), Row(PassengerId=750, Survived=0, Pclass=3, Name='Connaghton, Mr. Michael', Sex='male', Age=31.0, SibSp=0, Parch=0, Ticket='335097', Fare=7.75, Cabin=None, Embarked='Q'), Row(PassengerId=752, Survived=1, Pclass=3, Name='Moor, Master. Meier', Sex='male', Age=6.0, SibSp=0, Parch=1, Ticket='392096', Fare=12.475, Cabin='E121', Embarked='S'), Row(PassengerId=753, Survived=0, Pclass=3, Name='Vande Velde, Mr. Johannes Joseph', Sex='male', Age=33.0, SibSp=0, Parch=0, Ticket='345780', Fare=9.5, Cabin=None, Embarked='S'), Row(PassengerId=754, Survived=0, Pclass=3, Name='Jonkoff, Mr. Lalio', Sex='male', Age=23.0, SibSp=0, Parch=0, Ticket='349204', Fare=7.8958, Cabin=None, Embarked='S'), Row(PassengerId=756, Survived=1, Pclass=2, Name='Hamalainen, Master. Viljo', Sex='male', Age=0.67, SibSp=1, Parch=1, Ticket='250649', Fare=14.5, Cabin=None, Embarked='S'), Row(PassengerId=757, Survived=0, Pclass=3, Name='Carlsson, Mr. August Sigfrid', Sex='male', Age=28.0, SibSp=0, Parch=0, Ticket='350042', Fare=7.7958, Cabin=None, Embarked='S'), Row(PassengerId=758, Survived=0, Pclass=2, Name='Bailey, Mr. Percy Andrew', Sex='male', Age=18.0, SibSp=0, Parch=0, Ticket='29108', Fare=11.5, Cabin=None, Embarked='S'), Row(PassengerId=759, Survived=0, Pclass=3, Name='Theobald, Mr. Thomas Leonard', Sex='male', Age=34.0, SibSp=0, Parch=0, Ticket='363294', Fare=8.05, Cabin=None, Embarked='S'), Row(PassengerId=761, Survived=0, Pclass=3, Name='Garfirth, Mr. John', Sex='male', Age=None, SibSp=0, Parch=0, Ticket='358585', Fare=14.5, Cabin=None, Embarked='S'), Row(PassengerId=762, Survived=0, Pclass=3, Name='Nirva, Mr. Iisakki Antino Aijo', Sex='male', Age=41.0, SibSp=0, Parch=0, Ticket='SOTON/O2 3101272', Fare=7.125, Cabin=None, Embarked='S'), Row(PassengerId=763, Survived=1, Pclass=3, Name='Barah, Mr. Hanna Assi', Sex='male', Age=20.0, SibSp=0, Parch=0, Ticket='2663', Fare=7.2292, Cabin=None, Embarked='C'), Row(PassengerId=765, Survived=0, Pclass=3, Name='Eklund, Mr. Hans Linus', Sex='male', Age=16.0, SibSp=0, Parch=0, Ticket='347074', Fare=7.775, Cabin=None, Embarked='S'), Row(PassengerId=767, Survived=0, Pclass=1, Name='Brewe, Dr. Arthur Jackson', Sex='male', Age=None, SibSp=0, Parch=0, Ticket='112379', Fare=39.6, Cabin=None, Embarked='C'), Row(PassengerId=769, Survived=0, Pclass=3, Name='Moran, Mr. Daniel J', Sex='male', Age=None, SibSp=1, Parch=0, Ticket='371110', Fare=24.15, Cabin=None, Embarked='Q'), Row(PassengerId=770, Survived=0, Pclass=3, Name='Gronnestad, Mr. Daniel Danielsen', Sex='male', Age=32.0, SibSp=0, Parch=0, Ticket='8471', Fare=8.3625, Cabin=None, Embarked='S'), Row(PassengerId=771, Survived=0, Pclass=3, Name='Lievens, Mr. Rene Aime', Sex='male', Age=24.0, SibSp=0, Parch=0, Ticket='345781', Fare=9.5, Cabin=None, Embarked='S'), Row(PassengerId=772, Survived=0, Pclass=3, Name='Jensen, Mr. Niels Peder', Sex='male', Age=48.0, SibSp=0, Parch=0, Ticket='350047', Fare=7.8542, Cabin=None, Embarked='S'), Row(PassengerId=774, Survived=0, Pclass=3, Name='Elias, Mr. Dibo', Sex='male', Age=None, SibSp=0, Parch=0, Ticket='2674', Fare=7.225, Cabin=None, Embarked='C'), Row(PassengerId=776, Survived=0, Pclass=3, Name='Myhrman, Mr. Pehr Fabian Oliver Malkolm', Sex='male', Age=18.0, SibSp=0, Parch=0, Ticket='347078', Fare=7.75, Cabin=None, Embarked='S'), Row(PassengerId=777, Survived=0, Pclass=3, Name='Tobin, Mr. Roger', Sex='male', Age=None, SibSp=0, Parch=0, Ticket='383121', Fare=7.75, Cabin='F38', Embarked='Q'), Row(PassengerId=779, Survived=0, Pclass=3, Name='Kilgannon, Mr. Thomas J', Sex='male', Age=None, SibSp=0, Parch=0, Ticket='36865', Fare=7.7375, Cabin=None, Embarked='Q'), Row(PassengerId=783, Survived=0, Pclass=1, Name='Long, Mr. Milton Clyde', Sex='male', Age=29.0, SibSp=0, Parch=0, Ticket='113501', Fare=30.0, Cabin='D6', Embarked='S'), Row(PassengerId=784, Survived=0, Pclass=3, Name='Johnston, Mr. Andrew G', Sex='male', Age=None, SibSp=1, Parch=2, Ticket='W./C. 6607', Fare=23.45, Cabin=None, Embarked='S'), Row(PassengerId=785, Survived=0, Pclass=3, Name='Ali, Mr. William', Sex='male', Age=25.0, SibSp=0, Parch=0, Ticket='SOTON/O.Q. 3101312', Fare=7.05, Cabin=None, Embarked='S'), Row(PassengerId=786, Survived=0, Pclass=3, Name='Harmer, Mr. Abraham (David Lishin)', Sex='male', Age=25.0, SibSp=0, Parch=0, Ticket='374887', Fare=7.25, Cabin=None, Embarked='S'), Row(PassengerId=788, Survived=0, Pclass=3, Name='Rice, Master. George Hugh', Sex='male', Age=8.0, SibSp=4, Parch=1, Ticket='382652', Fare=29.125, Cabin=None, Embarked='Q'), Row(PassengerId=789, Survived=1, Pclass=3, Name='Dean, Master. Bertram Vere', Sex='male', Age=1.0, SibSp=1, Parch=2, Ticket='C.A. 2315', Fare=20.575, Cabin=None, Embarked='S'), Row(PassengerId=790, Survived=0, Pclass=1, Name='Guggenheim, Mr. Benjamin', Sex='male', Age=46.0, SibSp=0, Parch=0, Ticket='PC 17593', Fare=79.2, Cabin='B82 B84', Embarked='C'), Row(PassengerId=791, Survived=0, Pclass=3, Name='\"Keane, Mr. Andrew \"\"Andy\"\"\"', Sex='male', Age=None, SibSp=0, Parch=0, Ticket='12460', Fare=7.75, Cabin=None, Embarked='Q'), Row(PassengerId=792, Survived=0, Pclass=2, Name='Gaskell, Mr. Alfred', Sex='male', Age=16.0, SibSp=0, Parch=0, Ticket='239865', Fare=26.0, Cabin=None, Embarked='S'), Row(PassengerId=794, Survived=0, Pclass=1, Name='Hoyt, Mr. William Fisher', Sex='male', Age=None, SibSp=0, Parch=0, Ticket='PC 17600', Fare=30.6958, Cabin=None, Embarked='C'), Row(PassengerId=795, Survived=0, Pclass=3, Name='Dantcheff, Mr. Ristiu', Sex='male', Age=25.0, SibSp=0, Parch=0, Ticket='349203', Fare=7.8958, Cabin=None, Embarked='S'), Row(PassengerId=796, Survived=0, Pclass=2, Name='Otter, Mr. Richard', Sex='male', Age=39.0, SibSp=0, Parch=0, Ticket='28213', Fare=13.0, Cabin=None, Embarked='S'), Row(PassengerId=799, Survived=0, Pclass=3, Name='Ibrahim Shawah, Mr. Yousseff', Sex='male', Age=30.0, SibSp=0, Parch=0, Ticket='2685', Fare=7.2292, Cabin=None, Embarked='C'), Row(PassengerId=801, Survived=0, Pclass=2, Name='Ponesell, Mr. Martin', Sex='male', Age=34.0, SibSp=0, Parch=0, Ticket='250647', Fare=13.0, Cabin=None, Embarked='S'), Row(PassengerId=803, Survived=1, Pclass=1, Name='Carter, Master. William Thornton II', Sex='male', Age=11.0, SibSp=1, Parch=2, Ticket='113760', Fare=120.0, Cabin='B96 B98', Embarked='S'), Row(PassengerId=804, Survived=1, Pclass=3, Name='Thomas, Master. Assad Alexander', Sex='male', Age=0.42, SibSp=0, Parch=1, Ticket='2625', Fare=8.5167, Cabin=None, Embarked='C'), Row(PassengerId=805, Survived=1, Pclass=3, Name='Hedman, Mr. Oskar Arvid', Sex='male', Age=27.0, SibSp=0, Parch=0, Ticket='347089', Fare=6.975, Cabin=None, Embarked='S'), Row(PassengerId=806, Survived=0, Pclass=3, Name='Johansson, Mr. Karl Johan', Sex='male', Age=31.0, SibSp=0, Parch=0, Ticket='347063', Fare=7.775, Cabin=None, Embarked='S'), Row(PassengerId=807, Survived=0, Pclass=1, Name='Andrews, Mr. Thomas Jr', Sex='male', Age=39.0, SibSp=0, Parch=0, Ticket='112050', Fare=0.0, Cabin='A36', Embarked='S'), Row(PassengerId=809, Survived=0, Pclass=2, Name='Meyer, Mr. August', Sex='male', Age=39.0, SibSp=0, Parch=0, Ticket='248723', Fare=13.0, Cabin=None, Embarked='S'), Row(PassengerId=811, Survived=0, Pclass=3, Name='Alexander, Mr. William', Sex='male', Age=26.0, SibSp=0, Parch=0, Ticket='3474', Fare=7.8875, Cabin=None, Embarked='S'), Row(PassengerId=812, Survived=0, Pclass=3, Name='Lester, Mr. James', Sex='male', Age=39.0, SibSp=0, Parch=0, Ticket='A/4 48871', Fare=24.15, Cabin=None, Embarked='S'), Row(PassengerId=813, Survived=0, Pclass=2, Name='Slemen, Mr. Richard James', Sex='male', Age=35.0, SibSp=0, Parch=0, Ticket='28206', Fare=10.5, Cabin=None, Embarked='S'), Row(PassengerId=815, Survived=0, Pclass=3, Name='Tomlin, Mr. Ernest Portage', Sex='male', Age=30.5, SibSp=0, Parch=0, Ticket='364499', Fare=8.05, Cabin=None, Embarked='S'), Row(PassengerId=816, Survived=0, Pclass=1, Name='Fry, Mr. Richard', Sex='male', Age=None, SibSp=0, Parch=0, Ticket='112058', Fare=0.0, Cabin='B102', Embarked='S'), Row(PassengerId=818, Survived=0, Pclass=2, Name='Mallet, Mr. Albert', Sex='male', Age=31.0, SibSp=1, Parch=1, Ticket='S.C./PARIS 2079', Fare=37.0042, Cabin=None, Embarked='C'), Row(PassengerId=819, Survived=0, Pclass=3, Name='Holm, Mr. John Fredrik Alexander', Sex='male', Age=43.0, SibSp=0, Parch=0, Ticket='C 7075', Fare=6.45, Cabin=None, Embarked='S'), Row(PassengerId=820, Survived=0, Pclass=3, Name='Skoog, Master. Karl Thorsten', Sex='male', Age=10.0, SibSp=3, Parch=2, Ticket='347088', Fare=27.9, Cabin=None, Embarked='S'), Row(PassengerId=822, Survived=1, Pclass=3, Name='Lulic, Mr. Nikola', Sex='male', Age=27.0, SibSp=0, Parch=0, Ticket='315098', Fare=8.6625, Cabin=None, Embarked='S'), Row(PassengerId=823, Survived=0, Pclass=1, Name='Reuchlin, Jonkheer. John George', Sex='male', Age=38.0, SibSp=0, Parch=0, Ticket='19972', Fare=0.0, Cabin=None, Embarked='S'), Row(PassengerId=825, Survived=0, Pclass=3, Name='Panula, Master. Urho Abraham', Sex='male', Age=2.0, SibSp=4, Parch=1, Ticket='3101295', Fare=39.6875, Cabin=None, Embarked='S'), Row(PassengerId=826, Survived=0, Pclass=3, Name='Flynn, Mr. John', Sex='male', Age=None, SibSp=0, Parch=0, Ticket='368323', Fare=6.95, Cabin=None, Embarked='Q'), Row(PassengerId=827, Survived=0, Pclass=3, Name='Lam, Mr. Len', Sex='male', Age=None, SibSp=0, Parch=0, Ticket='1601', Fare=56.4958, Cabin=None, Embarked='S'), Row(PassengerId=828, Survived=1, Pclass=2, Name='Mallet, Master. Andre', Sex='male', Age=1.0, SibSp=0, Parch=2, Ticket='S.C./PARIS 2079', Fare=37.0042, Cabin=None, Embarked='C'), Row(PassengerId=829, Survived=1, Pclass=3, Name='McCormack, Mr. Thomas Joseph', Sex='male', Age=None, SibSp=0, Parch=0, Ticket='367228', Fare=7.75, Cabin=None, Embarked='Q'), Row(PassengerId=832, Survived=1, Pclass=2, Name='Richards, Master. George Sibley', Sex='male', Age=0.83, SibSp=1, Parch=1, Ticket='29106', Fare=18.75, Cabin=None, Embarked='S'), Row(PassengerId=833, Survived=0, Pclass=3, Name='Saad, Mr. Amin', Sex='male', Age=None, SibSp=0, Parch=0, Ticket='2671', Fare=7.2292, Cabin=None, Embarked='C'), Row(PassengerId=834, Survived=0, Pclass=3, Name='Augustsson, Mr. Albert', Sex='male', Age=23.0, SibSp=0, Parch=0, Ticket='347468', Fare=7.8542, Cabin=None, Embarked='S'), Row(PassengerId=835, Survived=0, Pclass=3, Name='Allum, Mr. Owen George', Sex='male', Age=18.0, SibSp=0, Parch=0, Ticket='2223', Fare=8.3, Cabin=None, Embarked='S'), Row(PassengerId=837, Survived=0, Pclass=3, Name='Pasic, Mr. Jakob', Sex='male', Age=21.0, SibSp=0, Parch=0, Ticket='315097', Fare=8.6625, Cabin=None, Embarked='S'), Row(PassengerId=838, Survived=0, Pclass=3, Name='Sirota, Mr. Maurice', Sex='male', Age=None, SibSp=0, Parch=0, Ticket='392092', Fare=8.05, Cabin=None, Embarked='S'), Row(PassengerId=839, Survived=1, Pclass=3, Name='Chip, Mr. Chang', Sex='male', Age=32.0, SibSp=0, Parch=0, Ticket='1601', Fare=56.4958, Cabin=None, Embarked='S'), Row(PassengerId=840, Survived=1, Pclass=1, Name='Marechal, Mr. Pierre', Sex='male', Age=None, SibSp=0, Parch=0, Ticket='11774', Fare=29.7, Cabin='C47', Embarked='C'), Row(PassengerId=841, Survived=0, Pclass=3, Name='Alhomaki, Mr. Ilmari Rudolf', Sex='male', Age=20.0, SibSp=0, Parch=0, Ticket='SOTON/O2 3101287', Fare=7.925, Cabin=None, Embarked='S'), Row(PassengerId=842, Survived=0, Pclass=2, Name='Mudd, Mr. Thomas Charles', Sex='male', Age=16.0, SibSp=0, Parch=0, Ticket='S.O./P.P. 3', Fare=10.5, Cabin=None, Embarked='S'), Row(PassengerId=844, Survived=0, Pclass=3, Name='Lemberopolous, Mr. Peter L', Sex='male', Age=34.5, SibSp=0, Parch=0, Ticket='2683', Fare=6.4375, Cabin=None, Embarked='C'), Row(PassengerId=845, Survived=0, Pclass=3, Name='Culumovic, Mr. Jeso', Sex='male', Age=17.0, SibSp=0, Parch=0, Ticket='315090', Fare=8.6625, Cabin=None, Embarked='S'), Row(PassengerId=846, Survived=0, Pclass=3, Name='Abbing, Mr. Anthony', Sex='male', Age=42.0, SibSp=0, Parch=0, Ticket='C.A. 5547', Fare=7.55, Cabin=None, Embarked='S'), Row(PassengerId=847, Survived=0, Pclass=3, Name='Sage, Mr. Douglas Bullen', Sex='male', Age=None, SibSp=8, Parch=2, Ticket='CA. 2343', Fare=69.55, Cabin=None, Embarked='S'), Row(PassengerId=848, Survived=0, Pclass=3, Name='Markoff, Mr. Marin', Sex='male', Age=35.0, SibSp=0, Parch=0, Ticket='349213', Fare=7.8958, Cabin=None, Embarked='C'), Row(PassengerId=849, Survived=0, Pclass=2, Name='Harper, Rev. John', Sex='male', Age=28.0, SibSp=0, Parch=1, Ticket='248727', Fare=33.0, Cabin=None, Embarked='S'), Row(PassengerId=851, Survived=0, Pclass=3, Name='Andersson, Master. Sigvard Harald Elias', Sex='male', Age=4.0, SibSp=4, Parch=2, Ticket='347082', Fare=31.275, Cabin=None, Embarked='S'), Row(PassengerId=852, Survived=0, Pclass=3, Name='Svensson, Mr. Johan', Sex='male', Age=74.0, SibSp=0, Parch=0, Ticket='347060', Fare=7.775, Cabin=None, Embarked='S'), Row(PassengerId=858, Survived=1, Pclass=1, Name='Daly, Mr. Peter Denis ', Sex='male', Age=51.0, SibSp=0, Parch=0, Ticket='113055', Fare=26.55, Cabin='E17', Embarked='S'), Row(PassengerId=860, Survived=0, Pclass=3, Name='Razi, Mr. Raihed', Sex='male', Age=None, SibSp=0, Parch=0, Ticket='2629', Fare=7.2292, Cabin=None, Embarked='C'), Row(PassengerId=861, Survived=0, Pclass=3, Name='Hansen, Mr. Claus Peter', Sex='male', Age=41.0, SibSp=2, Parch=0, Ticket='350026', Fare=14.1083, Cabin=None, Embarked='S'), Row(PassengerId=862, Survived=0, Pclass=2, Name='Giles, Mr. Frederick Edward', Sex='male', Age=21.0, SibSp=1, Parch=0, Ticket='28134', Fare=11.5, Cabin=None, Embarked='S'), Row(PassengerId=865, Survived=0, Pclass=2, Name='Gill, Mr. John William', Sex='male', Age=24.0, SibSp=0, Parch=0, Ticket='233866', Fare=13.0, Cabin=None, Embarked='S'), Row(PassengerId=868, Survived=0, Pclass=1, Name='Roebling, Mr. Washington Augustus II', Sex='male', Age=31.0, SibSp=0, Parch=0, Ticket='PC 17590', Fare=50.4958, Cabin='A24', Embarked='S'), Row(PassengerId=869, Survived=0, Pclass=3, Name='van Melkebeke, Mr. Philemon', Sex='male', Age=None, SibSp=0, Parch=0, Ticket='345777', Fare=9.5, Cabin=None, Embarked='S'), Row(PassengerId=870, Survived=1, Pclass=3, Name='Johnson, Master. Harold Theodor', Sex='male', Age=4.0, SibSp=1, Parch=1, Ticket='347742', Fare=11.1333, Cabin=None, Embarked='S'), Row(PassengerId=871, Survived=0, Pclass=3, Name='Balkic, Mr. Cerin', Sex='male', Age=26.0, SibSp=0, Parch=0, Ticket='349248', Fare=7.8958, Cabin=None, Embarked='S'), Row(PassengerId=873, Survived=0, Pclass=1, Name='Carlsson, Mr. Frans Olof', Sex='male', Age=33.0, SibSp=0, Parch=0, Ticket='695', Fare=5.0, Cabin='B51 B53 B55', Embarked='S'), Row(PassengerId=874, Survived=0, Pclass=3, Name='Vander Cruyssen, Mr. Victor', Sex='male', Age=47.0, SibSp=0, Parch=0, Ticket='345765', Fare=9.0, Cabin=None, Embarked='S'), Row(PassengerId=877, Survived=0, Pclass=3, Name='Gustafsson, Mr. Alfred Ossian', Sex='male', Age=20.0, SibSp=0, Parch=0, Ticket='7534', Fare=9.8458, Cabin=None, Embarked='S'), Row(PassengerId=878, Survived=0, Pclass=3, Name='Petroff, Mr. Nedelio', Sex='male', Age=19.0, SibSp=0, Parch=0, Ticket='349212', Fare=7.8958, Cabin=None, Embarked='S'), Row(PassengerId=879, Survived=0, Pclass=3, Name='Laleff, Mr. Kristo', Sex='male', Age=None, SibSp=0, Parch=0, Ticket='349217', Fare=7.8958, Cabin=None, Embarked='S'), Row(PassengerId=882, Survived=0, Pclass=3, Name='Markun, Mr. Johann', Sex='male', Age=33.0, SibSp=0, Parch=0, Ticket='349257', Fare=7.8958, Cabin=None, Embarked='S'), Row(PassengerId=884, Survived=0, Pclass=2, Name='Banfield, Mr. Frederick James', Sex='male', Age=28.0, SibSp=0, Parch=0, Ticket='C.A./SOTON 34068', Fare=10.5, Cabin=None, Embarked='S'), Row(PassengerId=885, Survived=0, Pclass=3, Name='Sutehall, Mr. Henry Jr', Sex='male', Age=25.0, SibSp=0, Parch=0, Ticket='SOTON/OQ 392076', Fare=7.05, Cabin=None, Embarked='S'), Row(PassengerId=887, Survived=0, Pclass=2, Name='Montvila, Rev. Juozas', Sex='male', Age=27.0, SibSp=0, Parch=0, Ticket='211536', Fare=13.0, Cabin=None, Embarked='S'), Row(PassengerId=890, Survived=1, Pclass=1, Name='Behr, Mr. Karl Howell', Sex='male', Age=26.0, SibSp=0, Parch=0, Ticket='111369', Fare=30.0, Cabin='C148', Embarked='C'), Row(PassengerId=891, Survived=0, Pclass=3, Name='Dooley, Mr. Patrick', Sex='male', Age=32.0, SibSp=0, Parch=0, Ticket='370376', Fare=7.75, Cabin=None, Embarked='Q')]\n"
     ]
    }
   ],
   "source": [
    "# Please describe men and women separately and then combine the two RDDs with a union function.\n",
    "\n",
    "male_rdd = titanic_rdd.filter(lambda row: row[4] == \"male\")\n",
    "female_rdd = titanic_rdd.filter(lambda row: row[4] == \"female\")\n",
    "\n",
    "male_and_female = female_rdd.union(male_rdd)\n",
    "\n",
    "print(male_and_female.collect())"
   ]
  },
  {
   "cell_type": "code",
   "execution_count": 33,
   "id": "e44df307",
   "metadata": {},
   "outputs": [
    {
     "name": "stdout",
     "output_type": "stream",
     "text": [
      "[(3, 491), (1, 216), (2, 184)]\n"
     ]
    }
   ],
   "source": [
    "# Use Map-reduceByKey to count how many people travelled in which class?\n",
    "\n",
    "class_travelers = titanic_rdd.filter(lambda row: row[2] != None) \\\n",
    "                             .map(lambda x: (x[2],1)) \\\n",
    "                             .reduceByKey(lambda a, b: a + b  ) \\\n",
    "                             .collect()\n",
    "\n",
    "print(class_travelers)"
   ]
  },
  {
   "cell_type": "markdown",
   "id": "70aac018",
   "metadata": {},
   "source": [
    "## PySpark Dataframe API\n",
    "\n",
    "The PySpark DataFrame is a structured data store representing a table of data consisting of columns, similar to the Pandas DataFrame. DataFrames have several advantages over RDDs, such as structured data management, faster operations, and support for Python Pandas-like language elements.\n",
    "\n",
    "The PySpark DataFrame API provides various functions for manipulating data, including:\n",
    "\n",
    "- Loading and saving data: the DataFrame API provides a number of functions for loading and saving data from various data sources such as CSV, JSON, Parquet, avro, etc. For example: spark.read.csv(), spark.write.parquet().\n",
    "\n",
    " - Data transformations: The DataFrame API allows you to transform data using standard SQL operations such as SELECT, WHERE, GROUP BY, JOIN, UNION, etc. For example: df.select(), df.filter(), df.groupBy(), df.join().\n",
    "\n",
    "- Aggregation and Aggregation: The DataFrame API allows aggregation and aggregation of data using various methods such as agg() and groupBy(). For example: df.groupBy().agg()\n",
    "\n",
    "- Data handling and processing: The DataFrame API allows data handling and processing, such as handling missing data, renaming columns, converting column type, etc. For example: df.na.fill(), df.withColumnRenamed(), df.withColumn()\n",
    "\n",
    "- Window functions: the DataFrame API allows you to sort and aggregate data into windows using the window() function.\n",
    "\n",
    "The DataFrame API provides additional functions, such as PySpark SQL functions. The PySpark DataFrame API can be explored in detail in the official PySpark documentation."
   ]
  },
  {
   "cell_type": "code",
   "execution_count": 35,
   "id": "d12a92c0",
   "metadata": {},
   "outputs": [],
   "source": [
    "#Read our source file\n",
    "\n",
    "titanic_df = spark.read.format(\"parquet\").load(\"titanic_parquet\")"
   ]
  },
  {
   "cell_type": "markdown",
   "id": "e53cc163",
   "metadata": {},
   "source": [
    "### select function\n",
    "\n",
    "The select() method is one of the data transformations that can be used in the PySpark DataFrame API to select or rename the columns of a given DataFrame.\n",
    "\n",
    "The select() method can be used to select multiple columns at once:\n",
    "\n",
    "```python\n",
    "titanic_df.select(\"name\", \"age\").show()\n",
    "```\n",
    "\n",
    "The select() method can also be used to rename columns:\n",
    "```python\n",
    "titanic_df.select(df[\"name\"], df[\"age\"].alias(\"years\")).show()\n",
    "```\n"
   ]
  },
  {
   "cell_type": "code",
   "execution_count": 36,
   "id": "81497fb8",
   "metadata": {},
   "outputs": [
    {
     "name": "stdout",
     "output_type": "stream",
     "text": [
      "+--------+--------------------+\n",
      "|Survived|                Name|\n",
      "+--------+--------------------+\n",
      "|       0|Braund, Mr. Owen ...|\n",
      "|       1|Cumings, Mrs. Joh...|\n",
      "|       1|Heikkinen, Miss. ...|\n",
      "|       1|Futrelle, Mrs. Ja...|\n",
      "|       0|Allen, Mr. Willia...|\n",
      "|       0|    Moran, Mr. James|\n",
      "|       0|McCarthy, Mr. Tim...|\n",
      "|       0|Palsson, Master. ...|\n",
      "|       1|Johnson, Mrs. Osc...|\n",
      "|       1|Nasser, Mrs. Nich...|\n",
      "|       1|Sandstrom, Miss. ...|\n",
      "|       1|Bonnell, Miss. El...|\n",
      "|       0|Saundercock, Mr. ...|\n",
      "|       0|Andersson, Mr. An...|\n",
      "|       0|Vestrom, Miss. Hu...|\n",
      "|       1|Hewlett, Mrs. (Ma...|\n",
      "|       0|Rice, Master. Eugene|\n",
      "|       1|Williams, Mr. Cha...|\n",
      "|       0|Vander Planke, Mr...|\n",
      "|       1|Masselmani, Mrs. ...|\n",
      "+--------+--------------------+\n",
      "only showing top 20 rows\n",
      "\n"
     ]
    }
   ],
   "source": [
    "# Please deselect the Survived and Name columns\n",
    "\n",
    "selected = titanic_df.select(\"Survived\", \"Name\")\n",
    "selected.show()"
   ]
  },
  {
   "cell_type": "code",
   "execution_count": 37,
   "id": "dee56098",
   "metadata": {},
   "outputs": [
    {
     "name": "stdout",
     "output_type": "stream",
     "text": [
      "+--------+--------------------+\n",
      "|Survived|                Name|\n",
      "+--------+--------------------+\n",
      "|       1|Cumings, Mrs. Joh...|\n",
      "|       1|Futrelle, Mrs. Ja...|\n",
      "|       1|Johnson, Mrs. Osc...|\n",
      "|       1|Nasser, Mrs. Nich...|\n",
      "|       1|Hewlett, Mrs. (Ma...|\n",
      "|       1|Masselmani, Mrs. ...|\n",
      "|       1|Asplund, Mrs. Car...|\n",
      "|       1|Spencer, Mrs. Wil...|\n",
      "|       1|Harper, Mrs. Henr...|\n",
      "|       1|Faunthorpe, Mrs. ...|\n",
      "|       1|Nye, Mrs. (Elizab...|\n",
      "|       1|Backstrom, Mrs. K...|\n",
      "|       1|Doling, Mrs. John...|\n",
      "|       1|Weisz, Mrs. Leopo...|\n",
      "|       1|Hakkarainen, Mrs....|\n",
      "|       1|Pears, Mrs. Thoma...|\n",
      "|       1|\"Watt, Mrs. James...|\n",
      "|       1|Chibnall, Mrs. (E...|\n",
      "|       1|\"O'Brien, Mrs. Th...|\n",
      "|       1| Pinsky, Mrs. (Rosa)|\n",
      "+--------+--------------------+\n",
      "only showing top 20 rows\n",
      "\n"
     ]
    }
   ],
   "source": [
    "# Please describe those who survived and their names where the name includes \"Mrs.\"\n",
    "selected = titanic_df.select(\"Survived\", \"Name\") \\\n",
    "                     .filter(titanic_df.Survived == 1) \\\n",
    "                     .filter(titanic_df.Name.contains(\"Mrs\"))\n",
    "selected.show()"
   ]
  },
  {
   "cell_type": "code",
   "execution_count": 38,
   "id": "082e75f2",
   "metadata": {},
   "outputs": [
    {
     "name": "stdout",
     "output_type": "stream",
     "text": [
      "+--------+--------------------+\n",
      "|is_alive|           full_name|\n",
      "+--------+--------------------+\n",
      "|       0|Braund, Mr. Owen ...|\n",
      "|       1|Cumings, Mrs. Joh...|\n",
      "|       1|Heikkinen, Miss. ...|\n",
      "|       1|Futrelle, Mrs. Ja...|\n",
      "|       0|Allen, Mr. Willia...|\n",
      "|       0|    Moran, Mr. James|\n",
      "|       0|McCarthy, Mr. Tim...|\n",
      "|       0|Palsson, Master. ...|\n",
      "|       1|Johnson, Mrs. Osc...|\n",
      "|       1|Nasser, Mrs. Nich...|\n",
      "|       1|Sandstrom, Miss. ...|\n",
      "|       1|Bonnell, Miss. El...|\n",
      "|       0|Saundercock, Mr. ...|\n",
      "|       0|Andersson, Mr. An...|\n",
      "|       0|Vestrom, Miss. Hu...|\n",
      "|       1|Hewlett, Mrs. (Ma...|\n",
      "|       0|Rice, Master. Eugene|\n",
      "|       1|Williams, Mr. Cha...|\n",
      "|       0|Vander Planke, Mr...|\n",
      "|       1|Masselmani, Mrs. ...|\n",
      "+--------+--------------------+\n",
      "only showing top 20 rows\n",
      "\n"
     ]
    }
   ],
   "source": [
    "# Select and rename multiple columns with alias():\n",
    "selected = titanic_df.select(titanic_df[\"Survived\"].alias(\"is_alive\"), titanic_df[\"Name\"].alias(\"full_name\"))\n",
    "selected.show()"
   ]
  },
  {
   "cell_type": "markdown",
   "id": "eafad1c1",
   "metadata": {},
   "source": [
    "Columns can also be referenced using the col function, but first you need to import\n"
   ]
  },
  {
   "cell_type": "code",
   "execution_count": 39,
   "id": "b56c3786",
   "metadata": {},
   "outputs": [],
   "source": [
    "from pyspark.sql.functions import col"
   ]
  },
  {
   "cell_type": "code",
   "execution_count": 40,
   "id": "0c0f5523",
   "metadata": {},
   "outputs": [
    {
     "name": "stdout",
     "output_type": "stream",
     "text": [
      "+--------------------+----+\n",
      "|                Name| Age|\n",
      "+--------------------+----+\n",
      "|Braund, Mr. Owen ...|22.0|\n",
      "|Cumings, Mrs. Joh...|38.0|\n",
      "|Heikkinen, Miss. ...|26.0|\n",
      "|Futrelle, Mrs. Ja...|35.0|\n",
      "|Allen, Mr. Willia...|35.0|\n",
      "|    Moran, Mr. James|null|\n",
      "|McCarthy, Mr. Tim...|54.0|\n",
      "|Palsson, Master. ...| 2.0|\n",
      "|Johnson, Mrs. Osc...|27.0|\n",
      "|Nasser, Mrs. Nich...|14.0|\n",
      "|Sandstrom, Miss. ...| 4.0|\n",
      "|Bonnell, Miss. El...|58.0|\n",
      "|Saundercock, Mr. ...|20.0|\n",
      "|Andersson, Mr. An...|39.0|\n",
      "|Vestrom, Miss. Hu...|14.0|\n",
      "|Hewlett, Mrs. (Ma...|55.0|\n",
      "|Rice, Master. Eugene| 2.0|\n",
      "|Williams, Mr. Cha...|null|\n",
      "|Vander Planke, Mr...|31.0|\n",
      "|Masselmani, Mrs. ...|null|\n",
      "+--------------------+----+\n",
      "only showing top 20 rows\n",
      "\n"
     ]
    }
   ],
   "source": [
    "# Let's select the names and ages of all passengers:\n",
    "\n",
    "titanic_df.select(col(\"Name\"), col(\"Age\")).show()"
   ]
  },
  {
   "cell_type": "code",
   "execution_count": 41,
   "id": "79d69a1a",
   "metadata": {},
   "outputs": [
    {
     "name": "stdout",
     "output_type": "stream",
     "text": [
      "+--------------------+----+--------+\n",
      "|                Name| Age|Embarked|\n",
      "+--------------------+----+--------+\n",
      "|Braund, Mr. Owen ...|22.0|       S|\n",
      "|Cumings, Mrs. Joh...|38.0|       C|\n",
      "|Heikkinen, Miss. ...|26.0|       S|\n",
      "|Futrelle, Mrs. Ja...|35.0|       S|\n",
      "|Allen, Mr. Willia...|35.0|       S|\n",
      "|    Moran, Mr. James|null|       Q|\n",
      "|McCarthy, Mr. Tim...|54.0|       S|\n",
      "|Palsson, Master. ...| 2.0|       S|\n",
      "|Johnson, Mrs. Osc...|27.0|       S|\n",
      "|Nasser, Mrs. Nich...|14.0|       C|\n",
      "|Sandstrom, Miss. ...| 4.0|       S|\n",
      "|Bonnell, Miss. El...|58.0|       S|\n",
      "|Saundercock, Mr. ...|20.0|       S|\n",
      "|Andersson, Mr. An...|39.0|       S|\n",
      "|Vestrom, Miss. Hu...|14.0|       S|\n",
      "|Hewlett, Mrs. (Ma...|55.0|       S|\n",
      "|Rice, Master. Eugene| 2.0|       Q|\n",
      "|Williams, Mr. Cha...|null|       S|\n",
      "|Vander Planke, Mr...|31.0|       S|\n",
      "|Masselmani, Mrs. ...|null|       C|\n",
      "+--------------------+----+--------+\n",
      "only showing top 20 rows\n",
      "\n"
     ]
    }
   ],
   "source": [
    "#Let's select the names, ages and embarkation dates of all passengers:\n",
    "\n",
    "titanic_df.select(col(\"Name\"), col(\"Age\"), col(\"Embarked\")).show()"
   ]
  },
  {
   "cell_type": "code",
   "execution_count": 42,
   "id": "83b2ba71",
   "metadata": {},
   "outputs": [
    {
     "name": "stdout",
     "output_type": "stream",
     "text": [
      "+--------------------+----+--------+\n",
      "|                Name| Age|Survived|\n",
      "+--------------------+----+--------+\n",
      "|Braund, Mr. Owen ...|22.0|       0|\n",
      "|Cumings, Mrs. Joh...|38.0|       1|\n",
      "|Heikkinen, Miss. ...|26.0|       1|\n",
      "|Futrelle, Mrs. Ja...|35.0|       1|\n",
      "|Allen, Mr. Willia...|35.0|       0|\n",
      "|    Moran, Mr. James|null|       0|\n",
      "|McCarthy, Mr. Tim...|54.0|       0|\n",
      "|Palsson, Master. ...| 2.0|       0|\n",
      "|Johnson, Mrs. Osc...|27.0|       1|\n",
      "|Nasser, Mrs. Nich...|14.0|       1|\n",
      "|Sandstrom, Miss. ...| 4.0|       1|\n",
      "|Bonnell, Miss. El...|58.0|       1|\n",
      "|Saundercock, Mr. ...|20.0|       0|\n",
      "|Andersson, Mr. An...|39.0|       0|\n",
      "|Vestrom, Miss. Hu...|14.0|       0|\n",
      "|Hewlett, Mrs. (Ma...|55.0|       1|\n",
      "|Rice, Master. Eugene| 2.0|       0|\n",
      "|Williams, Mr. Cha...|null|       1|\n",
      "|Vander Planke, Mr...|31.0|       0|\n",
      "|Masselmani, Mrs. ...|null|       1|\n",
      "+--------------------+----+--------+\n",
      "only showing top 20 rows\n",
      "\n"
     ]
    }
   ],
   "source": [
    "# Let's select the names of all passengers, their age and whether they survived the shipwreck:\n",
    "titanic_df.select(col(\"Name\"), col(\"Age\"), col(\"Survived\")).show()"
   ]
  },
  {
   "cell_type": "markdown",
   "id": "1776cd19",
   "metadata": {},
   "source": [
    "The selectExpr() method allows you to use SQL-like expressions to select, transform and rename columns in a DataFrame.\n",
    "\n",
    "Example of using selectExpr() on Titanic data:\n",
    "\n",
    "```python\n",
    "from pyspark.sql.functions import expr\n",
    "\n",
    "# Create DataFrame\n",
    "df = spark.read.format(\"csv\").option(\"header\", \"true\").load(\"titanic.csv\")\n",
    "\n",
    "# use selectExpr\n",
    "df.selectExpr(\"Survived as label\", \"Age\", \"Fare\", \"Sex\", \"Embarked\", \"Pclass\", \"SibSp + Parch as FamilySize\") \\\n",
    "  .show()\n",
    "\n",
    "\n",
    "```\n",
    "\n",
    "In this example, the Age, Fare, Sex, Embarked, Pclass columns are simply taken from the DataFrame, the SibSp and Parch columns are added together and renamed to the FamilySize column, and the Survived column is renamed to label.\n",
    "\n",
    "When using selectExpr(), you can specify columns as space-separated strings and modify column names with SQL-like expressions. You can also use the expr() function to specify expressions."
   ]
  },
  {
   "cell_type": "code",
   "execution_count": 43,
   "id": "79dd5652",
   "metadata": {},
   "outputs": [
    {
     "name": "stdout",
     "output_type": "stream",
     "text": [
      "+--------------------+-----------+-----+\n",
      "|                Name|PassengerId|SibSp|\n",
      "+--------------------+-----------+-----+\n",
      "|Sage, Master. Tho...|        160|    8|\n",
      "|Sage, Miss. Const...|        181|    8|\n",
      "| Sage, Mr. Frederick|        202|    8|\n",
      "|Sage, Mr. George ...|        325|    8|\n",
      "|Sage, Miss. Stell...|        793|    8|\n",
      "|Sage, Mr. Douglas...|        847|    8|\n",
      "|\"Sage, Miss. Doro...|        864|    8|\n",
      "+--------------------+-----------+-----+\n",
      "\n"
     ]
    }
   ],
   "source": [
    "# Name and ID of passengers with more than 5 siblings or spouses on board:\n",
    "\n",
    "titanic_df.select(\"Name\", \"PassengerId\", \"SibSp\").filter(\"SibSp > 5\").show()\n"
   ]
  },
  {
   "cell_type": "code",
   "execution_count": 44,
   "id": "54dee2c6",
   "metadata": {},
   "outputs": [
    {
     "name": "stdout",
     "output_type": "stream",
     "text": [
      "+----------------+----+--------+\n",
      "|            Name| Age|    Fare|\n",
      "+----------------+----+--------+\n",
      "|Ward, Miss. Anna|35.0|512.3292|\n",
      "+----------------+----+--------+\n",
      "\n"
     ]
    }
   ],
   "source": [
    "#Name and age of passenger younger than 50 who bought the most expensive ticket:\n",
    "\n",
    "from pyspark.sql.functions import desc\n",
    "\n",
    "titanic_df.select(\"Name\", \"Age\", \"Fare\").filter(\"Age < 50\").orderBy(desc(\"Fare\")).limit(1).show()\n",
    "\n"
   ]
  },
  {
   "cell_type": "markdown",
   "id": "f8c1bcdd",
   "metadata": {},
   "source": [
    "## Practice\n",
    "\n"
   ]
  },
  {
   "cell_type": "code",
   "execution_count": 45,
   "id": "ebfbf38d",
   "metadata": {},
   "outputs": [
    {
     "name": "stdout",
     "output_type": "stream",
     "text": [
      "+--------+--------------------+\n",
      "|Survived|                Name|\n",
      "+--------+--------------------+\n",
      "|       0|Braund, Mr. Owen ...|\n",
      "|       1|Cumings, Mrs. Joh...|\n",
      "|       1|Heikkinen, Miss. ...|\n",
      "|       1|Futrelle, Mrs. Ja...|\n",
      "|       0|Allen, Mr. Willia...|\n",
      "|       0|    Moran, Mr. James|\n",
      "|       0|McCarthy, Mr. Tim...|\n",
      "|       0|Palsson, Master. ...|\n",
      "|       1|Johnson, Mrs. Osc...|\n",
      "|       1|Nasser, Mrs. Nich...|\n",
      "|       1|Sandstrom, Miss. ...|\n",
      "|       1|Bonnell, Miss. El...|\n",
      "|       0|Saundercock, Mr. ...|\n",
      "|       0|Andersson, Mr. An...|\n",
      "|       0|Vestrom, Miss. Hu...|\n",
      "|       1|Hewlett, Mrs. (Ma...|\n",
      "|       0|Rice, Master. Eugene|\n",
      "|       1|Williams, Mr. Cha...|\n",
      "|       0|Vander Planke, Mr...|\n",
      "|       1|Masselmani, Mrs. ...|\n",
      "+--------+--------------------+\n",
      "only showing top 20 rows\n",
      "\n"
     ]
    }
   ],
   "source": [
    "# Please select the Survived and Name columns\n",
    "\n",
    "selected = titanic_df.select(\"Survived\", \"Name\")\n",
    "selected.show()"
   ]
  },
  {
   "cell_type": "code",
   "execution_count": 49,
   "id": "35d42eb0",
   "metadata": {},
   "outputs": [
    {
     "name": "stdout",
     "output_type": "stream",
     "text": [
      "+--------+--------------------+\n",
      "|Survived|                Name|\n",
      "+--------+--------------------+\n",
      "|       1|Cumings, Mrs. Joh...|\n",
      "|       1|Futrelle, Mrs. Ja...|\n",
      "|       1|Johnson, Mrs. Osc...|\n",
      "|       1|Nasser, Mrs. Nich...|\n",
      "|       1|Hewlett, Mrs. (Ma...|\n",
      "|       1|Masselmani, Mrs. ...|\n",
      "|       1|Asplund, Mrs. Car...|\n",
      "|       1|Spencer, Mrs. Wil...|\n",
      "|       1|Harper, Mrs. Henr...|\n",
      "|       1|Faunthorpe, Mrs. ...|\n",
      "|       1|Nye, Mrs. (Elizab...|\n",
      "|       1|Backstrom, Mrs. K...|\n",
      "|       1|Doling, Mrs. John...|\n",
      "|       1|Weisz, Mrs. Leopo...|\n",
      "|       1|Hakkarainen, Mrs....|\n",
      "|       1|Pears, Mrs. Thoma...|\n",
      "|       1|\"Watt, Mrs. James...|\n",
      "|       1|Chibnall, Mrs. (E...|\n",
      "|       1|\"O'Brien, Mrs. Th...|\n",
      "|       1| Pinsky, Mrs. (Rosa)|\n",
      "+--------+--------------------+\n",
      "only showing top 20 rows\n",
      "\n"
     ]
    }
   ],
   "source": [
    "# Please describe those who survived and their names where the name includes \"Mrs\"\n",
    "\n",
    "selected = titanic_df.select(\"Survived\", \"Name\") \\\n",
    "                     .filter(titanic_df.Survived == 1) \\\n",
    "                     .filter(titanic_df.Name.contains(\"Mrs\"))\n",
    "selected.show()"
   ]
  },
  {
   "cell_type": "code",
   "execution_count": 51,
   "id": "49fe4670",
   "metadata": {},
   "outputs": [
    {
     "name": "stdout",
     "output_type": "stream",
     "text": [
      "+--------+--------------------+\n",
      "|is_alive|           full_name|\n",
      "+--------+--------------------+\n",
      "|       0|Braund, Mr. Owen ...|\n",
      "|       1|Cumings, Mrs. Joh...|\n",
      "|       1|Heikkinen, Miss. ...|\n",
      "|       1|Futrelle, Mrs. Ja...|\n",
      "|       0|Allen, Mr. Willia...|\n",
      "|       0|    Moran, Mr. James|\n",
      "|       0|McCarthy, Mr. Tim...|\n",
      "|       0|Palsson, Master. ...|\n",
      "|       1|Johnson, Mrs. Osc...|\n",
      "|       1|Nasser, Mrs. Nich...|\n",
      "|       1|Sandstrom, Miss. ...|\n",
      "|       1|Bonnell, Miss. El...|\n",
      "|       0|Saundercock, Mr. ...|\n",
      "|       0|Andersson, Mr. An...|\n",
      "|       0|Vestrom, Miss. Hu...|\n",
      "|       1|Hewlett, Mrs. (Ma...|\n",
      "|       0|Rice, Master. Eugene|\n",
      "|       1|Williams, Mr. Cha...|\n",
      "|       0|Vander Planke, Mr...|\n",
      "|       1|Masselmani, Mrs. ...|\n",
      "+--------+--------------------+\n",
      "only showing top 20 rows\n",
      "\n"
     ]
    }
   ],
   "source": [
    "# Select multiple columns and rename them with alias():\n",
    "\n",
    "selected = titanic_df.select(titanic_df[\"Survived\"].alias(\"is_alive\"), titanic_df[\"Name\"].alias(\"full_name\"))\n",
    "selected.show()"
   ]
  },
  {
   "cell_type": "markdown",
   "id": "4d53cabd",
   "metadata": {},
   "source": [
    "### withColumn function\n",
    "\n",
    "Apache Spark's withColumn() method modifies the columns in the DataFrame or adds a new column to the DataFrame.\n",
    "\n",
    "Example of adding a new column to a DataFrame:\n",
    "\n",
    "```python\n",
    "\n",
    "from pyspark.sql.functions import col\n",
    "\n",
    "# Create DataFrame\n",
    "data = [(\"John\", 25), (\"Jane\", 22), (\"Bob\", 30)]\n",
    "df = spark.createDataFrame(data, [\"Name\", \"Age\"])\n",
    "\n",
    "# Add a new column to the DataFrame\n",
    "df = df.withColumn(\"AgePlusTen\", col(\"Age\") + 10)\n",
    "\n",
    "# Show result\n",
    "df.show()\n",
    "\n",
    "```\n",
    "\n",
    "In this example, a new column named \"AgePlusTen\" has been added to the DataFrame, adding 10 to the value of the column \"Age\". The withColumn() method uses the name \"AgePlusTen\" as the third parameter for the mathematical expression required to create the new column.\n",
    "\n",
    "Example of modifying an existing column:\n",
    "\n",
    "```python\n",
    "# Create DataFrame\n",
    "data = [(\"John\", 25), (\"Jane\", 22), (\"Bob\", 30)]\n",
    "df = spark.createDataFrame(data, [\"Name\", \"Age\"])\n",
    "\n",
    "# Change column in DataFrame\n",
    "df = df.withColumn(\"Age\", col(\"Age\") + 10)\n",
    "\n",
    "# Show result\n",
    "df.show()\n",
    "\n",
    "```\n",
    "\n",
    "In this example, the value of column \"Age\" is incremented by 10. The withColumn() method uses the name \"Age\" as the first parameter, which specifies the name of the column to modify, then uses the value of the existing column as the second parameter using the col() function, and then adds 10 to get the modified value."
   ]
  },
  {
   "cell_type": "code",
   "execution_count": 53,
   "id": "fa14bb08",
   "metadata": {},
   "outputs": [
    {
     "name": "stdout",
     "output_type": "stream",
     "text": [
      "+--------------------+----+--------+\n",
      "|                Name| Age|Embarked|\n",
      "+--------------------+----+--------+\n",
      "|Braund, Mr. Owen ...|22.0|       S|\n",
      "|Cumings, Mrs. Joh...|38.0|       C|\n",
      "|Heikkinen, Miss. ...|26.0|       S|\n",
      "|Futrelle, Mrs. Ja...|35.0|       S|\n",
      "|Allen, Mr. Willia...|35.0|       S|\n",
      "|    Moran, Mr. James|null|       Q|\n",
      "|McCarthy, Mr. Tim...|54.0|       S|\n",
      "|Palsson, Master. ...| 2.0|       S|\n",
      "|Johnson, Mrs. Osc...|27.0|       S|\n",
      "|Nasser, Mrs. Nich...|14.0|       C|\n",
      "|Sandstrom, Miss. ...| 4.0|       S|\n",
      "|Bonnell, Miss. El...|58.0|       S|\n",
      "|Saundercock, Mr. ...|20.0|       S|\n",
      "|Andersson, Mr. An...|39.0|       S|\n",
      "|Vestrom, Miss. Hu...|14.0|       S|\n",
      "|Hewlett, Mrs. (Ma...|55.0|       S|\n",
      "|Rice, Master. Eugene| 2.0|       Q|\n",
      "|Williams, Mr. Cha...|null|       S|\n",
      "|Vander Planke, Mr...|31.0|       S|\n",
      "|Masselmani, Mrs. ...|null|       C|\n",
      "+--------------------+----+--------+\n",
      "only showing top 20 rows\n",
      "\n"
     ]
    }
   ],
   "source": [
    "# Query Name, Age and Embarked columns using col function\n",
    "\n",
    "titanic_df.select((\"Name\"), (\"Age\"),(\"Embarked\")).show()"
   ]
  },
  {
   "cell_type": "code",
   "execution_count": 54,
   "id": "155b31e0",
   "metadata": {},
   "outputs": [
    {
     "name": "stdout",
     "output_type": "stream",
     "text": [
      "+-----------+--------+------+--------------------+------+----+-----+-----+----------------+-------+-----+--------+------------+\n",
      "|PassengerId|Survived|Pclass|                Name|   Sex| Age|SibSp|Parch|          Ticket|   Fare|Cabin|Embarked|age_category|\n",
      "+-----------+--------+------+--------------------+------+----+-----+-----+----------------+-------+-----+--------+------------+\n",
      "|          1|       0|     3|Braund, Mr. Owen ...|  male|22.0|    1|    0|       A/5 21171|   7.25| null|       S|       adult|\n",
      "|          2|       1|     1|Cumings, Mrs. Joh...|female|38.0|    1|    0|        PC 17599|71.2833|  C85|       C|       adult|\n",
      "|          3|       1|     3|Heikkinen, Miss. ...|female|26.0|    0|    0|STON/O2. 3101282|  7.925| null|       S|       adult|\n",
      "|          4|       1|     1|Futrelle, Mrs. Ja...|female|35.0|    1|    0|          113803|   53.1| C123|       S|       adult|\n",
      "|          5|       0|     3|Allen, Mr. Willia...|  male|35.0|    0|    0|          373450|   8.05| null|       S|       adult|\n",
      "|          6|       0|     3|    Moran, Mr. James|  male|null|    0|    0|          330877| 8.4583| null|       Q|       adult|\n",
      "|          7|       0|     1|McCarthy, Mr. Tim...|  male|54.0|    0|    0|           17463|51.8625|  E46|       S|       adult|\n",
      "|          8|       0|     3|Palsson, Master. ...|  male| 2.0|    3|    1|          349909| 21.075| null|       S|       child|\n",
      "|          9|       1|     3|Johnson, Mrs. Osc...|female|27.0|    0|    2|          347742|11.1333| null|       S|       adult|\n",
      "|         10|       1|     2|Nasser, Mrs. Nich...|female|14.0|    1|    0|          237736|30.0708| null|       C|       child|\n",
      "|         11|       1|     3|Sandstrom, Miss. ...|female| 4.0|    1|    1|         PP 9549|   16.7|   G6|       S|       child|\n",
      "|         12|       1|     1|Bonnell, Miss. El...|female|58.0|    0|    0|          113783|  26.55| C103|       S|       adult|\n",
      "|         13|       0|     3|Saundercock, Mr. ...|  male|20.0|    0|    0|       A/5. 2151|   8.05| null|       S|       adult|\n",
      "|         14|       0|     3|Andersson, Mr. An...|  male|39.0|    1|    5|          347082| 31.275| null|       S|       adult|\n",
      "|         15|       0|     3|Vestrom, Miss. Hu...|female|14.0|    0|    0|          350406| 7.8542| null|       S|       child|\n",
      "|         16|       1|     2|Hewlett, Mrs. (Ma...|female|55.0|    0|    0|          248706|   16.0| null|       S|       adult|\n",
      "|         17|       0|     3|Rice, Master. Eugene|  male| 2.0|    4|    1|          382652| 29.125| null|       Q|       child|\n",
      "|         18|       1|     2|Williams, Mr. Cha...|  male|null|    0|    0|          244373|   13.0| null|       S|       adult|\n",
      "|         19|       0|     3|Vander Planke, Mr...|female|31.0|    1|    0|          345763|   18.0| null|       S|       adult|\n",
      "|         20|       1|     3|Masselmani, Mrs. ...|female|null|    0|    0|            2649|  7.225| null|       C|       adult|\n",
      "+-----------+--------+------+--------------------+------+----+-----+-----+----------------+-------+-----+--------+------------+\n",
      "only showing top 20 rows\n",
      "\n"
     ]
    }
   ],
   "source": [
    "# Example that adds an age category column to our data using the when function\n",
    "\n",
    "from pyspark.sql.functions import when\n",
    "\n",
    "\n",
    "df_with_age_category = titanic_df.withColumn(\"age_category\",when(col(\"age\") < 18, \"child\").otherwise(\"adult\"))\n",
    "df_with_age_category.show()\n"
   ]
  },
  {
   "cell_type": "code",
   "execution_count": 55,
   "id": "3312670a",
   "metadata": {},
   "outputs": [
    {
     "name": "stdout",
     "output_type": "stream",
     "text": [
      "+-----------+--------+------+--------------------+------+-----+-----+-----+----------------+-------+-----+--------+\n",
      "|PassengerId|Survived|Pclass|                Name|   Sex|  age|SibSp|Parch|          Ticket|   Fare|Cabin|Embarked|\n",
      "+-----------+--------+------+--------------------+------+-----+-----+-----+----------------+-------+-----+--------+\n",
      "|          1|       0|     3|Braund, Mr. Owen ...|  male|-22.0|    1|    0|       A/5 21171|   7.25| null|       S|\n",
      "|          2|       1|     1|Cumings, Mrs. Joh...|female|-38.0|    1|    0|        PC 17599|71.2833|  C85|       C|\n",
      "|          3|       1|     3|Heikkinen, Miss. ...|female|-26.0|    0|    0|STON/O2. 3101282|  7.925| null|       S|\n",
      "|          4|       1|     1|Futrelle, Mrs. Ja...|female|-35.0|    1|    0|          113803|   53.1| C123|       S|\n",
      "|          5|       0|     3|Allen, Mr. Willia...|  male|-35.0|    0|    0|          373450|   8.05| null|       S|\n",
      "|          6|       0|     3|    Moran, Mr. James|  male| null|    0|    0|          330877| 8.4583| null|       Q|\n",
      "|          7|       0|     1|McCarthy, Mr. Tim...|  male|-54.0|    0|    0|           17463|51.8625|  E46|       S|\n",
      "|          8|       0|     3|Palsson, Master. ...|  male| -2.0|    3|    1|          349909| 21.075| null|       S|\n",
      "|          9|       1|     3|Johnson, Mrs. Osc...|female|-27.0|    0|    2|          347742|11.1333| null|       S|\n",
      "|         10|       1|     2|Nasser, Mrs. Nich...|female|-14.0|    1|    0|          237736|30.0708| null|       C|\n",
      "|         11|       1|     3|Sandstrom, Miss. ...|female| -4.0|    1|    1|         PP 9549|   16.7|   G6|       S|\n",
      "|         12|       1|     1|Bonnell, Miss. El...|female|-58.0|    0|    0|          113783|  26.55| C103|       S|\n",
      "|         13|       0|     3|Saundercock, Mr. ...|  male|-20.0|    0|    0|       A/5. 2151|   8.05| null|       S|\n",
      "|         14|       0|     3|Andersson, Mr. An...|  male|-39.0|    1|    5|          347082| 31.275| null|       S|\n",
      "|         15|       0|     3|Vestrom, Miss. Hu...|female|-14.0|    0|    0|          350406| 7.8542| null|       S|\n",
      "|         16|       1|     2|Hewlett, Mrs. (Ma...|female|-55.0|    0|    0|          248706|   16.0| null|       S|\n",
      "|         17|       0|     3|Rice, Master. Eugene|  male| -2.0|    4|    1|          382652| 29.125| null|       Q|\n",
      "|         18|       1|     2|Williams, Mr. Cha...|  male| null|    0|    0|          244373|   13.0| null|       S|\n",
      "|         19|       0|     3|Vander Planke, Mr...|female|-31.0|    1|    0|          345763|   18.0| null|       S|\n",
      "|         20|       1|     3|Masselmani, Mrs. ...|female| null|    0|    0|            2649|  7.225| null|       C|\n",
      "+-----------+--------+------+--------------------+------+-----+-----+-----+----------------+-------+-----+--------+\n",
      "only showing top 20 rows\n",
      "\n"
     ]
    }
   ],
   "source": [
    "# Example that multiplies the age by -1\n",
    "\n",
    "df_with_minus_age = titanic_df.withColumn(\"age\",col(\"age\") *-1)\n",
    "df_with_minus_age.show()\n"
   ]
  },
  {
   "cell_type": "markdown",
   "id": "05b5ec8b",
   "metadata": {},
   "source": [
    "### withColumnRenamed\n",
    "\n",
    "The withColumnRenamed function can be used to rename an existing column in the given DataFrame. The function takes two arguments: the first is the name of the current column, and the second is the new name to rename the column to.\n",
    "\n",
    "An example of how to rename a column in the Titanic database:\n",
    "```python\n",
    "from pyspark.sql.functions import col\n",
    "\n",
    "# df is the name of the Titanic DataFrame\n",
    "df = df.withColumnRenamed(\"Pclass\", \"PassengerClass\")\n",
    "\n",
    "# Applying a new name to the PassengerClass column\n",
    "df.show()\n",
    "\n",
    "```"
   ]
  },
  {
   "cell_type": "code",
   "execution_count": 56,
   "id": "2c5b31d5",
   "metadata": {},
   "outputs": [
    {
     "name": "stdout",
     "output_type": "stream",
     "text": [
      "+--------------------+\n",
      "|       PassengerName|\n",
      "+--------------------+\n",
      "|Braund, Mr. Owen ...|\n",
      "|Cumings, Mrs. Joh...|\n",
      "|Heikkinen, Miss. ...|\n",
      "|Futrelle, Mrs. Ja...|\n",
      "|Allen, Mr. Willia...|\n",
      "+--------------------+\n",
      "only showing top 5 rows\n",
      "\n"
     ]
    }
   ],
   "source": [
    "from pyspark.sql.functions import col\n",
    "\n",
    "# data loading\n",
    "titanic_df = spark.read.format(\"csv\") \\\n",
    "    .option(\"header\", \"true\") \\\n",
    "    .load(\"titanic.csv\")\n",
    "\n",
    "# Rename 'Name' column to 'PassengerName'\n",
    "titanic_df = titanic_df.withColumnRenamed(\"Name\", \"PassengerName\")\n",
    "\n",
    "# print the new column\n",
    "titanic_df.select(col(\"PassengerName\")).show(5)\n"
   ]
  },
  {
   "cell_type": "code",
   "execution_count": 57,
   "id": "642c1540",
   "metadata": {},
   "outputs": [
    {
     "name": "stdout",
     "output_type": "stream",
     "text": [
      "root\n",
      " |-- PassengerId: string (nullable = true)\n",
      " |-- Survived: string (nullable = true)\n",
      " |-- Pclass: string (nullable = true)\n",
      " |-- PassengerName: string (nullable = true)\n",
      " |-- Sex: string (nullable = true)\n",
      " |-- Age: string (nullable = true)\n",
      " |-- SibSp: string (nullable = true)\n",
      " |-- Parch: string (nullable = true)\n",
      " |-- Ticket: string (nullable = true)\n",
      " |-- Fare: string (nullable = true)\n",
      " |-- Cabin: string (nullable = true)\n",
      " |-- Port_of_Embarkation: string (nullable = true)\n",
      "\n"
     ]
    }
   ],
   "source": [
    "# Rename the \"Embarked\" column to \"Port_of_Embarkation\":\n",
    "\n",
    "titanic_df = titanic_df.withColumnRenamed(\"Embarked\", \"Port_of_Embarkation\")\n",
    "titanic_df.printSchema()"
   ]
  },
  {
   "cell_type": "code",
   "execution_count": 58,
   "id": "7ac96f00",
   "metadata": {},
   "outputs": [
    {
     "name": "stdout",
     "output_type": "stream",
     "text": [
      "root\n",
      " |-- PassengerId: string (nullable = true)\n",
      " |-- Survived: string (nullable = true)\n",
      " |-- Pclass: string (nullable = true)\n",
      " |-- PassengerName: string (nullable = true)\n",
      " |-- Sex: string (nullable = true)\n",
      " |-- Age: string (nullable = true)\n",
      " |-- Siblings_or_Spouses_on_Board: string (nullable = true)\n",
      " |-- Parch: string (nullable = true)\n",
      " |-- Ticket: string (nullable = true)\n",
      " |-- Fare: string (nullable = true)\n",
      " |-- Cabin: string (nullable = true)\n",
      " |-- Port_of_Embarkation: string (nullable = true)\n",
      "\n"
     ]
    }
   ],
   "source": [
    "# Rename the column \"SibSp\" to \"Siblings_or_Spouses_on_Board\":\n",
    "\n",
    "titanic_df = titanic_df.withColumnRenamed(\"SibSp\", \"Siblings_or_Spouses_on_Board\")\n",
    "titanic_df.printSchema()"
   ]
  },
  {
   "cell_type": "code",
   "execution_count": 59,
   "id": "71fecdf4",
   "metadata": {},
   "outputs": [
    {
     "name": "stdout",
     "output_type": "stream",
     "text": [
      "root\n",
      " |-- PassengerId: string (nullable = true)\n",
      " |-- Survived: string (nullable = true)\n",
      " |-- Pclass: string (nullable = true)\n",
      " |-- PassengerName: string (nullable = true)\n",
      " |-- Sex: string (nullable = true)\n",
      " |-- Age: string (nullable = true)\n",
      " |-- Siblings_or_Spouses_on_Board: string (nullable = true)\n",
      " |-- Parents_or_Children_on_Board: string (nullable = true)\n",
      " |-- Ticket: string (nullable = true)\n",
      " |-- Fare: string (nullable = true)\n",
      " |-- Cabin: string (nullable = true)\n",
      " |-- Port_of_Embarkation: string (nullable = true)\n",
      "\n"
     ]
    }
   ],
   "source": [
    "# Rename the column \"Parch\" to \"Parents_or_Children_on_Board\":\n",
    "\n",
    "titanic_df = titanic_df.withColumnRenamed(\"Parch\", \"Parents_or_Children_on_Board\")\n",
    "titanic_df.printSchema()"
   ]
  },
  {
   "cell_type": "code",
   "execution_count": 60,
   "id": "3babc11a",
   "metadata": {},
   "outputs": [
    {
     "name": "stdout",
     "output_type": "stream",
     "text": [
      "root\n",
      " |-- PassengerId: string (nullable = true)\n",
      " |-- Survived: string (nullable = true)\n",
      " |-- Pclass: string (nullable = true)\n",
      " |-- PassengerName: string (nullable = true)\n",
      " |-- Sex: string (nullable = true)\n",
      " |-- NewAge: string (nullable = true)\n",
      " |-- Siblings_or_Spouses_on_Board: string (nullable = true)\n",
      " |-- Parents_or_Children_on_Board: string (nullable = true)\n",
      " |-- Ticket: string (nullable = true)\n",
      " |-- Fare: string (nullable = true)\n",
      " |-- Cabin: string (nullable = true)\n",
      " |-- Port_of_Embarkation: string (nullable = true)\n",
      "\n"
     ]
    }
   ],
   "source": [
    "# Rename multiple columns\n",
    "renamed_df = titanic_df.withColumnRenamed(\"Age\", \"NewAge\").withColumnRenamed(\"Name\", \"FullName\")\n",
    "renamed_df.printSchema()"
   ]
  },
  {
   "cell_type": "code",
   "execution_count": 61,
   "id": "70e431a3",
   "metadata": {},
   "outputs": [
    {
     "name": "stdout",
     "output_type": "stream",
     "text": [
      "root\n",
      " |-- Col_PassengerId: string (nullable = true)\n",
      " |-- Col_Survived: string (nullable = true)\n",
      " |-- Col_Pclass: string (nullable = true)\n",
      " |-- Col_PassengerName: string (nullable = true)\n",
      " |-- Col_Sex: string (nullable = true)\n",
      " |-- Col_Age: string (nullable = true)\n",
      " |-- Col_Siblings_or_Spouses_on_Board: string (nullable = true)\n",
      " |-- Col_Parents_or_Children_on_Board: string (nullable = true)\n",
      " |-- Col_Ticket: string (nullable = true)\n",
      " |-- Col_Fare: string (nullable = true)\n",
      " |-- Col_Cabin: string (nullable = true)\n",
      " |-- Col_Port_of_Embarkation: string (nullable = true)\n",
      "\n"
     ]
    }
   ],
   "source": [
    "# Rename all columns\n",
    "from functools import reduce\n",
    "new_column_names = [\"Col_\" + str(i) for i in titanic_df.columns]\n",
    "renamed_df = reduce(lambda df, idx: df.withColumnRenamed(df.columns[idx], new_column_names[idx]), range(len(titanic_df.columns)), titanic_df)\n",
    "renamed_df.printSchema()"
   ]
  },
  {
   "cell_type": "markdown",
   "id": "5fb1f1d7",
   "metadata": {},
   "source": [
    "## Practice"
   ]
  },
  {
   "cell_type": "code",
   "execution_count": 62,
   "id": "8842a047",
   "metadata": {},
   "outputs": [
    {
     "name": "stdout",
     "output_type": "stream",
     "text": [
      "+-----------+--------+------+--------------------+------+-----+----------------------------+----------------------------+----------------+-------+-----+-------------------+\n",
      "|PassengerId|Survived|Pclass|       PassengerName|   Sex|  age|Siblings_or_Spouses_on_Board|Parents_or_Children_on_Board|          Ticket|   Fare|Cabin|Port_of_Embarkation|\n",
      "+-----------+--------+------+--------------------+------+-----+----------------------------+----------------------------+----------------+-------+-----+-------------------+\n",
      "|          1|       0|     3|Braund, Mr. Owen ...|  male|-22.0|                           1|                           0|       A/5 21171|   7.25| null|                  S|\n",
      "|          2|       1|     1|Cumings, Mrs. Joh...|female|-38.0|                           1|                           0|        PC 17599|71.2833|  C85|                  C|\n",
      "|          3|       1|     3|Heikkinen, Miss. ...|female|-26.0|                           0|                           0|STON/O2. 3101282|  7.925| null|                  S|\n",
      "|          4|       1|     1|Futrelle, Mrs. Ja...|female|-35.0|                           1|                           0|          113803|   53.1| C123|                  S|\n",
      "|          5|       0|     3|Allen, Mr. Willia...|  male|-35.0|                           0|                           0|          373450|   8.05| null|                  S|\n",
      "|          6|       0|     3|    Moran, Mr. James|  male| null|                           0|                           0|          330877| 8.4583| null|                  Q|\n",
      "|          7|       0|     1|McCarthy, Mr. Tim...|  male|-54.0|                           0|                           0|           17463|51.8625|  E46|                  S|\n",
      "|          8|       0|     3|Palsson, Master. ...|  male| -2.0|                           3|                           1|          349909| 21.075| null|                  S|\n",
      "|          9|       1|     3|Johnson, Mrs. Osc...|female|-27.0|                           0|                           2|          347742|11.1333| null|                  S|\n",
      "|         10|       1|     2|Nasser, Mrs. Nich...|female|-14.0|                           1|                           0|          237736|30.0708| null|                  C|\n",
      "|         11|       1|     3|Sandstrom, Miss. ...|female| -4.0|                           1|                           1|         PP 9549|   16.7|   G6|                  S|\n",
      "|         12|       1|     1|Bonnell, Miss. El...|female|-58.0|                           0|                           0|          113783|  26.55| C103|                  S|\n",
      "|         13|       0|     3|Saundercock, Mr. ...|  male|-20.0|                           0|                           0|       A/5. 2151|   8.05| null|                  S|\n",
      "|         14|       0|     3|Andersson, Mr. An...|  male|-39.0|                           1|                           5|          347082| 31.275| null|                  S|\n",
      "|         15|       0|     3|Vestrom, Miss. Hu...|female|-14.0|                           0|                           0|          350406| 7.8542| null|                  S|\n",
      "|         16|       1|     2|Hewlett, Mrs. (Ma...|female|-55.0|                           0|                           0|          248706|     16| null|                  S|\n",
      "|         17|       0|     3|Rice, Master. Eugene|  male| -2.0|                           4|                           1|          382652| 29.125| null|                  Q|\n",
      "|         18|       1|     2|Williams, Mr. Cha...|  male| null|                           0|                           0|          244373|     13| null|                  S|\n",
      "|         19|       0|     3|Vander Planke, Mr...|female|-31.0|                           1|                           0|          345763|     18| null|                  S|\n",
      "|         20|       1|     3|Masselmani, Mrs. ...|female| null|                           0|                           0|            2649|  7.225| null|                  C|\n",
      "+-----------+--------+------+--------------------+------+-----+----------------------------+----------------------------+----------------+-------+-----+-------------------+\n",
      "only showing top 20 rows\n",
      "\n"
     ]
    }
   ],
   "source": [
    "# Example, multiplying the age by -1\n",
    "\n",
    "df_with_minus_age = titanic_df.withColumn(\"age\", titanic_df.Age * -1) # can use col('age') as well\n",
    "df_with_minus_age.show()\n"
   ]
  },
  {
   "cell_type": "code",
   "execution_count": 63,
   "id": "f200e8c2",
   "metadata": {},
   "outputs": [
    {
     "name": "stdout",
     "output_type": "stream",
     "text": [
      "root\n",
      " |-- PassengerId: string (nullable = true)\n",
      " |-- Survived: string (nullable = true)\n",
      " |-- Pclass: string (nullable = true)\n",
      " |-- PassengerName: string (nullable = true)\n",
      " |-- Sex: string (nullable = true)\n",
      " |-- Age: string (nullable = true)\n",
      " |-- Siblings_or_Spouses_on_Board: string (nullable = true)\n",
      " |-- Parents_or_Children_on_Board: string (nullable = true)\n",
      " |-- Ticket: string (nullable = true)\n",
      " |-- Fare: string (nullable = true)\n",
      " |-- Cabin: string (nullable = true)\n",
      " |-- Embarked: string (nullable = true)\n",
      "\n"
     ]
    }
   ],
   "source": [
    "# Rename the column \"Port_of_Embarkation\" to \"Embarked\":\n",
    "\n",
    "titanic_df = titanic_df.withColumnRenamed(\"Port_of_Embarkation\", \"Embarked\")\n",
    "titanic_df.printSchema()"
   ]
  },
  {
   "cell_type": "code",
   "execution_count": 64,
   "id": "d05e7ceb",
   "metadata": {},
   "outputs": [
    {
     "name": "stdout",
     "output_type": "stream",
     "text": [
      "root\n",
      " |-- PassengerId: string (nullable = true)\n",
      " |-- Survived: string (nullable = true)\n",
      " |-- Pclass: string (nullable = true)\n",
      " |-- PassengerName: string (nullable = true)\n",
      " |-- Sex: string (nullable = true)\n",
      " |-- Age: string (nullable = true)\n",
      " |-- Siblings_or_Spouses_on_Board: string (nullable = true)\n",
      " |-- Parents_or_Children_on_Board: string (nullable = true)\n",
      " |-- Ticket: string (nullable = true)\n",
      " |-- Fare: string (nullable = true)\n",
      " |-- Cabin: string (nullable = true)\n",
      " |-- Embarked: string (nullable = true)\n",
      "\n"
     ]
    }
   ],
   "source": [
    "# Rename multiple columns NewAge -> Age, FullName-> Name\n",
    "renamed_df = titanic_df.withColumnRenamed(\"NewAge\", \"Age\").withColumnRenamed(\"FullName\", \"Name\")\n",
    "renamed_df.printSchema()"
   ]
  },
  {
   "cell_type": "code",
   "execution_count": 65,
   "id": "2e5ba423",
   "metadata": {},
   "outputs": [
    {
     "name": "stdout",
     "output_type": "stream",
     "text": [
      "+-----------+--------+------+--------------------+------+----+----------------------------+----------------------------+----------------+-------+-----+--------+\n",
      "|PassengerId|Survived|Pclass|       PassengerName|   Sex| Age|Siblings_or_Spouses_on_Board|Parents_or_Children_on_Board|          Ticket|   Fare|Cabin|Embarked|\n",
      "+-----------+--------+------+--------------------+------+----+----------------------------+----------------------------+----------------+-------+-----+--------+\n",
      "|          1|       0|     3|Braund, Mr. Owen ...|  male|  22|                           1|                           0|       A/5 21171|   7.25| null|       S|\n",
      "|          2|       1|     1|Cumings, Mrs. Joh...|female|  38|                           1|                           0|        PC 17599|71.2833|  C85|       C|\n",
      "|          3|       1|     3|Heikkinen, Miss. ...|female|  26|                           0|                           0|STON/O2. 3101282|  7.925| null|       S|\n",
      "|          4|       1|     1|Futrelle, Mrs. Ja...|female|  35|                           1|                           0|          113803|   53.1| C123|       S|\n",
      "|          5|       0|     3|Allen, Mr. Willia...|  male|  35|                           0|                           0|          373450|   8.05| null|       S|\n",
      "|          6|       0|     3|    Moran, Mr. James|  male|null|                           0|                           0|          330877| 8.4583| null|       Q|\n",
      "|          7|       0|     1|McCarthy, Mr. Tim...|  male|  54|                           0|                           0|           17463|51.8625|  E46|       S|\n",
      "|          8|       0|     3|Palsson, Master. ...|  male|   2|                           3|                           1|          349909| 21.075| null|       S|\n",
      "|          9|       1|     3|Johnson, Mrs. Osc...|female|  27|                           0|                           2|          347742|11.1333| null|       S|\n",
      "|         10|       1|     2|Nasser, Mrs. Nich...|female|  14|                           1|                           0|          237736|30.0708| null|       C|\n",
      "|         11|       1|     3|Sandstrom, Miss. ...|female|   4|                           1|                           1|         PP 9549|   16.7|   G6|       S|\n",
      "|         12|       1|     1|Bonnell, Miss. El...|female|  58|                           0|                           0|          113783|  26.55| C103|       S|\n",
      "|         13|       0|     3|Saundercock, Mr. ...|  male|  20|                           0|                           0|       A/5. 2151|   8.05| null|       S|\n",
      "|         14|       0|     3|Andersson, Mr. An...|  male|  39|                           1|                           5|          347082| 31.275| null|       S|\n",
      "|         15|       0|     3|Vestrom, Miss. Hu...|female|  14|                           0|                           0|          350406| 7.8542| null|       S|\n",
      "|         16|       1|     2|Hewlett, Mrs. (Ma...|female|  55|                           0|                           0|          248706|     16| null|       S|\n",
      "|         17|       0|     3|Rice, Master. Eugene|  male|   2|                           4|                           1|          382652| 29.125| null|       Q|\n",
      "|         18|       1|     2|Williams, Mr. Cha...|  male|null|                           0|                           0|          244373|     13| null|       S|\n",
      "|         19|       0|     3|Vander Planke, Mr...|female|  31|                           1|                           0|          345763|     18| null|       S|\n",
      "|         20|       1|     3|Masselmani, Mrs. ...|female|null|                           0|                           0|            2649|  7.225| null|       C|\n",
      "+-----------+--------+------+--------------------+------+----+----------------------------+----------------------------+----------------+-------+-----+--------+\n",
      "only showing top 20 rows\n",
      "\n"
     ]
    }
   ],
   "source": [
    "titanic_df.show()"
   ]
  },
  {
   "cell_type": "markdown",
   "id": "c2c4486b",
   "metadata": {},
   "source": [
    "### The groupBy and agg functions\n",
    "\n",
    "The groupBy and agg operations within the PySpark DataFrame API group data by a given column value and then apply different aggregation functions to the groups. These operations are extremely useful when you want to perform complex data manipulations.\n",
    "\n",
    "Here is an example of using groupby and agg with the PySpark DataFrame API:\n",
    "\n",
    "```python\n",
    "# Load data into DataFrame\n",
    "from pyspark.sql.functions import *\n",
    "\n",
    "data = [(\"Alice\", \"female\", 25),\n",
    "        (\"Bob\", \"male\", 30),\n",
    "        (\"Charlie\", \"male\", 35),\n",
    "        (\"Diana\", \"female\", 40),\n",
    "        (\"Emily\", \"female\", 45)]\n",
    "\n",
    "df = spark.createDataFrame(data, [\"name\", \"gender\", \"age\"])\n",
    "\n",
    "# Group by gender and calculate average age\n",
    "df.groupBy(\"gender\").agg(avg(\"age\").alias(\"average_age\")).show()\n",
    "\n",
    "```\n",
    "\n",
    "In this example, we load a simple data set containing the names, gender and age of people into the DataFrame. We then use the groupBy and agg functions to group by gender and calculate the average age. The result will be as follows:\n",
    "\n",
    "```python\n",
    "+------+-----------+\n",
    "|gender|average_age|\n",
    "+------+-----------+\n",
    "|female| 36.6      |\n",
    "| male | 32.5      |\n",
    "+------+-----------+\n",
    "```\n",
    "This indicates that women are on average 36.6 years old, while men are on average 32.5 years old.\n",
    "\n",
    "Of course, groupBy and agg operations can be combined with other data manipulation functions such as filter, select or orderBy. By combining the individual operations, complex data manipulation chains can be created.\n"
   ]
  },
  {
   "cell_type": "code",
   "execution_count": 67,
   "id": "87d5915e",
   "metadata": {},
   "outputs": [],
   "source": [
    "# Reload our dataframe\n",
    "\n",
    "titanic_df = spark.read.format(\"parquet\").load(\"titanic_parquet\")"
   ]
  },
  {
   "cell_type": "code",
   "execution_count": 68,
   "id": "1f352cd5",
   "metadata": {},
   "outputs": [
    {
     "name": "stdout",
     "output_type": "stream",
     "text": [
      "+------+------+------+\n",
      "|   Sex|Pclass|MaxAge|\n",
      "+------+------+------+\n",
      "|  male|     3|  74.0|\n",
      "|female|     3|  63.0|\n",
      "|female|     1|  63.0|\n",
      "|female|     2|  57.0|\n",
      "|  male|     2|  70.0|\n",
      "|  male|     1|  80.0|\n",
      "+------+------+------+\n",
      "\n"
     ]
    }
   ],
   "source": [
    "# Calculate the maximum age by sex and class\n",
    "\n",
    "from pyspark.sql.functions import max\n",
    "\n",
    "max_age_df = titanic_df.groupBy(['Sex', 'Pclass']).agg(max('Age').alias('MaxAge'))\n",
    "\n",
    "max_age_df.show()\n"
   ]
  },
  {
   "cell_type": "code",
   "execution_count": 69,
   "id": "f489b628",
   "metadata": {},
   "outputs": [
    {
     "name": "stdout",
     "output_type": "stream",
     "text": [
      "+------+------------------+---------+\n",
      "|   Sex|          avg(Age)|max(Fare)|\n",
      "+------+------------------+---------+\n",
      "|female|27.915708812260537| 512.3292|\n",
      "|  male| 30.72664459161148| 512.3292|\n",
      "+------+------------------+---------+\n",
      "\n"
     ]
    }
   ],
   "source": [
    "# So can it be:\n",
    "\n",
    "titanic_df.groupBy(\"Sex\").agg({\"Age\": \"avg\", \"Fare\": \"max\"}).show()\n"
   ]
  },
  {
   "cell_type": "code",
   "execution_count": 70,
   "id": "5f675e62",
   "metadata": {},
   "outputs": [
    {
     "name": "stdout",
     "output_type": "stream",
     "text": [
      "+------+------------------+\n",
      "|Pclass|         avg(Fare)|\n",
      "+------+------------------+\n",
      "|     1| 84.15468749999992|\n",
      "|     3|13.675550101832997|\n",
      "|     2| 20.66218315217391|\n",
      "+------+------------------+\n",
      "\n"
     ]
    }
   ],
   "source": [
    "# Calculate the average price paid by all passengers per class:\n",
    "\n",
    "from pyspark.sql.functions import avg\n",
    "\n",
    "titanic_df.groupBy(\"Pclass\").agg(avg(\"Fare\")).show()\n"
   ]
  },
  {
   "cell_type": "markdown",
   "id": "d5a67598",
   "metadata": {},
   "source": [
    "### join function\n",
    "\n",
    "The join operation allows you to join two different sets of data based on a common key. In the PySpark DataFrame API, different types of join operations are available: inner join, outer join, left outer join and right outer join.\n",
    "\n",
    "Below is an example of how to join data in one table with data in another table.\n",
    "\n",
    "Suppose you have two PySpark DataFrames containing the following data:\n",
    "    \n",
    "```python\n",
    "# DataFrame 1\n",
    "df1 = spark.createDataFrame([[\n",
    "  (\"John\", \"Doe\", 35),\n",
    "  (\"Jane\", \"Doe\", 30),\n",
    "  (\"Max\", \"Smith\", 25),\n",
    "], [\"first_name\", \"last_name\", \"age\"])\n",
    "\n",
    "# DataFrame 2\n",
    "df2 = spark.createDataFrame([\n",
    "  (\"Doe\", \"Marketing\"),\n",
    "  (\"Smith\", \"Sales\"),\n",
    "], [\"last_name\", \"department\"])\n",
    "\n",
    "```\n",
    "In this example, we will link the data in table df1 to table df2 based on the last_name key. The join type will be inner join, i.e. only those rows that are found in both tables will be kept.\n",
    "```python\n",
    "# inner join\n",
    "df3 = df1.join(df2, \"last_name\", \"inner\")\n",
    "\n",
    "df3.show()\n",
    "+---------+----------+---+----------+\n",
    "|last_name|first_name|age|department|\n",
    "+---------+----------+---+----------+\n",
    "| Doe     | John     | 35| Marketing|\n",
    "| Doe     | Jane     | 30| Marketing|\n",
    "| Smith   | Max      | 25| Sales    |\n",
    "+---------+----------+---+----------+\n",
    "\n",
    "```\n",
    "The join operation will return a new DataFrame in which the two tables have been joined based on the specified key. In the example above, the last_name column was used as the key. The joined table contains the columns first_name, age and department."
   ]
  },
  {
   "cell_type": "code",
   "execution_count": 71,
   "id": "fbe53ed8",
   "metadata": {},
   "outputs": [
    {
     "name": "stdout",
     "output_type": "stream",
     "text": [
      "+-----------+--------+------+--------------------+------+----+-----+-----+----------------+-------+-----+--------+\n",
      "|PassengerId|Survived|Pclass|                Name|   Sex| Age|SibSp|Parch|          Ticket|   Fare|Cabin|Embarked|\n",
      "+-----------+--------+------+--------------------+------+----+-----+-----+----------------+-------+-----+--------+\n",
      "|          1|       0|     3|Braund, Mr. Owen ...|  male|22.0|    1|    0|       A/5 21171|   7.25| null|       S|\n",
      "|          2|       1|     1|Cumings, Mrs. Joh...|female|38.0|    1|    0|        PC 17599|71.2833|  C85|       C|\n",
      "|          3|       1|     3|Heikkinen, Miss. ...|female|26.0|    0|    0|STON/O2. 3101282|  7.925| null|       S|\n",
      "|          4|       1|     1|Futrelle, Mrs. Ja...|female|35.0|    1|    0|          113803|   53.1| C123|       S|\n",
      "|          5|       0|     3|Allen, Mr. Willia...|  male|35.0|    0|    0|          373450|   8.05| null|       S|\n",
      "|          6|       0|     3|    Moran, Mr. James|  male|null|    0|    0|          330877| 8.4583| null|       Q|\n",
      "|          7|       0|     1|McCarthy, Mr. Tim...|  male|54.0|    0|    0|           17463|51.8625|  E46|       S|\n",
      "|          8|       0|     3|Palsson, Master. ...|  male| 2.0|    3|    1|          349909| 21.075| null|       S|\n",
      "|          9|       1|     3|Johnson, Mrs. Osc...|female|27.0|    0|    2|          347742|11.1333| null|       S|\n",
      "|         10|       1|     2|Nasser, Mrs. Nich...|female|14.0|    1|    0|          237736|30.0708| null|       C|\n",
      "|         11|       1|     3|Sandstrom, Miss. ...|female| 4.0|    1|    1|         PP 9549|   16.7|   G6|       S|\n",
      "|         12|       1|     1|Bonnell, Miss. El...|female|58.0|    0|    0|          113783|  26.55| C103|       S|\n",
      "|         13|       0|     3|Saundercock, Mr. ...|  male|20.0|    0|    0|       A/5. 2151|   8.05| null|       S|\n",
      "|         14|       0|     3|Andersson, Mr. An...|  male|39.0|    1|    5|          347082| 31.275| null|       S|\n",
      "|         15|       0|     3|Vestrom, Miss. Hu...|female|14.0|    0|    0|          350406| 7.8542| null|       S|\n",
      "|         16|       1|     2|Hewlett, Mrs. (Ma...|female|55.0|    0|    0|          248706|   16.0| null|       S|\n",
      "|         17|       0|     3|Rice, Master. Eugene|  male| 2.0|    4|    1|          382652| 29.125| null|       Q|\n",
      "|         18|       1|     2|Williams, Mr. Cha...|  male|null|    0|    0|          244373|   13.0| null|       S|\n",
      "|         19|       0|     3|Vander Planke, Mr...|female|31.0|    1|    0|          345763|   18.0| null|       S|\n",
      "|         20|       1|     3|Masselmani, Mrs. ...|female|null|    0|    0|            2649|  7.225| null|       C|\n",
      "+-----------+--------+------+--------------------+------+----+-----+-----+----------------+-------+-----+--------+\n",
      "only showing top 20 rows\n",
      "\n",
      "+-----------+----+\n",
      "|PassengerId| Age|\n",
      "+-----------+----+\n",
      "|          1|22.0|\n",
      "|          2|38.0|\n",
      "|          3|26.0|\n",
      "|          4|35.0|\n",
      "|          5|35.0|\n",
      "|          6|null|\n",
      "|          7|54.0|\n",
      "|          8| 2.0|\n",
      "|          9|27.0|\n",
      "|         10|14.0|\n",
      "|         11| 4.0|\n",
      "|         12|58.0|\n",
      "|         13|20.0|\n",
      "|         14|39.0|\n",
      "|         15|14.0|\n",
      "|         16|55.0|\n",
      "|         17| 2.0|\n",
      "|         18|null|\n",
      "|         19|31.0|\n",
      "|         20|null|\n",
      "+-----------+----+\n",
      "only showing top 20 rows\n",
      "\n",
      "+-----------+--------+------+--------------------+------+----+-----+-----+----------------+-------+-----+--------+----+\n",
      "|PassengerId|Survived|Pclass|                Name|   Sex| Age|SibSp|Parch|          Ticket|   Fare|Cabin|Embarked| Age|\n",
      "+-----------+--------+------+--------------------+------+----+-----+-----+----------------+-------+-----+--------+----+\n",
      "|          1|       0|     3|Braund, Mr. Owen ...|  male|22.0|    1|    0|       A/5 21171|   7.25| null|       S|22.0|\n",
      "|          2|       1|     1|Cumings, Mrs. Joh...|female|38.0|    1|    0|        PC 17599|71.2833|  C85|       C|38.0|\n",
      "|          3|       1|     3|Heikkinen, Miss. ...|female|26.0|    0|    0|STON/O2. 3101282|  7.925| null|       S|26.0|\n",
      "|          4|       1|     1|Futrelle, Mrs. Ja...|female|35.0|    1|    0|          113803|   53.1| C123|       S|35.0|\n",
      "|          5|       0|     3|Allen, Mr. Willia...|  male|35.0|    0|    0|          373450|   8.05| null|       S|35.0|\n",
      "|          6|       0|     3|    Moran, Mr. James|  male|null|    0|    0|          330877| 8.4583| null|       Q|null|\n",
      "|          7|       0|     1|McCarthy, Mr. Tim...|  male|54.0|    0|    0|           17463|51.8625|  E46|       S|54.0|\n",
      "|          8|       0|     3|Palsson, Master. ...|  male| 2.0|    3|    1|          349909| 21.075| null|       S| 2.0|\n",
      "|          9|       1|     3|Johnson, Mrs. Osc...|female|27.0|    0|    2|          347742|11.1333| null|       S|27.0|\n",
      "|         10|       1|     2|Nasser, Mrs. Nich...|female|14.0|    1|    0|          237736|30.0708| null|       C|14.0|\n",
      "|         11|       1|     3|Sandstrom, Miss. ...|female| 4.0|    1|    1|         PP 9549|   16.7|   G6|       S| 4.0|\n",
      "|         12|       1|     1|Bonnell, Miss. El...|female|58.0|    0|    0|          113783|  26.55| C103|       S|58.0|\n",
      "|         13|       0|     3|Saundercock, Mr. ...|  male|20.0|    0|    0|       A/5. 2151|   8.05| null|       S|20.0|\n",
      "|         14|       0|     3|Andersson, Mr. An...|  male|39.0|    1|    5|          347082| 31.275| null|       S|39.0|\n",
      "|         15|       0|     3|Vestrom, Miss. Hu...|female|14.0|    0|    0|          350406| 7.8542| null|       S|14.0|\n",
      "|         16|       1|     2|Hewlett, Mrs. (Ma...|female|55.0|    0|    0|          248706|   16.0| null|       S|55.0|\n",
      "|         17|       0|     3|Rice, Master. Eugene|  male| 2.0|    4|    1|          382652| 29.125| null|       Q| 2.0|\n",
      "|         18|       1|     2|Williams, Mr. Cha...|  male|null|    0|    0|          244373|   13.0| null|       S|null|\n",
      "|         19|       0|     3|Vander Planke, Mr...|female|31.0|    1|    0|          345763|   18.0| null|       S|31.0|\n",
      "|         20|       1|     3|Masselmani, Mrs. ...|female|null|    0|    0|            2649|  7.225| null|       C|null|\n",
      "+-----------+--------+------+--------------------+------+----+-----+-----+----------------+-------+-----+--------+----+\n",
      "only showing top 20 rows\n",
      "\n"
     ]
    }
   ],
   "source": [
    "# Example of joining Titanic data between two DataFrames based on the \"PassengerId\" column:\n",
    "\n",
    "# Let's read the data\n",
    "titanic_df = spark.read.format(\"parquet\").load(\"titanic_parquet\")\n",
    "titanic_df.show()\n",
    "\n",
    "# Create another DataFrame containing the PassengerId and age\n",
    "age_df = titanic_df.select(\"PassengerId\", \"Age\")\n",
    "age_df.show()\n",
    "\n",
    "# Connect the two DataFrames by PassengerId\n",
    "joined_df = titanic_df.join(age_df, \"PassengerId\",\"inner\")\n",
    "joined_df.show()\n"
   ]
  },
  {
   "cell_type": "markdown",
   "id": "f90512a5",
   "metadata": {},
   "source": [
    "## Practice"
   ]
  },
  {
   "cell_type": "code",
   "execution_count": 73,
   "id": "917ad4de",
   "metadata": {},
   "outputs": [
    {
     "name": "stdout",
     "output_type": "stream",
     "text": [
      "+----+------+------+\n",
      "| Age|   Sex|MinAge|\n",
      "+----+------+------+\n",
      "|49.0|female|  49.0|\n",
      "|55.0|female|  55.0|\n",
      "|47.0|  male|  47.0|\n",
      "|0.83|  male|  0.83|\n",
      "|12.0|  male|  12.0|\n",
      "|66.0|  male|  66.0|\n",
      "|64.0|  male|  64.0|\n",
      "|18.0|female|  18.0|\n",
      "|36.0|  male|  36.0|\n",
      "|44.0|  male|  44.0|\n",
      "|48.0|female|  48.0|\n",
      "|37.0|female|  37.0|\n",
      "|34.0|  male|  34.0|\n",
      "|60.0|female|  60.0|\n",
      "|55.5|  male|  55.5|\n",
      "|43.0|  male|  43.0|\n",
      "|35.0|  male|  35.0|\n",
      "|21.0|female|  21.0|\n",
      "|41.0|female|  41.0|\n",
      "|16.0|  male|  16.0|\n",
      "+----+------+------+\n",
      "only showing top 20 rows\n",
      "\n"
     ]
    }
   ],
   "source": [
    "# Calculate the minimum age by sex and class\n",
    "\n",
    "from pyspark.sql.functions import min\n",
    "\n",
    "min_age_df = titanic_df.groupBy([\"Age\",\"Sex\"]).agg(min('Age').alias('MinAge'))\n",
    "\n",
    "min_age_df.show()"
   ]
  },
  {
   "cell_type": "code",
   "execution_count": 74,
   "id": "b4f66984",
   "metadata": {},
   "outputs": [
    {
     "name": "stdout",
     "output_type": "stream",
     "text": [
      "+------+------------------+\n",
      "|Pclass|         avg(Fare)|\n",
      "+------+------------------+\n",
      "|     1| 84.15468749999992|\n",
      "|     3|13.675550101832997|\n",
      "|     2| 20.66218315217391|\n",
      "+------+------------------+\n",
      "\n"
     ]
    }
   ],
   "source": [
    "# Calculates the average price paid by all passengers per class:\n",
    "\n",
    "from pyspark.sql.functions import avg\n",
    "\n",
    "titanic_df.groupBy(\"Pclass\").agg(avg(\"Fare\")).show()\n"
   ]
  }
 ],
 "metadata": {
  "kernelspec": {
   "display_name": "Python 3 (ipykernel)",
   "language": "python",
   "name": "python3"
  },
  "language_info": {
   "codemirror_mode": {
    "name": "ipython",
    "version": 3
   },
   "file_extension": ".py",
   "mimetype": "text/x-python",
   "name": "python",
   "nbconvert_exporter": "python",
   "pygments_lexer": "ipython3",
   "version": "3.10.9"
  }
 },
 "nbformat": 4,
 "nbformat_minor": 5
}
